{
  "cells": [
    {
      "cell_type": "markdown",
      "metadata": {
        "id": "tRlb_Mcttkyf"
      },
      "source": [
        "# TRANSCRIPTION"
      ]
    },
    {
      "cell_type": "code",
      "execution_count": null,
      "metadata": {
        "colab": {
          "base_uri": "https://localhost:8080/"
        },
        "id": "XErXzKKhsxdu",
        "outputId": "f41880b1-d095-445e-aa79-fc661f65f22e"
      },
      "outputs": [
        {
          "output_type": "stream",
          "name": "stdout",
          "text": [
            "Mounted at /content/drive\n"
          ]
        }
      ],
      "source": [
        "from google.colab import drive\n",
        "drive.mount('/content/drive')"
      ]
    },
    {
      "cell_type": "code",
      "execution_count": null,
      "metadata": {
        "id": "j7s_CQ5FtCdg"
      },
      "outputs": [],
      "source": [
        "from collections import deque\n",
        "from sklearn.model_selection import train_test_split\n",
        "import numpy as np\n",
        "import pickle\n",
        "\n",
        "import cv2\n",
        "\n",
        "import os\n",
        "import pickle\n",
        "from os.path import join, exists\n",
        "from tqdm import tqdm\n",
        "from google.colab.patches import cv2_imshow\n",
        "import numpy as np\n",
        "from datetime import timedelta\n",
        "import numpy as np\n",
        "import tensorflow as tf\n",
        "import time"
      ]
    },
    {
      "cell_type": "code",
      "execution_count": null,
      "metadata": {
        "id": "wrjX0q8NtEBP"
      },
      "outputs": [],
      "source": [
        "%%capture\n",
        "\n",
        "#!pip install git+https://github.com/openai/whisper.git\n",
        "!pip install --upgrade git+https://github.com/openai/whisper.git\n",
        "!pip install jiwer\n",
        "!pip install sentencepiece\n",
        "\n",
        "import whisper\n",
        "import os\n",
        "from typing import Iterator, TextIO\n",
        "from datetime import datetime"
      ]
    },
    {
      "cell_type": "code",
      "execution_count": null,
      "metadata": {
        "id": "s1QKWJJDtPjm",
        "colab": {
          "base_uri": "https://localhost:8080/"
        },
        "outputId": "bf9a9106-fc44-43c3-cf47-bff3d3a5ab80"
      },
      "outputs": [
        {
          "output_type": "stream",
          "name": "stderr",
          "text": [
            "100%|███████████████████████████████████████| 139M/139M [00:02<00:00, 54.0MiB/s]\n"
          ]
        }
      ],
      "source": [
        "model = whisper.load_model(\"base.en\")\n",
        "def transcribe_me(_video, _translate=False):\n",
        "  if _translate:\n",
        "    _options = dict(task=\"translate\", beam_size=5, best_of=5)\n",
        "  else:\n",
        "    _options = dict(task=\"transcribe\", beam_size=5, best_of=5)\n",
        "  result = model.transcribe(_video, **_options)\n",
        "\n",
        "  return result, result[\"text\"], result[\"segments\"]"
      ]
    },
    {
      "cell_type": "code",
      "source": [
        "file_path = '/content/drive/MyDrive/DATASET/CS/solar system.mp4'\n",
        "output, extracted_text, res  = transcribe_me(file_path)\n",
        "extracted_text"
      ],
      "metadata": {
        "id": "aDj7spsrvM3e"
      },
      "execution_count": null,
      "outputs": []
    },
    {
      "cell_type": "code",
      "execution_count": null,
      "metadata": {
        "colab": {
          "base_uri": "https://localhost:8080/",
          "height": 140
        },
        "id": "qCj9jGzDtXR2",
        "outputId": "cbc142c9-5695-44c5-b3be-14094892620a"
      },
      "outputs": [
        {
          "output_type": "execute_result",
          "data": {
            "text/plain": [
              "\" Our solar system is one of over 500 known solar systems in the entire Milky Way galaxy. The solar system came into being about 4.5 billion years ago when a cloud of interstellar gas and dust collapsed, resulting in a solar nebula, a swirling disk of material that collided to form the solar system. The solar system is located in the Milky Way's Orion Star Cluster. Only 15% of stars in the galaxy host planetary systems, and one of those stars is our own sun. Revolving around the sun are eight planets. The planets are divided into two categories based on their composition, terrestrial and jovian. Real planets, including Mercury, Venus, Earth and Mars, are primarily made of rocky material. Their surfaces are solid, they don't have ring systems, they have very few or no moons, and they are relatively small. The smallest and closest to the sun is Mercury, which has the shortest orbit in the solar system at about three Earth months. Venus is the hottest planet, with temperatures of up to 867 degrees Fahrenheit due to an atmosphere of carbon dioxide and extensive lava flows. Next to this world of fire is a world of water, Earth. The water systems on this planet help create the only known environment in the universe capable of sustaining life. The last of the terrestrial planets, Mars, might have also supported life about 3.7 billion years ago when the planet had a watery surface and moist atmosphere. Beyond the four terrestrial planets of the inner solar system, lie the jovian planets of the outer solar system. The jovian planets include gas giants Jupiter and Saturn and ice giants Uranus and Neptune. The gas giants are predominantly made of helium and hydrogen, and the ice giants also contain rock, ice and a liquid mixture of water, methane and ammonia. All four jovian planets have multiple moons, sport ring systems, have no solid surface and are immense. The largest jovian is also the largest planet in the solar system, Jupiter. Nearby is Saturn, the solar system's second largest planet. Its signature rings are wide enough to fit between Earth and the Moon, but are fairly a kilometer thick. Past Saturn are the ice giants Uranus and Neptune. The slightly bigger of these ice giants Uranus is famous for rotating on its side. Next Uranus is Neptune, the outermost planet in the solar system and also one of the coldest. Orbiting the terrestrial planets is the asteroid belt, a flat disk of rocky objects full of remnants from the solar system's formation, from microscopic dust particles to the largest known object, the dwarf planet Ceres. Another disk of space debris lies much further out and orbits the jovian planets, the icy Kuiper belt. Apart from asteroids, the Kuiper belt is also home to dwarf planets such as Pluto and is the birthplace of many comets. Beyond the Kuiper belt is the Ork cloud, a vast spherical collection of icy debris. It is considered the edge of the solar system since that is where the gravitational and physical influences of the sun end. Our solar system's particular configuration of planets and other celestial objects, all revolving around a life-giving star, make it a special place to call home.\""
            ],
            "application/vnd.google.colaboratory.intrinsic+json": {
              "type": "string"
            }
          },
          "metadata": {},
          "execution_count": 7
        }
      ],
      "source": [
        "file_path = '/content/drive/MyDrive/DATASET/CS/solar system.mp4'\n",
        "output, extracted_text, res  = transcribe_me(file_path)\n",
        "extracted_text"
      ]
    },
    {
      "cell_type": "code",
      "source": [
        "model.device"
      ],
      "metadata": {
        "colab": {
          "base_uri": "https://localhost:8080/"
        },
        "id": "O7rQKIcdt58_",
        "outputId": "f92b0af1-ae6e-445b-e566-38ee6b2cd074"
      },
      "execution_count": null,
      "outputs": [
        {
          "output_type": "execute_result",
          "data": {
            "text/plain": [
              "device(type='cuda', index=0)"
            ]
          },
          "metadata": {},
          "execution_count": 8
        }
      ]
    },
    {
      "cell_type": "code",
      "execution_count": null,
      "metadata": {
        "colab": {
          "base_uri": "https://localhost:8080/",
          "height": 157
        },
        "id": "7MlOkWo1tg91",
        "outputId": "d79fd927-bf48-42ea-d76f-7d45c2c8dd30"
      },
      "outputs": [
        {
          "name": "stderr",
          "output_type": "stream",
          "text": [
            "/usr/local/lib/python3.9/dist-packages/whisper/transcribe.py:114: UserWarning: FP16 is not supported on CPU; using FP32 instead\n",
            "  warnings.warn(\"FP16 is not supported on CPU; using FP32 instead\")\n"
          ]
        },
        {
          "data": {
            "application/vnd.google.colaboratory.intrinsic+json": {
              "type": "string"
            },
            "text/plain": [
              "\" Hi, it's Mr. Andersen and this is environmental science video three, it's on geology, which is the study of rocks and how they change over time, and in this class more appropriately how that affects human society. Now the problem with rocks is that they change slowly, they change over geologic time, and we simply don't live long enough to see all these changes occur. You could imagine how this sandstone is being shaped by the wind, but you can't see it. And it's not until we see lava that we really start to understand the dynamic earth, and to understand these systems on the earth we should really understand how the earth is put together. And so if we look at the layers on the inside we have the inner and outer core, we then have the mantle, and finally we have the crust. Now we live on the crust, and we've only been able to dig just a little bit into the crust. And so we've been able to figure out everything else by looking at how earthquake waves move through the earth. And we know this, that the crust is made up of rocks and minerals. Rocks are made of minerals, which in turn are made of molecules and atoms, and they're constantly being reshaped, and we can measure that through the rock cycle. Now the crust itself is made up of these large continental and oceanic plates, and they float on the mantle itself. And so this is rock under here, but it's rock that's moving. As we generate heat, as it moves up, it's pushing those plates around. They move very slowly about the same rate that your fingernails grow, but they have huge force and therefore huge impacts. And so when those plates run into each other, we have boundaries. An example of that would be the ring of fire. So if you look around the Pacific Ocean, you have this area where almost all the earthquakes and volcanoes take place. We also have what are called hotspots, and those are going to be areas where a plate will move over a hot area in the mantle, and we can form islands like Hawaii. Now if we look at where those boundaries occur, we'll have structures like volcanoes and mountain chains, but we also therefore have hazards around those areas where it can impact human society, and we'll discuss a lot of those. And so to understand what's going on in the Earth, we should really understand what it looks like on the inside. So we've got a solid inner core, a liquid outer core, and then we have what's called the mantle. Now around 85% of the volume of the Earth is going to be in this mantle, and so it's rock, but it's rock that's moving. So generate a huge amount of heat down here, and then we finally get up to what's called the crust. That's where we live. And so on that crust, we have rocks, and those rocks are constantly being shaped from one into another. And so if we take a look at this rock cycle, since it's a cycle, you could start anywhere. Let's start with an igneous rock. So an igneous rock like granite is going to be formed when we have crystallization of magma. So as it crystallizes, you can see those crystals right here. So this granite is made up of minerals. So I can see, for example, this quartz and this pink feldspar, and we have this mica. So these are the minerals that make up the rock itself. But this could experience erosion. So erosion on the planet, water, wind, can cause it to break down into sediments. And therefore, after it's done that, it could get squeezed for a long period of time, and we could have a sedimentary rock, which is going to be compressed sediments. Now that could be squeezed, we could squeeze it under the surface of the earth using heat and pressure, could form something like quartzite, or we could take that igneous and we could squeeze it and make something like nice. And so G-N-E-I-S-S, it's the type of metamorphic rock that's formed by the squeezing of granite. Now you can see those minerals are still there, but it has a different shape. And so the rocks on our planet are continually recycled over and over and over again. But if we get back to the structure of the earth, what's driving all of this are going to be convection currents within the mantle itself. And so if you look at this and say this is some boiling water, so if we generate a little bit of heat underneath it, that heat is going to be transferred through the water. So if you held your hand up here, you'd feel some of that heat above it. But if we look inside the water itself, we're going to have these convection currents, areas where we're heating it up, and so we're decreasing the density, and then it cools down, and then it's going to sink again. And so we're going to find the same thing in the mantle itself. It doesn't occur as quickly as it does in the boiling water, but it has huge implications on the crust above. And so if we look at that crust, it's actually made up of plates. And so if I trace out a plate like this, this would be a continental plate. And so it's being pushed to the left, and the reason why it's being pushed is because of this convection current is moving like that. It's forcing the plate in that direction. And it's running into another plate. So we have an oceanic plate. Oceanic plates are going to be more dense, and they'll be pushed underneath a continental plate. And what we're going to get right along this margin is going to be a convergent plate boundary. They're running into each other. But we could look over here, and maybe there's another oceanic plate that's moving in the other direction. Why is it moving in the other direction? Because the convection current is pushing it here, or pushing it there. And so we could have this mid-Atlantic ridge, or this mid-oceanic ridge being formed right there. So we've known this for a long time. If you look at the ring of fire, we find around the Pacific Ocean we have an aggregation of volcanoes and earthquakes. Something like 75% of all volcanoes, 90% of earthquakes, are found in this area. If we start plotting where those earthquakes are, we can start to see where those plates exist. And if we look at the plates on our planet, it's hard to wrap your head around this picture for a second. So this is North America right here, and then it sits on this giant North American plate, and then we'd have the Pacific plate right here. And so those plates are constantly moving around. You're probably familiar with Pangaea, which was a time when all the continental plates had come together. So what happens when plates meet is that they can do one of three things. They can slide past one another in this transform boundary. They can move apart. We call that a diverging boundary, or they can run into each other. That's converging. And so if we look at an example of that, right here we have a convergent plate boundary. So what's going on? We've got this oceanic plate, which is being pushed or subducted underneath the continental plate. I'd describe that just a second ago. What's happening is we're melting that rock, and that's forming this volcano chain that goes all the way back here. Example could be the Cascades in Washington state. We could also have a convergent boundary right here, where we have an oceanic plate going underneath another oceanic plate. And we get this island arc, like the Aleutian Islands in Alaska. We could have divergent boundaries. An example could be right here. So we have this oceanic plate moving away from this oceanic plate. So we get this mid-oceanic ridge. We could have a rift valley where this continental plate is being pulled apart. We could have transformed boundaries here to be an example where they're sliding past one another. San Andreas Fault is a good example of that. But we can also have structures where there is no boundary. So if we look right here, we have what's called a hotspot. Remember, that's going to be an area where the mantle is close to the surface. And so for example, Hawaii was formed as the plate slid over a hotspot. And let me show you what that looks like. So if we imagine that's the hotspot, it's going to be underneath the plate. And what's happened to Hawaii over time is it slowly slid over the hotspot. Hotspot stays in the same location. And so we've had volcano after volcano after volcano. And so this is most recent volcano, and we'll have another island right here. And the reason they're smaller islands out here is that there's more erosion. Yellowstone National Park is another example of a hotspot and the plate's slimple sliding over the surface. Now we get to humans and human society and how we start to interact with the structures of the Earth. And so living around these boundaries can be dangerous. It's just a matter of time. So an example could be volcanoes. Some volcanoes, like the ones we would find in Hawaii, can ooze out. And as long as we're able to move out of there quickly, we're going to be fine. But some are highly explosive, and it depends on what minerals make up that rock that determines the explosiveness of the volcano. A very explosive one, I remember, is Mount St. Helens. And so this is a picture of Mount St. Helens in Washington. This is the day before it exploded. And so just take a second to imagine that's the structure of the volcano, and now it's gone, and rebuilding again. And so it literally blew apart, and if you were on or near that, you died. Earthquakes are another example of a natural hazard. But we have our faults, and this would be a fault right here, and we have one plate, in this case, transform fault, where it's sliding past one. We could also have a divergent boundary, so these two are moving away from each other. And so we have what's called a normal fault, it's slipping down, or we could have a reverse or thrust fault when we have a convergent between these two areas on either side of the fault. Now the names are not as important than really understanding what's going on in an earthquake. If you think about it, if we have two plates that are pushing on each other, eventually they're going to build up pressure, and it's going to slip. And as it does that, we have an earthquake. So if we watch this right here, let's say there's pressure in this direction, in this direction, and eventually it builds up, and we have a slide along that fault line. Now it's not like it stopped, there's still pressure there, we could have another earthquake in the future, and another earthquake in the future. As these move past each other, it's just going to move in small slips, and every time we do we have an earthquake. Now if you're standing on the surface and there's an earthquake, you're going to be fine. The problem is if we build structures on that, and it's not earthquake ready, then those fall in and humans are going to be impacted. We could also look at tsunamis, which are caused by earthquakes. What we've got here is a subducting oceanic plate. This would be a continental plate, and what's happening is this is being pushed underneath, but it'll just stick. And so it's not going to release, and as it sticks, then we build up pressure, and then eventually when it slips, what we get is a huge push up on the water above it. So you get this vertical motion in the ocean, and that leads to these giant tidal waves. And so if you're near the ocean, you would also notice that the ocean's going way out, and then it's going to come way in, and there are really bad consequences from that. We could also have mass wasting, so an example could be a landslide moving across this road. This is a picture taken before, and then watch it after a landslide. Now it doesn't occur really quickly, could be triggered by an earthquake, but generally if we get a lot of water in an area, it can't support that wave. And so did you learn about Earth systems? Can you stop the video and try to fill in the blanks right now? I'd pause the video, but if not, I would say we've got a center core, we've got a mantle and a crust. The crust is made up of rocks, which in turn are made up of minerals, which is reshaped using the rock cycle. These plates move on the surface, we call that plate tectonics, an example would be the ring of fire. Where we have boundaries we can build up structures like volcanoes, mid-oceanic ridges, but we can also have natural hazards. And then remember, not along boundaries, but just within the plate we can have hotspots. So I hope you learned all of that, and I hope that was helpful.\""
            ]
          },
          "execution_count": 6,
          "metadata": {},
          "output_type": "execute_result"
        }
      ],
      "source": [
        "file_path = '/content/drive/MyDrive/DATASET/EVS/1676963736(1).mp4'\n",
        "output, extracted_text, res  = transcribe_me(file_path)\n",
        "extracted_text"
      ]
    },
    {
      "cell_type": "code",
      "execution_count": null,
      "metadata": {
        "id": "jy-Oq1Ektjvu"
      },
      "outputs": [],
      "source": [
        "test_videos_loc = \"/content/drive/MyDrive/DATASET/test\"\n",
        "test_videos = os.listdir(test_videos_loc)"
      ]
    },
    {
      "cell_type": "code",
      "execution_count": null,
      "metadata": {
        "colab": {
          "base_uri": "https://localhost:8080/"
        },
        "id": "jnwNE2sWz7a4",
        "outputId": "41966a3b-43dd-4ae3-d5d0-07a329ee9682"
      },
      "outputs": [
        {
          "output_type": "stream",
          "name": "stdout",
          "text": [
            "['test1', 'mp4']\n",
            "['test2', 'mp4']\n",
            "['test3', 'mp4']\n",
            "['test4', 'mp4']\n",
            "['test5', 'mp4']\n",
            "['coref_resolved_text', 'txt']\n",
            "['test6', 'mp4']\n"
          ]
        }
      ],
      "source": [
        "for i, val in enumerate(test_videos):\n",
        "  temp1 = val.split(\".\")\n",
        "  print(temp1)"
      ]
    },
    {
      "cell_type": "code",
      "execution_count": null,
      "metadata": {
        "colab": {
          "base_uri": "https://localhost:8080/"
        },
        "id": "3CGDHEKZl60B",
        "outputId": "66df15c6-73cb-43b3-83d7-2f76d20cc13d"
      },
      "outputs": [
        {
          "output_type": "stream",
          "name": "stdout",
          "text": [
            "Number of Testing Videos:  7\n"
          ]
        }
      ],
      "source": [
        "print(\"Number of Testing Videos: \", len(test_videos))"
      ]
    },
    {
      "cell_type": "code",
      "execution_count": null,
      "metadata": {
        "colab": {
          "base_uri": "https://localhost:8080/"
        },
        "id": "Fkra4WQ1z_I1",
        "outputId": "9d68adba-bd24-454d-c6f9-5222f2734ea0"
      },
      "outputs": [
        {
          "name": "stdout",
          "output_type": "stream",
          "text": [
            "0\n",
            "test4.mp4\n"
          ]
        },
        {
          "name": "stderr",
          "output_type": "stream",
          "text": [
            "/usr/local/lib/python3.9/dist-packages/whisper/transcribe.py:114: UserWarning: FP16 is not supported on CPU; using FP32 instead\n",
            "  warnings.warn(\"FP16 is not supported on CPU; using FP32 instead\")\n"
          ]
        },
        {
          "name": "stdout",
          "output_type": "stream",
          "text": [
            "1\n",
            "test3.mp4\n"
          ]
        },
        {
          "name": "stderr",
          "output_type": "stream",
          "text": [
            "/usr/local/lib/python3.9/dist-packages/whisper/transcribe.py:114: UserWarning: FP16 is not supported on CPU; using FP32 instead\n",
            "  warnings.warn(\"FP16 is not supported on CPU; using FP32 instead\")\n"
          ]
        },
        {
          "name": "stdout",
          "output_type": "stream",
          "text": [
            "2\n",
            "test2.mp4\n"
          ]
        },
        {
          "name": "stderr",
          "output_type": "stream",
          "text": [
            "/usr/local/lib/python3.9/dist-packages/whisper/transcribe.py:114: UserWarning: FP16 is not supported on CPU; using FP32 instead\n",
            "  warnings.warn(\"FP16 is not supported on CPU; using FP32 instead\")\n"
          ]
        },
        {
          "name": "stdout",
          "output_type": "stream",
          "text": [
            "3\n",
            "test1.mp4\n"
          ]
        },
        {
          "name": "stderr",
          "output_type": "stream",
          "text": [
            "/usr/local/lib/python3.9/dist-packages/whisper/transcribe.py:114: UserWarning: FP16 is not supported on CPU; using FP32 instead\n",
            "  warnings.warn(\"FP16 is not supported on CPU; using FP32 instead\")\n"
          ]
        }
      ],
      "source": [
        "extracted_transcripts = []\n",
        "for i, val in enumerate(test_videos):\n",
        "  temp1 = val;\n",
        "  print(i)\n",
        "  print(temp1)\n",
        "  file_path = '/content/drive/MyDrive/DATASET/test/'+temp1;\n",
        "  output, extracted_text, res  = transcribe_me(file_path)\n",
        "  extracted_transcripts.append(extracted_text)"
      ]
    },
    {
      "cell_type": "code",
      "execution_count": null,
      "metadata": {
        "colab": {
          "base_uri": "https://localhost:8080/"
        },
        "id": "klSRKt4Epgmt",
        "outputId": "df23e69f-5203-4582-ebcc-ad01fbe38093"
      },
      "outputs": [
        {
          "name": "stdout",
          "output_type": "stream",
          "text": [
            " Hello, kids. Do you know how plants make their own food? No? Well, this video elaborates the process of photosynthesis by which plants make their own food. Photosynthesis is the process used by plants to make their own food or in more complex terms. It is the conversion of light energy into chemical energy by plants. This chemical energy is used by the plants for growth and nourishment. Photo means light and synthesis means putting together in Greek. When humans cook food, some essential things are required, including fire, water, vegetables, etc. Similarly, to make their food, plants also need some essential factors, including light, water, nutrients, soil, etc. Plants get light from the sun, water from the ground, and carbon dioxide from the air. All of these factors, including air, water, carbon dioxide, and sunlight, together help plants churn out their own food. Plants have tubes called xylum, located in the stems through which the water from the ground is sucked into the leaves. This system works similar to humans sucking liquids through a straw. The xylum is spread throughout the different parts of the plant, including the stem, branches, and all the way up to the leaves. The xylum transports vital nutrients to the entire plant. Xylums in the plant are like blood vessels in the human body that act as an important means of transportation of water and nutrients. Leaves on the plant have pores, very similar to the pores on the skin of our bodies. These pores are called stomata. These stomata are responsible for the exchange of gases. The carbon dioxide present in the air, which is responsible for photosynthesis, enters the plant through these stomata. Oxygen also comes out through these stomata. Leaves have important cells called mesofil cells. These cells contain a green color component called chloroplasts. This chloroplasts is responsible for the green color of plants and leaves. Once the carbon dioxide and the water reach the chloroplasts in the presence of sunlight, the process of photosynthesis starts to take place. The following reaction takes place in the leaves of the plant during photosynthesis. Carbon dioxide plus water in the presence of light energy results in oxygen plus glucose or carbohydrates. The products formed are glucose and oxygen. Carbohydrates, which are a form of glucose, are synthesized from carbon dioxide and water. Glucose is used by the plants for their growth. Some of the glucose is used immediately and the extra glucose which is not used is stored in the form of starch in the leaves. Some amount of this extra glucose is also stored in the roots of the plants. This extra glucose is used to perform photosynthesis when there is no sunlight. Oxygen is given out into the air through the stomata in the process of photosynthesis. The oxygen that is released is used by human beings to breathe during their respiration process ever wondered why this process is called photosynthesis? Well the word photosynthesis is a combination of two Greek words photo and synthesis. Photo means light in Greek and synthesis means putting together or combining. Hence photosynthesis literally means combining water or carbon dioxide in the presence of light. So the essential factors for photosynthesis to take place include sunlight, water and carbon dioxide. Underwater photosynthesis takes place at a slower pace than the normal photosynthesis. This is because energy from the sun is absorbed by the water layers and only some amount of energy actually reaches the plant. There are some plants which don't need the process of photosynthesis to grow. Such plants include mushroom, venous fly traps etc. Mushrooms get their food from the ground and from their surrounding areas. Venus fly traps trap and catch small insects which come near the leaves and eat them. Don't forget to subscribe to our channel for more cool science videos.\n",
            " A, C, E, D, B, K. No, this isn't some random out-of-order alphabet. These are vitamins. And just like letters build words, they're the building blocks that keep the body running. Vitamins are organic compounds we need to ingest in small amounts to keep functioning. They're the body's builders, defenders, and maintenance workers, helping it to build muscle and bone, make use of nutrients, capture and use energy, and heal wounds. If you need convincing about vitamin value, just consider the plight of olden-day sailors who had no access to vitamin-rich fresh produce. They got scurvy, but vitamin C, abundant in fruits and vegetables, was the simple antidote to this disease. While bacteria, fungi, and plants produce their own vitamins, our bodies can't, so we have to get them from other sources. So how does the body get vitamins from out there into here? That's dependent on the form these compounds take. Vitamins come in two types, lipid-soluble and water-soluble, and the difference between them determines how the body transports and stores vitamins and gets rid of the excess. The water-solubles are vitamin C and B-complex vitamins that are made up of eight different types that each do something unique. These are dissolved in the watery parts of fruits, vegetables, and grains, meaning their passage through the body is relatively straightforward. Once inside the system, these foods are digested, and the vitamins within them are taken up directly by the bloodstream. Because blood plasma is water-based, water-soluble vitamins C and B have their transport cut out for them, and can move around freely within the body. For lipid-soluble vitamins, dissolved in fat and found in foods like dairy, butter, and oils, this trip into the blood is a little more adventurous. These vitamins make it through the stomach and the intestine, where an acidic substance called bile flows in from the liver, breaking up the fat and preparing it for absorption through the intestinal wall. Because fat-soluble vitamins can't make use of the blood's watery nature, they need something else to move them around. And that comes from proteins that attach to the vitamins and act like couriers, transporting fat-solubles into the blood and around the body. So this difference between water or fat-soluble vitamins determines how they get into the blood, but also how they're stored or rejected from the body. The system's ability to circulate water-soluble vitamins in the bloodstream so easily means that most of them can be passed out equally easily via the kidneys. Because of that, most water-soluble vitamins need to be replenished on a daily basis through the food we eat. But fat-soluble vitamins have staying power because they can be packed into the liver and in fat cells. The body treats these parts like a pantry, storing the vitamins there and rationing them out when needed, meaning we shouldn't overload on this type of vitamin because the body is generally well stocked. Once we've figured the logistics of transport and storage, the vitamins are left to do the work they came here to do in the first place. Some, like many of the bee complex vitamins, make up co-enzymes, whose job it is to help enzymes release the energy from food. Other bee vitamins then help the body to use that energy. From vitamin C, you get the ability to fight infection and make collagen, a kind of tissue that forms bones and teeth and heals wounds. Vitamin A helps make white blood cells, key in the body's defense, helps shape bones, and improves vision by keeping the cells of the eye in check. Vitamin D gathers calcium and phosphorus so we can make bones, and vitamin E works as an antioxidant, getting rid of elements in the body that can damage cells. Finally, from vitamin K, we score the ability to clot blood, since it helps make the proteins that do this job. Without this vitamin variety, humans face deficiencies that cause a range of problems like fatigue, nerve damage, heart disorders, or diseases like rickets and scurvy. On the other hand, too much of any vitamin can cause toxicity in the body, so there goes the myth that loading yourself with supplements is a great idea. In reality, it's all about getting the balance right and hitting that vitamin jackpot.\n",
            " In today's video, we're going to look at the basics of waves, including how to label the different parts, how to calculate the wave speed, and the differences between transverse and longitudinal waves. The first thing to understand about waves is that they transfer energy from one place to another, but they don't transfer any matter. So when light waves pass from a phone screen to your eye, or sound waves pass from the speakers to your ear, only energy is being transferred. Sometimes though we can interpret that energy as meaningful information, which is why our brain is able to build up images and tunes from the light and sound that it receives. To travel from one place to another, the waves vibrate or oscillate, as we can see in this displacement distance graph. The distance is how far the wave has travelled from the starting point. While the displacement is how far from the equilibrium point, the wave has oscillated. So how far it's gone up or down. The maximum displacement is known as the amplitude, while the distance of one entire oscillation is called the wavelength. So that could be from equilibrium, up, down and back up, or it could be from the very top of a wave, which we call the crest, down and back up to the next crest. It just has to be one entire oscillation. And the opposite of the crest is called the trough. Now sometimes you might see a displacement time graph instead, which looks pretty much the same, but because we have time on the x-axis, instead of distance, the length of one complete oscillation would be the time period instead of the wavelength. And the time period is just the time it takes for one complete oscillation. The benefit of knowing the time period is that we can then use this equation here to work out frequency, which is measured in hertz and is a number of complete oscillations per second. To see how it works, imagine that each oscillation takes 0.5 seconds. Or in other words, the time period is 0.5 seconds. This means that there must be a total of two oscillations per second, so the frequency is two, which is what we'd get if we did one divided by the time period of 0.5. We can also use the equation the other way around, so time period equals 1 over frequency. So if we were told that the frequency of a wave was 4 hertz, which means 4 oscillations per second, then to find the time period, which is to 1 divided by 4, which tells us that each oscillation must be 0.25 seconds. The next equation to know is that we can find the speed of the wave, so the wave speed, by multiplying the wavelength by the frequency. So basically, we multiply how long each wavelength is, by how many there are per second. And that will give us the total distance they travel per second. To see how this works, let's imagine we had a sound wave that had a frequency of 400 hertz, and a wavelength of 70 centimeters. What is its wave speed? Well in this case, all we'd have to do is convert the 70 centimeters to 0.7 meters, because we always want our wavelength in meters, and then multiply it by their frequency of 400 hertz, which gives us 280 meters per second as our wave speed. The last thing we need to look at are the differences between transverse and longitudinal waves. When transverse waves, the oscillations are perpendicular to the direction of energy transfer, or the direction in which the wave is moving, which is why on our drawing, the vibrations are going up and down, whilst the overall wave is travelling from left to right. Most waves we can think of are transverse, including all electromagnetic waves like light and radio waves, ripples and waves in water, and the waves of strings like on a guitar. Longitudinal waves on the other hand have oscillations that are parallel to the direction of energy transfer. This one's a bit trickier to get your head around, but basically it leads to some regions that are more spread out, and other regions that are more compressed, because the waves vibrating back and forth. In motion, it would look as if this area of compression is moving from the left to the right within the wave. Examples of longitudinal waves include sound waves, and some types of shock waves, like seismic p-waves. Anyway, that's everything for this video, so hope you found it useful, and we'll see you again soon.\n",
            " The human body is a complex network of cells, tissues, and organs that together make life possible. Ten major systems are responsible for the body's functions, skeletal, muscular, cardiovascular, nervous, endocrine, lymphatic, respiratory, digestive, urinary, reproductive. The skeletal, muscular, cardiovascular, and nervous systems in particular create an infrastructure that facilitates the other systems. The adult skeletal system is a framework of over 200 bones. They hold the body together, give it shape, and protect its organs and tissues. The skeleton also provides anchor points for the muscular system, which includes three types of muscles, skeletal, smooth, and cardiac. They are found throughout the body and facilitate movement. Nestled within these muscles is the cardiovascular system, a pipeline that includes the heart, blood vessels, and the blood itself. Also called the circulatory system, the cardiovascular system delivers oxygen, white blood cells, hormones, and nutrients throughout the body. Lastly, the nervous system is a communication network of nerve cells that the body uses to transmit information and coordinate bodily functions. It's comprised of the brain, the hub of sensory and intellectual activity, the spinal cord, and the many cranial and spinal nerves that emanate from them. This infrastructure created by neurons, blood, muscles, and bones allows three other systems to regulate the body's environment, the endocrine, lymphatic, and urinary systems. The endocrine system is a series of glands that use information carried by the nervous system to help regulate the body's processes. Thanks to this neural connection, endocrine glands, such as the thyroid, are aware of the amount of hormones and other chemicals they need to produce. These chemicals are then distributed throughout the body by way of the cardiovascular system. The cardiovascular and nervous systems are also utilized by the lymphatic system, a collection of lymph nodes and vessels that help regulate the body's defenses. Also called the immune system, the lymphatic system uses neural pathways to transmit information about affected areas of the body and then sends out healing agents like white blood cells via the bloodstream. Another key regulatory system is the urinary system, which includes the kidneys, ureters, bladder, and urethra. The urinary or renal system maintains the body's electrolyte levels and filters waste from the blood. This waste is sent through the blood vessels into the kidneys and then expelled as urine. All of these systems require energy to function and that's where the respiratory and digestive systems come in. The respiratory system is a group of passageways and organs that extracts life-giving oxygen from the air we breathe. Air enters the body through nasal cavities, travels down the throat, and is then transported to the lungs. The lungs extract oxygen for the body to use and then expel a carbon dioxide by product when we exhale. Energy can also come in the form of food. The digestive system is an approximately 30-foot series of organs that convert food into fuel. Food enters the system through the mouth, then moves into the esophagus, the stomach, and the intestines. Nutrients are absorbed into the body while solid waste is expelled through the anal canal, the end of the digestive tract. No matter the role, size, or shape of any of the body's systems, each began with the reproductive system. This system is responsible for creating life. The primary organs involved differ between the sexes with ovaries, fallopian tubes, the uterus, and vagina found in women and testes and a sperm channel found in men. Together, fertilization may occur. Organ systems form and then a child is born. Humans are complicated organisms, but when our 10 major organ systems are healthy, they ensure our well-being. .\n"
          ]
        }
      ],
      "source": [
        "for extracted_transcript in extracted_transcripts:\n",
        "  print(extracted_transcript)"
      ]
    },
    {
      "cell_type": "code",
      "execution_count": null,
      "metadata": {
        "colab": {
          "base_uri": "https://localhost:8080/",
          "height": 123
        },
        "id": "p7nQDEXNxZYu",
        "outputId": "b30b6254-b7b8-4e63-fd3b-d9ab92c8efb3"
      },
      "outputs": [
        {
          "data": {
            "application/vnd.google.colaboratory.intrinsic+json": {
              "type": "string"
            },
            "text/plain": [
              "\" Hello, kids. Do you know how plants make their own food? No? Well, this video elaborates the process of photosynthesis by which plants make their own food. Photosynthesis is the process used by plants to make their own food or in more complex terms. It is the conversion of light energy into chemical energy by plants. This chemical energy is used by the plants for growth and nourishment. Photo means light and synthesis means putting together in Greek. When humans cook food, some essential things are required, including fire, water, vegetables, etc. Similarly, to make their food, plants also need some essential factors, including light, water, nutrients, soil, etc. Plants get light from the sun, water from the ground, and carbon dioxide from the air. All of these factors, including air, water, carbon dioxide, and sunlight, together help plants churn out their own food. Plants have tubes called xylum, located in the stems through which the water from the ground is sucked into the leaves. This system works similar to humans sucking liquids through a straw. The xylum is spread throughout the different parts of the plant, including the stem, branches, and all the way up to the leaves. The xylum transports vital nutrients to the entire plant. Xylums in the plant are like blood vessels in the human body that act as an important means of transportation of water and nutrients. Leaves on the plant have pores, very similar to the pores on the skin of our bodies. These pores are called stomata. These stomata are responsible for the exchange of gases. The carbon dioxide present in the air, which is responsible for photosynthesis, enters the plant through these stomata. Oxygen also comes out through these stomata. Leaves have important cells called mesofil cells. These cells contain a green color component called chloroplasts. This chloroplasts is responsible for the green color of plants and leaves. Once the carbon dioxide and the water reach the chloroplasts in the presence of sunlight, the process of photosynthesis starts to take place. The following reaction takes place in the leaves of the plant during photosynthesis. Carbon dioxide plus water in the presence of light energy results in oxygen plus glucose or carbohydrates. The products formed are glucose and oxygen. Carbohydrates, which are a form of glucose, are synthesized from carbon dioxide and water. Glucose is used by the plants for their growth. Some of the glucose is used immediately and the extra glucose which is not used is stored in the form of starch in the leaves. Some amount of this extra glucose is also stored in the roots of the plants. This extra glucose is used to perform photosynthesis when there is no sunlight. Oxygen is given out into the air through the stomata in the process of photosynthesis. The oxygen that is released is used by human beings to breathe during their respiration process ever wondered why this process is called photosynthesis? Well the word photosynthesis is a combination of two Greek words photo and synthesis. Photo means light in Greek and synthesis means putting together or combining. Hence photosynthesis literally means combining water or carbon dioxide in the presence of light. So the essential factors for photosynthesis to take place include sunlight, water and carbon dioxide. Underwater photosynthesis takes place at a slower pace than the normal photosynthesis. This is because energy from the sun is absorbed by the water layers and only some amount of energy actually reaches the plant. There are some plants which don't need the process of photosynthesis to grow. Such plants include mushroom, venous fly traps etc. Mushrooms get their food from the ground and from their surrounding areas. Venus fly traps trap and catch small insects which come near the leaves and eat them. Don't forget to subscribe to our channel for more cool science videos.\""
            ]
          },
          "execution_count": 25,
          "metadata": {},
          "output_type": "execute_result"
        }
      ],
      "source": [
        "extracted_transcripts[0]"
      ]
    },
    {
      "cell_type": "code",
      "execution_count": null,
      "metadata": {
        "colab": {
          "base_uri": "https://localhost:8080/",
          "height": 123
        },
        "id": "W9d_fK1BxzUL",
        "outputId": "5bedeeaa-96df-4fa9-913d-e1f7989ef018"
      },
      "outputs": [
        {
          "data": {
            "application/vnd.google.colaboratory.intrinsic+json": {
              "type": "string"
            },
            "text/plain": [
              "\" A, C, E, D, B, K. No, this isn't some random out-of-order alphabet. These are vitamins. And just like letters build words, they're the building blocks that keep the body running. Vitamins are organic compounds we need to ingest in small amounts to keep functioning. They're the body's builders, defenders, and maintenance workers, helping it to build muscle and bone, make use of nutrients, capture and use energy, and heal wounds. If you need convincing about vitamin value, just consider the plight of olden-day sailors who had no access to vitamin-rich fresh produce. They got scurvy, but vitamin C, abundant in fruits and vegetables, was the simple antidote to this disease. While bacteria, fungi, and plants produce their own vitamins, our bodies can't, so we have to get them from other sources. So how does the body get vitamins from out there into here? That's dependent on the form these compounds take. Vitamins come in two types, lipid-soluble and water-soluble, and the difference between them determines how the body transports and stores vitamins and gets rid of the excess. The water-solubles are vitamin C and B-complex vitamins that are made up of eight different types that each do something unique. These are dissolved in the watery parts of fruits, vegetables, and grains, meaning their passage through the body is relatively straightforward. Once inside the system, these foods are digested, and the vitamins within them are taken up directly by the bloodstream. Because blood plasma is water-based, water-soluble vitamins C and B have their transport cut out for them, and can move around freely within the body. For lipid-soluble vitamins, dissolved in fat and found in foods like dairy, butter, and oils, this trip into the blood is a little more adventurous. These vitamins make it through the stomach and the intestine, where an acidic substance called bile flows in from the liver, breaking up the fat and preparing it for absorption through the intestinal wall. Because fat-soluble vitamins can't make use of the blood's watery nature, they need something else to move them around. And that comes from proteins that attach to the vitamins and act like couriers, transporting fat-solubles into the blood and around the body. So this difference between water or fat-soluble vitamins determines how they get into the blood, but also how they're stored or rejected from the body. The system's ability to circulate water-soluble vitamins in the bloodstream so easily means that most of them can be passed out equally easily via the kidneys. Because of that, most water-soluble vitamins need to be replenished on a daily basis through the food we eat. But fat-soluble vitamins have staying power because they can be packed into the liver and in fat cells. The body treats these parts like a pantry, storing the vitamins there and rationing them out when needed, meaning we shouldn't overload on this type of vitamin because the body is generally well stocked. Once we've figured the logistics of transport and storage, the vitamins are left to do the work they came here to do in the first place. Some, like many of the bee complex vitamins, make up co-enzymes, whose job it is to help enzymes release the energy from food. Other bee vitamins then help the body to use that energy. From vitamin C, you get the ability to fight infection and make collagen, a kind of tissue that forms bones and teeth and heals wounds. Vitamin A helps make white blood cells, key in the body's defense, helps shape bones, and improves vision by keeping the cells of the eye in check. Vitamin D gathers calcium and phosphorus so we can make bones, and vitamin E works as an antioxidant, getting rid of elements in the body that can damage cells. Finally, from vitamin K, we score the ability to clot blood, since it helps make the proteins that do this job. Without this vitamin variety, humans face deficiencies that cause a range of problems like fatigue, nerve damage, heart disorders, or diseases like rickets and scurvy. On the other hand, too much of any vitamin can cause toxicity in the body, so there goes the myth that loading yourself with supplements is a great idea. In reality, it's all about getting the balance right and hitting that vitamin jackpot.\""
            ]
          },
          "execution_count": 26,
          "metadata": {},
          "output_type": "execute_result"
        }
      ],
      "source": [
        "extracted_transcripts[1]"
      ]
    },
    {
      "cell_type": "code",
      "execution_count": null,
      "metadata": {
        "colab": {
          "base_uri": "https://localhost:8080/",
          "height": 123
        },
        "id": "1tAGhfj4x6Pp",
        "outputId": "f4428f6d-49bf-451a-8847-196a053c7402"
      },
      "outputs": [
        {
          "data": {
            "application/vnd.google.colaboratory.intrinsic+json": {
              "type": "string"
            },
            "text/plain": [
              "\" In today's video, we're going to look at the basics of waves, including how to label the different parts, how to calculate the wave speed, and the differences between transverse and longitudinal waves. The first thing to understand about waves is that they transfer energy from one place to another, but they don't transfer any matter. So when light waves pass from a phone screen to your eye, or sound waves pass from the speakers to your ear, only energy is being transferred. Sometimes though we can interpret that energy as meaningful information, which is why our brain is able to build up images and tunes from the light and sound that it receives. To travel from one place to another, the waves vibrate or oscillate, as we can see in this displacement distance graph. The distance is how far the wave has travelled from the starting point. While the displacement is how far from the equilibrium point, the wave has oscillated. So how far it's gone up or down. The maximum displacement is known as the amplitude, while the distance of one entire oscillation is called the wavelength. So that could be from equilibrium, up, down and back up, or it could be from the very top of a wave, which we call the crest, down and back up to the next crest. It just has to be one entire oscillation. And the opposite of the crest is called the trough. Now sometimes you might see a displacement time graph instead, which looks pretty much the same, but because we have time on the x-axis, instead of distance, the length of one complete oscillation would be the time period instead of the wavelength. And the time period is just the time it takes for one complete oscillation. The benefit of knowing the time period is that we can then use this equation here to work out frequency, which is measured in hertz and is a number of complete oscillations per second. To see how it works, imagine that each oscillation takes 0.5 seconds. Or in other words, the time period is 0.5 seconds. This means that there must be a total of two oscillations per second, so the frequency is two, which is what we'd get if we did one divided by the time period of 0.5. We can also use the equation the other way around, so time period equals 1 over frequency. So if we were told that the frequency of a wave was 4 hertz, which means 4 oscillations per second, then to find the time period, which is to 1 divided by 4, which tells us that each oscillation must be 0.25 seconds. The next equation to know is that we can find the speed of the wave, so the wave speed, by multiplying the wavelength by the frequency. So basically, we multiply how long each wavelength is, by how many there are per second. And that will give us the total distance they travel per second. To see how this works, let's imagine we had a sound wave that had a frequency of 400 hertz, and a wavelength of 70 centimeters. What is its wave speed? Well in this case, all we'd have to do is convert the 70 centimeters to 0.7 meters, because we always want our wavelength in meters, and then multiply it by their frequency of 400 hertz, which gives us 280 meters per second as our wave speed. The last thing we need to look at are the differences between transverse and longitudinal waves. When transverse waves, the oscillations are perpendicular to the direction of energy transfer, or the direction in which the wave is moving, which is why on our drawing, the vibrations are going up and down, whilst the overall wave is travelling from left to right. Most waves we can think of are transverse, including all electromagnetic waves like light and radio waves, ripples and waves in water, and the waves of strings like on a guitar. Longitudinal waves on the other hand have oscillations that are parallel to the direction of energy transfer. This one's a bit trickier to get your head around, but basically it leads to some regions that are more spread out, and other regions that are more compressed, because the waves vibrating back and forth. In motion, it would look as if this area of compression is moving from the left to the right within the wave. Examples of longitudinal waves include sound waves, and some types of shock waves, like seismic p-waves. Anyway, that's everything for this video, so hope you found it useful, and we'll see you again soon.\""
            ]
          },
          "execution_count": 27,
          "metadata": {},
          "output_type": "execute_result"
        }
      ],
      "source": [
        "extracted_transcripts[2]"
      ]
    },
    {
      "cell_type": "code",
      "execution_count": null,
      "metadata": {
        "colab": {
          "base_uri": "https://localhost:8080/"
        },
        "id": "5bbhkRSXwe77",
        "outputId": "dcda0183-15d7-486b-c61e-8f18bc94be24"
      },
      "outputs": [
        {
          "data": {
            "text/plain": [
              "4"
            ]
          },
          "execution_count": 19,
          "metadata": {},
          "output_type": "execute_result"
        }
      ],
      "source": [
        "len(extracted_transcripts)"
      ]
    },
    {
      "cell_type": "code",
      "source": [
        "file_path = '/content/drive/MyDrive/DATASET/test/test6.mp4'\n",
        "output, extracted_text, res  = transcribe_me(file_path)\n",
        "extracted_text"
      ],
      "metadata": {
        "colab": {
          "base_uri": "https://localhost:8080/",
          "height": 175
        },
        "id": "7h8_qY4iTumT",
        "outputId": "0532b50f-24a1-4887-e78f-d7da43973e2b"
      },
      "execution_count": null,
      "outputs": [
        {
          "output_type": "stream",
          "name": "stderr",
          "text": [
            "100%|███████████████████████████████████████| 139M/139M [00:03<00:00, 36.4MiB/s]\n",
            "/usr/local/lib/python3.9/dist-packages/whisper/transcribe.py:114: UserWarning: FP16 is not supported on CPU; using FP32 instead\n",
            "  warnings.warn(\"FP16 is not supported on CPU; using FP32 instead\")\n"
          ]
        },
        {
          "output_type": "execute_result",
          "data": {
            "text/plain": [
              "\" Rutherford's atomic model was quite commendable when it came to explaining the structure of atoms. However, it was not very appropriate theoretically. And why are we saying so? We know that any charged object which revolves in a circular motion gains acceleration gradually. Similarly, if the electron is moving fast in a circular path, then it will also gain acceleration. And on gaining acceleration, it's bound to liberate energy in some form. Now if it continuously keeps radiating energy, then ultimately all the energy of the electron will get over and it will fall into the nucleus. This would result in high instability of the atom. But wait a second, all these things do not happen in an atom. And how do we know this? Because in nature, all the atoms are stable. That means the hypothesis put forth by Rutherford was also incorrect. Not really, the hypothesis just needed slight modifications. These were made by the next legendary scientist in our list called Niels Bohr. He made a few additional explanations to describe the atomic structure. The postulates put forward by Niels Bohr were as follows. Firstly, only certain special orbits called discrete orbits of electrons are allowed inside the atom. Secondly, while revolving in these discrete orbits, the electrons do not radiate energy. Now these points definitely tell us why an atom is so stable. But what exactly are these paths or orbits in which the electrons revolve around the nucleus? Let's understand with an example. Do you know how our solar system is? Yes, it appears somewhat like this. Now here, the sun is stationary at the centre while the planets revolve around it. But have you noticed that the planets always revolve in fixed paths? We never find any planet jumping to a different path all of a sudden, right? They always encircle the sun in defined paths. In a similar way, we have the atomic structure. The nucleus acts like the sun located at the centre and the electrons are like planets which revolve in fixed defined orbitals. These electron orbitals are referred to as shells or energy levels. Now the name energy levels gets us to an important concept. Niels Bohr suggested that the electrons revolving in these orbitals do not radiate energy. Now this is justified when we use the term energy levels because it indicates that each shell has got a defined energy level. That means when the electrons revolve in these shells, they do not liberate any form of energy. And how do we name these shells to indicate their position? It's simple. Beginning from the one near the nucleus, we name them as the K shell, L shell, M shell, N shell and so on. Yes, K L M N and so on. And what if we want to number them? In that case, we use the letter N in lower case and write them as N equals 1, N equals 2, N equals 3 and so on, beginning from the 1 next to the nucleus. So we can name them alphabetically or we can even number them. With all these theories and points known, do we now know the structure of a typical atom completely? The nucleus contains positive protons and the electrons revolving around in fixed orbitals. Is that how an atom is structured? Not really. We still have one more subatomic particle left. And what and where could it be? Let's find that out. It was around the year 1932 when a famous English physicist Sir James Chadwick found the third subatomic particle. He found that the particle had a mass almost equivalent to that of the proton. And what about its charge? Astonishingly, it had no charge. Yes, the particle was neutral. The particle was later named as neutron, denoted by the letter N. Does now we have the complete design of an atom? In the center lies the nucleus having positively charged protons and neutral neutrons, while the negatively charged electrons revolve in fixed orbitals around the nucleus. But how exactly are the electrons distributed in the respective orbitals? Is there a way to find out the maximum number of electrons that one orbital can contain? Or is it that the electrons are randomly scattered in the orbitals? Let's find out the answers to these questions in our upcoming video.\""
            ],
            "application/vnd.google.colaboratory.intrinsic+json": {
              "type": "string"
            }
          },
          "metadata": {},
          "execution_count": 8
        }
      ]
    },
    {
      "cell_type": "markdown",
      "metadata": {
        "id": "OYyWafYLzS4C"
      },
      "source": [
        "# PREPROCESSING"
      ]
    },
    {
      "cell_type": "markdown",
      "metadata": {
        "id": "LMBy7anWzYVP"
      },
      "source": [
        "## COREFERENCE RESOLUTION"
      ]
    },
    {
      "cell_type": "code",
      "execution_count": null,
      "metadata": {
        "colab": {
          "base_uri": "https://localhost:8080/"
        },
        "id": "W08-WjyAzSFQ",
        "outputId": "1a104c47-06ec-41cb-f273-592bb4f4dd4f"
      },
      "outputs": [
        {
          "output_type": "stream",
          "name": "stdout",
          "text": [
            "Cloning into 'neuralcoref'...\n",
            "remote: Enumerating objects: 772, done.\u001b[K\n",
            "remote: Counting objects: 100% (24/24), done.\u001b[K\n",
            "remote: Compressing objects: 100% (16/16), done.\u001b[K\n",
            "remote: Total 772 (delta 10), reused 16 (delta 7), pack-reused 748\u001b[K\n",
            "Receiving objects: 100% (772/772), 67.85 MiB | 12.73 MiB/s, done.\n",
            "Resolving deltas: 100% (407/407), done.\n",
            "Updating files: 100% (151/151), done.\n",
            "/content/neuralcoref\n",
            "Looking in indexes: https://pypi.org/simple, https://us-python.pkg.dev/colab-wheels/public/simple/\n",
            "Collecting spacy<3.0.0,>=2.1.0\n",
            "  Downloading spacy-2.3.9-cp310-cp310-manylinux_2_17_x86_64.manylinux2014_x86_64.whl (4.9 MB)\n",
            "\u001b[2K     \u001b[90m━━━━━━━━━━━━━━━━━━━━━━━━━━━━━━━━━━━━━━━━\u001b[0m \u001b[32m4.9/4.9 MB\u001b[0m \u001b[31m12.7 MB/s\u001b[0m eta \u001b[36m0:00:00\u001b[0m\n",
            "\u001b[?25hRequirement already satisfied: cython>=0.25 in /usr/local/lib/python3.10/dist-packages (from -r requirements.txt (line 2)) (0.29.34)\n",
            "Requirement already satisfied: pytest in /usr/local/lib/python3.10/dist-packages (from -r requirements.txt (line 3)) (7.2.2)\n",
            "Requirement already satisfied: murmurhash<1.1.0,>=0.28.0 in /usr/local/lib/python3.10/dist-packages (from spacy<3.0.0,>=2.1.0->-r requirements.txt (line 1)) (1.0.9)\n",
            "Requirement already satisfied: blis<0.8.0,>=0.4.0 in /usr/local/lib/python3.10/dist-packages (from spacy<3.0.0,>=2.1.0->-r requirements.txt (line 1)) (0.7.9)\n",
            "Requirement already satisfied: requests<3.0.0,>=2.13.0 in /usr/local/lib/python3.10/dist-packages (from spacy<3.0.0,>=2.1.0->-r requirements.txt (line 1)) (2.27.1)\n",
            "Collecting thinc<7.5.0,>=7.4.1\n",
            "  Downloading thinc-7.4.6-cp310-cp310-manylinux_2_17_x86_64.manylinux2014_x86_64.whl (1.0 MB)\n",
            "\u001b[2K     \u001b[90m━━━━━━━━━━━━━━━━━━━━━━━━━━━━━━━━━━━━━━━━\u001b[0m \u001b[32m1.0/1.0 MB\u001b[0m \u001b[31m9.1 MB/s\u001b[0m eta \u001b[36m0:00:00\u001b[0m\n",
            "\u001b[?25hCollecting wasabi<1.1.0,>=0.4.0\n",
            "  Downloading wasabi-0.10.1-py3-none-any.whl (26 kB)\n",
            "Collecting catalogue<1.1.0,>=0.0.7\n",
            "  Downloading catalogue-1.0.2-py2.py3-none-any.whl (16 kB)\n",
            "Collecting srsly<1.1.0,>=1.0.2\n",
            "  Downloading srsly-1.0.6-cp310-cp310-manylinux_2_17_x86_64.manylinux2014_x86_64.whl (209 kB)\n",
            "\u001b[2K     \u001b[90m━━━━━━━━━━━━━━━━━━━━━━━━━━━━━━━━━━━━━━━\u001b[0m \u001b[32m209.8/209.8 kB\u001b[0m \u001b[31m7.3 MB/s\u001b[0m eta \u001b[36m0:00:00\u001b[0m\n",
            "\u001b[?25hRequirement already satisfied: tqdm<5.0.0,>=4.38.0 in /usr/local/lib/python3.10/dist-packages (from spacy<3.0.0,>=2.1.0->-r requirements.txt (line 1)) (4.65.0)\n",
            "Requirement already satisfied: setuptools in /usr/local/lib/python3.10/dist-packages (from spacy<3.0.0,>=2.1.0->-r requirements.txt (line 1)) (67.7.2)\n",
            "Collecting plac<1.2.0,>=0.9.6\n",
            "  Downloading plac-1.1.3-py2.py3-none-any.whl (20 kB)\n",
            "Requirement already satisfied: preshed<3.1.0,>=3.0.2 in /usr/local/lib/python3.10/dist-packages (from spacy<3.0.0,>=2.1.0->-r requirements.txt (line 1)) (3.0.8)\n",
            "Requirement already satisfied: numpy>=1.15.0 in /usr/local/lib/python3.10/dist-packages (from spacy<3.0.0,>=2.1.0->-r requirements.txt (line 1)) (1.24.3)\n",
            "Requirement already satisfied: cymem<2.1.0,>=2.0.2 in /usr/local/lib/python3.10/dist-packages (from spacy<3.0.0,>=2.1.0->-r requirements.txt (line 1)) (2.0.7)\n",
            "Requirement already satisfied: attrs>=19.2.0 in /usr/local/lib/python3.10/dist-packages (from pytest->-r requirements.txt (line 3)) (23.1.0)\n",
            "Requirement already satisfied: iniconfig in /usr/local/lib/python3.10/dist-packages (from pytest->-r requirements.txt (line 3)) (2.0.0)\n",
            "Requirement already satisfied: tomli>=1.0.0 in /usr/local/lib/python3.10/dist-packages (from pytest->-r requirements.txt (line 3)) (2.0.1)\n",
            "Requirement already satisfied: exceptiongroup>=1.0.0rc8 in /usr/local/lib/python3.10/dist-packages (from pytest->-r requirements.txt (line 3)) (1.1.1)\n",
            "Requirement already satisfied: packaging in /usr/local/lib/python3.10/dist-packages (from pytest->-r requirements.txt (line 3)) (23.1)\n",
            "Requirement already satisfied: pluggy<2.0,>=0.12 in /usr/local/lib/python3.10/dist-packages (from pytest->-r requirements.txt (line 3)) (1.0.0)\n",
            "Requirement already satisfied: idna<4,>=2.5 in /usr/local/lib/python3.10/dist-packages (from requests<3.0.0,>=2.13.0->spacy<3.0.0,>=2.1.0->-r requirements.txt (line 1)) (3.4)\n",
            "Requirement already satisfied: urllib3<1.27,>=1.21.1 in /usr/local/lib/python3.10/dist-packages (from requests<3.0.0,>=2.13.0->spacy<3.0.0,>=2.1.0->-r requirements.txt (line 1)) (1.26.15)\n",
            "Requirement already satisfied: certifi>=2017.4.17 in /usr/local/lib/python3.10/dist-packages (from requests<3.0.0,>=2.13.0->spacy<3.0.0,>=2.1.0->-r requirements.txt (line 1)) (2022.12.7)\n",
            "Requirement already satisfied: charset-normalizer~=2.0.0 in /usr/local/lib/python3.10/dist-packages (from requests<3.0.0,>=2.13.0->spacy<3.0.0,>=2.1.0->-r requirements.txt (line 1)) (2.0.12)\n",
            "Installing collected packages: wasabi, plac, srsly, catalogue, thinc, spacy\n",
            "  Attempting uninstall: wasabi\n",
            "    Found existing installation: wasabi 1.1.1\n",
            "    Uninstalling wasabi-1.1.1:\n",
            "      Successfully uninstalled wasabi-1.1.1\n",
            "  Attempting uninstall: srsly\n",
            "    Found existing installation: srsly 2.4.6\n",
            "    Uninstalling srsly-2.4.6:\n",
            "      Successfully uninstalled srsly-2.4.6\n",
            "  Attempting uninstall: catalogue\n",
            "    Found existing installation: catalogue 2.0.8\n",
            "    Uninstalling catalogue-2.0.8:\n",
            "      Successfully uninstalled catalogue-2.0.8\n",
            "  Attempting uninstall: thinc\n",
            "    Found existing installation: thinc 8.1.9\n",
            "    Uninstalling thinc-8.1.9:\n",
            "      Successfully uninstalled thinc-8.1.9\n",
            "  Attempting uninstall: spacy\n",
            "    Found existing installation: spacy 3.5.2\n",
            "    Uninstalling spacy-3.5.2:\n",
            "      Successfully uninstalled spacy-3.5.2\n",
            "\u001b[31mERROR: pip's dependency resolver does not currently take into account all the packages that are installed. This behaviour is the source of the following dependency conflicts.\n",
            "en-core-web-sm 3.5.0 requires spacy<3.6.0,>=3.5.0, but you have spacy 2.3.9 which is incompatible.\n",
            "confection 0.0.4 requires srsly<3.0.0,>=2.4.0, but you have srsly 1.0.6 which is incompatible.\u001b[0m\u001b[31m\n",
            "\u001b[0mSuccessfully installed catalogue-1.0.2 plac-1.1.3 spacy-2.3.9 srsly-1.0.6 thinc-7.4.6 wasabi-0.10.1\n",
            "Looking in indexes: https://pypi.org/simple, https://us-python.pkg.dev/colab-wheels/public/simple/\n",
            "Obtaining file:///content/neuralcoref\n",
            "  Preparing metadata (setup.py) ... \u001b[?25l\u001b[?25hdone\n",
            "Requirement already satisfied: numpy>=1.15.0 in /usr/local/lib/python3.10/dist-packages (from neuralcoref==4.0) (1.24.3)\n",
            "Collecting boto3\n",
            "  Downloading boto3-1.26.129-py3-none-any.whl (135 kB)\n",
            "\u001b[2K     \u001b[90m━━━━━━━━━━━━━━━━━━━━━━━━━━━━━━━━━━━━━━━\u001b[0m \u001b[32m135.6/135.6 kB\u001b[0m \u001b[31m3.8 MB/s\u001b[0m eta \u001b[36m0:00:00\u001b[0m\n",
            "\u001b[?25hRequirement already satisfied: requests<3.0.0,>=2.13.0 in /usr/local/lib/python3.10/dist-packages (from neuralcoref==4.0) (2.27.1)\n",
            "Requirement already satisfied: spacy<3.0.0,>=2.1.0 in /usr/local/lib/python3.10/dist-packages (from neuralcoref==4.0) (2.3.9)\n",
            "Requirement already satisfied: urllib3<1.27,>=1.21.1 in /usr/local/lib/python3.10/dist-packages (from requests<3.0.0,>=2.13.0->neuralcoref==4.0) (1.26.15)\n",
            "Requirement already satisfied: idna<4,>=2.5 in /usr/local/lib/python3.10/dist-packages (from requests<3.0.0,>=2.13.0->neuralcoref==4.0) (3.4)\n",
            "Requirement already satisfied: charset-normalizer~=2.0.0 in /usr/local/lib/python3.10/dist-packages (from requests<3.0.0,>=2.13.0->neuralcoref==4.0) (2.0.12)\n",
            "Requirement already satisfied: certifi>=2017.4.17 in /usr/local/lib/python3.10/dist-packages (from requests<3.0.0,>=2.13.0->neuralcoref==4.0) (2022.12.7)\n",
            "Requirement already satisfied: plac<1.2.0,>=0.9.6 in /usr/local/lib/python3.10/dist-packages (from spacy<3.0.0,>=2.1.0->neuralcoref==4.0) (1.1.3)\n",
            "Requirement already satisfied: preshed<3.1.0,>=3.0.2 in /usr/local/lib/python3.10/dist-packages (from spacy<3.0.0,>=2.1.0->neuralcoref==4.0) (3.0.8)\n",
            "Requirement already satisfied: tqdm<5.0.0,>=4.38.0 in /usr/local/lib/python3.10/dist-packages (from spacy<3.0.0,>=2.1.0->neuralcoref==4.0) (4.65.0)\n",
            "Requirement already satisfied: cymem<2.1.0,>=2.0.2 in /usr/local/lib/python3.10/dist-packages (from spacy<3.0.0,>=2.1.0->neuralcoref==4.0) (2.0.7)\n",
            "Requirement already satisfied: setuptools in /usr/local/lib/python3.10/dist-packages (from spacy<3.0.0,>=2.1.0->neuralcoref==4.0) (67.7.2)\n",
            "Requirement already satisfied: thinc<7.5.0,>=7.4.1 in /usr/local/lib/python3.10/dist-packages (from spacy<3.0.0,>=2.1.0->neuralcoref==4.0) (7.4.6)\n",
            "Requirement already satisfied: murmurhash<1.1.0,>=0.28.0 in /usr/local/lib/python3.10/dist-packages (from spacy<3.0.0,>=2.1.0->neuralcoref==4.0) (1.0.9)\n",
            "Requirement already satisfied: wasabi<1.1.0,>=0.4.0 in /usr/local/lib/python3.10/dist-packages (from spacy<3.0.0,>=2.1.0->neuralcoref==4.0) (0.10.1)\n",
            "Requirement already satisfied: srsly<1.1.0,>=1.0.2 in /usr/local/lib/python3.10/dist-packages (from spacy<3.0.0,>=2.1.0->neuralcoref==4.0) (1.0.6)\n",
            "Requirement already satisfied: blis<0.8.0,>=0.4.0 in /usr/local/lib/python3.10/dist-packages (from spacy<3.0.0,>=2.1.0->neuralcoref==4.0) (0.7.9)\n",
            "Requirement already satisfied: catalogue<1.1.0,>=0.0.7 in /usr/local/lib/python3.10/dist-packages (from spacy<3.0.0,>=2.1.0->neuralcoref==4.0) (1.0.2)\n",
            "Collecting s3transfer<0.7.0,>=0.6.0\n",
            "  Downloading s3transfer-0.6.1-py3-none-any.whl (79 kB)\n",
            "\u001b[2K     \u001b[90m━━━━━━━━━━━━━━━━━━━━━━━━━━━━━━━━━━━━━━━━\u001b[0m \u001b[32m79.8/79.8 kB\u001b[0m \u001b[31m9.6 MB/s\u001b[0m eta \u001b[36m0:00:00\u001b[0m\n",
            "\u001b[?25hCollecting jmespath<2.0.0,>=0.7.1\n",
            "  Downloading jmespath-1.0.1-py3-none-any.whl (20 kB)\n",
            "Collecting botocore<1.30.0,>=1.29.129\n",
            "  Downloading botocore-1.29.129-py3-none-any.whl (10.7 MB)\n",
            "\u001b[2K     \u001b[90m━━━━━━━━━━━━━━━━━━━━━━━━━━━━━━━━━━━━━━━━\u001b[0m \u001b[32m10.7/10.7 MB\u001b[0m \u001b[31m72.2 MB/s\u001b[0m eta \u001b[36m0:00:00\u001b[0m\n",
            "\u001b[?25hRequirement already satisfied: python-dateutil<3.0.0,>=2.1 in /usr/local/lib/python3.10/dist-packages (from botocore<1.30.0,>=1.29.129->boto3->neuralcoref==4.0) (2.8.2)\n",
            "Requirement already satisfied: six>=1.5 in /usr/local/lib/python3.10/dist-packages (from python-dateutil<3.0.0,>=2.1->botocore<1.30.0,>=1.29.129->boto3->neuralcoref==4.0) (1.16.0)\n",
            "Installing collected packages: jmespath, botocore, s3transfer, boto3, neuralcoref\n",
            "  Running setup.py develop for neuralcoref\n",
            "Successfully installed boto3-1.26.129 botocore-1.29.129 jmespath-1.0.1 neuralcoref-4.0 s3transfer-0.6.1\n",
            "\u001b[33mDEPRECATION: https://github.com/explosion/spacy-models/releases/download/en_core_web_sm-2.3.1/en_core_web_sm-2.3.1.tar.gz#egg=en_core_web_sm==2.3.1 contains an egg fragment with a non-PEP 508 name pip 25.0 will enforce this behaviour change. A possible replacement is to use the req @ url syntax, and remove the egg fragment. Discussion can be found at https://github.com/pypa/pip/issues/11617\u001b[0m\u001b[33m\n",
            "\u001b[0mLooking in indexes: https://pypi.org/simple, https://us-python.pkg.dev/colab-wheels/public/simple/\n",
            "Collecting en_core_web_sm==2.3.1\n",
            "  Downloading https://github.com/explosion/spacy-models/releases/download/en_core_web_sm-2.3.1/en_core_web_sm-2.3.1.tar.gz (12.0 MB)\n",
            "\u001b[2K     \u001b[90m━━━━━━━━━━━━━━━━━━━━━━━━━━━━━━━━━━━━━━━━\u001b[0m \u001b[32m12.0/12.0 MB\u001b[0m \u001b[31m53.6 MB/s\u001b[0m eta \u001b[36m0:00:00\u001b[0m\n",
            "\u001b[?25h  Preparing metadata (setup.py) ... \u001b[?25l\u001b[?25hdone\n",
            "Requirement already satisfied: spacy<2.4.0,>=2.3.0 in /usr/local/lib/python3.10/dist-packages (from en_core_web_sm==2.3.1) (2.3.9)\n",
            "Requirement already satisfied: tqdm<5.0.0,>=4.38.0 in /usr/local/lib/python3.10/dist-packages (from spacy<2.4.0,>=2.3.0->en_core_web_sm==2.3.1) (4.65.0)\n",
            "Requirement already satisfied: thinc<7.5.0,>=7.4.1 in /usr/local/lib/python3.10/dist-packages (from spacy<2.4.0,>=2.3.0->en_core_web_sm==2.3.1) (7.4.6)\n",
            "Requirement already satisfied: murmurhash<1.1.0,>=0.28.0 in /usr/local/lib/python3.10/dist-packages (from spacy<2.4.0,>=2.3.0->en_core_web_sm==2.3.1) (1.0.9)\n",
            "Requirement already satisfied: blis<0.8.0,>=0.4.0 in /usr/local/lib/python3.10/dist-packages (from spacy<2.4.0,>=2.3.0->en_core_web_sm==2.3.1) (0.7.9)\n",
            "Requirement already satisfied: requests<3.0.0,>=2.13.0 in /usr/local/lib/python3.10/dist-packages (from spacy<2.4.0,>=2.3.0->en_core_web_sm==2.3.1) (2.27.1)\n",
            "Requirement already satisfied: catalogue<1.1.0,>=0.0.7 in /usr/local/lib/python3.10/dist-packages (from spacy<2.4.0,>=2.3.0->en_core_web_sm==2.3.1) (1.0.2)\n",
            "Requirement already satisfied: preshed<3.1.0,>=3.0.2 in /usr/local/lib/python3.10/dist-packages (from spacy<2.4.0,>=2.3.0->en_core_web_sm==2.3.1) (3.0.8)\n",
            "Requirement already satisfied: cymem<2.1.0,>=2.0.2 in /usr/local/lib/python3.10/dist-packages (from spacy<2.4.0,>=2.3.0->en_core_web_sm==2.3.1) (2.0.7)\n",
            "Requirement already satisfied: numpy>=1.15.0 in /usr/local/lib/python3.10/dist-packages (from spacy<2.4.0,>=2.3.0->en_core_web_sm==2.3.1) (1.24.3)\n",
            "Requirement already satisfied: wasabi<1.1.0,>=0.4.0 in /usr/local/lib/python3.10/dist-packages (from spacy<2.4.0,>=2.3.0->en_core_web_sm==2.3.1) (0.10.1)\n",
            "Requirement already satisfied: setuptools in /usr/local/lib/python3.10/dist-packages (from spacy<2.4.0,>=2.3.0->en_core_web_sm==2.3.1) (67.7.2)\n",
            "Requirement already satisfied: plac<1.2.0,>=0.9.6 in /usr/local/lib/python3.10/dist-packages (from spacy<2.4.0,>=2.3.0->en_core_web_sm==2.3.1) (1.1.3)\n",
            "Requirement already satisfied: srsly<1.1.0,>=1.0.2 in /usr/local/lib/python3.10/dist-packages (from spacy<2.4.0,>=2.3.0->en_core_web_sm==2.3.1) (1.0.6)\n",
            "Requirement already satisfied: idna<4,>=2.5 in /usr/local/lib/python3.10/dist-packages (from requests<3.0.0,>=2.13.0->spacy<2.4.0,>=2.3.0->en_core_web_sm==2.3.1) (3.4)\n",
            "Requirement already satisfied: urllib3<1.27,>=1.21.1 in /usr/local/lib/python3.10/dist-packages (from requests<3.0.0,>=2.13.0->spacy<2.4.0,>=2.3.0->en_core_web_sm==2.3.1) (1.26.15)\n",
            "Requirement already satisfied: certifi>=2017.4.17 in /usr/local/lib/python3.10/dist-packages (from requests<3.0.0,>=2.13.0->spacy<2.4.0,>=2.3.0->en_core_web_sm==2.3.1) (2022.12.7)\n",
            "Requirement already satisfied: charset-normalizer~=2.0.0 in /usr/local/lib/python3.10/dist-packages (from requests<3.0.0,>=2.13.0->spacy<2.4.0,>=2.3.0->en_core_web_sm==2.3.1) (2.0.12)\n",
            "Building wheels for collected packages: en_core_web_sm\n",
            "  Building wheel for en_core_web_sm (setup.py) ... \u001b[?25l\u001b[?25hdone\n",
            "  Created wheel for en_core_web_sm: filename=en_core_web_sm-2.3.1-py3-none-any.whl size=12047102 sha256=34524e026e2ec6ecdb716e4472d593ab8358a55fb6898bd50d5c4f8131aae901\n",
            "  Stored in directory: /root/.cache/pip/wheels/4f/1f/0e/16fae4b01d2d87454e0f484e58c48793efcf237f0894c1c4bd\n",
            "Successfully built en_core_web_sm\n",
            "Installing collected packages: en_core_web_sm\n",
            "  Attempting uninstall: en_core_web_sm\n",
            "    Found existing installation: en-core-web-sm 3.5.0\n",
            "    Uninstalling en-core-web-sm-3.5.0:\n",
            "      Successfully uninstalled en-core-web-sm-3.5.0\n",
            "Successfully installed en_core_web_sm-2.3.1\n",
            "\u001b[38;5;2m✔ Download and installation successful\u001b[0m\n",
            "You can now load the model via spacy.load('en_core_web_sm')\n",
            "\u001b[33mDEPRECATION: --no-binary currently disables reading from the cache of locally built wheels. In the future --no-binary will not influence the wheel cache. pip 23.1 will enforce this behaviour change. A possible replacement is to use the --no-cache-dir option. You can use the flag --use-feature=no-binary-enable-wheel-cache to test the upcoming behaviour. Discussion can be found at https://github.com/pypa/pip/issues/11453\u001b[0m\u001b[33m\n",
            "\u001b[0mLooking in indexes: https://pypi.org/simple, https://us-python.pkg.dev/colab-wheels/public/simple/\n",
            "Requirement already satisfied: neuralcoref in /content/neuralcoref (4.0)\n",
            "Requirement already satisfied: numpy>=1.15.0 in /usr/local/lib/python3.10/dist-packages (from neuralcoref) (1.24.3)\n",
            "Requirement already satisfied: boto3 in /usr/local/lib/python3.10/dist-packages (from neuralcoref) (1.26.129)\n",
            "Requirement already satisfied: requests<3.0.0,>=2.13.0 in /usr/local/lib/python3.10/dist-packages (from neuralcoref) (2.27.1)\n",
            "Requirement already satisfied: spacy<3.0.0,>=2.1.0 in /usr/local/lib/python3.10/dist-packages (from neuralcoref) (2.3.9)\n",
            "Requirement already satisfied: certifi>=2017.4.17 in /usr/local/lib/python3.10/dist-packages (from requests<3.0.0,>=2.13.0->neuralcoref) (2022.12.7)\n",
            "Requirement already satisfied: urllib3<1.27,>=1.21.1 in /usr/local/lib/python3.10/dist-packages (from requests<3.0.0,>=2.13.0->neuralcoref) (1.26.15)\n",
            "Requirement already satisfied: idna<4,>=2.5 in /usr/local/lib/python3.10/dist-packages (from requests<3.0.0,>=2.13.0->neuralcoref) (3.4)\n",
            "Requirement already satisfied: charset-normalizer~=2.0.0 in /usr/local/lib/python3.10/dist-packages (from requests<3.0.0,>=2.13.0->neuralcoref) (2.0.12)\n",
            "Requirement already satisfied: blis<0.8.0,>=0.4.0 in /usr/local/lib/python3.10/dist-packages (from spacy<3.0.0,>=2.1.0->neuralcoref) (0.7.9)\n",
            "Requirement already satisfied: tqdm<5.0.0,>=4.38.0 in /usr/local/lib/python3.10/dist-packages (from spacy<3.0.0,>=2.1.0->neuralcoref) (4.65.0)\n",
            "Requirement already satisfied: cymem<2.1.0,>=2.0.2 in /usr/local/lib/python3.10/dist-packages (from spacy<3.0.0,>=2.1.0->neuralcoref) (2.0.7)\n",
            "Requirement already satisfied: wasabi<1.1.0,>=0.4.0 in /usr/local/lib/python3.10/dist-packages (from spacy<3.0.0,>=2.1.0->neuralcoref) (0.10.1)\n",
            "Requirement already satisfied: plac<1.2.0,>=0.9.6 in /usr/local/lib/python3.10/dist-packages (from spacy<3.0.0,>=2.1.0->neuralcoref) (1.1.3)\n",
            "Requirement already satisfied: thinc<7.5.0,>=7.4.1 in /usr/local/lib/python3.10/dist-packages (from spacy<3.0.0,>=2.1.0->neuralcoref) (7.4.6)\n",
            "Requirement already satisfied: setuptools in /usr/local/lib/python3.10/dist-packages (from spacy<3.0.0,>=2.1.0->neuralcoref) (67.7.2)\n",
            "Requirement already satisfied: murmurhash<1.1.0,>=0.28.0 in /usr/local/lib/python3.10/dist-packages (from spacy<3.0.0,>=2.1.0->neuralcoref) (1.0.9)\n",
            "Requirement already satisfied: catalogue<1.1.0,>=0.0.7 in /usr/local/lib/python3.10/dist-packages (from spacy<3.0.0,>=2.1.0->neuralcoref) (1.0.2)\n",
            "Requirement already satisfied: srsly<1.1.0,>=1.0.2 in /usr/local/lib/python3.10/dist-packages (from spacy<3.0.0,>=2.1.0->neuralcoref) (1.0.6)\n",
            "Requirement already satisfied: preshed<3.1.0,>=3.0.2 in /usr/local/lib/python3.10/dist-packages (from spacy<3.0.0,>=2.1.0->neuralcoref) (3.0.8)\n",
            "Requirement already satisfied: botocore<1.30.0,>=1.29.129 in /usr/local/lib/python3.10/dist-packages (from boto3->neuralcoref) (1.29.129)\n",
            "Requirement already satisfied: jmespath<2.0.0,>=0.7.1 in /usr/local/lib/python3.10/dist-packages (from boto3->neuralcoref) (1.0.1)\n",
            "Requirement already satisfied: s3transfer<0.7.0,>=0.6.0 in /usr/local/lib/python3.10/dist-packages (from boto3->neuralcoref) (0.6.1)\n",
            "Requirement already satisfied: python-dateutil<3.0.0,>=2.1 in /usr/local/lib/python3.10/dist-packages (from botocore<1.30.0,>=1.29.129->boto3->neuralcoref) (2.8.2)\n",
            "Requirement already satisfied: six>=1.5 in /usr/local/lib/python3.10/dist-packages (from python-dateutil<3.0.0,>=2.1->botocore<1.30.0,>=1.29.129->boto3->neuralcoref) (1.16.0)\n"
          ]
        }
      ],
      "source": [
        "!git clone https://github.com/huggingface/neuralcoref.git\n",
        "%cd neuralcoref/\n",
        "!pip install -r requirements.txt\n",
        "!pip install -e .\n",
        "!python -m spacy download en_core_web_sm\n",
        "!pip install neuralcoref --no-binary neuralcoref"
      ]
    },
    {
      "cell_type": "code",
      "execution_count": null,
      "metadata": {
        "colab": {
          "base_uri": "https://localhost:8080/"
        },
        "id": "wWSWEa6fzslV",
        "outputId": "08fe8e77-9695-4aed-e496-b78a36d56e3c"
      },
      "outputs": [
        {
          "output_type": "stream",
          "name": "stderr",
          "text": [
            "100%|██████████| 40155833/40155833 [00:00<00:00, 53396862.17B/s]\n"
          ]
        },
        {
          "output_type": "execute_result",
          "data": {
            "text/plain": [
              "<spacy.lang.en.English at 0x7febca0f3a00>"
            ]
          },
          "metadata": {},
          "execution_count": 2
        }
      ],
      "source": [
        "import spacy\n",
        "import neuralcoref\n",
        "nlp = spacy.load('en_core_web_sm')\n",
        "neuralcoref.add_to_pipe(nlp)"
      ]
    },
    {
      "cell_type": "code",
      "execution_count": null,
      "metadata": {
        "colab": {
          "base_uri": "https://localhost:8080/"
        },
        "id": "9vnZtY76zuBl",
        "outputId": "ed1cc583-d2d0-4919-82e1-79dfc6e3509a"
      },
      "outputs": [
        {
          "output_type": "execute_result",
          "data": {
            "text/plain": [
              "<spacy.lang.en.English at 0x7febca138ee0>"
            ]
          },
          "metadata": {},
          "execution_count": 3
        }
      ],
      "source": [
        "nlp = spacy.load('en_core_web_sm')\n",
        "neuralcoref.add_to_pipe(nlp)"
      ]
    },
    {
      "cell_type": "code",
      "execution_count": null,
      "metadata": {
        "id": "reZ2vYBc0GIM"
      },
      "outputs": [],
      "source": [
        "text = \"Eva and Martha didn't want their friend Jenny to feel lonely so they invited her to the party in Las Vegas.\"\n",
        "doc = nlp(text)"
      ]
    },
    {
      "cell_type": "code",
      "execution_count": null,
      "metadata": {
        "colab": {
          "base_uri": "https://localhost:8080/"
        },
        "id": "7l7DR5wI0Hqx",
        "outputId": "88733803-1127-4bdf-df09-5166dc093871"
      },
      "outputs": [
        {
          "output_type": "execute_result",
          "data": {
            "text/plain": [
              "Eva and Martha didn't want their friend Jenny to feel lonely so they invited her to the party in Las Vegas."
            ]
          },
          "metadata": {},
          "execution_count": 5
        }
      ],
      "source": [
        "doc"
      ]
    },
    {
      "cell_type": "code",
      "execution_count": null,
      "metadata": {
        "colab": {
          "base_uri": "https://localhost:8080/"
        },
        "id": "Kfv0QqUI0I-_",
        "outputId": "404b2a0c-eaf0-43d8-f5d1-163bcfe6ce19"
      },
      "outputs": [
        {
          "output_type": "execute_result",
          "data": {
            "text/plain": [
              "[Eva and Martha: [Eva and Martha, their, they], Jenny: [Jenny, her]]"
            ]
          },
          "metadata": {},
          "execution_count": 6
        }
      ],
      "source": [
        "clusters = doc._.coref_clusters\n",
        "clusters"
      ]
    },
    {
      "cell_type": "code",
      "execution_count": null,
      "metadata": {
        "colab": {
          "base_uri": "https://localhost:8080/",
          "height": 35
        },
        "id": "mB5GvW-20Jpw",
        "outputId": "21456b53-6d1f-4f73-a26b-c7eb99685afa"
      },
      "outputs": [
        {
          "output_type": "execute_result",
          "data": {
            "text/plain": [
              "\"Eva and Martha didn't want Eva and Martha friend Jenny to feel lonely so Eva and Martha invited Jenny to the party in Las Vegas.\""
            ],
            "application/vnd.google.colaboratory.intrinsic+json": {
              "type": "string"
            }
          },
          "metadata": {},
          "execution_count": 7
        }
      ],
      "source": [
        "doc._.coref_resolved"
      ]
    },
    {
      "cell_type": "code",
      "execution_count": null,
      "metadata": {
        "colab": {
          "base_uri": "https://localhost:8080/",
          "height": 1000,
          "referenced_widgets": [
            "08e6d6deb05447a1b75254e7c6726446",
            "3a0ee9fc589f415799dc2b46cd71fb7b",
            "7a87b3c7779f46fdab895dd8154bd0f7",
            "6173799324304b368c86d2b8b405031d",
            "e3afcc45795e42cc9e31f7d4069dff59",
            "c37ca855984f4c9f95dcad8f20edec5d",
            "62df7ffee0714f09aee92b6996ae21a1",
            "c01fe4b9bacd43d6bd99d88620bbc665",
            "6d269b499b8a4699aacfb238f0658060",
            "cc0574bec2e64610bc2902721e460540",
            "66879886295549238848beb9dabd4179",
            "398fd26242074ac88b15f2192dbca04c",
            "289b7eb77fe04ee8bc7ad3e52c38ebb7",
            "243c71a4ceec457c8f7bddc303039c60",
            "87d2cb2884694a11b992c53a542bdd24",
            "ded65f7b5c034b13a71c4b85fc714655",
            "a511ba6ac4964c8198bb950f973d5ccf",
            "812c214d6ab044e2b02237d0c9a13f15",
            "54520d40a72d4d339323d2524759c9de",
            "093742f731ef4b448b1a54fdd98f6336",
            "a47f288a913341c68fe84c5180ccd96c",
            "8d0aca295cb546ee82ae2c0b3f96d410",
            "f0517602eb4648b38b613b2ea7561a37",
            "afaf9e0181dd4af2832fbf7d2c854393",
            "a35673d789bb49af9cc0a6d5634fc0b5",
            "bdfe8ad64bff495ca9c3f7d73f0ca0d1",
            "f25ec80656b14a0896c6ae5b5fa19de4",
            "9bc57ae48e384498b2da05049676e264",
            "6c94b055475e4945abbe83d57e33ce88",
            "8e0ed0dc12b24628b48796a1ec00d6fc",
            "f9ba533b967748b98893809a7ad47a90",
            "adc74b642334481994854e11de0fae50",
            "78459cc9f55a4afa82bab0ac59a11b61",
            "453ec984d57f4699a4b915b787ada677",
            "82c631701a684700b3c668b5f51dcec3"
          ]
        },
        "id": "jMrzdxls06oF",
        "outputId": "c112fb01-0eca-4181-d145-9e1ee0b47cfa"
      },
      "outputs": [
        {
          "output_type": "stream",
          "name": "stdout",
          "text": [
            "Looking in indexes: https://pypi.org/simple, https://us-python.pkg.dev/colab-wheels/public/simple/\n",
            "Collecting allennlp\n",
            "  Downloading allennlp-2.10.1-py3-none-any.whl (730 kB)\n",
            "\u001b[2K     \u001b[90m━━━━━━━━━━━━━━━━━━━━━━━━━━━━━━━━━━━━━━\u001b[0m \u001b[32m730.2/730.2 kB\u001b[0m \u001b[31m13.6 MB/s\u001b[0m eta \u001b[36m0:00:00\u001b[0m\n",
            "\u001b[?25hRequirement already satisfied: nltk>=3.6.5 in /usr/local/lib/python3.10/dist-packages (from allennlp) (3.8.1)\n",
            "Collecting base58>=2.1.1\n",
            "  Downloading base58-2.1.1-py3-none-any.whl (5.6 kB)\n",
            "Collecting cached-path<1.2.0,>=1.1.3\n",
            "  Downloading cached_path-1.1.6-py3-none-any.whl (26 kB)\n",
            "Collecting lmdb>=1.2.1\n",
            "  Downloading lmdb-1.4.1-cp310-cp310-manylinux_2_17_x86_64.manylinux2014_x86_64.whl (299 kB)\n",
            "\u001b[2K     \u001b[90m━━━━━━━━━━━━━━━━━━━━━━━━━━━━━━━━━━━━━━\u001b[0m \u001b[32m299.2/299.2 kB\u001b[0m \u001b[31m25.8 MB/s\u001b[0m eta \u001b[36m0:00:00\u001b[0m\n",
            "\u001b[?25hRequirement already satisfied: traitlets>5.1.1 in /usr/local/lib/python3.10/dist-packages (from allennlp) (5.7.1)\n",
            "Collecting dill>=0.3.4\n",
            "  Downloading dill-0.3.6-py3-none-any.whl (110 kB)\n",
            "\u001b[2K     \u001b[90m━━━━━━━━━━━━━━━━━━━━━━━━━━━━━━━━━━━━━━\u001b[0m \u001b[32m110.5/110.5 kB\u001b[0m \u001b[31m12.7 MB/s\u001b[0m eta \u001b[36m0:00:00\u001b[0m\n",
            "\u001b[?25hRequirement already satisfied: numpy>=1.21.4 in /usr/local/lib/python3.10/dist-packages (from allennlp) (1.24.3)\n",
            "Requirement already satisfied: more-itertools>=8.12.0 in /usr/local/lib/python3.10/dist-packages (from allennlp) (9.1.0)\n",
            "Collecting tensorboardX>=1.2\n",
            "  Downloading tensorboardX-2.6-py2.py3-none-any.whl (114 kB)\n",
            "\u001b[2K     \u001b[90m━━━━━━━━━━━━━━━━━━━━━━━━━━━━━━━━━━━━━━\u001b[0m \u001b[32m114.5/114.5 kB\u001b[0m \u001b[31m11.0 MB/s\u001b[0m eta \u001b[36m0:00:00\u001b[0m\n",
            "\u001b[?25hCollecting huggingface-hub>=0.0.16\n",
            "  Downloading huggingface_hub-0.14.1-py3-none-any.whl (224 kB)\n",
            "\u001b[2K     \u001b[90m━━━━━━━━━━━━━━━━━━━━━━━━━━━━━━━━━━━━━━\u001b[0m \u001b[32m224.5/224.5 kB\u001b[0m \u001b[31m21.7 MB/s\u001b[0m eta \u001b[36m0:00:00\u001b[0m\n",
            "\u001b[?25hCollecting filelock<3.8,>=3.3\n",
            "  Downloading filelock-3.7.1-py3-none-any.whl (10 kB)\n",
            "Collecting sacremoses\n",
            "  Downloading sacremoses-0.0.53.tar.gz (880 kB)\n",
            "\u001b[2K     \u001b[90m━━━━━━━━━━━━━━━━━━━━━━━━━━━━━━━━━━━━━━\u001b[0m \u001b[32m880.6/880.6 kB\u001b[0m \u001b[31m36.8 MB/s\u001b[0m eta \u001b[36m0:00:00\u001b[0m\n",
            "\u001b[?25h  Preparing metadata (setup.py) ... \u001b[?25l\u001b[?25hdone\n",
            "Collecting fairscale==0.4.6\n",
            "  Downloading fairscale-0.4.6.tar.gz (248 kB)\n",
            "\u001b[2K     \u001b[90m━━━━━━━━━━━━━━━━━━━━━━━━━━━━━━━━━━━━━━\u001b[0m \u001b[32m248.2/248.2 kB\u001b[0m \u001b[31m21.3 MB/s\u001b[0m eta \u001b[36m0:00:00\u001b[0m\n",
            "\u001b[?25h  Installing build dependencies ... \u001b[?25l\u001b[?25hdone\n",
            "  Getting requirements to build wheel ... \u001b[?25l\u001b[?25hdone\n",
            "  Installing backend dependencies ... \u001b[?25l\u001b[?25hdone\n",
            "  Preparing metadata (pyproject.toml) ... \u001b[?25l\u001b[?25hdone\n",
            "Collecting requests>=2.28\n",
            "  Downloading requests-2.30.0-py3-none-any.whl (62 kB)\n",
            "\u001b[2K     \u001b[90m━━━━━━━━━━━━━━━━━━━━━━━━━━━━━━━━━━━━━━━━\u001b[0m \u001b[32m62.5/62.5 kB\u001b[0m \u001b[31m6.5 MB/s\u001b[0m eta \u001b[36m0:00:00\u001b[0m\n",
            "\u001b[?25hRequirement already satisfied: h5py>=3.6.0 in /usr/local/lib/python3.10/dist-packages (from allennlp) (3.8.0)\n",
            "Collecting wandb<0.13.0,>=0.10.0\n",
            "  Downloading wandb-0.12.21-py2.py3-none-any.whl (1.8 MB)\n",
            "\u001b[2K     \u001b[90m━━━━━━━━━━━━━━━━━━━━━━━━━━━━━━━━━━━━━━━━\u001b[0m \u001b[32m1.8/1.8 MB\u001b[0m \u001b[31m17.6 MB/s\u001b[0m eta \u001b[36m0:00:00\u001b[0m\n",
            "\u001b[?25hRequirement already satisfied: scipy>=1.7.3 in /usr/local/lib/python3.10/dist-packages (from allennlp) (1.10.1)\n",
            "Requirement already satisfied: spacy<3.4,>=2.1.0 in /usr/local/lib/python3.10/dist-packages (from allennlp) (2.3.9)\n",
            "Requirement already satisfied: scikit-learn>=1.0.1 in /usr/local/lib/python3.10/dist-packages (from allennlp) (1.2.2)\n",
            "Collecting termcolor==1.1.0\n",
            "  Downloading termcolor-1.1.0.tar.gz (3.9 kB)\n",
            "  Preparing metadata (setup.py) ... \u001b[?25l\u001b[?25hdone\n",
            "Collecting torchvision<0.14.0,>=0.8.1\n",
            "  Downloading torchvision-0.13.1-cp310-cp310-manylinux1_x86_64.whl (19.1 MB)\n",
            "\u001b[2K     \u001b[90m━━━━━━━━━━━━━━━━━━━━━━━━━━━━━━━━━━━━━━━━\u001b[0m \u001b[32m19.1/19.1 MB\u001b[0m \u001b[31m17.8 MB/s\u001b[0m eta \u001b[36m0:00:00\u001b[0m\n",
            "\u001b[?25hCollecting jsonnet>=0.10.0\n",
            "  Downloading jsonnet-0.20.0.tar.gz (594 kB)\n",
            "\u001b[2K     \u001b[90m━━━━━━━━━━━━━━━━━━━━━━━━━━━━━━━━━━━━━━\u001b[0m \u001b[32m594.2/594.2 kB\u001b[0m \u001b[31m29.9 MB/s\u001b[0m eta \u001b[36m0:00:00\u001b[0m\n",
            "\u001b[?25h  Preparing metadata (setup.py) ... \u001b[?25l\u001b[?25hdone\n",
            "Requirement already satisfied: typer>=0.4.1 in /usr/local/lib/python3.10/dist-packages (from allennlp) (0.7.0)\n",
            "Collecting torch<1.13.0,>=1.10.0\n",
            "  Downloading torch-1.12.1-cp310-cp310-manylinux1_x86_64.whl (776.3 MB)\n",
            "\u001b[2K     \u001b[90m━━━━━━━━━━━━━━━━━━━━━━━━━━━━━━━━━━━━━━━\u001b[0m \u001b[32m776.3/776.3 MB\u001b[0m \u001b[31m1.9 MB/s\u001b[0m eta \u001b[36m0:00:00\u001b[0m\n",
            "\u001b[?25hRequirement already satisfied: pytest>=6.2.5 in /usr/local/lib/python3.10/dist-packages (from allennlp) (7.2.2)\n",
            "Requirement already satisfied: protobuf<4.0.0,>=3.12.0 in /usr/local/lib/python3.10/dist-packages (from allennlp) (3.20.3)\n",
            "Collecting sentencepiece>=0.1.96\n",
            "  Downloading sentencepiece-0.1.99-cp310-cp310-manylinux_2_17_x86_64.manylinux2014_x86_64.whl (1.3 MB)\n",
            "\u001b[2K     \u001b[90m━━━━━━━━━━━━━━━━━━━━━━━━━━━━━━━━━━━━━━━━\u001b[0m \u001b[32m1.3/1.3 MB\u001b[0m \u001b[31m52.1 MB/s\u001b[0m eta \u001b[36m0:00:00\u001b[0m\n",
            "\u001b[?25hRequirement already satisfied: tqdm>=4.62 in /usr/local/lib/python3.10/dist-packages (from allennlp) (4.65.0)\n",
            "Collecting transformers<4.21,>=4.1\n",
            "  Downloading transformers-4.20.1-py3-none-any.whl (4.4 MB)\n",
            "\u001b[2K     \u001b[90m━━━━━━━━━━━━━━━━━━━━━━━━━━━━━━━━━━━━━━━━\u001b[0m \u001b[32m4.4/4.4 MB\u001b[0m \u001b[31m60.4 MB/s\u001b[0m eta \u001b[36m0:00:00\u001b[0m\n",
            "\u001b[?25hRequirement already satisfied: google-cloud-storage<3.0,>=1.32.0 in /usr/local/lib/python3.10/dist-packages (from cached-path<1.2.0,>=1.1.3->allennlp) (2.8.0)\n",
            "Requirement already satisfied: boto3<2.0,>=1.0 in /usr/local/lib/python3.10/dist-packages (from cached-path<1.2.0,>=1.1.3->allennlp) (1.26.129)\n",
            "Collecting rich<13.0,>=12.1\n",
            "  Downloading rich-12.6.0-py3-none-any.whl (237 kB)\n",
            "\u001b[2K     \u001b[90m━━━━━━━━━━━━━━━━━━━━━━━━━━━━━━━━━━━━━━\u001b[0m \u001b[32m237.5/237.5 kB\u001b[0m \u001b[31m21.3 MB/s\u001b[0m eta \u001b[36m0:00:00\u001b[0m\n",
            "\u001b[?25hCollecting huggingface-hub>=0.0.16\n",
            "  Downloading huggingface_hub-0.10.1-py3-none-any.whl (163 kB)\n",
            "\u001b[2K     \u001b[90m━━━━━━━━━━━━━━━━━━━━━━━━━━━━━━━━━━━━━━\u001b[0m \u001b[32m163.5/163.5 kB\u001b[0m \u001b[31m11.0 MB/s\u001b[0m eta \u001b[36m0:00:00\u001b[0m\n",
            "\u001b[?25hRequirement already satisfied: pyyaml>=5.1 in /usr/local/lib/python3.10/dist-packages (from huggingface-hub>=0.0.16->allennlp) (6.0)\n",
            "Requirement already satisfied: typing-extensions>=3.7.4.3 in /usr/local/lib/python3.10/dist-packages (from huggingface-hub>=0.0.16->allennlp) (4.5.0)\n",
            "Requirement already satisfied: packaging>=20.9 in /usr/local/lib/python3.10/dist-packages (from huggingface-hub>=0.0.16->allennlp) (23.1)\n",
            "Requirement already satisfied: joblib in /usr/local/lib/python3.10/dist-packages (from nltk>=3.6.5->allennlp) (1.2.0)\n",
            "Requirement already satisfied: click in /usr/local/lib/python3.10/dist-packages (from nltk>=3.6.5->allennlp) (8.1.3)\n",
            "Requirement already satisfied: regex>=2021.8.3 in /usr/local/lib/python3.10/dist-packages (from nltk>=3.6.5->allennlp) (2022.10.31)\n",
            "Requirement already satisfied: pluggy<2.0,>=0.12 in /usr/local/lib/python3.10/dist-packages (from pytest>=6.2.5->allennlp) (1.0.0)\n",
            "Requirement already satisfied: attrs>=19.2.0 in /usr/local/lib/python3.10/dist-packages (from pytest>=6.2.5->allennlp) (23.1.0)\n",
            "Requirement already satisfied: iniconfig in /usr/local/lib/python3.10/dist-packages (from pytest>=6.2.5->allennlp) (2.0.0)\n",
            "Requirement already satisfied: exceptiongroup>=1.0.0rc8 in /usr/local/lib/python3.10/dist-packages (from pytest>=6.2.5->allennlp) (1.1.1)\n",
            "Requirement already satisfied: tomli>=1.0.0 in /usr/local/lib/python3.10/dist-packages (from pytest>=6.2.5->allennlp) (2.0.1)\n",
            "Requirement already satisfied: urllib3<3,>=1.21.1 in /usr/local/lib/python3.10/dist-packages (from requests>=2.28->allennlp) (1.26.15)\n",
            "Requirement already satisfied: certifi>=2017.4.17 in /usr/local/lib/python3.10/dist-packages (from requests>=2.28->allennlp) (2022.12.7)\n",
            "Requirement already satisfied: idna<4,>=2.5 in /usr/local/lib/python3.10/dist-packages (from requests>=2.28->allennlp) (3.4)\n",
            "Requirement already satisfied: charset-normalizer<4,>=2 in /usr/local/lib/python3.10/dist-packages (from requests>=2.28->allennlp) (2.0.12)\n",
            "Requirement already satisfied: threadpoolctl>=2.0.0 in /usr/local/lib/python3.10/dist-packages (from scikit-learn>=1.0.1->allennlp) (3.1.0)\n",
            "Requirement already satisfied: wasabi<1.1.0,>=0.4.0 in /usr/local/lib/python3.10/dist-packages (from spacy<3.4,>=2.1.0->allennlp) (0.10.1)\n",
            "Requirement already satisfied: murmurhash<1.1.0,>=0.28.0 in /usr/local/lib/python3.10/dist-packages (from spacy<3.4,>=2.1.0->allennlp) (1.0.9)\n",
            "Requirement already satisfied: plac<1.2.0,>=0.9.6 in /usr/local/lib/python3.10/dist-packages (from spacy<3.4,>=2.1.0->allennlp) (1.1.3)\n",
            "Requirement already satisfied: srsly<1.1.0,>=1.0.2 in /usr/local/lib/python3.10/dist-packages (from spacy<3.4,>=2.1.0->allennlp) (1.0.6)\n",
            "Requirement already satisfied: catalogue<1.1.0,>=0.0.7 in /usr/local/lib/python3.10/dist-packages (from spacy<3.4,>=2.1.0->allennlp) (1.0.2)\n",
            "Requirement already satisfied: blis<0.8.0,>=0.4.0 in /usr/local/lib/python3.10/dist-packages (from spacy<3.4,>=2.1.0->allennlp) (0.7.9)\n",
            "Requirement already satisfied: setuptools in /usr/local/lib/python3.10/dist-packages (from spacy<3.4,>=2.1.0->allennlp) (67.7.2)\n",
            "Requirement already satisfied: cymem<2.1.0,>=2.0.2 in /usr/local/lib/python3.10/dist-packages (from spacy<3.4,>=2.1.0->allennlp) (2.0.7)\n",
            "Requirement already satisfied: preshed<3.1.0,>=3.0.2 in /usr/local/lib/python3.10/dist-packages (from spacy<3.4,>=2.1.0->allennlp) (3.0.8)\n",
            "Requirement already satisfied: thinc<7.5.0,>=7.4.1 in /usr/local/lib/python3.10/dist-packages (from spacy<3.4,>=2.1.0->allennlp) (7.4.6)\n",
            "Requirement already satisfied: pillow!=8.3.*,>=5.3.0 in /usr/local/lib/python3.10/dist-packages (from torchvision<0.14.0,>=0.8.1->allennlp) (8.4.0)\n",
            "Collecting tokenizers!=0.11.3,<0.13,>=0.11.1\n",
            "  Downloading tokenizers-0.12.1-cp310-cp310-manylinux_2_12_x86_64.manylinux2010_x86_64.whl (6.6 MB)\n",
            "\u001b[2K     \u001b[90m━━━━━━━━━━━━━━━━━━━━━━━━━━━━━━━━━━━━━━━━\u001b[0m \u001b[32m6.6/6.6 MB\u001b[0m \u001b[31m61.6 MB/s\u001b[0m eta \u001b[36m0:00:00\u001b[0m\n",
            "\u001b[?25hRequirement already satisfied: six>=1.13.0 in /usr/local/lib/python3.10/dist-packages (from wandb<0.13.0,>=0.10.0->allennlp) (1.16.0)\n",
            "Requirement already satisfied: promise<3,>=2.0 in /usr/local/lib/python3.10/dist-packages (from wandb<0.13.0,>=0.10.0->allennlp) (2.3)\n",
            "Collecting docker-pycreds>=0.4.0\n",
            "  Downloading docker_pycreds-0.4.0-py2.py3-none-any.whl (9.0 kB)\n",
            "Collecting setproctitle\n",
            "  Downloading setproctitle-1.3.2-cp310-cp310-manylinux_2_5_x86_64.manylinux1_x86_64.manylinux_2_17_x86_64.manylinux2014_x86_64.whl (30 kB)\n",
            "Collecting GitPython>=1.0.0\n",
            "  Downloading GitPython-3.1.31-py3-none-any.whl (184 kB)\n",
            "\u001b[2K     \u001b[90m━━━━━━━━━━━━━━━━━━━━━━━━━━━━━━━━━━━━━━\u001b[0m \u001b[32m184.3/184.3 kB\u001b[0m \u001b[31m16.9 MB/s\u001b[0m eta \u001b[36m0:00:00\u001b[0m\n",
            "\u001b[?25hRequirement already satisfied: psutil>=5.0.0 in /usr/local/lib/python3.10/dist-packages (from wandb<0.13.0,>=0.10.0->allennlp) (5.9.5)\n",
            "Collecting pathtools\n",
            "  Downloading pathtools-0.1.2.tar.gz (11 kB)\n",
            "  Preparing metadata (setup.py) ... \u001b[?25l\u001b[?25hdone\n",
            "Collecting sentry-sdk>=1.0.0\n",
            "  Downloading sentry_sdk-1.22.1-py2.py3-none-any.whl (203 kB)\n",
            "\u001b[2K     \u001b[90m━━━━━━━━━━━━━━━━━━━━━━━━━━━━━━━━━━━━━━\u001b[0m \u001b[32m203.1/203.1 kB\u001b[0m \u001b[31m19.2 MB/s\u001b[0m eta \u001b[36m0:00:00\u001b[0m\n",
            "\u001b[?25hCollecting shortuuid>=0.5.0\n",
            "  Downloading shortuuid-1.0.11-py3-none-any.whl (10 kB)\n",
            "Requirement already satisfied: botocore<1.30.0,>=1.29.129 in /usr/local/lib/python3.10/dist-packages (from boto3<2.0,>=1.0->cached-path<1.2.0,>=1.1.3->allennlp) (1.29.129)\n",
            "Requirement already satisfied: s3transfer<0.7.0,>=0.6.0 in /usr/local/lib/python3.10/dist-packages (from boto3<2.0,>=1.0->cached-path<1.2.0,>=1.1.3->allennlp) (0.6.1)\n",
            "Requirement already satisfied: jmespath<2.0.0,>=0.7.1 in /usr/local/lib/python3.10/dist-packages (from boto3<2.0,>=1.0->cached-path<1.2.0,>=1.1.3->allennlp) (1.0.1)\n",
            "Collecting gitdb<5,>=4.0.1\n",
            "  Downloading gitdb-4.0.10-py3-none-any.whl (62 kB)\n",
            "\u001b[2K     \u001b[90m━━━━━━━━━━━━━━━━━━━━━━━━━━━━━━━━━━━━━━━━\u001b[0m \u001b[32m62.7/62.7 kB\u001b[0m \u001b[31m5.8 MB/s\u001b[0m eta \u001b[36m0:00:00\u001b[0m\n",
            "\u001b[?25hRequirement already satisfied: google-api-core!=2.0.*,!=2.1.*,!=2.2.*,!=2.3.0,<3.0.0dev,>=1.31.5 in /usr/local/lib/python3.10/dist-packages (from google-cloud-storage<3.0,>=1.32.0->cached-path<1.2.0,>=1.1.3->allennlp) (2.11.0)\n",
            "Requirement already satisfied: google-cloud-core<3.0dev,>=2.3.0 in /usr/local/lib/python3.10/dist-packages (from google-cloud-storage<3.0,>=1.32.0->cached-path<1.2.0,>=1.1.3->allennlp) (2.3.2)\n",
            "Requirement already satisfied: google-auth<3.0dev,>=1.25.0 in /usr/local/lib/python3.10/dist-packages (from google-cloud-storage<3.0,>=1.32.0->cached-path<1.2.0,>=1.1.3->allennlp) (2.17.3)\n",
            "Requirement already satisfied: google-resumable-media>=2.3.2 in /usr/local/lib/python3.10/dist-packages (from google-cloud-storage<3.0,>=1.32.0->cached-path<1.2.0,>=1.1.3->allennlp) (2.5.0)\n",
            "Requirement already satisfied: pygments<3.0.0,>=2.6.0 in /usr/local/lib/python3.10/dist-packages (from rich<13.0,>=12.1->cached-path<1.2.0,>=1.1.3->allennlp) (2.14.0)\n",
            "Collecting commonmark<0.10.0,>=0.9.0\n",
            "  Downloading commonmark-0.9.1-py2.py3-none-any.whl (51 kB)\n",
            "\u001b[2K     \u001b[90m━━━━━━━━━━━━━━━━━━━━━━━━━━━━━━━━━━━━━━━━\u001b[0m \u001b[32m51.1/51.1 kB\u001b[0m \u001b[31m5.5 MB/s\u001b[0m eta \u001b[36m0:00:00\u001b[0m\n",
            "\u001b[?25hRequirement already satisfied: python-dateutil<3.0.0,>=2.1 in /usr/local/lib/python3.10/dist-packages (from botocore<1.30.0,>=1.29.129->boto3<2.0,>=1.0->cached-path<1.2.0,>=1.1.3->allennlp) (2.8.2)\n",
            "Collecting smmap<6,>=3.0.1\n",
            "  Downloading smmap-5.0.0-py3-none-any.whl (24 kB)\n",
            "Requirement already satisfied: googleapis-common-protos<2.0dev,>=1.56.2 in /usr/local/lib/python3.10/dist-packages (from google-api-core!=2.0.*,!=2.1.*,!=2.2.*,!=2.3.0,<3.0.0dev,>=1.31.5->google-cloud-storage<3.0,>=1.32.0->cached-path<1.2.0,>=1.1.3->allennlp) (1.59.0)\n",
            "Requirement already satisfied: pyasn1-modules>=0.2.1 in /usr/local/lib/python3.10/dist-packages (from google-auth<3.0dev,>=1.25.0->google-cloud-storage<3.0,>=1.32.0->cached-path<1.2.0,>=1.1.3->allennlp) (0.3.0)\n",
            "Requirement already satisfied: cachetools<6.0,>=2.0.0 in /usr/local/lib/python3.10/dist-packages (from google-auth<3.0dev,>=1.25.0->google-cloud-storage<3.0,>=1.32.0->cached-path<1.2.0,>=1.1.3->allennlp) (5.3.0)\n",
            "Requirement already satisfied: rsa<5,>=3.1.4 in /usr/local/lib/python3.10/dist-packages (from google-auth<3.0dev,>=1.25.0->google-cloud-storage<3.0,>=1.32.0->cached-path<1.2.0,>=1.1.3->allennlp) (4.9)\n",
            "Requirement already satisfied: google-crc32c<2.0dev,>=1.0 in /usr/local/lib/python3.10/dist-packages (from google-resumable-media>=2.3.2->google-cloud-storage<3.0,>=1.32.0->cached-path<1.2.0,>=1.1.3->allennlp) (1.5.0)\n",
            "Requirement already satisfied: pyasn1<0.6.0,>=0.4.6 in /usr/local/lib/python3.10/dist-packages (from pyasn1-modules>=0.2.1->google-auth<3.0dev,>=1.25.0->google-cloud-storage<3.0,>=1.32.0->cached-path<1.2.0,>=1.1.3->allennlp) (0.5.0)\n",
            "Building wheels for collected packages: fairscale, termcolor, jsonnet, sacremoses, pathtools\n",
            "  Building wheel for fairscale (pyproject.toml) ... \u001b[?25l\u001b[?25hdone\n",
            "  Created wheel for fairscale: filename=fairscale-0.4.6-py3-none-any.whl size=307241 sha256=5b75e22bfe4fba23d7790b5c565a70a6dbfef9b5263fee9cdf90b583d15daa4c\n",
            "  Stored in directory: /root/.cache/pip/wheels/a1/58/3d/e114952ab4a8f31eb9dae230658450afff986b211a5b1f2256\n",
            "  Building wheel for termcolor (setup.py) ... \u001b[?25l\u001b[?25hdone\n",
            "  Created wheel for termcolor: filename=termcolor-1.1.0-py3-none-any.whl size=4845 sha256=ae032f4329e6303ac105f1efdee5aa6877cc3fbcd1472fcd0f60e47052296ec1\n",
            "  Stored in directory: /root/.cache/pip/wheels/a1/49/46/1b13a65d8da11238af9616b00fdde6d45b0f95d9291bac8452\n",
            "  Building wheel for jsonnet (setup.py) ... \u001b[?25l\u001b[?25hdone\n",
            "  Created wheel for jsonnet: filename=jsonnet-0.20.0-cp310-cp310-linux_x86_64.whl size=6619987 sha256=2154304826364e49219d87bfdef891f17eb07d6f41e7868d137516778b2c5080\n",
            "  Stored in directory: /root/.cache/pip/wheels/63/0d/6b/5467dd1db9332ba4bd5cf4153e2870c5f89bb4db473d989cc2\n",
            "  Building wheel for sacremoses (setup.py) ... \u001b[?25l\u001b[?25hdone\n",
            "  Created wheel for sacremoses: filename=sacremoses-0.0.53-py3-none-any.whl size=895259 sha256=dfa487374f32ac3ab798b866ec315403bc5b7485e139dab1abf3cb1e7fcb09c0\n",
            "  Stored in directory: /root/.cache/pip/wheels/00/24/97/a2ea5324f36bc626e1ea0267f33db6aa80d157ee977e9e42fb\n",
            "  Building wheel for pathtools (setup.py) ... \u001b[?25l\u001b[?25hdone\n",
            "  Created wheel for pathtools: filename=pathtools-0.1.2-py3-none-any.whl size=8807 sha256=330be8a99f7063ead587bf88333472262126094f2f4af174f5b93bab09edbd70\n",
            "  Stored in directory: /root/.cache/pip/wheels/e7/f3/22/152153d6eb222ee7a56ff8617d80ee5207207a8c00a7aab794\n",
            "Successfully built fairscale termcolor jsonnet sacremoses pathtools\n",
            "Installing collected packages: tokenizers, termcolor, sentencepiece, pathtools, lmdb, jsonnet, commonmark, torch, tensorboardX, smmap, shortuuid, setproctitle, sentry-sdk, sacremoses, rich, requests, filelock, docker-pycreds, dill, base58, torchvision, huggingface-hub, gitdb, fairscale, transformers, GitPython, wandb, cached-path, allennlp\n",
            "  Attempting uninstall: termcolor\n",
            "    Found existing installation: termcolor 2.3.0\n",
            "    Uninstalling termcolor-2.3.0:\n",
            "      Successfully uninstalled termcolor-2.3.0\n",
            "  Attempting uninstall: torch\n",
            "    Found existing installation: torch 2.0.0+cu118\n",
            "    Uninstalling torch-2.0.0+cu118:\n",
            "      Successfully uninstalled torch-2.0.0+cu118\n",
            "  Attempting uninstall: rich\n",
            "    Found existing installation: rich 13.3.4\n",
            "    Uninstalling rich-13.3.4:\n",
            "      Successfully uninstalled rich-13.3.4\n",
            "  Attempting uninstall: requests\n",
            "    Found existing installation: requests 2.27.1\n",
            "    Uninstalling requests-2.27.1:\n",
            "      Successfully uninstalled requests-2.27.1\n",
            "  Attempting uninstall: filelock\n",
            "    Found existing installation: filelock 3.12.0\n",
            "    Uninstalling filelock-3.12.0:\n",
            "      Successfully uninstalled filelock-3.12.0\n",
            "  Attempting uninstall: torchvision\n",
            "    Found existing installation: torchvision 0.15.1+cu118\n",
            "    Uninstalling torchvision-0.15.1+cu118:\n",
            "      Successfully uninstalled torchvision-0.15.1+cu118\n",
            "\u001b[31mERROR: pip's dependency resolver does not currently take into account all the packages that are installed. This behaviour is the source of the following dependency conflicts.\n",
            "torchtext 0.15.1 requires torch==2.0.0, but you have torch 1.12.1 which is incompatible.\n",
            "torchdata 0.6.0 requires torch==2.0.0, but you have torch 1.12.1 which is incompatible.\n",
            "torchaudio 2.0.1+cu118 requires torch==2.0.0, but you have torch 1.12.1 which is incompatible.\n",
            "tensorflow 2.12.0 requires numpy<1.24,>=1.22, but you have numpy 1.24.3 which is incompatible.\n",
            "flax 0.6.9 requires jax>=0.4.2, but you have jax 0.3.25 which is incompatible.\u001b[0m\u001b[31m\n",
            "\u001b[0mSuccessfully installed GitPython-3.1.31 allennlp-2.10.1 base58-2.1.1 cached-path-1.1.6 commonmark-0.9.1 dill-0.3.6 docker-pycreds-0.4.0 fairscale-0.4.6 filelock-3.7.1 gitdb-4.0.10 huggingface-hub-0.10.1 jsonnet-0.20.0 lmdb-1.4.1 pathtools-0.1.2 requests-2.30.0 rich-12.6.0 sacremoses-0.0.53 sentencepiece-0.1.99 sentry-sdk-1.22.1 setproctitle-1.3.2 shortuuid-1.0.11 smmap-5.0.0 tensorboardX-2.6 termcolor-1.1.0 tokenizers-0.12.1 torch-1.12.1 torchvision-0.13.1 transformers-4.20.1 wandb-0.12.21\n",
            "Looking in indexes: https://pypi.org/simple, https://us-python.pkg.dev/colab-wheels/public/simple/\n",
            "Collecting allennlp-models\n",
            "  Downloading allennlp_models-2.10.1-py3-none-any.whl (464 kB)\n",
            "\u001b[2K     \u001b[90m━━━━━━━━━━━━━━━━━━━━━━━━━━━━━━━━━━━━━━━\u001b[0m \u001b[32m464.5/464.5 kB\u001b[0m \u001b[31m9.7 MB/s\u001b[0m eta \u001b[36m0:00:00\u001b[0m\n",
            "\u001b[?25hCollecting datasets\n",
            "  Downloading datasets-2.12.0-py3-none-any.whl (474 kB)\n",
            "\u001b[2K     \u001b[90m━━━━━━━━━━━━━━━━━━━━━━━━━━━━━━━━━━━━━━\u001b[0m \u001b[32m474.6/474.6 kB\u001b[0m \u001b[31m34.7 MB/s\u001b[0m eta \u001b[36m0:00:00\u001b[0m\n",
            "\u001b[?25hCollecting conllu==4.4.2\n",
            "  Downloading conllu-4.4.2-py2.py3-none-any.whl (15 kB)\n",
            "Collecting ftfy\n",
            "  Downloading ftfy-6.1.1-py3-none-any.whl (53 kB)\n",
            "\u001b[2K     \u001b[90m━━━━━━━━━━━━━━━━━━━━━━━━━━━━━━━━━━━━━━━━\u001b[0m \u001b[32m53.1/53.1 kB\u001b[0m \u001b[31m3.9 MB/s\u001b[0m eta \u001b[36m0:00:00\u001b[0m\n",
            "\u001b[?25hRequirement already satisfied: nltk>=3.6.5 in /usr/local/lib/python3.10/dist-packages (from allennlp-models) (3.8.1)\n",
            "Collecting word2number>=1.1\n",
            "  Downloading word2number-1.1.zip (9.7 kB)\n",
            "  Preparing metadata (setup.py) ... \u001b[?25l\u001b[?25hdone\n",
            "Collecting py-rouge==1.1\n",
            "  Downloading py_rouge-1.1-py3-none-any.whl (56 kB)\n",
            "\u001b[2K     \u001b[90m━━━━━━━━━━━━━━━━━━━━━━━━━━━━━━━━━━━━━━━━\u001b[0m \u001b[32m56.8/56.8 kB\u001b[0m \u001b[31m6.3 MB/s\u001b[0m eta \u001b[36m0:00:00\u001b[0m\n",
            "\u001b[?25hRequirement already satisfied: torch<1.13.0,>=1.7.0 in /usr/local/lib/python3.10/dist-packages (from allennlp-models) (1.12.1)\n",
            "Requirement already satisfied: allennlp<2.11,>=2.10.1 in /usr/local/lib/python3.10/dist-packages (from allennlp-models) (2.10.1)\n",
            "Requirement already satisfied: scikit-learn>=1.0.1 in /usr/local/lib/python3.10/dist-packages (from allennlp<2.11,>=2.10.1->allennlp-models) (1.2.2)\n",
            "Requirement already satisfied: sacremoses in /usr/local/lib/python3.10/dist-packages (from allennlp<2.11,>=2.10.1->allennlp-models) (0.0.53)\n",
            "Requirement already satisfied: termcolor==1.1.0 in /usr/local/lib/python3.10/dist-packages (from allennlp<2.11,>=2.10.1->allennlp-models) (1.1.0)\n",
            "Requirement already satisfied: transformers<4.21,>=4.1 in /usr/local/lib/python3.10/dist-packages (from allennlp<2.11,>=2.10.1->allennlp-models) (4.20.1)\n",
            "Requirement already satisfied: pytest>=6.2.5 in /usr/local/lib/python3.10/dist-packages (from allennlp<2.11,>=2.10.1->allennlp-models) (7.2.2)\n",
            "Requirement already satisfied: cached-path<1.2.0,>=1.1.3 in /usr/local/lib/python3.10/dist-packages (from allennlp<2.11,>=2.10.1->allennlp-models) (1.1.6)\n",
            "Requirement already satisfied: spacy<3.4,>=2.1.0 in /usr/local/lib/python3.10/dist-packages (from allennlp<2.11,>=2.10.1->allennlp-models) (2.3.9)\n",
            "Requirement already satisfied: h5py>=3.6.0 in /usr/local/lib/python3.10/dist-packages (from allennlp<2.11,>=2.10.1->allennlp-models) (3.8.0)\n",
            "Requirement already satisfied: jsonnet>=0.10.0 in /usr/local/lib/python3.10/dist-packages (from allennlp<2.11,>=2.10.1->allennlp-models) (0.20.0)\n",
            "Requirement already satisfied: more-itertools>=8.12.0 in /usr/local/lib/python3.10/dist-packages (from allennlp<2.11,>=2.10.1->allennlp-models) (9.1.0)\n",
            "Requirement already satisfied: tqdm>=4.62 in /usr/local/lib/python3.10/dist-packages (from allennlp<2.11,>=2.10.1->allennlp-models) (4.65.0)\n",
            "Requirement already satisfied: requests>=2.28 in /usr/local/lib/python3.10/dist-packages (from allennlp<2.11,>=2.10.1->allennlp-models) (2.30.0)\n",
            "Requirement already satisfied: lmdb>=1.2.1 in /usr/local/lib/python3.10/dist-packages (from allennlp<2.11,>=2.10.1->allennlp-models) (1.4.1)\n",
            "Requirement already satisfied: protobuf<4.0.0,>=3.12.0 in /usr/local/lib/python3.10/dist-packages (from allennlp<2.11,>=2.10.1->allennlp-models) (3.20.3)\n",
            "Requirement already satisfied: typer>=0.4.1 in /usr/local/lib/python3.10/dist-packages (from allennlp<2.11,>=2.10.1->allennlp-models) (0.7.0)\n",
            "Requirement already satisfied: fairscale==0.4.6 in /usr/local/lib/python3.10/dist-packages (from allennlp<2.11,>=2.10.1->allennlp-models) (0.4.6)\n",
            "Requirement already satisfied: scipy>=1.7.3 in /usr/local/lib/python3.10/dist-packages (from allennlp<2.11,>=2.10.1->allennlp-models) (1.10.1)\n",
            "Requirement already satisfied: dill>=0.3.4 in /usr/local/lib/python3.10/dist-packages (from allennlp<2.11,>=2.10.1->allennlp-models) (0.3.6)\n",
            "Requirement already satisfied: filelock<3.8,>=3.3 in /usr/local/lib/python3.10/dist-packages (from allennlp<2.11,>=2.10.1->allennlp-models) (3.7.1)\n",
            "Requirement already satisfied: torchvision<0.14.0,>=0.8.1 in /usr/local/lib/python3.10/dist-packages (from allennlp<2.11,>=2.10.1->allennlp-models) (0.13.1)\n",
            "Requirement already satisfied: traitlets>5.1.1 in /usr/local/lib/python3.10/dist-packages (from allennlp<2.11,>=2.10.1->allennlp-models) (5.7.1)\n",
            "Requirement already satisfied: base58>=2.1.1 in /usr/local/lib/python3.10/dist-packages (from allennlp<2.11,>=2.10.1->allennlp-models) (2.1.1)\n",
            "Requirement already satisfied: huggingface-hub>=0.0.16 in /usr/local/lib/python3.10/dist-packages (from allennlp<2.11,>=2.10.1->allennlp-models) (0.10.1)\n",
            "Requirement already satisfied: wandb<0.13.0,>=0.10.0 in /usr/local/lib/python3.10/dist-packages (from allennlp<2.11,>=2.10.1->allennlp-models) (0.12.21)\n",
            "Requirement already satisfied: tensorboardX>=1.2 in /usr/local/lib/python3.10/dist-packages (from allennlp<2.11,>=2.10.1->allennlp-models) (2.6)\n",
            "Requirement already satisfied: numpy>=1.21.4 in /usr/local/lib/python3.10/dist-packages (from allennlp<2.11,>=2.10.1->allennlp-models) (1.24.3)\n",
            "Requirement already satisfied: sentencepiece>=0.1.96 in /usr/local/lib/python3.10/dist-packages (from allennlp<2.11,>=2.10.1->allennlp-models) (0.1.99)\n",
            "Requirement already satisfied: regex>=2021.8.3 in /usr/local/lib/python3.10/dist-packages (from nltk>=3.6.5->allennlp-models) (2022.10.31)\n",
            "Requirement already satisfied: joblib in /usr/local/lib/python3.10/dist-packages (from nltk>=3.6.5->allennlp-models) (1.2.0)\n",
            "Requirement already satisfied: click in /usr/local/lib/python3.10/dist-packages (from nltk>=3.6.5->allennlp-models) (8.1.3)\n",
            "Requirement already satisfied: typing-extensions in /usr/local/lib/python3.10/dist-packages (from torch<1.13.0,>=1.7.0->allennlp-models) (4.5.0)\n",
            "Requirement already satisfied: pyarrow>=8.0.0 in /usr/local/lib/python3.10/dist-packages (from datasets->allennlp-models) (9.0.0)\n",
            "Collecting aiohttp\n",
            "  Downloading aiohttp-4.0.0a1.tar.gz (1.1 MB)\n",
            "\u001b[2K     \u001b[90m━━━━━━━━━━━━━━━━━━━━━━━━━━━━━━━━━━━━━━━━\u001b[0m \u001b[32m1.1/1.1 MB\u001b[0m \u001b[31m48.3 MB/s\u001b[0m eta \u001b[36m0:00:00\u001b[0m\n",
            "\u001b[?25h  Preparing metadata (setup.py) ... \u001b[?25l\u001b[?25hdone\n",
            "Collecting xxhash\n",
            "  Downloading xxhash-3.2.0-cp310-cp310-manylinux_2_17_x86_64.manylinux2014_x86_64.whl (212 kB)\n",
            "\u001b[2K     \u001b[90m━━━━━━━━━━━━━━━━━━━━━━━━━━━━━━━━━━━━━━\u001b[0m \u001b[32m212.5/212.5 kB\u001b[0m \u001b[31m21.9 MB/s\u001b[0m eta \u001b[36m0:00:00\u001b[0m\n",
            "\u001b[?25hCollecting multiprocess\n",
            "  Downloading multiprocess-0.70.14-py310-none-any.whl (134 kB)\n",
            "\u001b[2K     \u001b[90m━━━━━━━━━━━━━━━━━━━━━━━━━━━━━━━━━━━━━━\u001b[0m \u001b[32m134.3/134.3 kB\u001b[0m \u001b[31m15.9 MB/s\u001b[0m eta \u001b[36m0:00:00\u001b[0m\n",
            "\u001b[?25hRequirement already satisfied: packaging in /usr/local/lib/python3.10/dist-packages (from datasets->allennlp-models) (23.1)\n",
            "Requirement already satisfied: pandas in /usr/local/lib/python3.10/dist-packages (from datasets->allennlp-models) (1.5.3)\n",
            "Requirement already satisfied: fsspec[http]>=2021.11.1 in /usr/local/lib/python3.10/dist-packages (from datasets->allennlp-models) (2023.4.0)\n",
            "Collecting responses<0.19\n",
            "  Downloading responses-0.18.0-py3-none-any.whl (38 kB)\n",
            "Requirement already satisfied: pyyaml>=5.1 in /usr/local/lib/python3.10/dist-packages (from datasets->allennlp-models) (6.0)\n",
            "Collecting huggingface-hub>=0.0.16\n",
            "  Using cached huggingface_hub-0.14.1-py3-none-any.whl (224 kB)\n",
            "Requirement already satisfied: wcwidth>=0.2.5 in /usr/local/lib/python3.10/dist-packages (from ftfy->allennlp-models) (0.2.6)\n",
            "Requirement already satisfied: google-cloud-storage<3.0,>=1.32.0 in /usr/local/lib/python3.10/dist-packages (from cached-path<1.2.0,>=1.1.3->allennlp<2.11,>=2.10.1->allennlp-models) (2.8.0)\n",
            "Requirement already satisfied: rich<13.0,>=12.1 in /usr/local/lib/python3.10/dist-packages (from cached-path<1.2.0,>=1.1.3->allennlp<2.11,>=2.10.1->allennlp-models) (12.6.0)\n",
            "Collecting cached-path<1.2.0,>=1.1.3\n",
            "  Downloading cached_path-1.1.5-py3-none-any.whl (26 kB)\n",
            "  Downloading cached_path-1.1.4-py3-none-any.whl (26 kB)\n",
            "  Downloading cached_path-1.1.3-py3-none-any.whl (26 kB)\n",
            "INFO: pip is looking at multiple versions of base58 to determine which version is compatible with other requirements. This could take a while.\n",
            "Collecting base58>=2.1.1\n",
            "  Using cached base58-2.1.1-py3-none-any.whl (5.6 kB)\n",
            "INFO: pip is looking at multiple versions of ftfy to determine which version is compatible with other requirements. This could take a while.\n",
            "Collecting ftfy\n",
            "  Downloading ftfy-6.1.0.post1-py3-none-any.whl (52 kB)\n",
            "\u001b[2K     \u001b[90m━━━━━━━━━━━━━━━━━━━━━━━━━━━━━━━━━━━━━━━━\u001b[0m \u001b[32m52.8/52.8 kB\u001b[0m \u001b[31m5.5 MB/s\u001b[0m eta \u001b[36m0:00:00\u001b[0m\n",
            "\u001b[?25hINFO: pip is looking at multiple versions of datasets to determine which version is compatible with other requirements. This could take a while.\n",
            "Collecting datasets\n",
            "  Downloading datasets-2.11.0-py3-none-any.whl (468 kB)\n",
            "\u001b[2K     \u001b[90m━━━━━━━━━━━━━━━━━━━━━━━━━━━━━━━━━━━━━━\u001b[0m \u001b[32m468.7/468.7 kB\u001b[0m \u001b[31m39.4 MB/s\u001b[0m eta \u001b[36m0:00:00\u001b[0m\n",
            "\u001b[?25h  Downloading datasets-2.10.1-py3-none-any.whl (469 kB)\n",
            "\u001b[2K     \u001b[90m━━━━━━━━━━━━━━━━━━━━━━━━━━━━━━━━━━━━━━\u001b[0m \u001b[32m469.0/469.0 kB\u001b[0m \u001b[31m39.1 MB/s\u001b[0m eta \u001b[36m0:00:00\u001b[0m\n",
            "\u001b[?25hRequirement already satisfied: boto3<2.0,>=1.0 in /usr/local/lib/python3.10/dist-packages (from cached-path<1.2.0,>=1.1.3->allennlp<2.11,>=2.10.1->allennlp-models) (1.26.129)\n",
            "Collecting aiohttp\n",
            "  Downloading aiohttp-3.8.4-cp310-cp310-manylinux_2_17_x86_64.manylinux2014_x86_64.whl (1.0 MB)\n",
            "\u001b[2K     \u001b[90m━━━━━━━━━━━━━━━━━━━━━━━━━━━━━━━━━━━━━━━━\u001b[0m \u001b[32m1.0/1.0 MB\u001b[0m \u001b[31m55.4 MB/s\u001b[0m eta \u001b[36m0:00:00\u001b[0m\n",
            "\u001b[?25hCollecting yarl<2.0,>=1.0\n",
            "  Downloading yarl-1.9.2-cp310-cp310-manylinux_2_17_x86_64.manylinux2014_x86_64.whl (268 kB)\n",
            "\u001b[2K     \u001b[90m━━━━━━━━━━━━━━━━━━━━━━━━━━━━━━━━━━━━━━\u001b[0m \u001b[32m268.8/268.8 kB\u001b[0m \u001b[31m27.3 MB/s\u001b[0m eta \u001b[36m0:00:00\u001b[0m\n",
            "\u001b[?25hCollecting multidict<7.0,>=4.5\n",
            "  Downloading multidict-6.0.4-cp310-cp310-manylinux_2_17_x86_64.manylinux2014_x86_64.whl (114 kB)\n",
            "\u001b[2K     \u001b[90m━━━━━━━━━━━━━━━━━━━━━━━━━━━━━━━━━━━━━━\u001b[0m \u001b[32m114.5/114.5 kB\u001b[0m \u001b[31m13.5 MB/s\u001b[0m eta \u001b[36m0:00:00\u001b[0m\n",
            "\u001b[?25hRequirement already satisfied: attrs>=17.3.0 in /usr/local/lib/python3.10/dist-packages (from aiohttp->datasets->allennlp-models) (23.1.0)\n",
            "Collecting async-timeout<5.0,>=4.0.0a3\n",
            "  Downloading async_timeout-4.0.2-py3-none-any.whl (5.8 kB)\n",
            "Requirement already satisfied: charset-normalizer<4.0,>=2.0 in /usr/local/lib/python3.10/dist-packages (from aiohttp->datasets->allennlp-models) (2.0.12)\n",
            "Collecting frozenlist>=1.1.1\n",
            "  Downloading frozenlist-1.3.3-cp310-cp310-manylinux_2_5_x86_64.manylinux1_x86_64.manylinux_2_17_x86_64.manylinux2014_x86_64.whl (149 kB)\n",
            "\u001b[2K     \u001b[90m━━━━━━━━━━━━━━━━━━━━━━━━━━━━━━━━━━━━━━\u001b[0m \u001b[32m149.6/149.6 kB\u001b[0m \u001b[31m16.1 MB/s\u001b[0m eta \u001b[36m0:00:00\u001b[0m\n",
            "\u001b[?25hCollecting aiosignal>=1.1.2\n",
            "  Downloading aiosignal-1.3.1-py3-none-any.whl (7.6 kB)\n",
            "Requirement already satisfied: tomli>=1.0.0 in /usr/local/lib/python3.10/dist-packages (from pytest>=6.2.5->allennlp<2.11,>=2.10.1->allennlp-models) (2.0.1)\n",
            "Requirement already satisfied: iniconfig in /usr/local/lib/python3.10/dist-packages (from pytest>=6.2.5->allennlp<2.11,>=2.10.1->allennlp-models) (2.0.0)\n",
            "Requirement already satisfied: exceptiongroup>=1.0.0rc8 in /usr/local/lib/python3.10/dist-packages (from pytest>=6.2.5->allennlp<2.11,>=2.10.1->allennlp-models) (1.1.1)\n",
            "Requirement already satisfied: pluggy<2.0,>=0.12 in /usr/local/lib/python3.10/dist-packages (from pytest>=6.2.5->allennlp<2.11,>=2.10.1->allennlp-models) (1.0.0)\n",
            "Requirement already satisfied: certifi>=2017.4.17 in /usr/local/lib/python3.10/dist-packages (from requests>=2.28->allennlp<2.11,>=2.10.1->allennlp-models) (2022.12.7)\n",
            "Requirement already satisfied: idna<4,>=2.5 in /usr/local/lib/python3.10/dist-packages (from requests>=2.28->allennlp<2.11,>=2.10.1->allennlp-models) (3.4)\n",
            "Requirement already satisfied: urllib3<3,>=1.21.1 in /usr/local/lib/python3.10/dist-packages (from requests>=2.28->allennlp<2.11,>=2.10.1->allennlp-models) (1.26.15)\n",
            "Requirement already satisfied: threadpoolctl>=2.0.0 in /usr/local/lib/python3.10/dist-packages (from scikit-learn>=1.0.1->allennlp<2.11,>=2.10.1->allennlp-models) (3.1.0)\n",
            "Requirement already satisfied: blis<0.8.0,>=0.4.0 in /usr/local/lib/python3.10/dist-packages (from spacy<3.4,>=2.1.0->allennlp<2.11,>=2.10.1->allennlp-models) (0.7.9)\n",
            "Requirement already satisfied: setuptools in /usr/local/lib/python3.10/dist-packages (from spacy<3.4,>=2.1.0->allennlp<2.11,>=2.10.1->allennlp-models) (67.7.2)\n",
            "Requirement already satisfied: thinc<7.5.0,>=7.4.1 in /usr/local/lib/python3.10/dist-packages (from spacy<3.4,>=2.1.0->allennlp<2.11,>=2.10.1->allennlp-models) (7.4.6)\n",
            "Requirement already satisfied: srsly<1.1.0,>=1.0.2 in /usr/local/lib/python3.10/dist-packages (from spacy<3.4,>=2.1.0->allennlp<2.11,>=2.10.1->allennlp-models) (1.0.6)\n",
            "Requirement already satisfied: plac<1.2.0,>=0.9.6 in /usr/local/lib/python3.10/dist-packages (from spacy<3.4,>=2.1.0->allennlp<2.11,>=2.10.1->allennlp-models) (1.1.3)\n",
            "Requirement already satisfied: catalogue<1.1.0,>=0.0.7 in /usr/local/lib/python3.10/dist-packages (from spacy<3.4,>=2.1.0->allennlp<2.11,>=2.10.1->allennlp-models) (1.0.2)\n",
            "Requirement already satisfied: wasabi<1.1.0,>=0.4.0 in /usr/local/lib/python3.10/dist-packages (from spacy<3.4,>=2.1.0->allennlp<2.11,>=2.10.1->allennlp-models) (0.10.1)\n",
            "Requirement already satisfied: preshed<3.1.0,>=3.0.2 in /usr/local/lib/python3.10/dist-packages (from spacy<3.4,>=2.1.0->allennlp<2.11,>=2.10.1->allennlp-models) (3.0.8)\n",
            "Requirement already satisfied: cymem<2.1.0,>=2.0.2 in /usr/local/lib/python3.10/dist-packages (from spacy<3.4,>=2.1.0->allennlp<2.11,>=2.10.1->allennlp-models) (2.0.7)\n",
            "Requirement already satisfied: murmurhash<1.1.0,>=0.28.0 in /usr/local/lib/python3.10/dist-packages (from spacy<3.4,>=2.1.0->allennlp<2.11,>=2.10.1->allennlp-models) (1.0.9)\n",
            "Requirement already satisfied: pillow!=8.3.*,>=5.3.0 in /usr/local/lib/python3.10/dist-packages (from torchvision<0.14.0,>=0.8.1->allennlp<2.11,>=2.10.1->allennlp-models) (8.4.0)\n",
            "Requirement already satisfied: tokenizers!=0.11.3,<0.13,>=0.11.1 in /usr/local/lib/python3.10/dist-packages (from transformers<4.21,>=4.1->allennlp<2.11,>=2.10.1->allennlp-models) (0.12.1)\n",
            "Requirement already satisfied: promise<3,>=2.0 in /usr/local/lib/python3.10/dist-packages (from wandb<0.13.0,>=0.10.0->allennlp<2.11,>=2.10.1->allennlp-models) (2.3)\n",
            "Requirement already satisfied: setproctitle in /usr/local/lib/python3.10/dist-packages (from wandb<0.13.0,>=0.10.0->allennlp<2.11,>=2.10.1->allennlp-models) (1.3.2)\n",
            "Requirement already satisfied: docker-pycreds>=0.4.0 in /usr/local/lib/python3.10/dist-packages (from wandb<0.13.0,>=0.10.0->allennlp<2.11,>=2.10.1->allennlp-models) (0.4.0)\n",
            "Requirement already satisfied: sentry-sdk>=1.0.0 in /usr/local/lib/python3.10/dist-packages (from wandb<0.13.0,>=0.10.0->allennlp<2.11,>=2.10.1->allennlp-models) (1.22.1)\n",
            "Requirement already satisfied: shortuuid>=0.5.0 in /usr/local/lib/python3.10/dist-packages (from wandb<0.13.0,>=0.10.0->allennlp<2.11,>=2.10.1->allennlp-models) (1.0.11)\n",
            "Requirement already satisfied: six>=1.13.0 in /usr/local/lib/python3.10/dist-packages (from wandb<0.13.0,>=0.10.0->allennlp<2.11,>=2.10.1->allennlp-models) (1.16.0)\n",
            "Requirement already satisfied: pathtools in /usr/local/lib/python3.10/dist-packages (from wandb<0.13.0,>=0.10.0->allennlp<2.11,>=2.10.1->allennlp-models) (0.1.2)\n",
            "Requirement already satisfied: psutil>=5.0.0 in /usr/local/lib/python3.10/dist-packages (from wandb<0.13.0,>=0.10.0->allennlp<2.11,>=2.10.1->allennlp-models) (5.9.5)\n",
            "Requirement already satisfied: GitPython>=1.0.0 in /usr/local/lib/python3.10/dist-packages (from wandb<0.13.0,>=0.10.0->allennlp<2.11,>=2.10.1->allennlp-models) (3.1.31)\n",
            "Requirement already satisfied: pytz>=2020.1 in /usr/local/lib/python3.10/dist-packages (from pandas->datasets->allennlp-models) (2022.7.1)\n",
            "Requirement already satisfied: python-dateutil>=2.8.1 in /usr/local/lib/python3.10/dist-packages (from pandas->datasets->allennlp-models) (2.8.2)\n",
            "Requirement already satisfied: jmespath<2.0.0,>=0.7.1 in /usr/local/lib/python3.10/dist-packages (from boto3<2.0,>=1.0->cached-path<1.2.0,>=1.1.3->allennlp<2.11,>=2.10.1->allennlp-models) (1.0.1)\n",
            "Requirement already satisfied: s3transfer<0.7.0,>=0.6.0 in /usr/local/lib/python3.10/dist-packages (from boto3<2.0,>=1.0->cached-path<1.2.0,>=1.1.3->allennlp<2.11,>=2.10.1->allennlp-models) (0.6.1)\n",
            "Requirement already satisfied: botocore<1.30.0,>=1.29.129 in /usr/local/lib/python3.10/dist-packages (from boto3<2.0,>=1.0->cached-path<1.2.0,>=1.1.3->allennlp<2.11,>=2.10.1->allennlp-models) (1.29.129)\n",
            "Requirement already satisfied: gitdb<5,>=4.0.1 in /usr/local/lib/python3.10/dist-packages (from GitPython>=1.0.0->wandb<0.13.0,>=0.10.0->allennlp<2.11,>=2.10.1->allennlp-models) (4.0.10)\n",
            "Requirement already satisfied: google-cloud-core<3.0dev,>=2.3.0 in /usr/local/lib/python3.10/dist-packages (from google-cloud-storage<3.0,>=1.32.0->cached-path<1.2.0,>=1.1.3->allennlp<2.11,>=2.10.1->allennlp-models) (2.3.2)\n",
            "Requirement already satisfied: google-resumable-media>=2.3.2 in /usr/local/lib/python3.10/dist-packages (from google-cloud-storage<3.0,>=1.32.0->cached-path<1.2.0,>=1.1.3->allennlp<2.11,>=2.10.1->allennlp-models) (2.5.0)\n",
            "Requirement already satisfied: google-auth<3.0dev,>=1.25.0 in /usr/local/lib/python3.10/dist-packages (from google-cloud-storage<3.0,>=1.32.0->cached-path<1.2.0,>=1.1.3->allennlp<2.11,>=2.10.1->allennlp-models) (2.17.3)\n",
            "Requirement already satisfied: google-api-core!=2.0.*,!=2.1.*,!=2.2.*,!=2.3.0,<3.0.0dev,>=1.31.5 in /usr/local/lib/python3.10/dist-packages (from google-cloud-storage<3.0,>=1.32.0->cached-path<1.2.0,>=1.1.3->allennlp<2.11,>=2.10.1->allennlp-models) (2.11.0)\n",
            "Requirement already satisfied: pygments<3.0.0,>=2.6.0 in /usr/local/lib/python3.10/dist-packages (from rich<13.0,>=12.1->cached-path<1.2.0,>=1.1.3->allennlp<2.11,>=2.10.1->allennlp-models) (2.14.0)\n",
            "Requirement already satisfied: commonmark<0.10.0,>=0.9.0 in /usr/local/lib/python3.10/dist-packages (from rich<13.0,>=12.1->cached-path<1.2.0,>=1.1.3->allennlp<2.11,>=2.10.1->allennlp-models) (0.9.1)\n",
            "Requirement already satisfied: smmap<6,>=3.0.1 in /usr/local/lib/python3.10/dist-packages (from gitdb<5,>=4.0.1->GitPython>=1.0.0->wandb<0.13.0,>=0.10.0->allennlp<2.11,>=2.10.1->allennlp-models) (5.0.0)\n",
            "Requirement already satisfied: googleapis-common-protos<2.0dev,>=1.56.2 in /usr/local/lib/python3.10/dist-packages (from google-api-core!=2.0.*,!=2.1.*,!=2.2.*,!=2.3.0,<3.0.0dev,>=1.31.5->google-cloud-storage<3.0,>=1.32.0->cached-path<1.2.0,>=1.1.3->allennlp<2.11,>=2.10.1->allennlp-models) (1.59.0)\n",
            "Requirement already satisfied: pyasn1-modules>=0.2.1 in /usr/local/lib/python3.10/dist-packages (from google-auth<3.0dev,>=1.25.0->google-cloud-storage<3.0,>=1.32.0->cached-path<1.2.0,>=1.1.3->allennlp<2.11,>=2.10.1->allennlp-models) (0.3.0)\n",
            "Requirement already satisfied: rsa<5,>=3.1.4 in /usr/local/lib/python3.10/dist-packages (from google-auth<3.0dev,>=1.25.0->google-cloud-storage<3.0,>=1.32.0->cached-path<1.2.0,>=1.1.3->allennlp<2.11,>=2.10.1->allennlp-models) (4.9)\n",
            "Requirement already satisfied: cachetools<6.0,>=2.0.0 in /usr/local/lib/python3.10/dist-packages (from google-auth<3.0dev,>=1.25.0->google-cloud-storage<3.0,>=1.32.0->cached-path<1.2.0,>=1.1.3->allennlp<2.11,>=2.10.1->allennlp-models) (5.3.0)\n",
            "Requirement already satisfied: google-crc32c<2.0dev,>=1.0 in /usr/local/lib/python3.10/dist-packages (from google-resumable-media>=2.3.2->google-cloud-storage<3.0,>=1.32.0->cached-path<1.2.0,>=1.1.3->allennlp<2.11,>=2.10.1->allennlp-models) (1.5.0)\n",
            "Requirement already satisfied: pyasn1<0.6.0,>=0.4.6 in /usr/local/lib/python3.10/dist-packages (from pyasn1-modules>=0.2.1->google-auth<3.0dev,>=1.25.0->google-cloud-storage<3.0,>=1.32.0->cached-path<1.2.0,>=1.1.3->allennlp<2.11,>=2.10.1->allennlp-models) (0.5.0)\n",
            "Building wheels for collected packages: word2number\n",
            "  Building wheel for word2number (setup.py) ... \u001b[?25l\u001b[?25hdone\n",
            "  Created wheel for word2number: filename=word2number-1.1-py3-none-any.whl size=5582 sha256=fd54f32668ed7ed0558a45558bbd28306131096e5f3dffa264f2b45a86700fea\n",
            "  Stored in directory: /root/.cache/pip/wheels/84/ff/26/d3cfbd971e96c5aa3737ecfced81628830d7359b55fbb8ca3b\n",
            "Successfully built word2number\n",
            "Installing collected packages: word2number, py-rouge, xxhash, multiprocess, multidict, ftfy, frozenlist, conllu, async-timeout, yarl, responses, aiosignal, aiohttp, datasets, allennlp-models\n",
            "Successfully installed aiohttp-3.8.4 aiosignal-1.3.1 allennlp-models-2.10.1 async-timeout-4.0.2 conllu-4.4.2 datasets-2.10.1 frozenlist-1.3.3 ftfy-6.1.1 multidict-6.0.4 multiprocess-0.70.14 py-rouge-1.1 responses-0.18.0 word2number-1.1 xxhash-3.2.0 yarl-1.9.2\n"
          ]
        },
        {
          "output_type": "stream",
          "name": "stderr",
          "text": [
            "[nltk_data] Downloading package punkt to /root/nltk_data...\n",
            "[nltk_data]   Unzipping tokenizers/punkt.zip.\n",
            "[nltk_data] Downloading package wordnet to /root/nltk_data...\n"
          ]
        },
        {
          "output_type": "display_data",
          "data": {
            "text/plain": [
              "Output()"
            ],
            "application/vnd.jupyter.widget-view+json": {
              "version_major": 2,
              "version_minor": 0,
              "model_id": "08e6d6deb05447a1b75254e7c6726446"
            }
          },
          "metadata": {}
        },
        {
          "output_type": "display_data",
          "data": {
            "text/plain": [],
            "text/html": [
              "<pre style=\"white-space:pre;overflow-x:auto;line-height:normal;font-family:Menlo,'DejaVu Sans Mono',consolas,'Courier New',monospace\"></pre>\n"
            ]
          },
          "metadata": {}
        },
        {
          "output_type": "display_data",
          "data": {
            "text/plain": [
              "\n"
            ],
            "text/html": [
              "<pre style=\"white-space:pre;overflow-x:auto;line-height:normal;font-family:Menlo,'DejaVu Sans Mono',consolas,'Courier New',monospace\">\n",
              "</pre>\n"
            ]
          },
          "metadata": {}
        },
        {
          "output_type": "display_data",
          "data": {
            "text/plain": [
              "Downloading:   0%|          | 0.00/414 [00:00<?, ?B/s]"
            ],
            "application/vnd.jupyter.widget-view+json": {
              "version_major": 2,
              "version_minor": 0,
              "model_id": "7a87b3c7779f46fdab895dd8154bd0f7"
            }
          },
          "metadata": {}
        },
        {
          "output_type": "display_data",
          "data": {
            "text/plain": [
              "Downloading:   0%|          | 0.00/208k [00:00<?, ?B/s]"
            ],
            "application/vnd.jupyter.widget-view+json": {
              "version_major": 2,
              "version_minor": 0,
              "model_id": "243c71a4ceec457c8f7bddc303039c60"
            }
          },
          "metadata": {}
        },
        {
          "output_type": "display_data",
          "data": {
            "text/plain": [
              "Downloading:   0%|          | 0.00/634M [00:00<?, ?B/s]"
            ],
            "application/vnd.jupyter.widget-view+json": {
              "version_major": 2,
              "version_minor": 0,
              "model_id": "a35673d789bb49af9cc0a6d5634fc0b5"
            }
          },
          "metadata": {}
        },
        {
          "output_type": "stream",
          "name": "stderr",
          "text": [
            "Some weights of BertModel were not initialized from the model checkpoint at SpanBERT/spanbert-large-cased and are newly initialized: ['bert.pooler.dense.weight', 'bert.pooler.dense.bias']\n",
            "You should probably TRAIN this model on a down-stream task to be able to use it for predictions and inference.\n"
          ]
        }
      ],
      "source": [
        "!pip install allennlp\n",
        "!pip install --pre allennlp-models\n",
        "from allennlp.predictors.predictor import Predictor\n",
        "\n",
        "model_url = 'https://storage.googleapis.com/allennlp-public-models/coref-spanbert-large-2020.02.27.tar.gz'\n",
        "predictor = Predictor.from_path(model_url)"
      ]
    },
    {
      "cell_type": "code",
      "execution_count": null,
      "metadata": {
        "colab": {
          "base_uri": "https://localhost:8080/"
        },
        "id": "9vImliNz1ESA",
        "outputId": "b4d65965-8b1b-4ea2-9d68-c0413785adf1"
      },
      "outputs": [
        {
          "output_type": "execute_result",
          "data": {
            "text/plain": [
              "{'top_spans': [[1, 1], [4, 4], [4, 5], [7, 7], [9, 9], [11, 15]],\n",
              " 'antecedent_indices': [[0, 1, 2, 3, 4, 5],\n",
              "  [0, 1, 2, 3, 4, 5],\n",
              "  [0, 1, 2, 3, 4, 5],\n",
              "  [0, 1, 2, 3, 4, 5],\n",
              "  [0, 1, 2, 3, 4, 5],\n",
              "  [0, 1, 2, 3, 4, 5]],\n",
              " 'predicted_antecedents': [-1, 0, -1, 1, -1, -1],\n",
              " 'document': ['Let',\n",
              "  \"'s\",\n",
              "  'dig',\n",
              "  'into',\n",
              "  'our',\n",
              "  'discoveries',\n",
              "  '.',\n",
              "  'We',\n",
              "  \"'ll\",\n",
              "  'look',\n",
              "  'at',\n",
              "  'the',\n",
              "  'redundant',\n",
              "  'cluster',\n",
              "  'finding',\n",
              "  'problem'],\n",
              " 'clusters': [[[1, 1], [4, 4], [7, 7]]]}"
            ]
          },
          "metadata": {},
          "execution_count": 9
        }
      ],
      "source": [
        "text1 = \"Let's dig into our discoveries. We'll look at the redundant cluster finding problem\"\n",
        "prediction = predictor.predict(document=text1)\n",
        "prediction"
      ]
    },
    {
      "cell_type": "code",
      "execution_count": null,
      "metadata": {
        "colab": {
          "base_uri": "https://localhost:8080/",
          "height": 35
        },
        "id": "UEDb8rMX1E5E",
        "outputId": "b78c1922-d0ea-4c41-abb0-af69384e209b"
      },
      "outputs": [
        {
          "output_type": "execute_result",
          "data": {
            "text/plain": [
              "\"Let's dig into 's's discoveries. 's'll look at the redundant cluster finding problem\""
            ],
            "application/vnd.google.colaboratory.intrinsic+json": {
              "type": "string"
            }
          },
          "metadata": {},
          "execution_count": 11
        }
      ],
      "source": [
        "predictor.coref_resolved(text1)"
      ]
    },
    {
      "cell_type": "code",
      "execution_count": null,
      "metadata": {
        "id": "VrpaEU9r1JlB"
      },
      "outputs": [],
      "source": [
        "def get_span_words(span, document):\n",
        "    return ' '.join(document[span[0]:span[1]+1])\n",
        "\n",
        "def print_clusters(prediction):\n",
        "    document, clusters = prediction['document'], prediction['clusters']\n",
        "    for cluster in clusters:\n",
        "        print(get_span_words(cluster[0], document) + ': ', end='')\n",
        "        print(f\"[{'; '.join([get_span_words(span, document) for span in cluster])}]\")"
      ]
    },
    {
      "cell_type": "code",
      "execution_count": null,
      "metadata": {
        "colab": {
          "base_uri": "https://localhost:8080/"
        },
        "id": "uaL-as411M7A",
        "outputId": "2c97b1ba-2f1e-4a5d-873f-e37c4934c4e3"
      },
      "outputs": [
        {
          "output_type": "stream",
          "name": "stdout",
          "text": [
            "'s: ['s; our; We]\n"
          ]
        }
      ],
      "source": [
        "print_clusters(prediction)"
      ]
    },
    {
      "cell_type": "markdown",
      "metadata": {
        "id": "TOrUCQhX1Ov-"
      },
      "source": [
        "### Redundant clusters - lack of a meaningfull mention that could become the head"
      ]
    },
    {
      "cell_type": "code",
      "execution_count": null,
      "metadata": {
        "id": "wi3LNgkO1Xmw"
      },
      "outputs": [],
      "source": [
        "def core_logic_part(document: doc, coref: list[int], resolved: list[str], mention_span: spacy.tokens.span.Span):\n",
        "    final_token = document[coref[1]]\n",
        "    if final_token.tag_ in [\"PRP$\", \"POS\"]:\n",
        "        resolved[coref[0]] = mention_span.text + \"'s\" + final_token.whitespace_\n",
        "    else:\n",
        "        resolved[coref[0]] = mention_span.text + final_token.whitespace_\n",
        "    for i in range(coref[0] + 1, coref[1] + 1):\n",
        "        resolved[i] = \"\"\n",
        "    return resolved\n",
        "\n",
        "\n",
        "def original_replace_corefs(document: doc, clusters: list[list[list[int]]]) -> str:\n",
        "    resolved = list(tok.text_with_ws for tok in document)\n",
        "\n",
        "    for cluster in clusters:\n",
        "        mention_start, mention_end = cluster[0][0], cluster[0][1] + 1\n",
        "        mention_span = document[mention_start:mention_end]\n",
        "\n",
        "        for coref in cluster[1:]:\n",
        "            core_logic_part(document, coref, resolved, mention_span)\n",
        "\n",
        "    return \"\".join(resolved)"
      ]
    },
    {
      "cell_type": "code",
      "execution_count": null,
      "metadata": {
        "id": "2lj5RYJe1aM2"
      },
      "outputs": [],
      "source": [
        "# our contribution\n",
        "def get_span_noun_indices(doc: doc, cluster: list[list[int]]) -> list[int]:\n",
        "    spans = [doc[span[0]:span[1]+1] for span in cluster]\n",
        "    spans_pos = [[token.pos_ for token in span] for span in spans]\n",
        "    span_noun_indices = [i for i, span_pos in enumerate(spans_pos)\n",
        "        if any(pos in span_pos for pos in ['NOUN', 'PROPN'])]\n",
        "    return span_noun_indices\n",
        "\n",
        "def improved_replace_corefs(document, clusters):\n",
        "    resolved = list(tok.text_with_ws for tok in document)\n",
        "\n",
        "    for cluster in clusters:\n",
        "        noun_indices = get_span_noun_indices(document, cluster)\n",
        "\n",
        "        if noun_indices:\n",
        "            mention_start, mention_end = cluster[0][0], cluster[0][1] + 1\n",
        "            mention_span = document[mention_start:mention_end]\n",
        "\n",
        "            for coref in cluster[1:]:\n",
        "                core_logic_part(document, coref, resolved, mention_span)\n",
        "\n",
        "    return \"\".join(resolved)"
      ]
    },
    {
      "cell_type": "code",
      "execution_count": null,
      "metadata": {
        "id": "VCtG6K3Y1c0c"
      },
      "outputs": [],
      "source": [
        "text = \"We want to take our code and create a game. Let's remind ourselves how to do that.\"\n",
        "prediction = predictor.predict(document=text)\n",
        "clusters = predictor.predict(text)['clusters']\n",
        "doc = nlp(text)"
      ]
    },
    {
      "cell_type": "code",
      "execution_count": null,
      "metadata": {
        "colab": {
          "base_uri": "https://localhost:8080/"
        },
        "id": "y3jbKvHO1dnD",
        "outputId": "6c9eadc8-c7cf-4bef-9f68-7256c9266d4f"
      },
      "outputs": [
        {
          "data": {
            "text/plain": [
              "{'top_spans': [[0, 0],\n",
              "  [1, 1],\n",
              "  [4, 4],\n",
              "  [4, 5],\n",
              "  [7, 7],\n",
              "  [12, 12],\n",
              "  [14, 14],\n",
              "  [18, 18]],\n",
              " 'antecedent_indices': [[0, 1, 2, 3, 4, 5, 6, 7],\n",
              "  [0, 1, 2, 3, 4, 5, 6, 7],\n",
              "  [0, 1, 2, 3, 4, 5, 6, 7],\n",
              "  [0, 1, 2, 3, 4, 5, 6, 7],\n",
              "  [0, 1, 2, 3, 4, 5, 6, 7],\n",
              "  [0, 1, 2, 3, 4, 5, 6, 7],\n",
              "  [0, 1, 2, 3, 4, 5, 6, 7],\n",
              "  [0, 1, 2, 3, 4, 5, 6, 7]],\n",
              " 'predicted_antecedents': [-1, -1, 0, -1, -1, 0, 0, 4],\n",
              " 'document': ['We',\n",
              "  'want',\n",
              "  'to',\n",
              "  'take',\n",
              "  'our',\n",
              "  'code',\n",
              "  'and',\n",
              "  'create',\n",
              "  'a',\n",
              "  'game',\n",
              "  '.',\n",
              "  'Let',\n",
              "  \"'s\",\n",
              "  'remind',\n",
              "  'ourselves',\n",
              "  'how',\n",
              "  'to',\n",
              "  'do',\n",
              "  'that',\n",
              "  '.'],\n",
              " 'clusters': [[[0, 0], [4, 4], [12, 12], [14, 14]], [[7, 7], [18, 18]]]}"
            ]
          },
          "execution_count": 40,
          "metadata": {},
          "output_type": "execute_result"
        }
      ],
      "source": [
        "prediction"
      ]
    },
    {
      "cell_type": "code",
      "execution_count": null,
      "metadata": {
        "colab": {
          "base_uri": "https://localhost:8080/"
        },
        "id": "wJO1VIud1gc8",
        "outputId": "c2548e85-1110-4fe4-e503-df2dfab04d60"
      },
      "outputs": [
        {
          "data": {
            "text/plain": [
              "We want to take our code and create a game. Let's remind ourselves how to do that."
            ]
          },
          "execution_count": 41,
          "metadata": {},
          "output_type": "execute_result"
        }
      ],
      "source": [
        "doc"
      ]
    },
    {
      "cell_type": "code",
      "execution_count": null,
      "metadata": {
        "colab": {
          "base_uri": "https://localhost:8080/"
        },
        "id": "-6c48moy1iB7",
        "outputId": "a6968717-d57c-4619-fc97-a3a3de2e6488"
      },
      "outputs": [
        {
          "name": "stdout",
          "output_type": "stream",
          "text": [
            "We: [We; our; 's; ourselves]\n",
            "create: [create; that]\n"
          ]
        }
      ],
      "source": [
        "print_clusters(prediction)"
      ]
    },
    {
      "cell_type": "code",
      "execution_count": null,
      "metadata": {
        "colab": {
          "base_uri": "https://localhost:8080/",
          "height": 36
        },
        "id": "qULN12Mu1kSo",
        "outputId": "847d0596-1fd3-4436-dda8-2263f478b560"
      },
      "outputs": [
        {
          "data": {
            "application/vnd.google.colaboratory.intrinsic+json": {
              "type": "string"
            },
            "text/plain": [
              "\"We want to take We's code and create a game. LetWe remind We how to do create.\""
            ]
          },
          "execution_count": 43,
          "metadata": {},
          "output_type": "execute_result"
        }
      ],
      "source": [
        "original_replace_corefs(doc, clusters)"
      ]
    },
    {
      "cell_type": "code",
      "execution_count": null,
      "metadata": {
        "colab": {
          "base_uri": "https://localhost:8080/",
          "height": 36
        },
        "id": "I0ZwVRKw1mAk",
        "outputId": "e21041bc-d18e-47de-8df1-128d44766f4f"
      },
      "outputs": [
        {
          "data": {
            "application/vnd.google.colaboratory.intrinsic+json": {
              "type": "string"
            },
            "text/plain": [
              "\"We want to take our code and create a game. Let's remind ourselves how to do that.\""
            ]
          },
          "execution_count": 44,
          "metadata": {},
          "output_type": "execute_result"
        }
      ],
      "source": [
        "improved_replace_corefs(doc, clusters)"
      ]
    },
    {
      "cell_type": "markdown",
      "metadata": {
        "id": "0gi9H7iO1qN4"
      },
      "source": [
        "### Cataphora problem - choosing the wrong cluster head"
      ]
    },
    {
      "cell_type": "code",
      "execution_count": null,
      "metadata": {
        "id": "tXnqO-aH1vvK"
      },
      "outputs": [],
      "source": [
        "# our contribution\n",
        "def get_cluster_head(doc: doc, cluster: list[list[int]], noun_indices: list[int]):\n",
        "    head_idx = noun_indices[0]\n",
        "    head_start, head_end = cluster[head_idx]\n",
        "    head_span = doc[head_start:head_end+1]\n",
        "    return head_span, [head_start, head_end]\n",
        "\n",
        "\n",
        "def improved_replace_corefs(document, clusters):\n",
        "    resolved = list(tok.text_with_ws for tok in document)\n",
        "\n",
        "    for cluster in clusters:\n",
        "        noun_indices = get_span_noun_indices(document, cluster)\n",
        "\n",
        "        if noun_indices:\n",
        "            mention_span, mention = get_cluster_head(document, cluster, noun_indices)\n",
        "\n",
        "            for coref in cluster:\n",
        "                if coref != mention:  # we don't replace the head itself\n",
        "                    core_logic_part(document, coref, resolved, mention_span)\n",
        "\n",
        "    return \"\".join(resolved)"
      ]
    },
    {
      "cell_type": "code",
      "execution_count": null,
      "metadata": {
        "id": "-aOP_lIq1yTO"
      },
      "outputs": [],
      "source": [
        "text = '\"He is a great actor!\", he said about John Travolta.'\n",
        "prediction = predictor.predict(document=text)\n",
        "clusters = predictor.predict(text)['clusters']\n",
        "doc = nlp(text)"
      ]
    },
    {
      "cell_type": "code",
      "execution_count": null,
      "metadata": {
        "colab": {
          "base_uri": "https://localhost:8080/"
        },
        "id": "w2XYiR_v10lk",
        "outputId": "6c0476d6-a90b-4e0f-da43-7b17b0d29997"
      },
      "outputs": [
        {
          "name": "stdout",
          "output_type": "stream",
          "text": [
            "He: [He; John Travolta]\n"
          ]
        }
      ],
      "source": [
        "print_clusters(prediction)"
      ]
    },
    {
      "cell_type": "code",
      "execution_count": null,
      "metadata": {
        "colab": {
          "base_uri": "https://localhost:8080/",
          "height": 36
        },
        "id": "tLHXvSTV13QZ",
        "outputId": "3a2ce03b-2556-4c32-eda7-5acb407f9797"
      },
      "outputs": [
        {
          "data": {
            "application/vnd.google.colaboratory.intrinsic+json": {
              "type": "string"
            },
            "text/plain": [
              "'\"He is a great actor!\", he said about He.'"
            ]
          },
          "execution_count": 48,
          "metadata": {},
          "output_type": "execute_result"
        }
      ],
      "source": [
        "original_replace_corefs(doc, clusters)"
      ]
    },
    {
      "cell_type": "code",
      "execution_count": null,
      "metadata": {
        "colab": {
          "base_uri": "https://localhost:8080/",
          "height": 36
        },
        "id": "CkvGVV9C13z8",
        "outputId": "f3fc9fd9-7832-484f-f29f-18070b25094c"
      },
      "outputs": [
        {
          "data": {
            "application/vnd.google.colaboratory.intrinsic+json": {
              "type": "string"
            },
            "text/plain": [
              "'\"John Travolta is a great actor!\", he said about John Travolta.'"
            ]
          },
          "execution_count": 49,
          "metadata": {},
          "output_type": "execute_result"
        }
      ],
      "source": [
        "improved_replace_corefs(doc, clusters)"
      ]
    },
    {
      "cell_type": "markdown",
      "metadata": {
        "id": "zQ1WnUwq15cE"
      },
      "source": [
        "### Nested coreferent mentions"
      ]
    },
    {
      "cell_type": "code",
      "execution_count": null,
      "metadata": {
        "id": "mGPEofgI19CN"
      },
      "outputs": [],
      "source": [
        "# our contribution\n",
        "def is_containing_other_spans(span: list[int], all_spans: list[list[int]]):\n",
        "    return any([s[0] >= span[0] and s[1] <= span[1] and s != span for s in all_spans])\n",
        "\n",
        "\n",
        "def improved_replace_corefs(document, clusters):\n",
        "    resolved = list(tok.text_with_ws for tok in document)\n",
        "    all_spans = [span for cluster in clusters for span in cluster]  # flattened list of all spans\n",
        "\n",
        "    for cluster in clusters:\n",
        "        noun_indices = get_span_noun_indices(document, cluster)\n",
        "\n",
        "        if noun_indices:\n",
        "            mention_span, mention = get_cluster_head(document, cluster, noun_indices)\n",
        "\n",
        "            for coref in cluster:\n",
        "                if coref != mention and not is_containing_other_spans(coref, all_spans):\n",
        "                    core_logic_part(document, coref, resolved, mention_span)\n",
        "\n",
        "    return \"\".join(resolved)"
      ]
    },
    {
      "cell_type": "code",
      "execution_count": null,
      "metadata": {
        "id": "GYDL2ak_0ULC"
      },
      "outputs": [],
      "source": [
        "coref_resolved_text = []\n",
        "for extracted_transcript in extracted_transcripts:\n",
        "  text = extracted_transcript\n",
        "  prediction = predictor.predict(document=text)\n",
        "  clusters = predictor.predict(text)['clusters']\n",
        "  doc = nlp(text)\n",
        "  resolved_txt = improved_replace_corefs(doc, clusters)\n",
        "  coref_resolved_text.append(resolved_txt)"
      ]
    },
    {
      "cell_type": "code",
      "execution_count": null,
      "metadata": {
        "colab": {
          "base_uri": "https://localhost:8080/"
        },
        "id": "DP_r5ENi1EK7",
        "outputId": "e4048886-a177-4015-d6a4-022cee1923b8"
      },
      "outputs": [
        {
          "data": {
            "text/plain": [
              "[\" Hello, kids. Do kids know how plants make plants's own food? No? Well, this video elaborates the process of photosynthesis by which plants make plants's own food. Photosynthesis is the process used by plants to make plants's own food or in more complex terms. Photosynthesis is the conversion of light energy into chemical energy by plants. chemical energy is used by plants for growth and nourishment. Photo means light and synthesis means putting together in Greek. When humans cook food, some essential things are required, including fire, water, vegetables, etc. Similarly, to make plants's food, plants also need some essential factors, including light, water, nutrients, soil, etc. Plants get light from the sun, water from the ground, and carbon dioxide from the air. some essential factors, including light, water, nutrients, soil, etc, together help plants churn out plants's own food. Plants have tubes called xylum, located in the stems through which the water from the ground is sucked into the leaves. This system works similar to humans sucking liquids through a straw. This system is spread throughout the different parts of the plant, including the stem, branches, and all the way up to the leaves. This system transports vital nutrients to the plant. Xylums in the plant are like blood vessels in the human body that act as an important means of transportation of water and nutrients. Leaves on the plant have pores, very similar to the pores on the skin of our bodies. pores, very similar to the pores on the skin of our bodies are called stomata. pores, very similar to the pores on the skin of our bodies are responsible for the exchange of gases. The carbon dioxide present in the air, which is responsible for Photosynthesis, enters the plant through pores, very similar to the pores on the skin of our bodies. Oxygen also comes out through pores, very similar to the pores on the skin of our bodies. Leaves have important cells called mesofil cells. important cells called mesofil cells contain a green color component called chloroplasts. a green color component called chloroplasts is responsible for the green color of plants and leaves. Once the carbon dioxide and the water reach a green color component called chloroplasts in the presence of sunlight, the process of photosynthesis starts to take place. The following reaction takes place in the leaves of the plant during the process of photosynthesis. Carbon dioxide plus water in the presence of light energy results in oxygen plus glucose or carbohydrates. The products formed are glucose and oxygen. Carbohydrates, which are a form of glucose, are synthesized from carbon dioxide and water. Glucose is used by the plants for the plants's growth. Some of Glucose is used immediately and the extra glucose which is not used is stored in the form of starch in the leaves. Some amount of the extra glucose which is not used is also stored in the roots of the plants. Some amount of this extra glucose is used to perform the process of photosynthesis when there is no sunlight. Oxygen is given out into the air through the stomata in the process of photosynthesis. The oxygen that is released is used by human beings to breathe during human beings's respiration process ever wondered why the process of photosynthesis is called photosynthesis? Well the word photosynthesis is a combination of two Greek words photo and synthesis. Photo means light in Greek and synthesis means putting together or combining. Hence photosynthesis literally means combining water or carbon dioxide in the presence of light. So the essential factors for photosynthesis to take place include sunlight, water and carbon dioxide. Underwater photosynthesis takes place at a slower pace than the normal photosynthesis. This is because energy from the sun is absorbed by the water layers and only some amount of energy actually reaches the plant. There are some plants which don't need the process of photosynthesis to grow. some plants which don't need the process of photosynthesis to grow include mushroom, venous fly traps etc. Mushrooms get Mushrooms's food from the ground and from Mushrooms's surrounding areas. venous fly traps trap and catch small insects which come near the leaves and eat the leaves. Don't forget to subscribe to our channel for more cool science videos.\",\n",
              " \" A, C, E, D, B, K. No, this isn't some random out-of-order alphabet. These are vitamins. And just like letters build words, letters're the building blocks that keep the body running. Vitamins are organic compounds we need to ingest in small amounts to keep functioning. Vitamins're the body's builders, defenders, and maintenance workers, helping the body's to build muscle and bone, make use of nutrients, capture and use energy, and heal wounds. If you need convincing about vitamin value, just consider the plight of olden-day sailors who had no access to vitamin-rich fresh produce. olden-day sailors who had no access to vitamin-rich fresh produce got this disease, but vitamin C, abundant in fruits and vegetables, was the simple antidote to this disease. While bacteria, fungi, and plants produce bacteria, fungi, and plants's own vitamins, our bodies can't, so we have to get their own vitamins from other sources. So how does the body get vitamins from out there into here? That's dependent on the form vitamins take. Vitamins come in two types, lipid-soluble and water-soluble, and the difference between two types, lipid-soluble and water-soluble determines how the body transports and stores vitamins and gets rid of the excess. The water-solubles are vitamin C and B-complex vitamins that are made up of eight different types that each do something unique. The water-solubles are dissolved in the watery parts of fruits, vegetables, and grains, meaning The water-solubles's passage through the body is relatively straightforward. Once inside the system, fruits, vegetables, and grains are digested, and the vitamins within fruits, vegetables, and grains are taken up directly by the bloodstream. Because blood plasma is water-based, water-soluble vitamins C and B have water-soluble vitamins C and B's transport cut out for water-soluble vitamins C and B, and can move around freely within the body. For lipid-soluble vitamins, dissolved in fat and found in foods like dairy, butter, and oils, this trip into the blood is a little more adventurous. lipid-soluble vitamins, dissolved in fat and found in foods like dairy, butter, and oils make it through the stomach and the intestine, where an acidic substance called bile flows in from the liver, breaking up the fat and preparing the fat for absorption through the intestinal wall. Because fat-soluble vitamins can't make use of the blood's watery nature, fat-soluble vitamins need something else to move fat-soluble vitamins around. And that comes from proteins that attach to fat-soluble vitamins and act like couriers, transporting fat-solubles into the blood's and around the body. So this difference between water or fat-soluble vitamins determines how fat-soluble vitamins get into the blood, but also how fat-soluble vitamins're stored or rejected from the body. The system's ability to circulate water-soluble vitamins in the blood so easily means that most of water-soluble vitamins can be passed out equally easily via the kidneys. Because of that, most water-soluble vitamins need to be replenished on a daily basis through the food we eat. But fat-soluble vitamins have staying power because fat-soluble vitamins can be packed into the liver and in fat cells. The body treats these parts like a pantry, storing fat-soluble vitamins there and rationing fat-soluble vitamins out when needed, meaning we shouldn't overload on this type of vitamin because The body is generally well stocked. Once we've figured the logistics of transport and storage, fat-soluble vitamins are left to do the work fat-soluble vitamins came here to do in the first place. Some, like many of the bee complex vitamins, make up co-enzymes, whose job it is to help enzymes release the energy from food. Other bee vitamins then help the body to use the energy. From vitamin C, you get the ability to fight infection and make collagen, a kind of tissue that forms bones and teeth and heals wounds. Vitamin A helps make white blood cells, key in the body's defense, helps shape bones, and improves vision by keeping the cells of the eye in check. Vitamin D gathers calcium and phosphorus so we can make bones, and vitamin E works as an antioxidant, getting rid of elements in the body that can damage cells. Finally, from vitamin K, we score the ability to this job blood, since vitamin K helps make the proteins that do this job. Without this vitamin variety, humans face deficiencies that cause a range of problems like fatigue, nerve damage, heart disorders, or diseases like rickets and scurvy. On the other hand, too much of any vitamin can cause toxicity in the body, so there goes the myth that loading yourself with supplements is a great idea. In reality, it's all about getting the balance right and hitting that vitamin jackpot.\",\n",
              " \" In today's video, we're going to look at the basics of waves, including how to label the different parts, how to calculate the wave speed, and the differences between transverse and longitudinal waves. The first thing to understand about waves is that waves transfer energy from one place to another, but waves don't transfer any matter. So when light waves pass from a phone screen to your eye, or sound waves pass from the speakers to your ear, only energy is being transferred. Sometimes though we can interpret only energy as meaningful information, which is why our brain is able to build up images and tunes from the light and sound that our brain receives. To travel from one place to another, the waves vibrate or oscillate, as we can see in this displacement distance graph. The distance is how far the wave has travelled from the starting point. While the displacement is how far from the equilibrium point, the wave has oscillated. So how far the wave's gone up or down. The maximum displacement is known as the amplitude, while the distance of one entire oscillation is called the wavelength. So that could be from equilibrium, up, down and back up, or it could be from the very top of a wave, which we call the crest, down and back up to the next crest. It just has to be one entire oscillation. And the opposite of the crest is called the trough. Now sometimes you might see a displacement time graph instead, which looks pretty much the same, but because we have time on the x-axis, instead of distance, the length of one complete oscillation would be the time period instead of the wavelength. And the time period is just the time it takes for one complete oscillation. The benefit of knowing the time period is that we can then use this equation here to work out frequency, which is measured in hertz and is a number of complete oscillations per second. To see how it works, imagine that each oscillation takes 0.5 seconds. Or in other words, the time period is 0.5 seconds. This means that there must be a total of two oscillations per second, so the frequency is two, which is what we'd get if we did one divided by the time period of 0.5. We can also use this equation here the other way around, so time period equals 1 over frequency. So if we were told that the frequency of a wave was 4 hertz, which means 4 oscillations per second, then to find the time period, which is to 1 divided by 4, which tells us that each oscillation must be 0.25 seconds. The next equation to know is that we can find the speed of the wave, so the wave speed, by multiplying the wavelength by the frequency. So basically, we multiply how long each wavelength is, by how many there are per second. And that will give us the total distance they travel per second. To see how this works, let's imagine we had a sound wave that had a frequency of 400 hertz, and a wavelength of 70 centimeters. What is a sound wave that had a frequency of 400 hertz, and a wavelength of 70 centimeters's wave speed? Well in this case, all we'd have to do is convert 70 centimeters to 0.7 meters, because we always want our wavelength in meters, and then multiply our wavelength by a sound wave that had a frequency of 400 hertz, and a wavelength of 70 centimeters's frequency of 400 hertz, which gives us 280 meters per second as our wave speed. The last thing we need to look at are the differences between transverse and longitudinal waves. When transverse waves, the oscillations are perpendicular to the direction of energy transfer, or the direction in which the wave is moving, which is why on our drawing, the vibrations are going up and down, whilst the overall wave is travelling from left to right. Most waves we can think of are transverse, including all electromagnetic waves like light and radio waves, ripples and waves in water, and the waves of strings like on a guitar. Longitudinal waves on the other hand have oscillations that are parallel to the direction of energy transfer. This one's a bit trickier to get your head around, but basically This one leads to some regions that are more spread out, and other regions that are more compressed, because the waves vibrating back and forth. In motion, it would look as if other regions that are more compressed is moving from the left to the right within the wave. Examples of longitudinal waves include sound waves, and some types of shock waves, like seismic p-waves. Anyway, that's everything for today's video, so hope you found it useful, and we'll see you again soon.\",\n",
              " \" The human body is a complex network of cells, tissues, and organs that together make life possible. Ten major systems are responsible for The human body's functions, skeletal, the muscular system, which includes three types of muscles, skeletal, smooth, and cardiac, cardiovascular, nervous, endocrine, lymphatic, respiratory, digestive, urinary, reproductive. The skeletal, muscular, cardiovascular, and nervous systems in particular create an infrastructure that facilitates the other systems. The adult skeletal system is a framework of over 200 bones. over 200 bones hold The human body together, give The human body shape, and protect The human body's organs and tissues. The adult skeletal system also provides anchor points for the muscular system, which includes three types of muscles, skeletal, smooth, and cardiac. the muscular system, which includes three types of muscles, skeletal, smooth, and cardiac are found throughout The human body and facilitate movement. Nestled within the muscular system, which includes three types of muscles, skeletal, smooth, and cardiac is the cardiovascular system, a pipeline that includes the heart, blood vessels, and the blood the blood itself. Also called the circulatory system, the cardiovascular system, a pipeline that includes the heart, blood vessels, and the blood itself delivers oxygen, white blood cells, hormones, and nutrients throughout The human body. Lastly, the nervous system is a communication network of nerve cells that The human body uses to transmit information and coordinate bodily functions. the nervous system's comprised of the brain, the hub of sensory and intellectual activity, the spinal cord, and the many cranial and spinal nerves that emanate from the brain, the hub of sensory and intellectual activity, the spinal cord,. This infrastructure created by neurons, blood, muscles, and bones allows three other systems to regulate The human body's environment, three other systems. The endocrine system is a series of glands that use information carried by the nervous system to help regulate The human body's processes. Thanks to this neural connection, endocrine glands, such as the thyroid, are aware of the amount of hormones and other chemicals endocrine glands, such as the thyroid need to produce. hormones and other chemicals they need to produce are then distributed throughout The human body by way of the cardiovascular system, a pipeline that includes the heart, blood vessels, and the blood itself. The skeletal, muscular, cardiovascular, and nervous systems in particular are also utilized by the lymphatic system, a collection of lymph nodes and vessels that help regulate The human body's defenses. Also called the immune system, the lymphatic system, a collection of lymph nodes and vessels that help regulate the body's defenses uses neural pathways to transmit information about affected areas of The human body and then sends out healing agents like white blood cells via the bloodstream. Another key regulatory system is the urinary system, which includes the kidneys, ureters, bladder, and urethra. the urinary system, which includes the kidneys, ureters, bladder, and urethra maintains The human body's electrolyte levels and filters waste from the blood. waste is sent through the blood vessels into the kidneys and then expelled as urine. The skeletal, muscular, cardiovascular, and nervous systems in particular require energy to function and that's where The skeletal, muscular, cardiovascular, and nervous systems in particular come in. The respiratory system is a group of passageways and organs that extracts life-giving oxygen from the air we breathe. Air enters the body through nasal cavities, travels down the throat, and is then transported to the lungs. the lungs extract oxygen for The human body to use and then expel a carbon dioxide by product when we exhale. Energy can also come in the form of food. The digestive system is an approximately 30-foot series of organs that convert food into fuel. Food enters The digestive system through the mouth, then moves into the esophagus, the stomach, and the intestines. Nutrients are absorbed into the body while solid waste is expelled through the anal canal, the end of The digestive system. No matter the role, size, or shape of any of the body's systems, each began with the reproductive system. the reproductive system is responsible for creating life. The primary organs involved differ between the sexes with ovaries, fallopian tubes, the uterus, and vagina found in women and testes and a sperm channel found in men. Together, fertilization may occur. Organ systems form and then a child is born. Humans are complicated organisms, but when Humans's 10 major organ systems are healthy, our 10 major organ systems ensure Humans's well-being. .\"]"
            ]
          },
          "execution_count": 56,
          "metadata": {},
          "output_type": "execute_result"
        }
      ],
      "source": [
        "coref_resolved_text"
      ]
    },
    {
      "cell_type": "code",
      "execution_count": null,
      "metadata": {
        "id": "ahv4aB-e1_Ko",
        "colab": {
          "base_uri": "https://localhost:8080/"
        },
        "outputId": "fc15104a-c47f-4c01-cb1a-e328f68b84d0"
      },
      "outputs": [
        {
          "output_type": "stream",
          "name": "stderr",
          "text": [
            "/usr/local/lib/python3.10/dist-packages/allennlp/modules/token_embedders/pretrained_transformer_embedder.py:385: UserWarning: __floordiv__ is deprecated, and its behavior will change in a future version of pytorch. It currently rounds toward 0 (like the 'trunc' function NOT 'floor'). This results in incorrect rounding for negative values. To keep the current behavior, use torch.div(a, b, rounding_mode='trunc'), or for actual floor division, use torch.div(a, b, rounding_mode='floor').\n",
            "  num_effective_segments = (seq_lengths + self._max_length - 1) // self._max_length\n"
          ]
        }
      ],
      "source": [
        "text = \" Space. It's really cool. Actually, it's really cold, and really big, and really awesome. Space has inspired a lot of us to do a lot of really cool things, but probably one of the best things that's inspired many of us to do is just simply learn about it. The more we learn about stars, other planets, galaxies, and asteroids, the more we learn about the universe, and even ourselves. So let's start this off by talking about one specific star, one that's really close to us. Pop quiz. What's the closest star to Earth? It's called soul. Never heard of it, you say? Sure you have. Soul is the sun. Ancient Romans, who once worshipped the sun, called it soul, and it's become the kind of official scientific name for the sun. It's where the term solar system comes from. Soul, or the sun, is the star at the center of our eight planet solar system that provides us with energy. Without the sun, Earth would be a dark, frozen world with no life. But how does the sun's energy get to us? Well, first, let's talk about what the sun is. It's a five billion year old, big ball of super hot gas. The hottest part of the sun is its core, or center, which is about 15 million degrees Celsius. Woah. Its surface is not quite as hot, but it's still almost 5,600 degrees Celsius, which is pretty toasty if you ask me. And as for its size, the sun is so huge, you can line up over a hundred Earths along the face of it, and more than a million Earths could fit inside it. But the sun's size isn't what makes it seem so big and bright to us on Earth. It's because it's so close to us that it seems way, way, way, way bigger and brighter than other stars. So, you know that the sun is hot and bright. And that heat and light are both kinds of energy that we get from the sun. Let's take a look at a model to see how the sun's energy gets from good old soul to our planet. Here's the sun. Energy is created in its super hot 15 million degree core. That energy then travels outward from the core to the surface of the sun. But this journey from the center of the sun to its surface can take over 100,000 years to complete. But once the energy deep inside the sun finally gets to the surface, it travels as light and heat all the way to Earth. In fact, it only takes about 8 minutes for light to travel approximately 150 million kilometers through space to Earth over here. That's not such a long time. So to sum up, energy is created in the sun's core. It travels very slowly to the sun's surface before it takes a super speedy trip to Earth in the form of light and heat. And you and I can see and feel that energy as sunlight. Without the heat and light we get from the sun, Earth would be just a frozen ball floating around in space. Which would be a total bummer. So, thanks all. You're a real star. So yeah, the sun is big. Really big. But understanding the universe is sometimes about perspective. The sun is big to us, sure. But it's nothing compared to the galaxy. Or even some of the other stars. And compared to the universe? Well, our sun is pretty tiny compared to the universe because the universe is huge. How huge? The universe is big. Really big. Bigger than that. No, you're not thinking big enough. It's so massive that it makes my brain hurt. It's so ginormous, sweet, teeny, tiny humans can barely. Just barely get our brains to comprehend it. But just because we can't really fully understand how big the universe is doesn't mean it's not important. The universe is our home. We should at least poke around. So, how big is the universe? Let's start off with our cosmic address. That's where we live in the universe. You could say my current cosmic address is the Crash Course Kids Studio, Toronto, Canada, North America, Earth, the Solar System, the Milky Way Galaxy, the observable universe, the universe. Knowing our cosmic address helps us understand where the things in the sky are. Things like stars, asteroids, planets, and even other galaxies. Every time we go up and out, a level in our cosmic address, the actual space we're talking about, gets more spacious. Distances in space are so large that scientists had to come up with a whole new way of measuring them. You can't talk about space using miles or kilometers. The numbers get so big that they just sound like nonsense. That's where a light year comes in. It sounds like a measure of time because it has the word year in it, but it's really a measure of distance. Light is the fastest thing we know in the whole universe, clocking in at a whopping 300,000 kilometers per second. In one second, light can travel around the Earth, the whole Earth, seven times. It's moving so fast our brains can't detect that it's moving at all. So a light year is the distance that light can travel in one year. Does your head hurt yet? Well, buckle up because we're just getting started. Back to our big question. How big is this universe of ours? Nobody knows. Really. That's pretty weird, right? Well, that's partly because the only part of the universe we know about is what we call our observable universe, the parts that we can actually see or observe in any direction. Some things are so far away that light from those objects haven't even reached us yet. That is the limit of our observable universe. Beyond that, we don't know what's out there. But even sticking to the observable universe, we're going to need to scale things way down to understand any of it. Let's try to visualize our cosmic address on a scale that we can handle. Let's use this room as our scale. It's about 10 meters by 10 meters, the size of an average classroom. If the sun were the size of this room, the Earth would be about this big. Okay, not too crazy. Now, imagine our whole solar system were the size of this room. This would be the sun. Don't see anything? That's because it's just a grain of salt. A grain of salt. Yeah. That's our sun. And the Earth's orbit around the sun would be about the size of this disk. At this scale, the Earth is just a microscopic bacterium. We can't even see it. At this size, our whole big, huge solar system is just a grain of salt. Now, what if the entire Milky Way galaxy were the size of this room? Our solar neighborhood would be this big. Oh boy. Now for the finale. The biggest thing we know, the observable universe. Imagine the observable universe is this room. Can you spot the Milky Way? Nope. It's just way too small. It's not that it's just unseeable. It's smaller than microscopic. The whole Milky Way. Are you dizzy? I'm dizzy. So, that gives you an idea of the size of the things in the universe. But what about the size of the space? You know that the sun is the closest star to the Earth. But what is the second closest? That would be Proxima Centauri. It's 4.24 light years away. That means it takes light from that star four years to reach us. By comparison, it takes the sun's light eight minutes to get to Earth. If you want to visit the sun's closest star friend traveling in the fastest object humans have ever built, it would still take 19,000 years to get there. And that's only 4.24 light years away. The observable universe is, are you ready for this? 93 billion light years across. Even using light years, it's so big, it still sounds kind of like nonsense, huh? So space. It's big. Really big. Mind bogglingly big. But it's also our home. Even if we're just unbelievably small little things floating on a speck of dust in a teeny tiny galaxy, we're still here. And we know where we are in the universe. And that's pretty awesome. But I think I need to go lie down now. Okay, now that we have a little perspective, let's start looking a little deeper into the stars. Stars aren't all like our sun. Actually, they're all really different. From white dwarfs to red supergiant stars have all kinds of appearances and personalities. My brain still hurts from last time. It's like intergalactic whiplash. You too? But there's a reason we zoom through the mega giant unbelievably huge vastness of space. It helps us understand how big the universe really is, not just how big it appears from our perspective down here on our itty bitty Earth. If you glance up at the night sky, the stars seem like they're all on the same plane, that is at the same distance from Earth. And the stars all seem pretty similar. But don't let your eyes fool you. Some stars are relatively close, just for so light years away. And some are hundreds of thousands of light years away. The furthest stars are billions of light years away, billions people. And in the big huge spaceyness of space, there's a lot of room for variety. Even in our galaxy, the Milky Way, there's a wide range of stars. So stop stereotyping them. Let's take a look. What are the different kinds of stars? Well, scientists organize stars by their color and size, which also happens to be how I organize my rock collection. We've learned that stars glow because they create energy through nuclear fusion. But not all stars produce the same amount of energy, and stars can produce different amounts of energy throughout their lifetimes. I mean, they're not alive, but in a sense, stars are born, grow up, age, and eventually die once they burn through all of the hydrogen in their core. And don't feel bad, this all happens over billions and billions of years. Now, first thing to remember, stars that produce less energy glow red. These stars are relatively cool, with a surface of about 2760 degrees Celsius. But the very hottest stars in the universe glow blue-white. Put on your shades, because these stars can have a surface temperature of over 30,000 degrees Celsius. Our sun, by the way, is a perfect mellow-yellow temperature, right in the middle, with a surface temperature around 10,000 degrees. Stars also come in a range of sizes. The smallest known star is just a little bit bigger than Jupiter. Pretty small, considering you could fit about 1,000 Jupiter inside our sun. Meanwhile, the largest star that we know of is many hundreds of times larger than the sun. If it were in our solar system, it would extend past Saturn's orbit. Once again, our sun is in the middle of this range. We're in a real-life Goldilocks situation here. So, now that we know how stars are classified, let's see if we can identify two of our star neighbors. I've got the perfect stars in mind. A foot and an armpit. Oh, have you met Orion? He's one of the most recognizable constellations, and he's got two body parts that are made from totally different kinds of stars. Remember, Beetlejuice? We talked about this star in a previous episode. It's the right shoulder. Some people, like me, call it the armpit of Orion. And let me introduce you to Rigel. Orion's left foot. Beetlejuice and Rigel are both in our home galaxy, the Milky Way. Take a look at this picture of Orion. Based on the evidence that you can see, which would you argue is hotter? Does one star look kind of reddish and another kind of blue? You smarty pants, I bet you already guessed the answer. Beetlejuice, the armpit star, is a red super-giant. It's much, much cooler than Rigel, and sadly, it's nearing the end of its starry life. On the other hand, er, foot, Rigel is a blue-white super-giant star. This star is in the prime of its life, burning super hot and super bright. But stick around a few million years, and Rigel will probably start to look like Beetlejuice, red and cool. Now, since Rigel shines more brightly, you might assume that it's closer to us, and that would be a great guess. But using brightness to judge distance can be tricky. Rigel has much greater true brightness, or luminosity, than Beetlejuice, so the foot out shines the armpit. So, in summary, a star isn't just a star. From here on Earth, the stars may look similar, but you know better now. They come in different colors and different sizes. You could say they've got their own personalities. Stars. They're just like us, except millions or billions of miles away. And gigantic. They're not really like us. Now that we've talked about stars and their places in the universe, let's have a look at a couple of episodes that show us how we have used the stars throughout history to both help us tell stories and actually guide us, like, points on a map. I'm talking about constellations. Now you might be thinking, but we've already learned about stars. Well, you're right. Or at least you've been paying attention. But we learned about individual stars. Basically, how they do what they do as solo acts out there in the universe. But what happens when a bunch of stars band together to form a supergroup, sort of like the Avengers of the night sky? Well, then they're called a constellation. Today we'll talk about these groups of stars and why they're so important to astronomers, besides being just plain cool. Or hot. You know what I mean. So, what exactly is a constellation? A constellation is a cluster of stars in the sky that have been grouped together in a pattern or shape and have been given a name. But before we take a closer look at constellations, let's review what a star is. Remember a star is a bright object in space that gives off light through energy that it makes in its core. The sun is the most famous star to us earthlings. We've already talked about a few other well-known stars, though, like bright beetle juice. Astronomers use bright stars like beetle juice as markers in the sky to help find other less bright objects in space. For example, if you were looking for a dim star like Sirius B, you might have to look for a long time to spot it among the many, many, many, many other stars in the sky. But if you're able to spot a much brighter star like Sirius A, and you know that Sirius B is located to the lower left of Sirius A, then it'll be much easier to find Sirius B. Like I said, there are so many stars in the sky that trying to spot just one can be tough, especially if it's not near a bright one like beetle juice or Sirius A. That's where constellations come in. Astronomers use constellations to help them better map the night sky. Think of stars like cities on a map in constellations like countries, finding a large shape in the sky made of many stars is a lot easier to spot than trying to find one single speck. Plus, there are only 88 named constellations, which is a much more reasonable number to deal with than a billion. And most of the 88 recognized constellations came from the ancient Greeks. The stars in a constellation aren't related in any particular way. They just form a shape that the Greeks use to tell stories about their gods, goddesses, and mythical creatures like flying horses and giant scorpions. Now that we know what a constellation is, why don't we get to know some of the more famous ones? Harry Potter fans will recognize the name of our first constellation. Its name means dragon in Latin, and also happens to be the name of Harry's biggest nemesis. Well, second biggest, after vaultly. He who must not be named, of course. Yep, it's Draco. According to legend, Draco was a dragon killed by the goddess Minerva, and was tossed into the sky. Draco is one of 48 constellations described way back in the second century by Egyptian astronomer Ptolemy. People have been seeing this dragon-like shape in the night sky for a long time. Constellations aren't just named after creatures, though. Some are named after mythical people, particularly gods and goddesses. One of the more well-known Greek gods has his own constellation, and a Disney movie. I'll give you a hint. He'll go the distance. It's Hercules. The stars in the Hercules constellation take the shape of the mighty hero as if he's holding a bow after just releasing an arrow. You go, Hercules. The name of our next notable constellation also makes an appearance in the Hercules movie as a super cute winged horse. Say hello to Pegasus. According to Greek mythology, Hercules never actually rode Pegasus like in the movie, but the flying horse did spend some time with Zeus, King of the Gods. Zeus-like Pegasus so much he transformed him into a constellation and placed him in the night sky for everyone to see. Now, you're familiar with at least three of the 88 constellations in our sky, only 85 more to go. As the Earth rotates, you'll see Draco, Hercules, and Pegasus plus all the other constellations over the course of a year. But more on when and where you can see the constellations in the next episode. So now you know what a star is, and that a cluster of stars in the sky that are grouped together in a particular pattern is called the constellation. Besides having really cool shapes and stories behind their names, constellations help astronomers and us map the night sky. Since space is so huge and massive and ginormous, our map is far from complete, so anything that helps us navigate that vast, well, space of space. Is okay by me. People have been studying the skies for centuries, and who can blame them? It is beautiful up there. On any given clear night, there are probably more than two thousand stars that you can see, and that's without a telescope. Way before telescopes were even invented, ancient astronomers tracked the movement of objects in the sky, and over time one group of objects ended up getting a lot of attention. I'm talking about the thirteen constellations that make up something called the zodiac. So, what's the zodiac in which constellations are part of it? We'll get to that in just a sec, but first, do you remember what a constellation is? Sure you do. A constellation is a cluster of stars in the sky that are grouped together in a particular pattern and have been given a name. We've talked about a few famous constellations before, like Draco, Hercules, Pegasus, Ursa Major, and Crocs. But none of these constellations are part of the zodiac. You might recognize some of the constellations that are in the zodiac though. Do the names Gemini, Leo, or Sagittarius sound familiar? They're among the thirteen zodiac constellations, and they actually form a kind of pattern in the sky. This pattern makes it easier for observers to know where to find each constellation throughout the course of the year. So, what are all of the constellations in the zodiac, and what pattern do they form? Let's take a look. You know this guy? High Earth? At the beginning of the year, January, the constellation of Sagittarius is highly visible to us on Earth. The Greeks called Sagittarius the archer, because it looked like, well, a guy shooting a bow and arrow. Capricornus is also highly visible in January toward the end of the month. It's sometimes called the sea goat, since it happens to have the head of a goat and the tail of a fish. Which is not something you see every day. Next up in February is Aquarius, or the waterbearer. A group of ancient people called the Babylonians thought that this group of stars looked like an old man pouring water from a pitcher. Moving on to March, this is Pisces, or the fishes. Pisces represents Venus, a Roman goddess who is said to have turned into a fish and jumped into a river to escape an evil monster. Ares is up in April. In Greek mythology, Ares was a ram with wings. The constellation of Taurus, visible in May, looks like a bull. It's named for the Roman god Jupiter, who could supposedly turn himself into a bull when he swam. June's prominent constellation, Gemini, is sometimes called the twins, because it reminded the ancient Greeks of the twin sons of Zeus. Cancer, which you can see pretty well in July, is called the crab, because that's what it reminded some folks of. August's constellation is called Leo, and looks like a ferocious lion. Seen in September, Virgo is called the maiden, since it looks like a lady holding grain, which symbolizes the harvest to the Greeks and the Romans. This constellation of Libra appears in October, when days and nights are roughly equal and is considered a symbol of balance. I bet you can guess what Scorpius is named for. Yep, it looks like a scorpion. Finishing off the year in late November is Ophiuchus, which was once called serpentarius, because it looked like a man holding a serpent, or a snake. Hey, better him than me. Alright, now that you've met all of the constellations in the zodiac, let's light him up and see if we can spot a pattern. Looks like a circle to me. And here's a fun fact. Zodiac loosely translates to circle of animals, or circle of life, in Greek. So the zodiac isn't just a random bunch of stars. It's a group of constellations that form a circular pattern in the night sky. And now you know which constellations are part of this pattern, and that people have been observing these constellations for centuries. The zodiac has helped astronomers figure out how other objects travel in space, objects like the sun, and even our own planet. So, constellations are super important for many, many reasons. We use them as markers to help us find our direction on Earth, but also to help us find other stars. It's neat. But now let's pull this all together and see how the sun affects how and when we see the zodiac constellations. Which is something that is also neat. I've still got my eye on the sky, particularly those 13 constellations in the zodiac that we learned about earlier. We found out that the zodiac constellations follow a circular path around our planet. Today we're going to learn more about where our sun falls in this path. I'll give you a hint. It involves something called the ecliptic. Intriguing. So what is the ecliptic? Before we head into imaginary space to find out, it's time for a quick, well, crash course on astronomy. You know what a constellation is. A cluster of stars in the sky that are grouped together in a particular pattern and have been given a name. Some of the constellations we've visited so far include Hercules, Pegasus, and Draco. And last time we met a group of constellations that formed something called the zodiac, 13 constellations that have been studied and tracked since ancient times. The constellations in the zodiac are all highly visible from Earth during different months of the year, starting with Sagittarius in January and ending with Ophiuchus. And last time we saw how these constellations form a sort of belt-like shape around the Earth. Well, this time we're going to see what the sun's up to while the constellations take turns popping up in our night sky. Okay, so there's Earth in the middle of space. Looking good home planet. And here are the zodiac constellations that surround Earth. But we've got to make room for another major player in space. You remember the sun, of course. Earth, scooch over, sun, head to center stage. You're on. Okay, you already know that Earth rotates on its axis, making a complete turn in one day. While it's rotating, it also revolves around the sun, making one full trip around the star every year. This movement of the Earth also makes it seem as if the sun is moving through the stars over the course of the year. This is because during any given month, the sun sits between the Earth and a different zodiac constellation. But we know the sun's not really moving. It's the Earth's movement that makes it seem that way, and astronomers have come up with a nifty way to track the sun's apparent path through space. They draw an imaginary line from the Earth through the sun and toward the stars beyond it, as the Earth moves, so does this line with it, while the sun stays steady in the middle. As Earth follows its orbit around the sun, this imaginary line spins, pointing to different stars throughout a complete trip around the sun, forming an imaginary circle. Astronomers call this imaginary line that the zodiac sits on, and that tracks the sun's apparent path through space, the ecliptic. Eventually, over a year, the Earth will return to Sagittarius, where it started, and the cycle, or pattern, will start all over again. So, that's what the sun's doing as one zodiac constellation in the night sky moves to the next. Not a whole lot. It remains in the same spot, while Earth makes its annual journey. And now you know that even though the sun's not really moving, the path it appears to take, and the path that the zodiac sits upon, is what astronomers call the ecliptic. No one ever said understanding what happens in space would be easy. But isn't it fun to try? And that wraps up our little journey through the cosmos. The universe is big. The sun is big. Stars are big. It's all big, big, big, big, big! But understanding what happens in space is fascinating. Don't you agree? If you enjoyed this, check out the rest of our channel and subscribe!\"\n",
        "prediction = predictor.predict(document=text)\n",
        "clusters = predictor.predict(text)['clusters']\n",
        "doc = nlp(text)"
      ]
    },
    {
      "cell_type": "code",
      "execution_count": null,
      "metadata": {
        "id": "eyl77dfK2CEZ"
      },
      "outputs": [],
      "source": [
        "print_clusters(prediction)"
      ]
    },
    {
      "cell_type": "code",
      "execution_count": null,
      "metadata": {
        "id": "zyk32AwN2D5J"
      },
      "outputs": [],
      "source": [
        "original_replace_corefs(doc, clusters)"
      ]
    },
    {
      "cell_type": "code",
      "execution_count": null,
      "metadata": {
        "id": "QJ8yuWH42Ed9"
      },
      "outputs": [],
      "source": [
        "resolved_txt = improved_replace_corefs(doc, clusters)"
      ]
    },
    {
      "cell_type": "code",
      "source": [
        "resolved_txt"
      ],
      "metadata": {
        "id": "WsxBtMnUYah_"
      },
      "execution_count": null,
      "outputs": []
    },
    {
      "cell_type": "markdown",
      "metadata": {
        "id": "8fVUIGlgTEa6"
      },
      "source": [
        "# TOPIC MODELLING"
      ]
    },
    {
      "cell_type": "code",
      "execution_count": null,
      "metadata": {
        "colab": {
          "base_uri": "https://localhost:8080/"
        },
        "id": "2R3L5ApWS-Xu",
        "outputId": "f7348827-cfa6-41ea-ecf3-312de5c290d0"
      },
      "outputs": [
        {
          "output_type": "stream",
          "name": "stdout",
          "text": [
            "Looking in indexes: https://pypi.org/simple, https://us-python.pkg.dev/colab-wheels/public/simple/\n",
            "Collecting pyLDAvis\n",
            "  Downloading pyLDAvis-3.4.0-py3-none-any.whl (2.6 MB)\n",
            "\u001b[2K     \u001b[90m━━━━━━━━━━━━━━━━━━━━━━━━━━━━━━━━━━━━━━━━\u001b[0m \u001b[32m2.6/2.6 MB\u001b[0m \u001b[31m34.5 MB/s\u001b[0m eta \u001b[36m0:00:00\u001b[0m\n",
            "\u001b[?25hRequirement already satisfied: gensim in /usr/local/lib/python3.9/dist-packages (from pyLDAvis) (4.3.1)\n",
            "Requirement already satisfied: scikit-learn>=1.0.0 in /usr/local/lib/python3.9/dist-packages (from pyLDAvis) (1.2.2)\n",
            "Requirement already satisfied: pandas>=1.3.4 in /usr/local/lib/python3.9/dist-packages (from pyLDAvis) (1.5.3)\n",
            "Requirement already satisfied: jinja2 in /usr/local/lib/python3.9/dist-packages (from pyLDAvis) (3.1.2)\n",
            "Requirement already satisfied: joblib>=1.2.0 in /usr/local/lib/python3.9/dist-packages (from pyLDAvis) (1.2.0)\n",
            "Collecting funcy\n",
            "  Downloading funcy-2.0-py2.py3-none-any.whl (30 kB)\n",
            "Requirement already satisfied: numexpr in /usr/local/lib/python3.9/dist-packages (from pyLDAvis) (2.8.4)\n",
            "Requirement already satisfied: numpy>=1.22.0 in /usr/local/lib/python3.9/dist-packages (from pyLDAvis) (1.22.4)\n",
            "Requirement already satisfied: setuptools in /usr/local/lib/python3.9/dist-packages (from pyLDAvis) (67.6.1)\n",
            "Requirement already satisfied: scipy in /usr/local/lib/python3.9/dist-packages (from pyLDAvis) (1.10.1)\n",
            "Requirement already satisfied: python-dateutil>=2.8.1 in /usr/local/lib/python3.9/dist-packages (from pandas>=1.3.4->pyLDAvis) (2.8.2)\n",
            "Requirement already satisfied: pytz>=2020.1 in /usr/local/lib/python3.9/dist-packages (from pandas>=1.3.4->pyLDAvis) (2022.7.1)\n",
            "Requirement already satisfied: threadpoolctl>=2.0.0 in /usr/local/lib/python3.9/dist-packages (from scikit-learn>=1.0.0->pyLDAvis) (3.1.0)\n",
            "Requirement already satisfied: smart-open>=1.8.1 in /usr/local/lib/python3.9/dist-packages (from gensim->pyLDAvis) (6.3.0)\n",
            "Requirement already satisfied: MarkupSafe>=2.0 in /usr/local/lib/python3.9/dist-packages (from jinja2->pyLDAvis) (2.1.2)\n",
            "Requirement already satisfied: six>=1.5 in /usr/local/lib/python3.9/dist-packages (from python-dateutil>=2.8.1->pandas>=1.3.4->pyLDAvis) (1.16.0)\n",
            "Installing collected packages: funcy, pyLDAvis\n",
            "Successfully installed funcy-2.0 pyLDAvis-3.4.0\n"
          ]
        },
        {
          "output_type": "stream",
          "name": "stderr",
          "text": [
            "[nltk_data] Downloading package punkt to /root/nltk_data...\n",
            "[nltk_data]   Package punkt is already up-to-date!\n"
          ]
        },
        {
          "output_type": "execute_result",
          "data": {
            "text/plain": [
              "True"
            ]
          },
          "metadata": {},
          "execution_count": 30
        }
      ],
      "source": [
        "!pip install pyLDAvis\n",
        "import numpy as np\n",
        "\n",
        "import gensim\n",
        "import gensim.corpora as corpora\n",
        "from gensim.utils import simple_preprocess\n",
        "from gensim.models import CoherenceModel\n",
        "\n",
        "import spacy\n",
        "\n",
        "import pyLDAvis\n",
        "import pyLDAvis.gensim\n",
        "import nltk\n",
        "nltk.download('punkt')"
      ]
    },
    {
      "cell_type": "code",
      "execution_count": null,
      "metadata": {
        "colab": {
          "base_uri": "https://localhost:8080/"
        },
        "id": "b_OOVhFCXleT",
        "outputId": "fc4087ed-e9bd-4fa1-aac1-8b1e954a0c16"
      },
      "outputs": [
        {
          "output_type": "stream",
          "name": "stderr",
          "text": [
            "/usr/local/lib/python3.9/dist-packages/ipykernel/ipkernel.py:283: DeprecationWarning: `should_run_async` will not call `transform_cell` automatically in the future. Please pass the result to `transformed_cell` argument and any exception that happen during thetransform in `preprocessing_exc_tuple` in IPython 7.17 and above.\n",
            "  and should_run_async(code)\n"
          ]
        }
      ],
      "source": [
        "def lemmatization(texts, allowed_postags=[\"NOUN\", \"ADJ\", \"VERB\", \"ADV\"]):\n",
        "    nlp = spacy.load(\"en_core_web_sm\", disable=[\"parser\", \"ner\"])\n",
        "    texts_out = []\n",
        "    for text in texts:\n",
        "        doc = nlp(text)\n",
        "        new_text = []\n",
        "        for token in doc:\n",
        "            if token.pos_ in allowed_postags:\n",
        "                new_text.append(token.lemma_)\n",
        "        final = \" \".join(new_text)\n",
        "        texts_out.append(final)\n",
        "    return (texts_out)"
      ]
    },
    {
      "cell_type": "code",
      "execution_count": null,
      "metadata": {
        "colab": {
          "base_uri": "https://localhost:8080/"
        },
        "id": "_C5jY4xeYMbi",
        "outputId": "c76c9353-b6f0-4ef3-b4b4-00aebbb3a228"
      },
      "outputs": [
        {
          "output_type": "stream",
          "name": "stderr",
          "text": [
            "/usr/local/lib/python3.9/dist-packages/ipykernel/ipkernel.py:283: DeprecationWarning: `should_run_async` will not call `transform_cell` automatically in the future. Please pass the result to `transformed_cell` argument and any exception that happen during thetransform in `preprocessing_exc_tuple` in IPython 7.17 and above.\n",
            "  and should_run_async(code)\n"
          ]
        }
      ],
      "source": [
        "def gen_words(texts):\n",
        "    final = []\n",
        "    for text in texts:\n",
        "        new = gensim.utils.simple_preprocess(text, deacc=True)\n",
        "        final.append(new)\n",
        "    return (final)"
      ]
    },
    {
      "cell_type": "code",
      "execution_count": null,
      "metadata": {
        "colab": {
          "base_uri": "https://localhost:8080/"
        },
        "id": "H24chV3PYTr4",
        "outputId": "b717d845-95d2-4411-d3ba-38c591635bb7"
      },
      "outputs": [
        {
          "output_type": "stream",
          "name": "stderr",
          "text": [
            "/usr/local/lib/python3.9/dist-packages/ipykernel/ipkernel.py:283: DeprecationWarning: `should_run_async` will not call `transform_cell` automatically in the future. Please pass the result to `transformed_cell` argument and any exception that happen during thetransform in `preprocessing_exc_tuple` in IPython 7.17 and above.\n",
            "  and should_run_async(code)\n"
          ]
        }
      ],
      "source": [
        "def make_bigrams(texts,bigram_phrases):\n",
        "  bigram = gensim.models.phrases.Phraser(bigram_phrases)\n",
        "  return([bigram[doc] for doc in texts])\n",
        "\n",
        "def make_trigrams(texts, bigram_phrases, trigram_phrases):\n",
        "  bigram = gensim.models.phrases.Phraser(bigram_phrases)\n",
        "  trigram = gensim.models.phrases.Phraser(trigram_phrases)\n",
        "  return ([trigram[bigram[doc]] for doc in texts])"
      ]
    },
    {
      "cell_type": "code",
      "execution_count": null,
      "metadata": {
        "colab": {
          "base_uri": "https://localhost:8080/"
        },
        "id": "eH0uWOfUYVaS",
        "outputId": "cff5d324-243f-46b6-acb9-3d4796835b3e"
      },
      "outputs": [
        {
          "output_type": "stream",
          "name": "stderr",
          "text": [
            "/usr/local/lib/python3.9/dist-packages/ipykernel/ipkernel.py:283: DeprecationWarning: `should_run_async` will not call `transform_cell` automatically in the future. Please pass the result to `transformed_cell` argument and any exception that happen during thetransform in `preprocessing_exc_tuple` in IPython 7.17 and above.\n",
            "  and should_run_async(code)\n"
          ]
        }
      ],
      "source": [
        "#TF-IDF REMOVAL\n",
        "from gensim.models import TfidfModel\n",
        "def tfidf_removal(data_bigrams_trigrams):\n",
        "  id2word = corpora.Dictionary(data_bigrams_trigrams)\n",
        "  texts = data_bigrams_trigrams\n",
        "  corpus = [id2word.doc2bow(text) for text in texts]\n",
        "  # print (corpus[0][0:20])\n",
        "\n",
        "  tfidf = TfidfModel(corpus, id2word=id2word)\n",
        "\n",
        "  low_value = 0.03\n",
        "  words  = []\n",
        "  words_missing_in_tfidf = []\n",
        "  for i in range(0, len(corpus)):\n",
        "      bow = corpus[i]\n",
        "      low_value_words = []\n",
        "      tfidf_ids = [id for id, value in tfidf[bow]]\n",
        "      bow_ids = [id for id, value in bow]\n",
        "      low_value_words = [id for id, value in tfidf[bow] if value < low_value]\n",
        "      drops = low_value_words+words_missing_in_tfidf\n",
        "      for item in drops:\n",
        "          words.append(id2word[item])\n",
        "      words_missing_in_tfidf = [id for id in bow_ids if id not in tfidf_ids] # The words with tf-idf score 0 will be missing\n",
        "\n",
        "      new_bow = [b for b in bow if b[0] not in low_value_words and b[0] not in words_missing_in_tfidf]\n",
        "      corpus[i] = new_bow\n",
        "\n",
        "  return id2word,corpus"
      ]
    },
    {
      "cell_type": "code",
      "execution_count": null,
      "metadata": {
        "colab": {
          "background_save": true
        },
        "id": "8Yf8Y2VeYgRX",
        "outputId": "10c34715-957b-4e14-f977-fefaef1baa9d"
      },
      "outputs": [
        {
          "name": "stderr",
          "output_type": "stream",
          "text": [
            "/usr/local/lib/python3.9/dist-packages/ipykernel/ipkernel.py:283: DeprecationWarning: `should_run_async` will not call `transform_cell` automatically in the future. Please pass the result to `transformed_cell` argument and any exception that happen during thetransform in `preprocessing_exc_tuple` in IPython 7.17 and above.\n",
            "  and should_run_async(code)\n"
          ]
        },
        {
          "data": {
            "image/png": "[encoded data removed]",
            "text/plain": [
              "<Figure size 640x480 with 1 Axes>"
            ]
          },
          "metadata": {},
          "output_type": "display_data"
        }
      ],
      "source": [
        "import matplotlib.pyplot as plt\n",
        "import seaborn as sns\n",
        "sns.set()\n",
        "from gensim.models import LdaMulticore\n",
        "from gensim.models import CoherenceModel\n",
        "topics = []\n",
        "score = []\n",
        "for i in range(1,20,1):\n",
        "   lda_model = LdaMulticore(corpus=corpus, id2word=id2word, iterations=10, num_topics=i, workers = 4, passes=10, random_state=100)\n",
        "   cm = CoherenceModel(model=lda_model, texts = data_words, corpus=corpus, dictionary=id2word, coherence='c_v')\n",
        "   topics.append(i)\n",
        "   score.append(cm.get_coherence())\n",
        "_=plt.plot(topics, score)\n",
        "_=plt.xlabel('Number of Topics')\n",
        "_=plt.ylabel('Coherence Score')\n",
        "plt.show()"
      ]
    },
    {
      "cell_type": "code",
      "execution_count": null,
      "metadata": {
        "colab": {
          "background_save": true
        },
        "id": "7mauLQkpYksc",
        "outputId": "ae1a25bf-bc34-43a9-dc7b-025645bd8af5"
      },
      "outputs": [
        {
          "name": "stderr",
          "output_type": "stream",
          "text": [
            "/usr/local/lib/python3.9/dist-packages/ipykernel/ipkernel.py:283: DeprecationWarning: `should_run_async` will not call `transform_cell` automatically in the future. Please pass the result to `transformed_cell` argument and any exception that happen during thetransform in `preprocessing_exc_tuple` in IPython 7.17 and above.\n",
            "  and should_run_async(code)\n"
          ]
        },
        {
          "name": "stdout",
          "output_type": "stream",
          "text": [
            "0 0.4161285330860614\n",
            "1 0.416683451423427\n",
            "2 0.3892386421221084\n",
            "3 0.32075587362145114\n",
            "4 0.2884626782630943\n",
            "5 0.30707857858630666\n",
            "6 0.3607659100245006\n",
            "7 0.36594164119796657\n",
            "8 0.3544187100517767\n",
            "9 0.337614802321551\n",
            "10 0.37323969003491475\n",
            "11 0.3445948235212129\n",
            "12 0.3558012998988565\n",
            "13 0.40841618714723277\n",
            "14 0.3324603014263382\n",
            "15 0.42260366515143966\n",
            "16 0.38607797416677103\n",
            "17 0.37676670053060995\n",
            "18 0.37063050634195355\n"
          ]
        }
      ],
      "source": [
        "index=0\n",
        "for i,j in enumerate(score):\n",
        "    print(i,j)\n",
        "    if j == max(score):\n",
        "        index = i\n",
        "\n",
        "lda_model = gensim.models.ldamodel.LdaModel(corpus=corpus,\n",
        "                                           id2word=id2word,\n",
        "                                           num_topics= topics[index],\n",
        "                                           random_state=100,\n",
        "                                           update_every=1,\n",
        "                                           chunksize=100,\n",
        "                                           passes=10,\n",
        "                                           alpha=\"auto\")"
      ]
    },
    {
      "cell_type": "code",
      "execution_count": null,
      "metadata": {
        "colab": {
          "background_save": true
        },
        "id": "OuPYa77uYr1t",
        "outputId": "d226dcc9-c7df-4bb0-ce55-8d68ae8eca83"
      },
      "outputs": [
        {
          "name": "stderr",
          "output_type": "stream",
          "text": [
            "/usr/local/lib/python3.9/dist-packages/ipykernel/ipkernel.py:283: DeprecationWarning: `should_run_async` will not call `transform_cell` automatically in the future. Please pass the result to `transformed_cell` argument and any exception that happen during thetransform in `preprocessing_exc_tuple` in IPython 7.17 and above.\n",
            "  and should_run_async(code)\n",
            "/usr/local/lib/python3.9/dist-packages/pyLDAvis/_prepare.py:243: FutureWarning: In a future version of pandas all arguments of DataFrame.drop except for the argument 'labels' will be keyword-only.\n",
            "  default_term_info = default_term_info.sort_values(\n",
            "/usr/local/lib/python3.9/dist-packages/sklearn/manifold/_mds.py:299: FutureWarning: The default value of `normalized_stress` will change to `'auto'` in version 1.4. To suppress this warning, manually set the value of `normalized_stress`.\n",
            "  warnings.warn(\n"
          ]
        },
        {
          "data": {
            "text/html": [
              "\n",
              "<link rel=\"stylesheet\" type=\"text/css\" href=\"https://cdn.jsdelivr.net/gh/bmabey/pyLDAvis@3.4.0/pyLDAvis/js/ldavis.v1.0.0.css\">\n",
              "\n",
              "\n",
              "<div id=\"ldavis_el14911396321212431201757701293\" style=\"background-color:white;\"></div>\n",
              "<script type=\"text/javascript\">\n",
              "\n",
              "var ldavis_el14911396321212431201757701293_data = {\"mdsDat\": {\"x\": [-0.16998724982128646, 0.07633807692467579, 0.0054045448824595835, 0.11005084405880564, -0.21762451339998412, -0.04127990816583854, -0.2177579152847228, -0.0895300115599818, 0.22496853517073442, 0.15883455626012066, 0.17042733795790319, 0.11205999617086262, -0.09179248810124102, 0.007160181290838074, -0.05199503221467928, 0.014723045831333941], \"y\": [-0.21506868670206042, -0.17940609008174913, -0.24547950741963437, 0.23365349085367326, -0.013915279600115583, -0.1364761819369295, 0.16378811336789836, 0.2328718316368318, 0.0014824014657576177, -0.11994098241687663, 0.06629739117482798, 0.08783274682277059, -0.01421096470486471, 0.05214341105964202, 0.08249841531683359, 0.003929891163995132], \"topics\": [1, 2, 3, 4, 5, 6, 7, 8, 9, 10, 11, 12, 13, 14, 15, 16], \"cluster\": [1, 1, 1, 1, 1, 1, 1, 1, 1, 1, 1, 1, 1, 1, 1, 1], \"Freq\": [18.06126808986637, 12.101635628036126, 11.982081935676527, 7.8875682473427675, 7.314780743646164, 6.973789070899515, 6.436462770599852, 6.411149609581715, 4.572500285264656, 3.9952841999363655, 3.5604180791599513, 3.2118299443680822, 3.2115195394330227, 2.2770292689938665, 1.7936847315341324, 0.20899785566088872]}, \"tinfo\": {\"Term\": [\"body\", \"system\", \"skeletal\", \"human\", \"muscular\", \"nervous\", \"cardiovascular\", \"particular\", \"organ\", \"then\", \"blood\", \"endocrine\", \"create\", \"spinal\", \"other\", \"major\", \"together\", \"lymphatic\", \"include\", \"function\", \"regulate\", \"gland\", \"life\", \"use\", \"digestive\", \"information\", \"responsible\", \"respiratory\", \"food\", \"help\", \"type\", \"smooth\", \"cardiac\", \"muscle\", \"movement\", \"absorb\", \"end\", \"anal\", \"solid\", \"canal\", \"begin\", \"matter\", \"no\", \"role\", \"size\", \"regulatory\", \"urinary\", \"key\", \"nestle\", \"include\", \"skeletal\", \"muscular\", \"facilitate\", \"reproductive\", \"digestive\", \"shape\", \"ureter\", \"bladder\", \"nutrient\", \"system\", \"body\", \"blood\", \"cardiovascular\", \"human\", \"waste\", \"find\", \"expel\", \"allow\", \"environment\", \"urethra\", \"neuron\", \"electrolyte\", \"filter\", \"level\", \"maintain\", \"dioxide\", \"exhale\", \"product\", \"carbon\", \"utilize\", \"regulate\", \"infrastructure\", \"extract\", \"collection\", \"lymph\", \"node\", \"defense\", \"when\", \"other\", \"lung\", \"bladder\", \"ureter\", \"create\", \"lymphatic\", \"help\", \"bone\", \"oxygen\", \"human\", \"body\", \"system\", \"blood\", \"muscle\", \"waste\", \"include\", \"use\", \"then\", \"kidney\", \"expel\", \"circulatory\", \"deliver\", \"distribute\", \"way\", \"cavity\", \"nasal\", \"throat\", \"transport\", \"travel\", \"point\", \"anchor\", \"provide\", \"hormone\", \"heart\", \"pipeline\", \"air\", \"enter\", \"blood\", \"white\", \"call\", \"produce\", \"need\", \"chemical\", \"adult\", \"lung\", \"also\", \"nutrient\", \"vessel\", \"oxygen\", \"then\", \"cardiovascular\", \"include\", \"body\", \"system\", \"human\", \"cell\", \"other\", \"major\", \"channel\", \"man\", \"primary\", \"sex\", \"testis\", \"woman\", \"being\", \"complicate\", \"healthy\", \"organism\", \"well\", \"differ\", \"fallopian\", \"involve\", \"ovary\", \"sperm\", \"uterus\", \"tube\", \"ensure\", \"framework\", \"find\", \"organ\", \"when\", \"adult\", \"bone\", \"human\", \"skeletal\", \"system\", \"hold\", \"body\", \"such\", \"thyroid\", \"amount\", \"aware\", \"thank\", \"communication\", \"coordinate\", \"lastly\", \"connection\", \"bodily\", \"gland\", \"endocrine\", \"network\", \"nerve\", \"neural\", \"transmit\", \"chemical\", \"need\", \"produce\", \"function\", \"information\", \"hormone\", \"use\", \"cell\", \"other\", \"nervous\", \"human\", \"body\", \"hold\", \"protect\", \"system\", \"complex\", \"area\", \"immune\", \"pathway\", \"heal\", \"bloodstream\", \"affected\", \"agent\", \"send\", \"transmit\", \"neural\", \"node\", \"defense\", \"lymph\", \"collection\", \"call\", \"white\", \"lymphatic\", \"information\", \"help\", \"use\", \"cell\", \"regulate\", \"also\", \"vessel\", \"then\", \"body\", \"blood\", \"human\", \"system\", \"hold\", \"complex\", \"spinal\", \"cord\", \"sensory\", \"activity\", \"brain\", \"hub\", \"intellectual\", \"comprise\", \"emanate\", \"cranial\", \"many\", \"approximately\", \"convert\", \"fuel\", \"series\", \"nerve\", \"food\", \"digestive\", \"organ\", \"nervous\", \"hold\", \"protect\", \"carry\", \"process\", \"bear\", \"child\", \"breathe\", \"passageway\", \"group\", \"urine\", \"system\", \"responsible\", \"respiratory\", \"major\", \"function\", \"skeletal\", \"lymphatic\", \"endocrine\", \"cardiac\", \"type\", \"muscular\", \"muscle\", \"cardiovascular\", \"include\", \"body\", \"particular\", \"require\", \"where\", \"nervous\", \"cardiovascular\", \"muscular\", \"energy\", \"come\", \"function\", \"skeletal\", \"system\", \"hold\", \"protect\", \"carry\", \"process\", \"bear\", \"child\", \"breathe\", \"passageway\", \"group\", \"urine\", \"intestine\", \"mouth\", \"move\", \"stomach\", \"esophagus\", \"fertilization\", \"may\", \"occur\", \"can\", \"lymphatic\", \"also\", \"vessel\", \"help\", \"collection\", \"defense\", \"lymph\", \"node\", \"utilize\", \"facilitate\", \"infrastructure\", \"other\", \"create\", \"regulate\", \"body\", \"human\", \"cell\", \"complex\", \"life\", \"make\", \"complex\", \"possible\", \"can\", \"fertilization\", \"may\", \"occur\", \"together\", \"tissue\", \"form\", \"come\", \"energy\", \"network\", \"life\", \"food\", \"cell\", \"also\", \"organ\", \"human\", \"body\", \"hold\", \"protect\", \"carry\", \"process\", \"bear\", \"child\", \"breathe\", \"passageway\", \"group\", \"urine\", \"cardiac\", \"cardiovascular\", \"digestive\", \"endocrine\", \"function\", \"include\", \"lymphatic\", \"major\", \"muscle\", \"muscular\", \"esophagus\", \"urine\", \"intestine\", \"mouth\", \"move\", \"stomach\", \"send\", \"enter\", \"food\", \"then\", \"kidney\", \"waste\", \"expel\", \"digestive\", \"vessel\", \"blood\", \"hold\", \"protect\", \"carry\", \"process\", \"bear\", \"child\", \"breathe\", \"passageway\", \"group\", \"fertilization\", \"may\", \"occur\", \"can\", \"complex\", \"system\", \"body\", \"cell\", \"human\", \"life\", \"make\", \"network\", \"organ\", \"possible\", \"tissue\", \"together\", \"cardiac\", \"cardiovascular\", \"group\", \"breathe\", \"passageway\", \"child\", \"bear\", \"respiratory\", \"give\", \"form\", \"extract\", \"air\", \"life\", \"oxygen\", \"organ\", \"then\", \"system\", \"hold\", \"protect\", \"carry\", \"process\", \"urine\", \"intestine\", \"mouth\", \"move\", \"stomach\", \"esophagus\", \"fertilization\", \"may\", \"occur\", \"can\", \"complex\", \"nestle\", \"blood\", \"include\", \"heart\", \"skeletal\", \"vessel\", \"cardiovascular\", \"muscle\", \"smooth\", \"pipeline\", \"type\", \"muscular\", \"body\", \"cell\", \"protect\", \"hold\", \"give\", \"tissue\", \"shape\", \"together\", \"bone\", \"human\", \"body\", \"organ\", \"carry\", \"process\", \"bear\", \"child\", \"breathe\", \"passageway\", \"group\", \"urine\", \"intestine\", \"mouth\", \"move\", \"stomach\", \"esophagus\", \"fertilization\", \"may\", \"occur\", \"can\", \"complex\", \"possible\", \"make\", \"agent\", \"affected\", \"pathway\", \"heal\", \"bloodstream\", \"area\", \"immune\", \"neural\", \"defense\", \"white\", \"call\", \"lymph\", \"node\", \"collection\", \"send\", \"help\", \"transmit\", \"lymphatic\", \"use\", \"system\", \"vessel\", \"cell\", \"blood\", \"also\", \"regulate\", \"process\", \"carry\", \"series\", \"information\", \"gland\", \"help\", \"endocrine\", \"use\", \"regulate\", \"nervous\", \"human\", \"system\", \"body\", \"hold\", \"protect\", \"bear\", \"child\", \"breathe\", \"passageway\", \"group\", \"urine\", \"intestine\", \"mouth\", \"move\", \"stomach\", \"esophagus\", \"fertilization\", \"may\", \"occur\", \"can\", \"provide\", \"anchor\", \"point\", \"adult\", \"skeletal\", \"include\", \"type\", \"muscular\", \"cardiac\", \"muscle\", \"also\", \"smooth\", \"cell\", \"complex\", \"life\", \"make\", \"network\", \"create\", \"responsible\", \"infrastructure\", \"reproductive\", \"facilitate\", \"life\", \"other\", \"system\", \"particular\", \"hold\", \"protect\", \"carry\", \"process\", \"bear\", \"child\", \"breathe\", \"passageway\", \"group\", \"urine\", \"intestine\", \"mouth\", \"move\", \"stomach\", \"esophagus\", \"fertilization\", \"may\", \"occur\", \"can\", \"complex\", \"possible\", \"nervous\", \"cardiovascular\", \"muscular\", \"skeletal\", \"body\", \"cell\", \"human\", \"make\", \"network\", \"organ\", \"tissue\", \"together\", \"cardiac\", \"digestive\", \"endocrine\", \"function\", \"include\", \"lymphatic\", \"major\", \"responsible\", \"respiratory\", \"function\", \"major\", \"lymphatic\", \"endocrine\", \"nervous\", \"hold\", \"protect\", \"carry\", \"process\", \"bear\", \"child\", \"breathe\", \"passageway\", \"group\", \"urine\", \"intestine\", \"mouth\", \"move\", \"stomach\", \"esophagus\", \"digestive\", \"fertilization\", \"may\", \"occur\", \"can\", \"complex\", \"possible\", \"make\", \"skeletal\", \"cardiac\", \"human\", \"cardiovascular\", \"affected\", \"bloodstream\", \"smooth\", \"immune\", \"agent\", \"heal\", \"muscle\", \"system\", \"area\", \"type\", \"body\", \"pathway\", \"muscular\", \"include\", \"white\", \"collection\", \"neural\", \"send\", \"help\", \"node\", \"lymph\", \"also\", \"vessel\", \"information\", \"blood\", \"hold\", \"protect\", \"carry\", \"process\", \"bear\", \"child\", \"breathe\", \"passageway\", \"group\", \"urine\", \"intestine\", \"mouth\", \"move\", \"stomach\", \"esophagus\", \"fertilization\", \"may\", \"occur\", \"can\", \"complex\", \"possible\", \"make\", \"approximately\", \"convert\", \"fuel\", \"cranial\", \"many\", \"comprise\", \"emanate\", \"require\", \"body\", \"cell\", \"human\", \"life\", \"network\", \"organ\", \"tissue\", \"together\", \"cardiac\", \"cardiovascular\", \"digestive\", \"endocrine\", \"function\", \"include\", \"lymphatic\", \"major\", \"muscle\", \"muscular\", \"nervous\", \"respiratory\", \"responsible\", \"skeletal\", \"smooth\", \"system\", \"type\", \"create\", \"facilitate\"], \"Freq\": [14.0, 28.0, 9.0, 12.0, 6.0, 5.0, 6.0, 3.0, 5.0, 5.0, 10.0, 3.0, 2.0, 2.0, 4.0, 2.0, 2.0, 2.0, 8.0, 2.0, 3.0, 2.0, 2.0, 3.0, 3.0, 2.0, 1.0, 1.0, 2.0, 2.0, 3.4873416987978305, 3.479190466918496, 2.5554221183150476, 3.484165200573094, 0.9210116712894802, 0.9210115954273713, 0.9210115954273713, 0.9210115195652624, 0.9210115195652624, 0.9210113678410446, 0.9210113678410446, 0.9210113678410446, 0.9210113678410446, 0.9210113678410446, 0.9210113678410446, 0.9210112919789357, 0.9210112919789357, 0.9210112161168268, 0.9208269470542578, 5.03819564664307, 4.8679307293809675, 3.487957092225397, 0.9210115954273713, 0.9210113678410446, 1.680055464169539, 0.9210113678410446, 0.9210113678410446, 0.9210112161168268, 0.9210115954273713, 10.059270125647997, 3.4896746103713663, 2.654058335782457, 1.6400134706662481, 1.5103856092898127, 0.9210115954273713, 0.9210115195652624, 0.9210115195652624, 0.8580442881900592, 0.8580442881900592, 0.8580442881900592, 0.8580441865299104, 0.8580441865299104, 0.8580441865299104, 0.8580441865299104, 0.8580441865299104, 0.8580441865299104, 0.8580441865299104, 0.8580441865299104, 0.8580440848697617, 0.8580397134833663, 1.6656261051128602, 0.8580442881900592, 0.8580441865299104, 0.858039815143515, 0.8580397134833663, 0.858039815143515, 0.858039815143515, 0.8580441865299104, 1.6656280366556862, 0.858043983209613, 0.8580442881900592, 0.8580441865299104, 0.8580442881900592, 0.858039815143515, 0.8580397134833663, 0.8580441865299104, 0.8580441865299104, 3.280790348919355, 3.280791162200545, 3.590055363738132, 1.6656280366556862, 0.8580442881900592, 0.8580442881900592, 0.8580441865299104, 0.8580441865299104, 0.8580441865299104, 0.8580441865299104, 0.8580441865299104, 0.8588270843295617, 0.8588270843295617, 0.8588270843295617, 0.8588270843295617, 0.8588266817062241, 0.8588266817062241, 0.8588266817062241, 0.8588266817062241, 0.8588266817062241, 0.8579308447801136, 0.8578707532469801, 0.8577434236164712, 1.6671473860441826, 1.6671473860441826, 1.6671473860441826, 0.8588267823620586, 0.8588266817062241, 4.092101345935472, 0.8588270843295617, 0.8588270843295617, 0.8588270843295617, 0.8588269836737273, 0.8588268830178929, 0.8577101065352866, 0.8588266817062241, 1.6662809406217152, 0.8588270843295617, 1.6671471847325137, 0.8588270843295617, 1.6671473860441826, 1.6671471847325137, 1.8558916706297521, 2.475465573986281, 2.793938419581945, 1.6671473860441826, 0.8588270843295617, 0.8588270843295617, 1.5265395812125009, 0.7863950399777604, 0.7863950399777604, 0.7863950399777604, 0.7863950399777604, 0.7863950399777604, 0.7863950399777604, 0.7863950399777604, 0.7863950399777604, 0.7863950399777604, 0.7863950399777604, 0.7863950399777604, 0.7863949737180095, 0.7863949737180095, 0.7863949737180095, 0.7863949737180095, 0.7863949737180095, 0.7863949737180095, 0.7863949074582587, 0.7863949074582587, 0.7863943773802522, 1.5265395812125009, 2.2666832610704812, 0.7863949074582587, 0.7863943773802522, 0.7863943773802522, 1.5265395812125009, 0.7863942448607506, 2.2666832610704812, 0.04625895928495163, 0.04625895928495163, 1.5099322680638643, 1.5099322680638643, 0.7778399797537433, 0.7778399797537433, 0.7778399797537433, 0.7778399183057109, 0.7778399183057109, 0.7778399183057109, 0.7778399183057109, 0.7778397339616137, 1.5099321451677996, 1.5099322680638643, 0.7778399183057109, 0.7778399797537433, 0.7778400412017757, 0.7778397954096461, 0.7778399797537433, 0.7778399797537433, 0.7778399797537433, 0.7778399797537433, 0.7778399797537433, 0.7778399797537433, 0.7778399797537433, 0.7778400412017757, 0.7778400412017757, 0.7778399183057109, 0.7778399183057109, 0.7778399183057109, 0.045755687368840024, 0.045755687368840024, 0.7778399183057109, 0.045755687368840024, 0.775753446046722, 0.7756219260403683, 0.775440258539387, 0.7753517974215277, 0.7752475773363147, 0.7749114250884493, 0.7745021606054262, 0.7759624720523657, 0.7758891254831207, 0.7751150028265693, 0.7755867173437898, 0.7755822064126142, 0.7755261419822889, 0.7754145989568556, 0.7755053448320637, 0.7749664350153831, 0.7755446543751654, 0.7756991391220495, 0.7749705944454282, 0.7754440664683016, 0.7755325861696826, 0.7756699059446907, 0.7754048155087215, 0.775080497132252, 0.775934937797138, 1.5047752854527716, 0.7754998965645399, 0.7752322284536133, 1.504688581840565, 0.04576788573888131, 0.04576788573888131, 2.1605712087954343, 1.4550770574441931, 1.4550770574441931, 1.4550768411654083, 1.4550768411654083, 1.4550768411654083, 1.4550768411654083, 0.7495816624899383, 0.7495816624899383, 0.749581608420242, 0.749581608420242, 0.7495814462111533, 0.7495814462111533, 0.7495814462111533, 0.7495814462111533, 0.7495816624899383, 0.7495814462111533, 0.7529182493759267, 0.7495814462111533, 0.7523318094503821, 0.0440933912181646, 0.0440933912181646, 0.0440933912181646, 0.0440933912181646, 0.0440933912181646, 0.0440933912181646, 0.0440933912181646, 0.0440933912181646, 0.0440933912181646, 0.0440933912181646, 0.7556406045124973, 0.04666336781263012, 0.04640839540124379, 0.04725789453712032, 0.04662757367371158, 0.05007910259586276, 0.04625269495217535, 0.046666611994405215, 0.04676087913046382, 0.04732444419513796, 0.047351103934746, 0.046996879837177874, 0.04711234905287913, 0.04701974455998026, 0.04685511585231828, 2.830840199148237, 0.776553850163654, 0.776553850163654, 2.8308397682918183, 2.830840414576446, 2.830840199148237, 0.7765539578777586, 0.7765539578777586, 0.7765539578777586, 2.830839552863609, 2.563560574314223, 0.04567997306946283, 0.04567997306946283, 0.04567997306946283, 0.04567997306946283, 0.04567997306946283, 0.04567997306946283, 0.04567997306946283, 0.04567997306946283, 0.04567997306946283, 0.04567997306946283, 0.04567997306946283, 0.04567997306946283, 0.04567997306946283, 0.04567997306946283, 0.04567997306946283, 0.04567997306946283, 0.04567997306946283, 0.04567997306946283, 0.04567997306946283, 0.045680030292580893, 0.045680030292580893, 0.045680030292580893, 0.045680030292580893, 0.045680030292580893, 0.045680030292580893, 0.045680030292580893, 0.045680030292580893, 0.045680030292580893, 0.04568002019438359, 0.04568002019438359, 0.04568002019438359, 0.04567999326585744, 0.04567999326585744, 0.045679983167660136, 0.045679983167660136, 0.04567997306946283, 0.04567997306946283, 0.04567997306946283, 0.6627086134364114, 0.6627085366135631, 0.6627085366135631, 0.6627083061450181, 0.6627079988536249, 0.6627079988536249, 0.6627079988536249, 1.2864388500980646, 0.6627086134364114, 0.6627083061450181, 0.6627083061450181, 0.6627081524993215, 0.6627085366135631, 0.6627085366135631, 0.6627083061450181, 0.6627086134364114, 0.6627083061450181, 0.6627086134364114, 0.6627085366135631, 0.6627085366135631, 0.03898311338349922, 0.03898311338349922, 0.03898311338349922, 0.03898311338349922, 0.03898311338349922, 0.03898311338349922, 0.03898311338349922, 0.03898311338349922, 0.03898311338349922, 0.03898311338349922, 0.03898311338349922, 0.03898311338349922, 0.03898311338349922, 0.03898311338349922, 0.03898311338349922, 0.03898311338349922, 0.03898311338349922, 0.03898311338349922, 0.03898311338349922, 0.03898311338349922, 0.6368352769354256, 0.6368351426854123, 0.6368351426854123, 0.6368351426854123, 0.6368351426854123, 0.6368351426854123, 0.6368350755604056, 0.6368351426854123, 0.6368351426854123, 1.2362133234117776, 0.6368350755604056, 0.6368350755604056, 0.6368350084353991, 0.6368352769354256, 0.6368351426854123, 0.6368350755604056, 0.03746111951414617, 0.03746111951414617, 0.03746111951414617, 0.03746111951414617, 0.03746111951414617, 0.03746111951414617, 0.03746111951414617, 0.03746111951414617, 0.03746111951414617, 0.03746111951414617, 0.03746111951414617, 0.03746111951414617, 0.03746111951414617, 0.03746111951414617, 0.6368350084353991, 0.03746111951414617, 0.03746111951414617, 0.03746111951414617, 0.03746111951414617, 0.03746111951414617, 0.03746111951414617, 0.03746111951414617, 0.03746111951414617, 0.03746111951414617, 0.03746111951414617, 0.03746111951414617, 0.03746111951414617, 0.607890440708042, 0.6078903808892469, 0.6078903808892469, 0.6078902014328613, 0.6078900817952709, 0.6078903808892469, 0.607890440708042, 0.6078902014328613, 0.6078903808892469, 0.6078905005268372, 0.6078903808892469, 0.6078903808892469, 0.6078903808892469, 0.6078902014328613, 1.1802014995080585, 0.03575846068741139, 0.03575846068741139, 0.03575846068741139, 0.03575846068741139, 0.03575846068741139, 0.03575846068741139, 0.03575846068741139, 0.03575846068741139, 0.03575846068741139, 0.03575846068741139, 0.03575846068741139, 0.03575846068741139, 0.03575846068741139, 0.03575846068741139, 0.03575846068741139, 0.035880513461620245, 0.036191709527503425, 0.03600143715607013, 0.03589939376884792, 0.03588821139282456, 0.035879642350415485, 0.035872568777885826, 0.035869630179572766, 0.0358636109133081, 0.03585965913415173, 0.03585515029246528, 0.035853284693790705, 0.03575846068741139, 0.03575846068741139, 0.5891535216161403, 0.589153467653995, 0.5891535216161403, 0.5891535216161403, 0.5891535216161403, 0.5891534136918497, 0.5891535216161403, 1.6991215010715053, 1.7006271528486352, 0.5891535216161403, 0.0346562704387306, 0.0346562704387306, 0.0346562704387306, 0.0346562704387306, 0.0346562704387306, 0.0346562704387306, 0.0346562704387306, 0.0346562704387306, 0.0346562704387306, 0.0346562704387306, 0.0346562704387306, 0.0346562704387306, 0.0346562704387306, 0.0346562704387306, 0.0346562704387306, 0.0346562704387306, 0.0346562704387306, 0.0346562704387306, 0.0346562704387306, 0.0346562704387306, 0.03645182709601812, 0.036022564975718645, 0.03591871482715989, 0.03586306636485735, 0.03582905335017123, 0.035656354249524964, 0.03559806164210455, 0.03587943713067653, 0.03580550224639799, 0.03570069089712673, 0.03568520038880215, 0.03565536269510576, 0.035598874446917575, 0.035550038705454506, 0.03536874276054102, 0.03583531633165583, 0.035453962478447704, 0.035702329997289096, 0.03574420799464731, 0.03727081057467558, 0.035905365941475434, 0.03565258701725879, 0.03567498468017704, 0.03563399368558159, 0.03561268875610492, 0.5900442828295894, 0.5900441749157291, 0.5900442828295894, 0.5900442828295894, 0.5900442828295894, 0.5900441209587991, 0.5900442828295894, 0.5900442828295894, 0.5900442828295894, 0.5900442828295894, 0.5900442828295894, 1.1469135788233609, 0.5900442828295894, 0.034708665362487824, 0.034708665362487824, 0.034708665362487824, 0.034708665362487824, 0.034708665362487824, 0.034708665362487824, 0.034708665362487824, 0.034708665362487824, 0.034708665362487824, 0.034708665362487824, 0.034708665362487824, 0.034708665362487824, 0.034708665362487824, 0.034708665362487824, 0.034708665362487824, 0.034708665362487824, 0.034708665362487824, 0.03543960303343653, 0.035352135477385485, 0.03531089552122447, 0.03546255833489929, 0.03622294974508344, 0.03572625259706745, 0.03536390483277038, 0.035496996345555615, 0.035211591163625856, 0.03536057973695104, 0.035298785562718114, 0.035206370830635644, 0.034708665362487824, 0.034708665362487824, 0.034708665362487824, 0.034708665362487824, 0.034708665362487824, 0.9191654486269946, 0.47350847422887, 0.47350640837766966, 0.47350847422887, 0.4735064466341734, 0.47350847422887, 0.4735064466341734, 0.9958378326408757, 0.0999415867791586, 0.02785358959226057, 0.02785358959226057, 0.02785358959226057, 0.02785358959226057, 0.02785358959226057, 0.02785358959226057, 0.02785358959226057, 0.02785358959226057, 0.02785358959226057, 0.02785358959226057, 0.02785358959226057, 0.02785358959226057, 0.02785358959226057, 0.02785358959226057, 0.02785358959226057, 0.02785358959226057, 0.02785358959226057, 0.02785358959226057, 0.02785358959226057, 0.02785358959226057, 0.02785358959226057, 0.09994144331726967, 0.09994145288139561, 0.09994151026615117, 0.0999415867791586, 0.02785358959226057, 0.02785358959226057, 0.02785358959226057, 0.02785358959226057, 0.02785358959226057, 0.02785358959226057, 0.02785358959226057, 0.02785358959226057, 0.02785358959226057, 0.02785358959226057, 0.02785358959226057, 0.02785358959226057, 0.02785358959226057, 0.02785358959226057, 0.02785358959226057, 0.42176093652584656, 0.42190498566651746, 0.4217811576499868, 0.42142522367499435, 0.42260296101109457, 0.42175912837763735, 0.4216593487322898, 0.024895110038138542, 0.024895110038138542, 0.024895110038138542, 0.024895110038138542, 0.024895110038138542, 0.024895110038138542, 0.024895110038138542, 0.024895110038138542, 0.024895110038138542, 0.024895110038138542, 0.024895110038138542, 0.024895110038138542, 0.024895110038138542, 0.024895110038138542, 0.024895110038138542, 0.07254714023582412, 0.024895110038138542, 0.024895110038138542, 0.024895110038138542, 0.024895110038138542, 0.024895110038138542, 0.024895110038138542, 0.024895110038138542, 0.16867604394147992, 0.056910233085430466, 0.15179158609923146, 0.09104645524376097, 0.025619478696107662, 0.02557565370388577, 0.0356108122266857, 0.02553802726974374, 0.025533644393824006, 0.02549453188787249, 0.03326870278333196, 0.04697525350737431, 0.025424537717297024, 0.031662660340163705, 0.0392362284927323, 0.0254064411673027, 0.03152432946820459, 0.02907794826129592, 0.025820789630380498, 0.02568526138814573, 0.025611569931179877, 0.02551751420500725, 0.02572183683614113, 0.025556506167744814, 0.025548925129679954, 0.025630257896317645, 0.02561168859090611, 0.02559933102798846, 0.025549102177525446, 0.004883835786096226, 0.004883835786096226, 0.004883835786096226, 0.004883835786096226, 0.004883835786096226, 0.004883835786096226, 0.004883835786096226, 0.004883835786096226, 0.004883835786096226, 0.004883835786096226, 0.004883835786096226, 0.004883835786096226, 0.004883835786096226, 0.004883835786096226, 0.004883835786096226, 0.004883835786096226, 0.004883835786096226, 0.004883835786096226, 0.004883835786096226, 0.004883835786096226, 0.004883835786096226, 0.004883835786096226, 0.004883835786096226, 0.004883835786096226, 0.004883835786096226, 0.004883835786096226, 0.004883835786096226, 0.004883835786096226, 0.004883835786096226, 0.004883835786096226, 0.004883835786096226, 0.004883835786096226, 0.004883835786096226, 0.004883835786096226, 0.004883835786096226, 0.004883835786096226, 0.004883835786096226, 0.004883835786096226, 0.004883835786096226, 0.004883835786096226, 0.004883835786096226, 0.004883835786096226, 0.004883835786096226, 0.004883835786096226, 0.004883835786096226, 0.004883835786096226, 0.004883835786096226, 0.004883835786096226, 0.004883835786096226, 0.004883835786096226, 0.004883835786096226, 0.004883835786096226, 0.004883835786096226, 0.004883835786096226, 0.004883835786096226, 0.004883835786096226, 0.004883835786096226], \"Total\": [14.0, 28.0, 9.0, 12.0, 6.0, 5.0, 6.0, 3.0, 5.0, 5.0, 10.0, 3.0, 2.0, 2.0, 4.0, 2.0, 2.0, 2.0, 8.0, 2.0, 3.0, 2.0, 2.0, 3.0, 3.0, 2.0, 1.0, 1.0, 2.0, 2.0, 4.079224185668577, 4.074792684375429, 3.182181457122579, 4.88497024606043, 1.4887614703690883, 1.4887613945069795, 1.4887613945069795, 1.4887613186448705, 1.4887613186448705, 1.4887611669206529, 1.4887611669206529, 1.4887611669206529, 1.4887611669206529, 1.4887611669206529, 1.4887611669206529, 1.4887610910585438, 1.4887610910585438, 1.488761015196435, 1.4886987989080749, 8.227257320554015, 9.266861216763669, 6.958828057349714, 1.9344142986738133, 1.9344160515572624, 3.603656309025875, 2.0432584180980626, 2.296331502600407, 2.296331452536338, 2.2970685920901603, 28.39957778167089, 14.76591381498604, 10.209755701949529, 6.773158918751196, 12.839881697961461, 2.895705787893142, 2.96904194057242, 2.895705543245878, 1.4294983373680707, 1.4294983373680707, 1.4294983373680707, 1.429498235707922, 1.429498235707922, 1.429498235707922, 1.429498235707922, 1.429498235707922, 1.429498235707922, 1.429498235707922, 1.429498235707922, 1.4294981340477733, 1.429493819884496, 3.52388051575653, 1.8751512032784008, 2.0016301559097576, 2.1608245543793507, 2.160904983475821, 2.1609167532873474, 2.160972980847481, 2.1696341838812296, 4.223126541416647, 2.2378048273474676, 2.296331452536338, 2.296331502600407, 2.3208102165991993, 2.5601839423775092, 2.7160377568782827, 2.724130904980633, 2.8099373534929386, 12.839881697961461, 14.76591381498604, 28.39957778167089, 10.209755701949529, 4.88497024606043, 2.895705787893142, 8.227257320554015, 3.4483169031483496, 5.54855635219459, 2.895705382784558, 2.895705543245878, 1.4302350976113487, 1.4302350976113487, 1.4302350976113487, 1.4302350976113487, 1.4302346949880111, 1.4302346949880111, 1.4302346949880111, 1.4302346949880111, 1.4302346949880111, 1.4299412114965642, 1.4299223599195918, 1.4298824978451339, 2.9706396917108733, 3.1053164267738236, 3.1053369266536106, 2.0023668354832713, 2.0296087181592775, 10.209755701949529, 2.1614037469384897, 2.1616451478638568, 2.1623193899962527, 2.1623192893404184, 2.1623191886845836, 2.170007554160713, 2.2378048273474676, 4.400920035010268, 2.2970685920901603, 5.243544592191113, 2.8099373534929386, 5.54855635219459, 6.773158918751196, 8.227257320554015, 14.76591381498604, 28.39957778167089, 12.839881697961461, 3.5174582579730167, 4.223126541416647, 2.5019031768425837, 1.362063980720977, 1.362063980720977, 1.362063980720977, 1.362063980720977, 1.362063980720977, 1.362063980720977, 1.362063980720977, 1.362063980720977, 1.362063980720977, 1.362063980720977, 1.362063980720977, 1.3620639144612259, 1.3620639144612259, 1.3620639144612259, 1.3620639144612259, 1.3620639144612259, 1.3620639144612259, 1.362063848201475, 1.362063848201475, 1.3620633181234687, 2.96904194057242, 5.298194928238844, 2.1696341838812296, 2.170007554160713, 2.724130904980633, 12.839881697961461, 9.266861216763669, 28.39957778167089, 1.1764250972434327, 14.76591381498604, 2.0861044807231925, 2.0861044807231925, 1.3540121924130715, 1.3540121924130715, 1.3540121924130715, 1.354012130965039, 1.354012130965039, 1.354012130965039, 1.354012130965039, 1.3540119466209417, 2.6414399752942295, 3.040877375237088, 1.977737554195103, 2.0595004636848455, 2.08529899753378, 2.085531985269078, 2.1623191886845836, 2.1623192893404184, 2.1623193899962527, 2.484306445219817, 2.6407811449246124, 2.9706396917108733, 3.4483169031483496, 3.5174582579730167, 4.223126541416647, 5.8938342165686715, 12.839881697961461, 14.76591381498604, 1.1764250972434327, 1.176425151205578, 28.39957778167089, 1.2456533232582319, 1.3534429718259617, 1.3533666487646343, 1.3533740483462673, 1.3533180294866753, 1.3532609182027895, 1.3531621025726934, 1.3530962659076862, 1.9528313188765913, 2.085531985269078, 2.08529899753378, 2.1609167532873474, 2.160972980847481, 2.160904983475821, 2.1608245543793507, 2.1616451478638568, 2.1614037469384897, 2.5601839423775092, 2.6407811449246124, 2.7160377568782827, 3.4483169031483496, 3.5174582579730167, 3.52388051575653, 4.400920035010268, 5.243544592191113, 5.54855635219459, 14.76591381498604, 10.209755701949529, 12.839881697961461, 28.39957778167089, 1.1764250972434327, 1.2456533232582319, 2.738405717605438, 2.0329115662541968, 2.0329115662541968, 2.0329113499754117, 2.0329113499754117, 2.0329113499754117, 2.0329113499754117, 1.3274161712999417, 1.3274161712999417, 1.3274161172302454, 1.3274161172302454, 1.3274159550211566, 1.3274159550211566, 1.3274159550211566, 1.8827515724882582, 2.0595004636848455, 2.550515170953942, 3.603656309025875, 5.298194928238844, 5.8938342165686715, 1.1764250972434327, 1.176425151205578, 1.1772634095814096, 1.17726351749527, 1.1940595211360276, 1.1940596407736181, 1.1940598202300037, 1.1940598202300037, 1.1940598800487987, 1.2213019231994342, 28.39957778167089, 1.4670186256780058, 1.5933847379725163, 2.5019031768425837, 2.484306445219817, 9.266861216763669, 2.5601839423775092, 3.040877375237088, 3.182181457122579, 4.079224185668577, 6.958828057349714, 4.88497024606043, 6.773158918751196, 8.227257320554015, 14.76591381498604, 3.501412057012803, 1.352801777122359, 1.352801777122359, 5.8938342165686715, 6.773158918751196, 6.958828057349714, 1.976526923952286, 1.9765270775979826, 2.484306445219817, 9.266861216763669, 28.39957778167089, 1.1764250972434327, 1.176425151205578, 1.1772634095814096, 1.17726351749527, 1.1940595211360276, 1.1940596407736181, 1.1940598202300037, 1.1940598202300037, 1.1940598800487987, 1.2213019231994342, 1.2213019231994342, 1.2213019231994342, 1.2213019231994342, 1.2213019231994342, 1.2213020574494475, 1.2456527854982937, 1.2456527854982937, 1.2456527854982937, 1.245653092789687, 2.5601839423775092, 4.400920035010268, 5.243544592191113, 2.7160377568782827, 2.1608245543793507, 2.160972980847481, 2.160904983475821, 2.1609167532873474, 1.429493819884496, 1.9344142986738133, 1.8751512032784008, 4.223126541416647, 2.3208102165991993, 3.52388051575653, 14.76591381498604, 12.839881697961461, 3.5174582579730167, 1.2456533232582319, 2.263440128096677, 1.2456534000810802, 1.2456533232582319, 1.2456533232582319, 1.245653092789687, 1.2456527854982937, 1.2456527854982937, 1.2456527854982937, 2.423880779995853, 1.80015065125849, 1.817784833535137, 1.9765270775979826, 1.976526923952286, 1.977737554195103, 2.263440128096677, 2.550515170953942, 3.5174582579730167, 4.400920035010268, 5.298194928238844, 12.839881697961461, 14.76591381498604, 1.1764250972434327, 1.176425151205578, 1.1772634095814096, 1.17726351749527, 1.1940595211360276, 1.1940596407736181, 1.1940598202300037, 1.1940598202300037, 1.1940598800487987, 1.2213019231994342, 3.182181457122579, 6.773158918751196, 3.603656309025875, 3.040877375237088, 2.484306445219817, 8.227257320554015, 2.5601839423775092, 2.5019031768425837, 4.88497024606043, 6.958828057349714, 1.2213020574494475, 1.2213019231994342, 1.2213019231994342, 1.2213019231994342, 1.2213019231994342, 1.2213019231994342, 1.9528313188765913, 2.0296087181592775, 2.550515170953942, 5.54855635219459, 2.895705382784558, 2.895705787893142, 2.895705543245878, 3.603656309025875, 5.243544592191113, 10.209755701949529, 1.1764250972434327, 1.176425151205578, 1.1772634095814096, 1.17726351749527, 1.1940595211360276, 1.1940596407736181, 1.1940598202300037, 1.1940598202300037, 1.1940598800487987, 1.2456527854982937, 1.2456527854982937, 1.2456527854982937, 1.245653092789687, 1.2456533232582319, 28.39957778167089, 14.76591381498604, 3.5174582579730167, 12.839881697961461, 2.263440128096677, 1.2456534000810802, 1.977737554195103, 5.298194928238844, 1.2456533232582319, 1.80015065125849, 2.423880779995853, 3.182181457122579, 6.773158918751196, 1.1940598800487987, 1.1940598202300037, 1.1940598202300037, 1.1940596407736181, 1.1940595211360276, 1.5933847379725163, 1.7485571312262085, 1.817784833535137, 2.0016301559097576, 2.0023668354832713, 2.263440128096677, 2.8099373534929386, 5.298194928238844, 5.54855635219459, 28.39957778167089, 1.1764250972434327, 1.176425151205578, 1.1772634095814096, 1.17726351749527, 1.2213019231994342, 1.2213019231994342, 1.2213019231994342, 1.2213019231994342, 1.2213019231994342, 1.2213020574494475, 1.2456527854982937, 1.2456527854982937, 1.2456527854982937, 1.245653092789687, 1.2456533232582319, 1.4886987989080749, 10.209755701949529, 8.227257320554015, 3.1053164267738236, 9.266861216763669, 5.243544592191113, 6.773158918751196, 4.88497024606043, 4.074792684375429, 3.1053369266536106, 4.079224185668577, 6.958828057349714, 14.76591381498604, 3.5174582579730167, 1.176425151205578, 1.1764250972434327, 1.7485571312262085, 1.80015065125849, 2.0432584180980626, 2.423880779995853, 2.724130904980633, 12.839881697961461, 14.76591381498604, 5.298194928238844, 1.1772634095814096, 1.17726351749527, 1.1940595211360276, 1.1940596407736181, 1.1940598202300037, 1.1940598202300037, 1.1940598800487987, 1.2213019231994342, 1.2213019231994342, 1.2213019231994342, 1.2213019231994342, 1.2213019231994342, 1.2213020574494475, 1.2456527854982937, 1.2456527854982937, 1.2456527854982937, 1.245653092789687, 1.2456533232582319, 1.2456533232582319, 1.2456534000810802, 1.3530962659076862, 1.3531621025726934, 1.3533740483462673, 1.3533180294866753, 1.3532609182027895, 1.3534429718259617, 1.3533666487646343, 2.08529899753378, 2.160972980847481, 2.1614037469384897, 2.1616451478638568, 2.160904983475821, 2.1609167532873474, 2.1608245543793507, 1.9528313188765913, 2.7160377568782827, 2.085531985269078, 2.5601839423775092, 3.4483169031483496, 28.39957778167089, 5.243544592191113, 3.5174582579730167, 10.209755701949529, 4.400920035010268, 3.52388051575653, 1.17726351749527, 1.1772634095814096, 1.8827515724882582, 2.6407811449246124, 2.6414399752942295, 2.7160377568782827, 3.040877375237088, 3.4483169031483496, 3.52388051575653, 5.8938342165686715, 12.839881697961461, 28.39957778167089, 14.76591381498604, 1.1764250972434327, 1.176425151205578, 1.1940595211360276, 1.1940596407736181, 1.1940598202300037, 1.1940598202300037, 1.1940598800487987, 1.2213019231994342, 1.2213019231994342, 1.2213019231994342, 1.2213019231994342, 1.2213019231994342, 1.2213020574494475, 1.2456527854982937, 1.2456527854982937, 1.2456527854982937, 1.245653092789687, 1.4298824978451339, 1.4299223599195918, 1.4299412114965642, 2.170007554160713, 9.266861216763669, 8.227257320554015, 4.079224185668577, 6.958828057349714, 3.182181457122579, 4.88497024606043, 4.400920035010268, 4.074792684375429, 3.5174582579730167, 1.2456533232582319, 2.263440128096677, 1.2456534000810802, 1.977737554195103, 2.3208102165991993, 1.4670186256780058, 1.8751512032784008, 1.9344160515572624, 1.9344142986738133, 2.263440128096677, 4.223126541416647, 28.39957778167089, 3.501412057012803, 1.1764250972434327, 1.176425151205578, 1.1772634095814096, 1.17726351749527, 1.1940595211360276, 1.1940596407736181, 1.1940598202300037, 1.1940598202300037, 1.1940598800487987, 1.2213019231994342, 1.2213019231994342, 1.2213019231994342, 1.2213019231994342, 1.2213019231994342, 1.2213020574494475, 1.2456527854982937, 1.2456527854982937, 1.2456527854982937, 1.245653092789687, 1.2456533232582319, 1.2456533232582319, 5.8938342165686715, 6.773158918751196, 6.958828057349714, 9.266861216763669, 14.76591381498604, 3.5174582579730167, 12.839881697961461, 1.2456534000810802, 1.977737554195103, 5.298194928238844, 1.80015065125849, 2.423880779995853, 3.182181457122579, 3.603656309025875, 3.040877375237088, 2.484306445219817, 8.227257320554015, 2.5601839423775092, 2.5019031768425837, 1.4670186256780058, 1.5933847379725163, 2.484306445219817, 2.5019031768425837, 2.5601839423775092, 3.040877375237088, 5.8938342165686715, 1.1764250972434327, 1.176425151205578, 1.1772634095814096, 1.17726351749527, 1.1940595211360276, 1.1940596407736181, 1.1940598202300037, 1.1940598202300037, 1.1940598800487987, 1.2213019231994342, 1.2213019231994342, 1.2213019231994342, 1.2213019231994342, 1.2213019231994342, 1.2213020574494475, 3.603656309025875, 1.2456527854982937, 1.2456527854982937, 1.2456527854982937, 1.245653092789687, 1.2456533232582319, 1.2456533232582319, 1.2456534000810802, 9.266861216763669, 3.182181457122579, 12.839881697961461, 6.773158918751196, 1.3531621025726934, 1.3532609182027895, 4.074792684375429, 1.3533666487646343, 1.3530962659076862, 1.3533180294866753, 4.88497024606043, 28.39957778167089, 1.3534429718259617, 4.079224185668577, 14.76591381498604, 1.3533740483462673, 6.958828057349714, 8.227257320554015, 2.1614037469384897, 2.1608245543793507, 2.08529899753378, 1.9528313188765913, 2.7160377568782827, 2.1609167532873474, 2.160904983475821, 4.400920035010268, 5.243544592191113, 2.6407811449246124, 10.209755701949529, 1.1764250972434327, 1.176425151205578, 1.1772634095814096, 1.17726351749527, 1.1940595211360276, 1.1940596407736181, 1.1940598202300037, 1.1940598202300037, 1.1940598800487987, 1.2213019231994342, 1.2213019231994342, 1.2213019231994342, 1.2213019231994342, 1.2213019231994342, 1.2213020574494475, 1.2456527854982937, 1.2456527854982937, 1.2456527854982937, 1.245653092789687, 1.2456533232582319, 1.2456533232582319, 1.2456534000810802, 1.3274159550211566, 1.3274159550211566, 1.3274159550211566, 1.3274161172302454, 1.3274161172302454, 1.3274161712999417, 1.3274161712999417, 1.352801777122359, 14.76591381498604, 3.5174582579730167, 12.839881697961461, 2.263440128096677, 1.977737554195103, 5.298194928238844, 1.80015065125849, 2.423880779995853, 3.182181457122579, 6.773158918751196, 3.603656309025875, 3.040877375237088, 2.484306445219817, 8.227257320554015, 2.5601839423775092, 2.5019031768425837, 4.88497024606043, 6.958828057349714, 5.8938342165686715, 1.5933847379725163, 1.4670186256780058, 9.266861216763669, 4.074792684375429, 28.39957778167089, 4.079224185668577, 2.3208102165991993, 1.9344142986738133], \"Category\": [\"Default\", \"Default\", \"Default\", \"Default\", \"Default\", \"Default\", \"Default\", \"Default\", \"Default\", \"Default\", \"Default\", \"Default\", \"Default\", \"Default\", \"Default\", \"Default\", \"Default\", \"Default\", \"Default\", \"Default\", \"Default\", \"Default\", \"Default\", \"Default\", \"Default\", \"Default\", \"Default\", \"Default\", \"Default\", \"Default\", \"Topic1\", \"Topic1\", \"Topic1\", \"Topic1\", \"Topic1\", \"Topic1\", \"Topic1\", \"Topic1\", \"Topic1\", \"Topic1\", \"Topic1\", \"Topic1\", \"Topic1\", \"Topic1\", \"Topic1\", \"Topic1\", \"Topic1\", \"Topic1\", \"Topic1\", \"Topic1\", \"Topic1\", \"Topic1\", \"Topic1\", \"Topic1\", \"Topic1\", \"Topic1\", \"Topic1\", \"Topic1\", \"Topic1\", \"Topic1\", \"Topic1\", \"Topic1\", \"Topic1\", \"Topic1\", \"Topic1\", \"Topic1\", \"Topic1\", \"Topic2\", \"Topic2\", \"Topic2\", \"Topic2\", \"Topic2\", \"Topic2\", \"Topic2\", \"Topic2\", \"Topic2\", \"Topic2\", \"Topic2\", \"Topic2\", \"Topic2\", \"Topic2\", \"Topic2\", \"Topic2\", \"Topic2\", \"Topic2\", \"Topic2\", \"Topic2\", \"Topic2\", \"Topic2\", \"Topic2\", \"Topic2\", \"Topic2\", \"Topic2\", \"Topic2\", \"Topic2\", \"Topic2\", \"Topic2\", \"Topic2\", \"Topic2\", \"Topic2\", \"Topic2\", \"Topic2\", \"Topic2\", \"Topic2\", \"Topic2\", \"Topic2\", \"Topic2\", \"Topic2\", \"Topic3\", \"Topic3\", \"Topic3\", \"Topic3\", \"Topic3\", \"Topic3\", \"Topic3\", \"Topic3\", \"Topic3\", \"Topic3\", \"Topic3\", \"Topic3\", \"Topic3\", \"Topic3\", \"Topic3\", \"Topic3\", \"Topic3\", \"Topic3\", \"Topic3\", \"Topic3\", \"Topic3\", \"Topic3\", \"Topic3\", \"Topic3\", \"Topic3\", \"Topic3\", \"Topic3\", \"Topic3\", \"Topic3\", \"Topic3\", \"Topic3\", \"Topic3\", \"Topic3\", \"Topic3\", \"Topic3\", \"Topic3\", \"Topic3\", \"Topic4\", \"Topic4\", \"Topic4\", \"Topic4\", \"Topic4\", \"Topic4\", \"Topic4\", \"Topic4\", \"Topic4\", \"Topic4\", \"Topic4\", \"Topic4\", \"Topic4\", \"Topic4\", \"Topic4\", \"Topic4\", \"Topic4\", \"Topic4\", \"Topic4\", \"Topic4\", \"Topic4\", \"Topic4\", \"Topic4\", \"Topic4\", \"Topic4\", \"Topic4\", \"Topic4\", \"Topic4\", \"Topic4\", \"Topic4\", \"Topic4\", \"Topic5\", \"Topic5\", \"Topic5\", \"Topic5\", \"Topic5\", \"Topic5\", \"Topic5\", \"Topic5\", \"Topic5\", \"Topic5\", \"Topic5\", \"Topic5\", \"Topic5\", \"Topic5\", \"Topic5\", \"Topic5\", \"Topic5\", \"Topic5\", \"Topic5\", \"Topic5\", \"Topic5\", \"Topic5\", \"Topic5\", \"Topic5\", \"Topic5\", \"Topic5\", \"Topic5\", \"Topic5\", \"Topic5\", \"Topic5\", \"Topic5\", \"Topic5\", \"Topic6\", \"Topic6\", \"Topic6\", \"Topic6\", \"Topic6\", \"Topic6\", \"Topic6\", \"Topic6\", \"Topic6\", \"Topic6\", \"Topic6\", \"Topic6\", \"Topic6\", \"Topic6\", \"Topic6\", \"Topic6\", \"Topic6\", \"Topic6\", \"Topic6\", \"Topic6\", \"Topic6\", \"Topic6\", \"Topic6\", \"Topic6\", \"Topic6\", \"Topic6\", \"Topic6\", \"Topic6\", \"Topic6\", \"Topic6\", \"Topic6\", \"Topic7\", \"Topic7\", \"Topic7\", \"Topic7\", \"Topic7\", \"Topic7\", \"Topic7\", \"Topic7\", \"Topic7\", \"Topic7\", \"Topic7\", \"Topic7\", \"Topic7\", \"Topic7\", \"Topic7\", \"Topic7\", \"Topic7\", \"Topic7\", \"Topic7\", \"Topic7\", \"Topic7\", \"Topic7\", \"Topic7\", \"Topic7\", \"Topic7\", \"Topic7\", \"Topic7\", \"Topic7\", \"Topic7\", \"Topic7\", \"Topic7\", \"Topic7\", \"Topic7\", \"Topic7\", \"Topic7\", \"Topic7\", \"Topic7\", \"Topic7\", \"Topic7\", \"Topic7\", \"Topic7\", \"Topic7\", \"Topic7\", \"Topic7\", \"Topic7\", \"Topic8\", \"Topic8\", \"Topic8\", \"Topic8\", \"Topic8\", \"Topic8\", \"Topic8\", \"Topic8\", \"Topic8\", \"Topic8\", \"Topic8\", \"Topic8\", \"Topic8\", \"Topic8\", \"Topic8\", \"Topic8\", \"Topic8\", \"Topic8\", \"Topic8\", \"Topic8\", \"Topic8\", \"Topic8\", \"Topic8\", \"Topic8\", \"Topic8\", \"Topic8\", \"Topic8\", \"Topic8\", \"Topic8\", \"Topic8\", \"Topic8\", \"Topic8\", \"Topic8\", \"Topic8\", \"Topic8\", \"Topic8\", \"Topic8\", \"Topic8\", \"Topic8\", \"Topic8\", \"Topic8\", \"Topic8\", \"Topic8\", \"Topic8\", \"Topic8\", \"Topic8\", \"Topic8\", \"Topic8\", \"Topic8\", \"Topic9\", \"Topic9\", \"Topic9\", \"Topic9\", \"Topic9\", \"Topic9\", \"Topic9\", \"Topic9\", \"Topic9\", \"Topic9\", \"Topic9\", \"Topic9\", \"Topic9\", \"Topic9\", \"Topic9\", \"Topic9\", \"Topic9\", \"Topic9\", \"Topic9\", \"Topic9\", \"Topic9\", \"Topic9\", \"Topic9\", \"Topic9\", \"Topic9\", \"Topic9\", \"Topic9\", \"Topic9\", \"Topic9\", \"Topic9\", \"Topic9\", \"Topic9\", \"Topic9\", \"Topic9\", \"Topic9\", \"Topic9\", \"Topic9\", \"Topic9\", \"Topic9\", \"Topic9\", \"Topic10\", \"Topic10\", \"Topic10\", \"Topic10\", \"Topic10\", \"Topic10\", \"Topic10\", \"Topic10\", \"Topic10\", \"Topic10\", \"Topic10\", \"Topic10\", \"Topic10\", \"Topic10\", \"Topic10\", \"Topic10\", \"Topic10\", \"Topic10\", \"Topic10\", \"Topic10\", \"Topic10\", \"Topic10\", \"Topic10\", \"Topic10\", \"Topic10\", \"Topic10\", \"Topic10\", \"Topic10\", \"Topic10\", \"Topic10\", \"Topic10\", \"Topic10\", \"Topic10\", \"Topic10\", \"Topic10\", \"Topic10\", \"Topic10\", \"Topic10\", \"Topic10\", \"Topic10\", \"Topic10\", \"Topic10\", \"Topic10\", \"Topic11\", \"Topic11\", \"Topic11\", \"Topic11\", \"Topic11\", \"Topic11\", \"Topic11\", \"Topic11\", \"Topic11\", \"Topic11\", \"Topic11\", \"Topic11\", \"Topic11\", \"Topic11\", \"Topic11\", \"Topic11\", \"Topic11\", \"Topic11\", \"Topic11\", \"Topic11\", \"Topic11\", \"Topic11\", \"Topic11\", \"Topic11\", \"Topic11\", \"Topic11\", \"Topic11\", \"Topic11\", \"Topic11\", \"Topic11\", \"Topic11\", \"Topic11\", \"Topic11\", \"Topic11\", \"Topic11\", \"Topic11\", \"Topic11\", \"Topic11\", \"Topic11\", \"Topic11\", \"Topic11\", \"Topic11\", \"Topic11\", \"Topic11\", \"Topic12\", \"Topic12\", \"Topic12\", \"Topic12\", \"Topic12\", \"Topic12\", \"Topic12\", \"Topic12\", \"Topic12\", \"Topic12\", \"Topic12\", \"Topic12\", \"Topic12\", \"Topic12\", \"Topic12\", \"Topic12\", \"Topic12\", \"Topic12\", \"Topic12\", \"Topic12\", \"Topic12\", \"Topic12\", \"Topic12\", \"Topic12\", \"Topic12\", \"Topic12\", \"Topic12\", \"Topic12\", \"Topic12\", \"Topic12\", \"Topic12\", \"Topic12\", \"Topic12\", \"Topic12\", \"Topic12\", \"Topic12\", \"Topic12\", \"Topic12\", \"Topic12\", \"Topic12\", \"Topic12\", \"Topic12\", \"Topic12\", \"Topic12\", \"Topic12\", \"Topic12\", \"Topic12\", \"Topic12\", \"Topic12\", \"Topic12\", \"Topic12\", \"Topic12\", \"Topic12\", \"Topic12\", \"Topic12\", \"Topic13\", \"Topic13\", \"Topic13\", \"Topic13\", \"Topic13\", \"Topic13\", \"Topic13\", \"Topic13\", \"Topic13\", \"Topic13\", \"Topic13\", \"Topic13\", \"Topic13\", \"Topic13\", \"Topic13\", \"Topic13\", \"Topic13\", \"Topic13\", \"Topic13\", \"Topic13\", \"Topic13\", \"Topic13\", \"Topic13\", \"Topic13\", \"Topic13\", \"Topic13\", \"Topic13\", \"Topic13\", \"Topic13\", \"Topic13\", \"Topic13\", \"Topic13\", \"Topic13\", \"Topic13\", \"Topic13\", \"Topic13\", \"Topic13\", \"Topic13\", \"Topic13\", \"Topic13\", \"Topic13\", \"Topic13\", \"Topic13\", \"Topic13\", \"Topic13\", \"Topic13\", \"Topic13\", \"Topic14\", \"Topic14\", \"Topic14\", \"Topic14\", \"Topic14\", \"Topic14\", \"Topic14\", \"Topic14\", \"Topic14\", \"Topic14\", \"Topic14\", \"Topic14\", \"Topic14\", \"Topic14\", \"Topic14\", \"Topic14\", \"Topic14\", \"Topic14\", \"Topic14\", \"Topic14\", \"Topic14\", \"Topic14\", \"Topic14\", \"Topic14\", \"Topic14\", \"Topic14\", \"Topic14\", \"Topic14\", \"Topic14\", \"Topic14\", \"Topic14\", \"Topic14\", \"Topic14\", \"Topic14\", \"Topic14\", \"Topic14\", \"Topic14\", \"Topic14\", \"Topic14\", \"Topic14\", \"Topic14\", \"Topic14\", \"Topic14\", \"Topic14\", \"Topic14\", \"Topic14\", \"Topic14\", \"Topic14\", \"Topic14\", \"Topic15\", \"Topic15\", \"Topic15\", \"Topic15\", \"Topic15\", \"Topic15\", \"Topic15\", \"Topic15\", \"Topic15\", \"Topic15\", \"Topic15\", \"Topic15\", \"Topic15\", \"Topic15\", \"Topic15\", \"Topic15\", \"Topic15\", \"Topic15\", \"Topic15\", \"Topic15\", \"Topic15\", \"Topic15\", \"Topic15\", \"Topic15\", \"Topic15\", \"Topic15\", \"Topic15\", \"Topic15\", \"Topic15\", \"Topic15\", \"Topic15\", \"Topic15\", \"Topic15\", \"Topic15\", \"Topic15\", \"Topic15\", \"Topic15\", \"Topic15\", \"Topic15\", \"Topic15\", \"Topic15\", \"Topic15\", \"Topic15\", \"Topic15\", \"Topic15\", \"Topic15\", \"Topic15\", \"Topic15\", \"Topic15\", \"Topic15\", \"Topic15\", \"Topic15\", \"Topic15\", \"Topic15\", \"Topic15\", \"Topic15\", \"Topic15\", \"Topic15\", \"Topic15\", \"Topic16\", \"Topic16\", \"Topic16\", \"Topic16\", \"Topic16\", \"Topic16\", \"Topic16\", \"Topic16\", \"Topic16\", \"Topic16\", \"Topic16\", \"Topic16\", \"Topic16\", \"Topic16\", \"Topic16\", \"Topic16\", \"Topic16\", \"Topic16\", \"Topic16\", \"Topic16\", \"Topic16\", \"Topic16\", \"Topic16\", \"Topic16\", \"Topic16\", \"Topic16\", \"Topic16\", \"Topic16\", \"Topic16\", \"Topic16\", \"Topic16\", \"Topic16\", \"Topic16\", \"Topic16\", \"Topic16\", \"Topic16\", \"Topic16\", \"Topic16\", \"Topic16\", \"Topic16\", \"Topic16\", \"Topic16\", \"Topic16\", \"Topic16\", \"Topic16\", \"Topic16\", \"Topic16\", \"Topic16\", \"Topic16\", \"Topic16\", \"Topic16\", \"Topic16\", \"Topic16\", \"Topic16\", \"Topic16\", \"Topic16\", \"Topic16\"], \"logprob\": [30.0, 29.0, 28.0, 27.0, 26.0, 25.0, 24.0, 23.0, 22.0, 21.0, 20.0, 19.0, 18.0, 17.0, 16.0, 15.0, 14.0, 13.0, 12.0, 11.0, 10.0, 9.0, 8.0, 7.0, 6.0, 5.0, 4.0, 3.0, 2.0, 1.0, -3.1509, -3.1533, -3.4618, -3.1518, -4.4823, -4.4823, -4.4823, -4.4823, -4.4823, -4.4823, -4.4823, -4.4823, -4.4823, -4.4823, -4.4823, -4.4823, -4.4823, -4.4823, -4.4826, -2.783, -2.8174, -3.1508, -4.4823, -4.4823, -3.8812, -4.4823, -4.4823, -4.4823, -4.4823, -2.0916, -3.1503, -3.424, -3.9054, -3.9877, -4.4823, -4.4823, -4.4823, -4.1527, -4.1527, -4.1527, -4.1527, -4.1527, -4.1527, -4.1527, -4.1527, -4.1527, -4.1527, -4.1527, -4.1527, -4.1527, -3.4894, -4.1527, -4.1527, -4.1527, -4.1527, -4.1527, -4.1527, -4.1527, -3.4894, -4.1527, -4.1527, -4.1527, -4.1527, -4.1527, -4.1527, -4.1527, -4.1527, -2.8116, -2.8116, -2.7215, -3.4894, -4.1527, -4.1527, -4.1527, -4.1527, -4.1527, -4.1527, -4.1527, -4.1419, -4.1419, -4.1419, -4.1419, -4.1419, -4.1419, -4.1419, -4.1419, -4.1419, -4.1429, -4.143, -4.1432, -3.4786, -3.4786, -3.4786, -4.1419, -4.1419, -2.5807, -4.1419, -4.1419, -4.1419, -4.1419, -4.1419, -4.1432, -4.1419, -3.4791, -4.1419, -3.4786, -4.1419, -3.4786, -3.4786, -3.3713, -3.0833, -2.9623, -3.4786, -4.1419, -4.1419, -3.1486, -3.8119, -3.8119, -3.8119, -3.8119, -3.8119, -3.8119, -3.8119, -3.8119, -3.8119, -3.8119, -3.8119, -3.8119, -3.8119, -3.8119, -3.8119, -3.8119, -3.8119, -3.8119, -3.8119, -3.8119, -3.1486, -2.7533, -3.8119, -3.8119, -3.8119, -3.1486, -3.8119, -2.7533, -6.6451, -6.6451, -3.0841, -3.0841, -3.7474, -3.7474, -3.7474, -3.7474, -3.7474, -3.7474, -3.7474, -3.7474, -3.0841, -3.0841, -3.7474, -3.7474, -3.7474, -3.7474, -3.7474, -3.7474, -3.7474, -3.7474, -3.7474, -3.7474, -3.7474, -3.7474, -3.7474, -3.7474, -3.7474, -3.7474, -6.5806, -6.5806, -3.7474, -6.5806, -3.7024, -3.7025, -3.7028, -3.7029, -3.703, -3.7035, -3.704, -3.7021, -3.7022, -3.7032, -3.7026, -3.7026, -3.7027, -3.7028, -3.7027, -3.7034, -3.7026, -3.7024, -3.7034, -3.7028, -3.7027, -3.7025, -3.7028, -3.7032, -3.7021, -3.0398, -3.7027, -3.703, -3.0399, -6.5326, -6.5326, -2.5979, -2.9932, -2.9932, -2.9932, -2.9932, -2.9932, -2.9932, -3.6565, -3.6565, -3.6565, -3.6565, -3.6565, -3.6565, -3.6565, -3.6565, -3.6565, -3.6565, -3.6521, -3.6565, -3.6529, -6.4897, -6.4897, -6.4897, -6.4897, -6.4897, -6.4897, -6.4897, -6.4897, -6.4897, -6.4897, -3.6485, -6.4331, -6.4386, -6.4204, -6.4338, -6.3624, -6.4419, -6.433, -6.431, -6.419, -6.4184, -6.426, -6.4235, -6.4255, -6.429, -2.3238, -3.6172, -3.6172, -2.3238, -2.3238, -2.3238, -3.6172, -3.6172, -3.6172, -2.3238, -2.4229, -6.4504, -6.4504, -6.4504, -6.4504, -6.4504, -6.4504, -6.4504, -6.4504, -6.4504, -6.4504, -6.4504, -6.4504, -6.4504, -6.4504, -6.4504, -6.4504, -6.4504, -6.4504, -6.4504, -6.4504, -6.4504, -6.4504, -6.4504, -6.4504, -6.4504, -6.4504, -6.4504, -6.4504, -6.4504, -6.4504, -6.4504, -6.4504, -6.4504, -6.4504, -6.4504, -6.4504, -6.4504, -6.4504, -3.4378, -3.4378, -3.4378, -3.4378, -3.4378, -3.4378, -3.4378, -2.7745, -3.4378, -3.4378, -3.4378, -3.4378, -3.4378, -3.4378, -3.4378, -3.4378, -3.4378, -3.4378, -3.4378, -3.4378, -6.271, -6.271, -6.271, -6.271, -6.271, -6.271, -6.271, -6.271, -6.271, -6.271, -6.271, -6.271, -6.271, -6.271, -6.271, -6.271, -6.271, -6.271, -6.271, -6.271, -3.3427, -3.3427, -3.3427, -3.3427, -3.3427, -3.3427, -3.3427, -3.3427, -3.3427, -2.6794, -3.3427, -3.3427, -3.3427, -3.3427, -3.3427, -3.3427, -6.1759, -6.1759, -6.1759, -6.1759, -6.1759, -6.1759, -6.1759, -6.1759, -6.1759, -6.1759, -6.1759, -6.1759, -6.1759, -6.1759, -3.3427, -6.1759, -6.1759, -6.1759, -6.1759, -6.1759, -6.1759, -6.1759, -6.1759, -6.1759, -6.1759, -6.1759, -6.1759, -3.2739, -3.2739, -3.2739, -3.2739, -3.2739, -3.2739, -3.2739, -3.2739, -3.2739, -3.2739, -3.2739, -3.2739, -3.2739, -3.2739, -2.6105, -6.1071, -6.1071, -6.1071, -6.1071, -6.1071, -6.1071, -6.1071, -6.1071, -6.1071, -6.1071, -6.1071, -6.1071, -6.1071, -6.1071, -6.1071, -6.1037, -6.0951, -6.1004, -6.1032, -6.1035, -6.1038, -6.104, -6.104, -6.1042, -6.1043, -6.1044, -6.1045, -6.1071, -6.1071, -3.2022, -3.2022, -3.2022, -3.2022, -3.2022, -3.2022, -3.2022, -2.143, -2.1421, -3.2022, -6.0354, -6.0354, -6.0354, -6.0354, -6.0354, -6.0354, -6.0354, -6.0354, -6.0354, -6.0354, -6.0354, -6.0354, -6.0354, -6.0354, -6.0354, -6.0354, -6.0354, -6.0354, -6.0354, -6.0354, -5.9849, -5.9967, -5.9996, -6.0012, -6.0021, -6.007, -6.0086, -6.0007, -6.0028, -6.0057, -6.0062, -6.007, -6.0086, -6.01, -6.0151, -6.002, -6.0127, -6.0057, -6.0045, -5.9627, -6.0, -6.0071, -6.0064, -6.0076, -6.0082, -3.2006, -3.2006, -3.2006, -3.2006, -3.2006, -3.2006, -3.2006, -3.2006, -3.2006, -3.2006, -3.2006, -2.536, -3.2006, -6.0338, -6.0338, -6.0338, -6.0338, -6.0338, -6.0338, -6.0338, -6.0338, -6.0338, -6.0338, -6.0338, -6.0338, -6.0338, -6.0338, -6.0338, -6.0338, -6.0338, -6.013, -6.0154, -6.0166, -6.0123, -5.9911, -6.0049, -6.0151, -6.0113, -6.0194, -6.0152, -6.0169, -6.0196, -6.0338, -6.0338, -6.0338, -6.0338, -6.0338, -2.4135, -3.0768, -3.0768, -3.0768, -3.0768, -3.0768, -3.0768, -2.3333, -4.6323, -5.91, -5.91, -5.91, -5.91, -5.91, -5.91, -5.91, -5.91, -5.91, -5.91, -5.91, -5.91, -5.91, -5.91, -5.91, -5.91, -5.91, -5.91, -5.91, -5.91, -5.91, -4.6323, -4.6323, -4.6323, -4.6323, -5.91, -5.91, -5.91, -5.91, -5.91, -5.91, -5.91, -5.91, -5.91, -5.91, -5.91, -5.91, -5.91, -5.91, -5.91, -2.9539, -2.9535, -2.9538, -2.9547, -2.9519, -2.9539, -2.9541, -5.7837, -5.7837, -5.7837, -5.7837, -5.7837, -5.7837, -5.7837, -5.7837, -5.7837, -5.7837, -5.7837, -5.7837, -5.7837, -5.7837, -5.7837, -4.7141, -5.7837, -5.7837, -5.7837, -5.7837, -5.7837, -5.7837, -5.7837, -3.8703, -4.9568, -3.9758, -4.487, -5.755, -5.7567, -5.4257, -5.7582, -5.7583, -5.7599, -5.4937, -5.1487, -5.7626, -5.5432, -5.3287, -5.7633, -5.5476, -5.6283, -5.7471, -5.7524, -5.7553, -5.759, -5.751, -5.7574, -5.7577, -5.7546, -5.7553, -5.7558, -5.7577, -5.2627, -5.2627, -5.2627, -5.2627, -5.2627, -5.2627, -5.2627, -5.2627, -5.2627, -5.2627, -5.2627, -5.2627, -5.2627, -5.2627, -5.2627, -5.2627, -5.2627, -5.2627, -5.2627, -5.2627, -5.2627, -5.2627, -5.2627, -5.2627, -5.2627, -5.2627, -5.2627, -5.2627, -5.2627, -5.2627, -5.2627, -5.2627, -5.2627, -5.2627, -5.2627, -5.2627, -5.2627, -5.2627, -5.2627, -5.2627, -5.2627, -5.2627, -5.2627, -5.2627, -5.2627, -5.2627, -5.2627, -5.2627, -5.2627, -5.2627, -5.2627, -5.2627, -5.2627, -5.2627, -5.2627, -5.2627, -5.2627], \"loglift\": [30.0, 29.0, 28.0, 27.0, 26.0, 25.0, 24.0, 23.0, 22.0, 21.0, 20.0, 19.0, 18.0, 17.0, 16.0, 15.0, 14.0, 13.0, 12.0, 11.0, 10.0, 9.0, 8.0, 7.0, 6.0, 5.0, 4.0, 3.0, 2.0, 1.0, 1.5546, 1.5534, 1.4921, 1.3735, 1.2312, 1.2312, 1.2312, 1.2312, 1.2312, 1.2312, 1.2312, 1.2312, 1.2312, 1.2312, 1.2312, 1.2312, 1.2312, 1.2312, 1.231, 1.221, 1.0676, 1.0207, 0.9693, 0.9693, 0.9483, 0.9146, 0.7978, 0.7978, 0.7975, 0.6735, 0.2689, 0.3641, 0.2931, -0.4288, 0.5659, 0.5409, 0.5659, 1.6014, 1.6014, 1.6014, 1.6014, 1.6014, 1.6014, 1.6014, 1.6014, 1.6014, 1.6014, 1.6014, 1.6014, 1.6014, 1.3625, 1.33, 1.2648, 1.1882, 1.1882, 1.1882, 1.1882, 1.1842, 1.1815, 1.1532, 1.1274, 1.1274, 1.1168, 1.0186, 0.9596, 0.9566, 0.9256, 0.7474, 0.6076, 0.0436, 0.2987, 0.3726, 0.8955, -0.1487, 0.7208, 0.2452, 0.8955, 0.8955, 1.6117, 1.6117, 1.6117, 1.6117, 1.6117, 1.6117, 1.6117, 1.6117, 1.6117, 1.6109, 1.6108, 1.6107, 1.5441, 1.4998, 1.4997, 1.2752, 1.2617, 1.2075, 1.1988, 1.1987, 1.1984, 1.1984, 1.1984, 1.1935, 1.1641, 1.1505, 1.1379, 0.9759, 0.9364, 0.9193, 0.7199, 0.6327, 0.3359, -0.1972, 0.0803, 0.7118, 0.529, 2.0458, 1.9906, 1.9906, 1.9906, 1.9906, 1.9906, 1.9906, 1.9906, 1.9906, 1.9906, 1.9906, 1.9906, 1.9906, 1.9906, 1.9906, 1.9906, 1.9906, 1.9906, 1.9906, 1.9906, 1.9906, 1.8746, 1.6908, 1.525, 1.5249, 1.2974, 0.4103, 0.0731, 0.0118, -0.6961, -3.2259, 2.292, 2.292, 2.061, 2.061, 2.061, 2.061, 2.061, 2.061, 2.061, 2.061, 2.056, 1.9152, 1.6821, 1.6416, 1.6291, 1.629, 1.5929, 1.5929, 1.5929, 1.454, 1.393, 1.2753, 1.1262, 1.1063, 0.9235, 0.5901, -0.1885, -0.3283, -0.6316, -0.6316, -0.9823, -0.6888, 2.1064, 2.1063, 2.1061, 2.106, 2.1059, 2.1056, 2.1051, 1.7401, 1.6742, 1.6734, 1.6383, 1.6383, 1.6383, 1.6382, 1.6379, 1.6373, 1.4687, 1.4379, 1.4089, 1.1708, 1.1511, 1.1494, 0.9268, 0.7512, 0.6958, 0.3793, 0.0854, -0.1441, -0.2748, -0.5836, -0.6408, 2.5062, 2.4088, 2.4088, 2.4088, 2.4088, 2.4088, 2.4088, 2.1717, 2.1717, 2.1717, 2.1717, 2.1717, 2.1717, 2.1717, 1.8222, 1.7325, 1.5187, 1.1774, 0.7876, 0.6847, -0.5407, -0.5407, -0.5414, -0.5414, -0.5556, -0.5556, -0.5556, -0.5556, -0.5556, -0.5782, -0.8834, -0.7048, -0.7929, -1.226, -1.2324, -2.4774, -1.2705, -1.4337, -1.4771, -1.7134, -2.247, -1.9006, -2.225, -2.4214, -3.0098, 2.5345, 2.1921, 2.1921, 2.0138, 1.8747, 1.8477, 1.8129, 1.8129, 1.5842, 1.5613, 0.3422, -0.5014, -0.5014, -0.5022, -0.5022, -0.5163, -0.5163, -0.5163, -0.5163, -0.5163, -0.5389, -0.5389, -0.5389, -0.5389, -0.5389, -0.5389, -0.5586, -0.5586, -0.5586, -0.5586, -1.279, -1.8208, -1.996, -1.3381, -1.1095, -1.1095, -1.1095, -1.1095, -0.6963, -0.9988, -0.9677, -1.7795, -1.1809, -1.5985, -3.0313, -2.8915, -1.5967, -0.5586, -1.1558, 2.454, 2.454, 2.454, 2.454, 2.454, 2.454, 2.454, 2.4516, 2.0858, 2.0761, 1.9923, 1.9923, 1.9917, 1.8568, 1.7374, 1.416, 1.1919, 1.0063, 0.1211, -0.0186, -0.322, -0.322, -0.3227, -0.3227, -0.3369, -0.3369, -0.3369, -0.3369, -0.3369, -0.3594, -1.3171, -2.0725, -1.4415, -1.2717, -1.0695, -2.267, -1.0996, -1.0766, -1.7457, -2.0995, 2.5689, 2.5689, 2.5689, 2.5689, 2.5689, 2.5689, 2.0995, 2.061, 1.8325, 1.7186, 1.7056, 1.7056, 1.7056, 1.4869, 1.1118, 0.4455, -0.2269, -0.2269, -0.2276, -0.2276, -0.2418, -0.2418, -0.2418, -0.2418, -0.2418, -0.2841, -0.2841, -0.2841, -0.2841, -0.2841, -0.5776, -2.7567, -1.3221, -2.617, -0.8813, -0.2841, -0.7463, -1.7318, -0.2841, -0.6523, -0.9498, -1.222, -1.9774, 2.6602, 2.6602, 2.6602, 2.6602, 2.6602, 2.3717, 2.2787, 2.2399, 2.1436, 2.1432, 2.0206, 1.8044, 1.1702, 1.124, 0.1546, -0.1582, -0.1582, -0.1589, -0.1589, -0.1956, -0.1956, -0.1956, -0.1956, -0.1956, -0.1956, -0.2153, -0.2153, -0.2153, -0.2153, -0.2153, -0.3902, -2.307, -2.0964, -1.1249, -2.2185, -1.6493, -1.9055, -1.5787, -1.3976, -1.126, -1.3989, -1.933, -2.688, -1.2534, 2.7468, 2.7468, 2.3505, 2.3214, 2.1947, 2.0239, 1.9071, 1.4159, 1.277, 1.2419, -0.0871, -0.0871, -0.1013, -0.1013, -0.1013, -0.1013, -0.1013, -0.1239, -0.1239, -0.1239, -0.1239, -0.1239, -0.1239, -0.1436, -0.1436, -0.1436, -0.1436, -0.1436, -0.1436, -0.1436, -0.1758, -0.1877, -0.1908, -0.1923, -0.1932, -0.1982, -0.1997, -0.6242, -0.6619, -0.665, -0.6656, -0.6661, -0.6676, -0.669, -0.5729, -0.8897, -0.6362, -0.8343, -1.1309, -3.1976, -1.5455, -1.1533, -2.2183, -1.3779, -1.1563, 2.7477, 2.7477, 2.2781, 1.9398, 1.9395, 1.9117, 1.7987, 1.673, 1.6513, 1.137, 0.3583, 0.2291, 0.2185, -0.0848, -0.0848, -0.0997, -0.0997, -0.0997, -0.0997, -0.0997, -0.1223, -0.1223, -0.1223, -0.1223, -0.1223, -0.1223, -0.142, -0.142, -0.142, -0.142, -0.2591, -0.2616, -0.2628, -0.6756, -2.1061, -2.0009, -1.3095, -1.8399, -1.0655, -1.4899, -1.3873, -1.3129, -1.1801, -0.142, -0.7392, -0.142, -0.6043, 2.8561, 2.6515, 2.406, 2.3749, 2.3749, 2.2178, 1.5941, 0.4318, 0.226, 0.039, 0.039, 0.0383, 0.0383, 0.0241, 0.0241, 0.0241, 0.0241, 0.0241, 0.0016, 0.0016, 0.0016, 0.0016, 0.0016, 0.0016, -0.0182, -0.0182, -0.0182, -0.0182, -0.0182, -0.0182, -0.2948, -0.4338, -0.4609, -0.7473, -2.4908, -1.0562, -2.3511, -0.0182, -0.4804, -1.4659, -0.3864, -0.6839, -0.9561, -1.0804, -0.9106, -0.7085, -1.9059, -0.7386, -0.7155, 2.7743, 2.6921, 2.2476, 2.2397, 2.2195, 2.0454, 1.3834, 0.1653, 0.1653, 0.1646, 0.1646, 0.1505, 0.1505, 0.1505, 0.1505, 0.1505, 0.1279, 0.1279, 0.1279, 0.1279, 0.1279, 0.1279, 0.1154, 0.1082, 0.1082, 0.1082, 0.1082, 0.1082, 0.1082, 0.1082, 0.0147, -0.0029, -0.4169, -0.2885, 0.0541, 0.0523, -0.719, 0.0507, 0.0507, 0.049, -0.9684, -2.3836, 0.0462, -0.8376, -1.9096, 0.0455, -1.3761, -1.6243, -0.4064, -0.4114, -0.3787, -0.3168, -0.6387, -0.4165, -0.4168, -1.1249, -1.3008, -0.6154, -1.9696, 0.6863, 0.6863, 0.6856, 0.6856, 0.6714, 0.6714, 0.6714, 0.6714, 0.6714, 0.6489, 0.6489, 0.6489, 0.6489, 0.6489, 0.6489, 0.6291, 0.6291, 0.6291, 0.6291, 0.6291, 0.6291, 0.6291, 0.5655, 0.5655, 0.5655, 0.5655, 0.5655, 0.5655, 0.5655, 0.5466, -1.8435, -0.409, -1.7038, 0.0319, 0.1668, -0.8186, 0.2609, -0.0366, -0.3088, -1.0642, -0.4332, -0.2634, -0.0612, -1.2587, -0.0913, -0.0683, -0.7374, -1.0912, -0.9251, 0.3829, 0.4655, -1.3777, -0.556, -2.4976, -0.5571, 0.0069, 0.189]}, \"token.table\": {\"Topic\": [1, 7, 3, 4, 6, 6, 3, 11, 2, 2, 3, 6, 9, 5, 1, 3, 7, 6, 5, 11, 1, 4, 1, 2, 1, 2, 3, 6, 10, 6, 5, 1, 2, 3, 5, 6, 9, 12, 13, 2, 4, 12, 7, 11, 3, 6, 9, 1, 2, 1, 1, 3, 8, 13, 3, 3, 5, 6, 9, 4, 3, 5, 11, 3, 2, 6, 8, 9, 5, 9, 4, 7, 5, 7, 5, 7, 7, 2, 14, 2, 6, 3, 4, 1, 7, 10, 2, 3, 2, 7, 1, 5, 13, 8, 9, 4, 3, 10, 2, 10, 2, 1, 2, 10, 2, 11, 1, 4, 9, 2, 1, 4, 7, 9, 10, 9, 11, 4, 7, 5, 8, 11, 12, 5, 13, 11, 6, 4, 1, 3, 2, 6, 13, 12, 3, 5, 7, 1, 2, 3, 4, 5, 6, 9, 12, 13, 6, 1, 2, 3, 5, 6, 13, 2, 7, 10, 4, 1, 1, 2, 10, 5, 2, 9, 11, 2, 3, 2, 6, 2, 6, 2, 4, 9, 4, 7, 1, 9, 10, 10, 1, 1, 2, 1, 8, 3, 3, 5, 5, 7, 5, 7, 8, 13, 1, 5, 9, 5, 6, 2, 1, 2, 6, 1, 3, 9, 4, 7, 9, 11, 12, 4, 2, 3, 5, 4, 2, 3, 11, 8, 11, 6, 1, 3, 3, 9, 4, 13, 3, 5, 2, 12, 3, 2, 6, 13, 1, 1, 8, 11, 1, 6, 10, 7, 7, 13, 4, 1, 12, 1, 1, 4, 8, 1, 1, 4, 7, 10, 5, 1, 2, 3, 4, 5, 6, 7, 8, 10, 11, 13, 14, 4, 5, 2, 3, 6, 10, 11, 3, 5, 9, 12, 9, 12, 5, 6, 3, 3, 4, 1, 1, 2, 2, 1, 10, 2, 5, 6, 13, 4, 2, 1, 2, 3, 6, 10, 1, 2, 10, 3, 4, 2, 4, 8, 3, 6, 4], \"Freq\": [0.6716993090294107, 0.4919053651857938, 0.4608278888627035, 0.4608278888627035, 0.7390097595097841, 0.7390457169942587, 0.4994089905402623, 0.4994089905402623, 0.6995461091904143, 0.22722521473800578, 0.45445042947601155, 0.22722521473800578, 0.22722521473800578, 0.7385457868129209, 0.6716993432568759, 0.6993386690283188, 0.7533433632595307, 0.7388563986932353, 0.7385457868129209, 0.8374791895203018, 0.6716994117118166, 0.7341799020855637, 0.4354772038224197, 0.4354772038224197, 0.2938366095701151, 0.19589107304674339, 0.39178214609348677, 0.09794553652337169, 0.09794553652337169, 0.7389557967343497, 0.7385459208802327, 0.20317062916588857, 0.20317062916588857, 0.1354470861105924, 0.0677235430552962, 0.1354470861105924, 0.0677235430552962, 0.1354470861105924, 0.0677235430552962, 0.36708955438656116, 0.36708955438656116, 0.36708955438656116, 0.4919053651857938, 0.8374789797443957, 0.4626106190408738, 0.4626106190408738, 0.8027917289238711, 0.6716994117118166, 0.6995462086882167, 0.9427495070355565, 0.29528319414787196, 0.29528319414787196, 0.442924791221808, 0.8494275723353725, 0.6991859472464989, 0.2842961953374434, 0.2842961953374434, 0.2842961953374434, 0.2842961953374434, 0.7341799020855637, 0.4624664134846511, 0.4624664134846511, 0.8374791056099267, 0.6991857504197114, 0.4627862997823199, 0.4627862997823199, 0.505937920777322, 0.505937920777322, 0.7385458203297444, 0.8027915803927845, 0.7341799020855637, 0.7533432405156686, 0.7385458203297444, 0.7533433632595307, 0.7385458203297444, 0.4919053128526296, 0.7533432712016304, 0.4308840045806721, 0.4308840045806721, 0.4627545132969799, 0.4627545132969799, 0.6991857504197114, 0.734179937800905, 0.5549918828248722, 0.2774959414124361, 0.2774959414124361, 0.6995461589393119, 0.6991857504197114, 0.6995461589393119, 0.7533432405156686, 0.6716993090294107, 0.6577049164450658, 0.3288524582225329, 0.5059379601065026, 0.5059379601065026, 0.7341799735162496, 0.4927058063225776, 0.4927058063225776, 0.6995461091904143, 0.8187982603487854, 0.6995461589393119, 0.3453389804541631, 0.3453389804541631, 0.3453389804541631, 0.499592792928068, 0.499592792928068, 0.5169523409155812, 0.734179937800905, 0.8027919269654054, 0.6995461589393119, 0.3368089841826902, 0.6736179683653803, 0.3920776521497736, 0.3920776521497736, 0.3920776521497736, 0.5501201140815165, 0.5501201140815165, 0.7341802592391315, 0.7533433632595307, 0.4025268307475319, 0.4025268307475319, 0.5719001010271431, 0.5719001010271431, 0.7571627667886794, 0.3785813833943397, 0.8374789377892272, 0.7389246121100657, 0.7341799020855637, 0.3220283741064418, 0.6440567482128836, 0.36818339416215057, 0.36818339416215057, 0.36818339416215057, 0.8500328685125579, 0.6732556646235831, 0.33662783231179155, 0.4919053651857938, 0.15576467502169683, 0.23364701253254525, 0.15576467502169683, 0.15576467502169683, 0.07788233751084842, 0.07788233751084842, 0.07788233751084842, 0.15576467502169683, 0.07788233751084842, 0.7388980664720897, 0.6077359447003786, 0.12154718894007573, 0.24309437788015145, 0.3786758330662602, 0.3786758330662602, 0.3786758330662602, 0.5332903278688463, 0.4919053651857938, 0.8187983503541111, 0.734179937800905, 0.6716994801667713, 0.3453389995906226, 0.3453389995906226, 0.3453389995906226, 0.7385458203297444, 0.6995461589393119, 0.4418053685567987, 0.4418053685567987, 0.4468664951381519, 0.4468664951381519, 0.46276907483062835, 0.46276907483062835, 0.39059693463718553, 0.39059693463718553, 0.6995461589393119, 0.7993914466842045, 0.8027915308824345, 0.7341799020855637, 0.7533432712016304, 0.6716994117118166, 0.8027919269654054, 0.8187983503541111, 0.8187983503541111, 0.671699274801949, 0.6141286126398421, 0.20470953754661403, 0.4311070736733445, 0.4311070736733445, 0.6991859472464989, 0.462466391956867, 0.462466391956867, 0.4855546369777486, 0.4855546369777486, 0.16966883750968303, 0.16966883750968303, 0.5090065125290492, 0.16966883750968303, 0.6717275520968219, 0.505628260877606, 0.505628260877606, 0.4795475378747459, 0.4795475378747459, 0.6995461589393119, 0.6716994117118166, 0.4627665542778201, 0.4627665542778201, 0.4353374572459218, 0.4353374572459218, 0.8027919269654054, 0.3774870549477525, 0.18874352747387624, 0.18874352747387624, 0.18874352747387624, 0.18874352747387624, 0.7341799020855637, 0.47358277815873834, 0.23679138907936917, 0.23679138907936917, 0.734179937800905, 0.3558798201521944, 0.3558798201521944, 0.3558798201521944, 0.8567971867211258, 0.8374789797443957, 0.7388940265419847, 0.32202624823633075, 0.6440524964726615, 0.6993294493228911, 0.8027915803927845, 0.7341799020855637, 0.849427494472594, 0.46246637042908495, 0.46246637042908495, 0.6995461589393119, 0.8500328295218945, 0.6993581650988967, 0.5675561333754889, 0.28377806668774447, 0.28377806668774447, 0.6716994459392922, 0.5169518724759187, 0.7392065984176714, 0.6275948150930818, 0.6716994117118166, 0.5120769983222472, 0.5120769983222472, 0.4919053128526296, 0.5311375194754945, 0.5311375194754945, 0.7341799020855637, 0.4894143546124897, 0.4894143546124897, 0.6716994117118166, 0.5395570175320037, 0.10791140350640074, 0.3237342105192022, 0.7362337749116261, 0.6716993432568759, 0.734179937800905, 0.7303519661611257, 0.8187983503541111, 0.9587247515554242, 0.3521179109378875, 0.14084716437515502, 0.10563537328136627, 0.07042358218757751, 0.035211791093788754, 0.07042358218757751, 0.035211791093788754, 0.10563537328136627, 0.035211791093788754, 0.035211791093788754, 0.035211791093788754, 0.035211791093788754, 0.7341799020855637, 0.7385457868129209, 0.1802270602522538, 0.3604541205045076, 0.1802270602522538, 0.1802270602522538, 0.1802270602522538, 0.6991859472464989, 0.9587247515554242, 0.5555090621448252, 0.5555090621448252, 0.4125615452100375, 0.4125615452100375, 0.47949396463990396, 0.47949396463990396, 0.6991859472464989, 0.6991859472464989, 0.7341799735162496, 0.7354339608349585, 0.4354771943282501, 0.4354771943282501, 0.6995461091904143, 0.6716994459392922, 0.8187983503541111, 0.2899965484863034, 0.2899965484863034, 0.2899965484863034, 0.2899965484863034, 0.734179937800905, 0.6995483198946608, 0.19071068862258522, 0.19071068862258522, 0.38142137724517045, 0.19071068862258522, 0.19071068862258522, 0.34533895127777475, 0.34533895127777475, 0.34533895127777475, 0.6991857504197114, 0.7341799020855637, 0.46090719229502247, 0.46090719229502247, 0.7392065984176714, 0.46266228668125764, 0.46266228668125764, 0.7341799020855637], \"Term\": [\"absorb\", \"activity\", \"adult\", \"adult\", \"affected\", \"agent\", \"air\", \"air\", \"allow\", \"also\", \"also\", \"also\", \"also\", \"amount\", \"anal\", \"anchor\", \"approximately\", \"area\", \"aware\", \"bear\", \"begin\", \"being\", \"bladder\", \"bladder\", \"blood\", \"blood\", \"blood\", \"blood\", \"blood\", \"bloodstream\", \"bodily\", \"body\", \"body\", \"body\", \"body\", \"body\", \"body\", \"body\", \"body\", \"bone\", \"bone\", \"bone\", \"brain\", \"breathe\", \"call\", \"call\", \"can\", \"canal\", \"carbon\", \"cardiac\", \"cardiovascular\", \"cardiovascular\", \"cardiovascular\", \"carry\", \"cavity\", \"cell\", \"cell\", \"cell\", \"cell\", \"channel\", \"chemical\", \"chemical\", \"child\", \"circulatory\", \"collection\", \"collection\", \"come\", \"come\", \"communication\", \"complex\", \"complicate\", \"comprise\", \"connection\", \"convert\", \"coordinate\", \"cord\", \"cranial\", \"create\", \"create\", \"defense\", \"defense\", \"deliver\", \"differ\", \"digestive\", \"digestive\", \"digestive\", \"dioxide\", \"distribute\", \"electrolyte\", \"emanate\", \"end\", \"endocrine\", \"endocrine\", \"energy\", \"energy\", \"ensure\", \"enter\", \"enter\", \"environment\", \"esophagus\", \"exhale\", \"expel\", \"expel\", \"expel\", \"extract\", \"extract\", \"facilitate\", \"fallopian\", \"fertilization\", \"filter\", \"find\", \"find\", \"food\", \"food\", \"food\", \"form\", \"form\", \"framework\", \"fuel\", \"function\", \"function\", \"give\", \"give\", \"gland\", \"gland\", \"group\", \"heal\", \"healthy\", \"heart\", \"heart\", \"help\", \"help\", \"help\", \"hold\", \"hormone\", \"hormone\", \"hub\", \"human\", \"human\", \"human\", \"human\", \"human\", \"human\", \"human\", \"human\", \"human\", \"immune\", \"include\", \"include\", \"include\", \"information\", \"information\", \"information\", \"infrastructure\", \"intellectual\", \"intestine\", \"involve\", \"key\", \"kidney\", \"kidney\", \"kidney\", \"lastly\", \"level\", \"life\", \"life\", \"lung\", \"lung\", \"lymph\", \"lymph\", \"lymphatic\", \"lymphatic\", \"maintain\", \"major\", \"make\", \"man\", \"many\", \"matter\", \"may\", \"mouth\", \"move\", \"movement\", \"muscle\", \"muscle\", \"muscular\", \"muscular\", \"nasal\", \"need\", \"need\", \"nerve\", \"nerve\", \"nervous\", \"nervous\", \"nervous\", \"nervous\", \"nestle\", \"network\", \"network\", \"neural\", \"neural\", \"neuron\", \"no\", \"node\", \"node\", \"nutrient\", \"nutrient\", \"occur\", \"organ\", \"organ\", \"organ\", \"organ\", \"organ\", \"organism\", \"other\", \"other\", \"other\", \"ovary\", \"oxygen\", \"oxygen\", \"oxygen\", \"particular\", \"passageway\", \"pathway\", \"pipeline\", \"pipeline\", \"point\", \"possible\", \"primary\", \"process\", \"produce\", \"produce\", \"product\", \"protect\", \"provide\", \"regulate\", \"regulate\", \"regulate\", \"regulatory\", \"reproductive\", \"require\", \"respiratory\", \"role\", \"send\", \"send\", \"sensory\", \"series\", \"series\", \"sex\", \"shape\", \"shape\", \"size\", \"skeletal\", \"skeletal\", \"skeletal\", \"smooth\", \"solid\", \"sperm\", \"spinal\", \"stomach\", \"such\", \"system\", \"system\", \"system\", \"system\", \"system\", \"system\", \"system\", \"system\", \"system\", \"system\", \"system\", \"system\", \"testis\", \"thank\", \"then\", \"then\", \"then\", \"then\", \"then\", \"throat\", \"thyroid\", \"tissue\", \"tissue\", \"together\", \"together\", \"transmit\", \"transmit\", \"transport\", \"travel\", \"tube\", \"type\", \"ureter\", \"ureter\", \"urethra\", \"urinary\", \"urine\", \"use\", \"use\", \"use\", \"use\", \"uterus\", \"utilize\", \"vessel\", \"vessel\", \"vessel\", \"vessel\", \"vessel\", \"waste\", \"waste\", \"waste\", \"way\", \"well\", \"when\", \"when\", \"where\", \"white\", \"white\", \"woman\"]}, \"R\": 30, \"lambda.step\": 0.01, \"plot.opts\": {\"xlab\": \"PC1\", \"ylab\": \"PC2\"}, \"topic.order\": [13, 11, 4, 16, 6, 3, 14, 9, 5, 1, 8, 12, 2, 7, 15, 10]};\n",
              "\n",
              "function LDAvis_load_lib(url, callback){\n",
              "  var s = document.createElement('script');\n",
              "  s.src = url;\n",
              "  s.async = true;\n",
              "  s.onreadystatechange = s.onload = callback;\n",
              "  s.onerror = function(){console.warn(\"failed to load library \" + url);};\n",
              "  document.getElementsByTagName(\"head\")[0].appendChild(s);\n",
              "}\n",
              "\n",
              "if(typeof(LDAvis) !== \"undefined\"){\n",
              "   // already loaded: just create the visualization\n",
              "   !function(LDAvis){\n",
              "       new LDAvis(\"#\" + \"ldavis_el14911396321212431201757701293\", ldavis_el14911396321212431201757701293_data);\n",
              "   }(LDAvis);\n",
              "}else if(typeof define === \"function\" && define.amd){\n",
              "   // require.js is available: use it to load d3/LDAvis\n",
              "   require.config({paths: {d3: \"https://d3js.org/d3.v5\"}});\n",
              "   require([\"d3\"], function(d3){\n",
              "      window.d3 = d3;\n",
              "      LDAvis_load_lib(\"https://cdn.jsdelivr.net/gh/bmabey/pyLDAvis@3.4.0/pyLDAvis/js/ldavis.v3.0.0.js\", function(){\n",
              "        new LDAvis(\"#\" + \"ldavis_el14911396321212431201757701293\", ldavis_el14911396321212431201757701293_data);\n",
              "      });\n",
              "    });\n",
              "}else{\n",
              "    // require.js not available: dynamically load d3 & LDAvis\n",
              "    LDAvis_load_lib(\"https://d3js.org/d3.v5.js\", function(){\n",
              "         LDAvis_load_lib(\"https://cdn.jsdelivr.net/gh/bmabey/pyLDAvis@3.4.0/pyLDAvis/js/ldavis.v3.0.0.js\", function(){\n",
              "                 new LDAvis(\"#\" + \"ldavis_el14911396321212431201757701293\", ldavis_el14911396321212431201757701293_data);\n",
              "            })\n",
              "         });\n",
              "}\n",
              "</script>"
            ],
            "text/plain": [
              "PreparedData(topic_coordinates=              x         y  topics  cluster       Freq\n",
              "topic                                                \n",
              "12    -0.169987 -0.215069       1        1  18.061268\n",
              "10     0.076338 -0.179406       2        1  12.101636\n",
              "3      0.005405 -0.245480       3        1  11.982082\n",
              "15     0.110051  0.233653       4        1   7.887568\n",
              "5     -0.217625 -0.013915       5        1   7.314781\n",
              "2     -0.041280 -0.136476       6        1   6.973789\n",
              "13    -0.217758  0.163788       7        1   6.436463\n",
              "8     -0.089530  0.232872       8        1   6.411150\n",
              "4      0.224969  0.001482       9        1   4.572500\n",
              "0      0.158835 -0.119941      10        1   3.995284\n",
              "7      0.170427  0.066297      11        1   3.560418\n",
              "11     0.112060  0.087833      12        1   3.211830\n",
              "1     -0.091792 -0.014211      13        1   3.211520\n",
              "6      0.007160  0.052143      14        1   2.277029\n",
              "14    -0.051995  0.082498      15        1   1.793685\n",
              "9      0.014723  0.003930      16        1   0.208998, topic_info=          Term       Freq      Total Category  logprob  loglift\n",
              "0         body  14.000000  14.000000  Default  30.0000  30.0000\n",
              "26      system  28.000000  28.000000  Default  29.0000  29.0000\n",
              "24    skeletal   9.000000   9.000000  Default  28.0000  28.0000\n",
              "3        human  12.000000  12.000000  Default  27.0000  27.0000\n",
              "20    muscular   6.000000   6.000000  Default  26.0000  26.0000\n",
              "..         ...        ...        ...      ...      ...      ...\n",
              "25      smooth   0.004884   4.074793  Topic16  -5.2627  -0.5560\n",
              "26      system   0.004884  28.399578  Topic16  -5.2627  -2.4976\n",
              "27        type   0.004884   4.079224  Topic16  -5.2627  -0.5571\n",
              "28      create   0.004884   2.320810  Topic16  -5.2627   0.0069\n",
              "29  facilitate   0.004884   1.934414  Topic16  -5.2627   0.1890\n",
              "\n",
              "[727 rows x 6 columns], token_table=      Topic      Freq      Term\n",
              "term                           \n",
              "158       1  0.671699    absorb\n",
              "66        7  0.491905  activity\n",
              "33        3  0.460828     adult\n",
              "33        4  0.460828     adult\n",
              "104       6  0.739010  affected\n",
              "...     ...       ...       ...\n",
              "146       4  0.460907      when\n",
              "129       8  0.739207     where\n",
              "57        3  0.462662     white\n",
              "57        6  0.462662     white\n",
              "181       4  0.734180     woman\n",
              "\n",
              "[317 rows x 3 columns], R=30, lambda_step=0.01, plot_opts={'xlab': 'PC1', 'ylab': 'PC2'}, topic_order=[13, 11, 4, 16, 6, 3, 14, 9, 5, 1, 8, 12, 2, 7, 15, 10])"
            ]
          },
          "execution_count": 64,
          "metadata": {},
          "output_type": "execute_result"
        }
      ],
      "source": [
        "pyLDAvis.enable_notebook()\n",
        "vis = pyLDAvis.gensim.prepare(lda_model, corpus, id2word, mds=\"mmds\", R=30)\n",
        "vis"
      ]
    },
    {
      "cell_type": "code",
      "execution_count": null,
      "metadata": {
        "colab": {
          "base_uri": "https://localhost:8080/"
        },
        "id": "NpZx_lWcYwEj",
        "outputId": "e7c6e798-1c2f-4cbf-ea4e-f37c44e7543f"
      },
      "outputs": [
        {
          "output_type": "stream",
          "name": "stderr",
          "text": [
            "/usr/local/lib/python3.9/dist-packages/ipykernel/ipkernel.py:283: DeprecationWarning: `should_run_async` will not call `transform_cell` automatically in the future. Please pass the result to `transformed_cell` argument and any exception that happen during thetransform in `preprocessing_exc_tuple` in IPython 7.17 and above.\n",
            "  and should_run_async(code)\n"
          ]
        }
      ],
      "source": [
        "#OUR CONTRIBUTION\n",
        "def getwords(lst):\n",
        "  for topic in lst:\n",
        "    words = []\n",
        "    strwords = topic[1]\n",
        "    wordlist = strwords.split(' + ')\n",
        "    for word in wordlist:\n",
        "      star = word.find('*')\n",
        "      prob = float(word[:star])\n",
        "      keyword = word[star+1:]\n",
        "      if prob>0.025 and keyword not in words:\n",
        "        words.append(keyword)\n",
        "  return words"
      ]
    },
    {
      "cell_type": "code",
      "execution_count": null,
      "metadata": {
        "colab": {
          "base_uri": "https://localhost:8080/"
        },
        "id": "2aaychqDY0Di",
        "outputId": "45ebc335-42a4-4baf-94aa-8fb5977bb102"
      },
      "outputs": [
        {
          "output_type": "stream",
          "name": "stderr",
          "text": [
            "/usr/local/lib/python3.9/dist-packages/ipykernel/ipkernel.py:283: DeprecationWarning: `should_run_async` will not call `transform_cell` automatically in the future. Please pass the result to `transformed_cell` argument and any exception that happen during thetransform in `preprocessing_exc_tuple` in IPython 7.17 and above.\n",
            "  and should_run_async(code)\n"
          ]
        }
      ],
      "source": [
        "#OUR CONTRIBUTION\n",
        "import matplotlib.pyplot as plt\n",
        "import seaborn as sns\n",
        "sns.set()\n",
        "from gensim.models import LdaMulticore\n",
        "from gensim.models import CoherenceModel\n",
        "\n",
        "def filter_sentences(resolved_txt):\n",
        "  lem_text = lemmatization(nltk.sent_tokenize(resolved_txt))\n",
        "\n",
        "  data_words = gen_words(lem_text)\n",
        "  print (data_words[0][0:20])\n",
        "\n",
        "  bigram_phrases = gensim.models.Phrases(data_words, min_count=5, threshold=100)\n",
        "  trigram_phrases = gensim.models.Phrases(bigram_phrases[data_words], threshold=100)\n",
        "\n",
        "  data_bigrams = make_bigrams(data_words, bigram_phrases)\n",
        "  data_bigrams_trigrams = make_trigrams(data_bigrams, bigram_phrases, trigram_phrases)\n",
        "\n",
        "  print (data_bigrams_trigrams[0][0:20])\n",
        "\n",
        "  id2word,corpus = tfidf_removal(data_bigrams_trigrams)\n",
        "\n",
        "  topics = []\n",
        "  score = []\n",
        "  for i in range(1,20,1):\n",
        "    lda_model = LdaMulticore(corpus=corpus, id2word=id2word, iterations=10, num_topics=i, workers = 4, passes=10, random_state=100)\n",
        "    cm = CoherenceModel(model=lda_model, texts = data_words, corpus=corpus, dictionary=id2word, coherence='c_v')\n",
        "    topics.append(i)\n",
        "    score.append(cm.get_coherence())\n",
        "  _=plt.plot(topics, score)\n",
        "  _=plt.xlabel('Number of Topics')\n",
        "  _=plt.ylabel('Coherence Score')\n",
        "  plt.show()\n",
        "\n",
        "  index=0\n",
        "  for i,j in enumerate(score):\n",
        "      print(i,j)\n",
        "      if j == max(score):\n",
        "          index = i\n",
        "\n",
        "  lda_model = gensim.models.ldamodel.LdaModel(corpus=corpus,\n",
        "                                            id2word=id2word,\n",
        "                                            num_topics= topics[index],\n",
        "                                            random_state=100,\n",
        "                                            update_every=1,\n",
        "                                            chunksize=100,\n",
        "                                            passes=10,\n",
        "                                            alpha=\"auto\")\n",
        "\n",
        "  pyLDAvis.enable_notebook()\n",
        "  vis = pyLDAvis.gensim.prepare(lda_model, corpus, id2word, mds=\"mmds\", R=30)\n",
        "  vis\n",
        "\n",
        "  lst = lda_model.print_topics(-1)\n",
        "  for topic in lst:\n",
        "    words = []\n",
        "    strwords = topic[1]\n",
        "    wordlist = strwords.split(' + ')\n",
        "    for word in wordlist:\n",
        "        star = word.find('*')\n",
        "        prob = float(word[:star])\n",
        "        keyword = word[star+1:]\n",
        "        print(prob, keyword)\n",
        "\n",
        "  words = set(getwords(lda_model.print_topics(-1)))\n",
        "  wordfin = []\n",
        "  for word in words:\n",
        "    wordfin.append(word.strip('\\\"'))\n",
        "\n",
        "  sentences = []\n",
        "  temp_list = resolved_txt.split('.')\n",
        "  for sent in temp_list:\n",
        "    for word in wordfin:\n",
        "      if sent.find(word)!=-1:\n",
        "        sentences.append(sent)\n",
        "\n",
        "  filtered_sentences = set(sentences)\n",
        "  return filtered_sentences"
      ]
    },
    {
      "cell_type": "code",
      "source": [
        "test_filtered_sentences = []\n",
        "for resolved_txt in coref_resolved_text:\n",
        "  test_filtered_sentences.append(filter_sentences(resolved_txt))"
      ],
      "metadata": {
        "colab": {
          "base_uri": "https://localhost:8080/",
          "height": 1000
        },
        "id": "aI0CydE8-vlt",
        "outputId": "7c22fcbf-9ce8-4fb4-afcd-4116874486a4"
      },
      "execution_count": null,
      "outputs": [
        {
          "output_type": "stream",
          "name": "stderr",
          "text": [
            "/usr/local/lib/python3.9/dist-packages/ipykernel/ipkernel.py:283: DeprecationWarning: `should_run_async` will not call `transform_cell` automatically in the future. Please pass the result to `transformed_cell` argument and any exception that happen during thetransform in `preprocessing_exc_tuple` in IPython 7.17 and above.\n",
            "  and should_run_async(code)\n"
          ]
        },
        {
          "output_type": "stream",
          "name": "stdout",
          "text": [
            "['kid']\n",
            "['kid']\n"
          ]
        },
        {
          "output_type": "display_data",
          "data": {
            "text/plain": [
              "<Figure size 640x480 with 1 Axes>"
            ],
            "image/png": "[encoded data removed]"
          },
          "metadata": {}
        },
        {
          "output_type": "stream",
          "name": "stdout",
          "text": [
            "0 0.3098012385692383\n",
            "1 0.33585548117954533\n",
            "2 0.355451821767472\n",
            "3 0.34225839429610233\n",
            "4 0.3782397225640005\n",
            "5 0.41033569477741844\n",
            "6 0.3523134702894265\n",
            "7 0.3578883999470507\n",
            "8 0.35914067712263653\n",
            "9 0.35878879930969076\n",
            "10 0.33133667107579484\n",
            "11 0.3412956969423262\n",
            "12 0.3140825671598003\n",
            "13 0.32549569466556155\n",
            "14 0.34437197325702784\n",
            "15 0.34644308126454354\n",
            "16 0.33344752577999964\n",
            "17 0.3371170023326387\n",
            "18 0.3546388030880306\n"
          ]
        },
        {
          "output_type": "stream",
          "name": "stderr",
          "text": [
            "/usr/local/lib/python3.9/dist-packages/pyLDAvis/_prepare.py:243: FutureWarning: In a future version of pandas all arguments of DataFrame.drop except for the argument 'labels' will be keyword-only.\n",
            "  default_term_info = default_term_info.sort_values(\n",
            "/usr/local/lib/python3.9/dist-packages/sklearn/manifold/_mds.py:299: FutureWarning: The default value of `normalized_stress` will change to `'auto'` in version 1.4. To suppress this warning, manually set the value of `normalized_stress`.\n",
            "  warnings.warn(\n"
          ]
        },
        {
          "output_type": "stream",
          "name": "stdout",
          "text": [
            "0.045 \"trap\"\n",
            "0.031 \"plant\"\n",
            "0.031 \"leave\"\n",
            "0.031 \"fly\"\n",
            "0.031 \"mushroom\"\n",
            "0.031 \"venous\"\n",
            "0.031 \"photosynthesis\"\n",
            "0.031 \"process\"\n",
            "0.017 \"important\"\n",
            "0.017 \"food\"\n",
            "0.076 \"plant\"\n",
            "0.068 \"photosynthesis\"\n",
            "0.038 \"food\"\n",
            "0.038 \"process\"\n",
            "0.032 \"light\"\n",
            "0.032 \"water\"\n",
            "0.026 \"own\"\n",
            "0.026 \"make\"\n",
            "0.02 \"energy\"\n",
            "0.02 \"human\"\n",
            "0.054 \"use\"\n",
            "0.053 \"plant\"\n",
            "0.046 \"carbon\"\n",
            "0.046 \"dioxide\"\n",
            "0.044 \"glucose\"\n",
            "0.035 \"water\"\n",
            "0.034 \"extra\"\n",
            "0.027 \"photosynthesis\"\n",
            "0.024 \"form\"\n",
            "0.024 \"store\"\n",
            "0.126 \"pore\"\n",
            "0.064 \"very\"\n",
            "0.064 \"skin\"\n",
            "0.064 \"body\"\n",
            "0.064 \"similar\"\n",
            "0.028 \"plant\"\n",
            "0.027 \"energy\"\n",
            "0.027 \"oxygen\"\n",
            "0.026 \"responsible\"\n",
            "0.015 \"amount\"\n",
            "0.052 \"mean\"\n",
            "0.04 \"plant\"\n",
            "0.027 \"process\"\n",
            "0.027 \"photosynthesis\"\n",
            "0.027 \"leave\"\n",
            "0.027 \"take\"\n",
            "0.027 \"place\"\n",
            "0.027 \"photo\"\n",
            "0.027 \"put\"\n",
            "0.027 \"synthesis\"\n",
            "0.071 \"call\"\n",
            "0.057 \"leave\"\n",
            "0.057 \"cell\"\n",
            "0.047 \"plant\"\n",
            "0.044 \"green\"\n",
            "0.044 \"color\"\n",
            "0.03 \"system\"\n",
            "0.03 \"suck\"\n",
            "0.03 \"chloroplast\"\n",
            "0.03 \"component\"\n",
            "['random', 'out', 'order', 'alphabet']\n",
            "['random', 'out', 'order', 'alphabet']\n"
          ]
        },
        {
          "output_type": "display_data",
          "data": {
            "text/plain": [
              "<Figure size 640x480 with 1 Axes>"
            ],
            "image/png": "[encoded data removed]"
          },
          "metadata": {}
        },
        {
          "output_type": "stream",
          "name": "stdout",
          "text": [
            "0 0.3806605052762548\n",
            "1 0.39207384384942245\n",
            "2 0.32858427017729\n",
            "3 0.27332690982763946\n",
            "4 0.3054620596958812\n",
            "5 0.340561786831112\n",
            "6 0.35304098802041156\n",
            "7 0.39186942766210825\n",
            "8 0.37456608335405356\n",
            "9 0.33840865707053525\n",
            "10 0.3538853383581237\n",
            "11 0.33189464316178574\n",
            "12 0.36766301353423514\n",
            "13 0.38146888390906614\n",
            "14 0.37640800429774646\n",
            "15 0.33531362212691807\n",
            "16 0.3910610490302736\n",
            "17 0.4261774204208657\n",
            "18 0.3560081640775228\n"
          ]
        },
        {
          "output_type": "stream",
          "name": "stderr",
          "text": [
            "/usr/local/lib/python3.9/dist-packages/pyLDAvis/_prepare.py:243: FutureWarning: In a future version of pandas all arguments of DataFrame.drop except for the argument 'labels' will be keyword-only.\n",
            "  default_term_info = default_term_info.sort_values(\n",
            "/usr/local/lib/python3.9/dist-packages/sklearn/manifold/_mds.py:299: FutureWarning: The default value of `normalized_stress` will change to `'auto'` in version 1.4. To suppress this warning, manually set the value of `normalized_stress`.\n",
            "  warnings.warn(\n"
          ]
        },
        {
          "output_type": "stream",
          "name": "stdout",
          "text": [
            "0.033 \"form\"\n",
            "0.033 \"wound\"\n",
            "0.033 \"infection\"\n",
            "0.033 \"tooth\"\n",
            "0.033 \"tissue\"\n",
            "0.033 \"kind\"\n",
            "0.033 \"make\"\n",
            "0.033 \"heal\"\n",
            "0.033 \"bone\"\n",
            "0.033 \"get\"\n",
            "0.048 \"fat\"\n",
            "0.041 \"bacteria\"\n",
            "0.041 \"fungi\"\n",
            "0.041 \"plant\"\n",
            "0.041 \"own\"\n",
            "0.041 \"lipid\"\n",
            "0.041 \"find\"\n",
            "0.041 \"butter\"\n",
            "0.041 \"soluble\"\n",
            "0.041 \"dairy\"\n",
            "0.004 \"pack\"\n",
            "0.004 \"cell\"\n",
            "0.004 \"overload\"\n",
            "0.004 \"generally\"\n",
            "0.004 \"stay\"\n",
            "0.004 \"power\"\n",
            "0.004 \"ration\"\n",
            "0.004 \"basis\"\n",
            "0.004 \"eat\"\n",
            "0.004 \"should\"\n",
            "0.082 \"vitamin\"\n",
            "0.05 \"body\"\n",
            "0.033 \"just\"\n",
            "0.033 \"soluble\"\n",
            "0.033 \"fat\"\n",
            "0.033 \"need\"\n",
            "0.017 \"type\"\n",
            "0.017 \"part\"\n",
            "0.017 \"store\"\n",
            "0.017 \"generally\"\n",
            "0.004 \"pack\"\n",
            "0.004 \"cell\"\n",
            "0.004 \"overload\"\n",
            "0.004 \"generally\"\n",
            "0.004 \"stay\"\n",
            "0.004 \"power\"\n",
            "0.004 \"ration\"\n",
            "0.004 \"basis\"\n",
            "0.004 \"eat\"\n",
            "0.004 \"should\"\n",
            "0.123 \"soluble\"\n",
            "0.082 \"water\"\n",
            "0.042 \"lipid\"\n",
            "0.042 \"type\"\n",
            "0.042 \"easily\"\n",
            "0.021 \"store\"\n",
            "0.021 \"rid\"\n",
            "0.021 \"excess\"\n",
            "0.021 \"difference\"\n",
            "0.021 \"kidney\"\n",
            "0.004 \"pack\"\n",
            "0.004 \"cell\"\n",
            "0.004 \"overload\"\n",
            "0.004 \"generally\"\n",
            "0.004 \"stay\"\n",
            "0.004 \"power\"\n",
            "0.004 \"ration\"\n",
            "0.004 \"basis\"\n",
            "0.004 \"eat\"\n",
            "0.004 \"should\"\n",
            "0.104 \"soluble\"\n",
            "0.104 \"fat\"\n",
            "0.042 \"vitamin\"\n",
            "0.022 \"logistic\"\n",
            "0.022 \"work\"\n",
            "0.022 \"first\"\n",
            "0.022 \"cell\"\n",
            "0.022 \"place\"\n",
            "0.022 \"storage\"\n",
            "0.022 \"power\"\n",
            "0.073 \"job\"\n",
            "0.037 \"keep\"\n",
            "0.037 \"compound\"\n",
            "0.037 \"small\"\n",
            "0.037 \"ingest\"\n",
            "0.037 \"function\"\n",
            "0.037 \"amount\"\n",
            "0.037 \"organic\"\n",
            "0.037 \"need\"\n",
            "0.037 \"protein\"\n",
            "0.05 \"vegetable\"\n",
            "0.05 \"help\"\n",
            "0.05 \"cell\"\n",
            "0.05 \"fruit\"\n",
            "0.05 \"grain\"\n",
            "0.026 \"bone\"\n",
            "0.026 \"check\"\n",
            "0.026 \"key\"\n",
            "0.026 \"white\"\n",
            "0.026 \"digest\"\n",
            "0.094 \"soluble\"\n",
            "0.094 \"fat\"\n",
            "0.063 \"how\"\n",
            "0.033 \"vitamins\"\n",
            "0.033 \"water\"\n",
            "0.033 \"reject\"\n",
            "0.033 \"so\"\n",
            "0.033 \"re\"\n",
            "0.033 \"determine\"\n",
            "0.033 \"store\"\n",
            "0.039 \"fatigue\"\n",
            "0.039 \"heart\"\n",
            "0.039 \"variety\"\n",
            "0.039 \"problem\"\n",
            "0.039 \"range\"\n",
            "0.039 \"scurvy\"\n",
            "0.039 \"disease\"\n",
            "0.039 \"deficiency\"\n",
            "0.039 \"nerve\"\n",
            "0.039 \"ricket\"\n",
            "0.05 \"water\"\n",
            "0.05 \"soluble\"\n",
            "0.05 \"body\"\n",
            "0.026 \"other\"\n",
            "0.026 \"fruit\"\n",
            "0.026 \"can\"\n",
            "0.026 \"toxicity\"\n",
            "0.026 \"hand\"\n",
            "0.026 \"idea\"\n",
            "0.026 \"cause\"\n",
            "0.16 \"vitamin\"\n",
            "0.081 \"water\"\n",
            "0.065 \"soluble\"\n",
            "0.049 \"can\"\n",
            "0.049 \"make\"\n",
            "0.033 \"body\"\n",
            "0.021 \"blood\"\n",
            "0.017 \"move\"\n",
            "0.017 \"around\"\n",
            "0.017 \"transport\"\n",
            "0.033 \"disease\"\n",
            "0.033 \"use\"\n",
            "0.033 \"body\"\n",
            "0.032 \"make\"\n",
            "0.027 \"fat\"\n",
            "0.017 \"fruit\"\n",
            "0.017 \"get\"\n",
            "0.017 \"antidote\"\n",
            "0.017 \"vegetable\"\n",
            "0.017 \"rich\"\n",
            "0.049 \"get\"\n",
            "0.049 \"reality\"\n",
            "0.049 \"jackpot\"\n",
            "0.049 \"hit\"\n",
            "0.049 \"right\"\n",
            "0.049 \"balance\"\n",
            "0.049 \"dependent\"\n",
            "0.049 \"form\"\n",
            "0.049 \"take\"\n",
            "0.003 \"damage\"\n",
            "0.107 \"soluble\"\n",
            "0.107 \"fat\"\n",
            "0.065 \"vitamin\"\n",
            "0.043 \"blood\"\n",
            "0.022 \"order\"\n",
            "0.022 \"random\"\n",
            "0.022 \"out\"\n",
            "0.022 \"alphabet\"\n",
            "0.022 \"watery\"\n",
            "0.022 \"make\"\n",
            "0.07 \"enzyme\"\n",
            "0.036 \"body\"\n",
            "0.036 \"help\"\n",
            "0.036 \"make\"\n",
            "0.036 \"energy\"\n",
            "0.036 \"co\"\n",
            "0.036 \"complex\"\n",
            "0.036 \"job\"\n",
            "0.036 \"release\"\n",
            "0.036 \"food\"\n",
            "['today', 'video', 'go', 'look', 'basic', 'wave', 'include', 'how', 'label', 'different', 'part', 'how', 'calculate', 'wave', 'speed', 'difference', 'transverse', 'longitudinal', 'wave']\n",
            "['today', 'video', 'go', 'look', 'basic', 'wave', 'include', 'how', 'label', 'different', 'part', 'how', 'calculate', 'wave', 'speed', 'difference', 'transverse', 'longitudinal', 'wave']\n"
          ]
        },
        {
          "output_type": "display_data",
          "data": {
            "text/plain": [
              "<Figure size 640x480 with 1 Axes>"
            ],
            "image/png": "[encoded data removed]"
          },
          "metadata": {}
        },
        {
          "output_type": "stream",
          "name": "stdout",
          "text": [
            "0 0.3349146743764418\n",
            "1 0.38523111567171164\n",
            "2 0.3572440579375907\n",
            "3 0.36805922910977734\n",
            "4 0.3666366931923534\n",
            "5 0.3496636875646641\n",
            "6 0.29732791520778207\n",
            "7 0.34348278844601865\n",
            "8 0.33000134680723536\n",
            "9 0.35888420467236337\n",
            "10 0.3832215080521946\n",
            "11 0.373408658016016\n",
            "12 0.42966090166057774\n",
            "13 0.36005720003224845\n",
            "14 0.40618506610117383\n",
            "15 0.3485075592071868\n",
            "16 0.4124188945917244\n",
            "17 0.4114417728064845\n",
            "18 0.3539843920511795\n"
          ]
        },
        {
          "output_type": "stream",
          "name": "stderr",
          "text": [
            "/usr/local/lib/python3.9/dist-packages/pyLDAvis/_prepare.py:243: FutureWarning: In a future version of pandas all arguments of DataFrame.drop except for the argument 'labels' will be keyword-only.\n",
            "  default_term_info = default_term_info.sort_values(\n",
            "/usr/local/lib/python3.9/dist-packages/sklearn/manifold/_mds.py:299: FutureWarning: The default value of `normalized_stress` will change to `'auto'` in version 1.4. To suppress this warning, manually set the value of `normalized_stress`.\n",
            "  warnings.warn(\n"
          ]
        },
        {
          "output_type": "stream",
          "name": "stdout",
          "text": [
            "0.139 \"wave\"\n",
            "0.07 \"longitudinal\"\n",
            "0.047 \"oscillation\"\n",
            "0.025 \"example\"\n",
            "0.025 \"seismic\"\n",
            "0.025 \"last\"\n",
            "0.025 \"parallel\"\n",
            "0.025 \"thing\"\n",
            "0.025 \"other\"\n",
            "0.025 \"transverse\"\n",
            "0.072 \"how\"\n",
            "0.054 \"wave\"\n",
            "0.019 \"speed\"\n",
            "0.019 \"difference\"\n",
            "0.019 \"different\"\n",
            "0.019 \"go\"\n",
            "0.019 \"video\"\n",
            "0.019 \"look\"\n",
            "0.019 \"transverse\"\n",
            "0.019 \"today\"\n",
            "0.049 \"today\"\n",
            "0.049 \"hope\"\n",
            "0.049 \"useful\"\n",
            "0.049 \"soon\"\n",
            "0.049 \"again\"\n",
            "0.049 \"find\"\n",
            "0.049 \"see\"\n",
            "0.049 \"will\"\n",
            "0.049 \"video\"\n",
            "0.004 \"wave\"\n",
            "0.067 \"wavelength\"\n",
            "0.051 \"meter\"\n",
            "0.051 \"time\"\n",
            "0.05 \"instead\"\n",
            "0.034 \"wave\"\n",
            "0.034 \"frequency\"\n",
            "0.034 \"hertz\"\n",
            "0.034 \"centimeter\"\n",
            "0.018 \"case\"\n",
            "0.018 \"sound\"\n",
            "0.091 \"wave\"\n",
            "0.061 \"direction\"\n",
            "0.032 \"down\"\n",
            "0.032 \"why\"\n",
            "0.032 \"when\"\n",
            "0.032 \"transverse\"\n",
            "0.032 \"perpendicular\"\n",
            "0.032 \"leave\"\n",
            "0.032 \"oscillation\"\n",
            "0.032 \"travel\"\n",
            "0.134 \"wave\"\n",
            "0.055 \"transfer\"\n",
            "0.055 \"point\"\n",
            "0.055 \"how\"\n",
            "0.055 \"far\"\n",
            "0.029 \"place\"\n",
            "0.029 \"matter\"\n",
            "0.029 \"understand\"\n",
            "0.029 \"energy\"\n",
            "0.029 \"first\"\n",
            "0.08 \"time\"\n",
            "0.061 \"period\"\n",
            "0.041 \"could\"\n",
            "0.041 \"back\"\n",
            "0.041 \"crest\"\n",
            "0.041 \"down\"\n",
            "0.041 \"oscillation\"\n",
            "0.041 \"up\"\n",
            "0.041 \"second\"\n",
            "0.021 \"call\"\n",
            "0.079 \"wave\"\n",
            "0.04 \"pass\"\n",
            "0.04 \"distance\"\n",
            "0.04 \"so\"\n",
            "0.04 \"travel\"\n",
            "0.021 \"light\"\n",
            "0.021 \"can\"\n",
            "0.021 \"screen\"\n",
            "0.021 \"when\"\n",
            "0.021 \"sound\"\n",
            "0.085 \"wave\"\n",
            "0.043 \"wavelength\"\n",
            "0.043 \"speed\"\n",
            "0.043 \"frequency\"\n",
            "0.029 \"see\"\n",
            "0.029 \"more\"\n",
            "0.029 \"region\"\n",
            "0.029 \"centimeter\"\n",
            "0.029 \"one\"\n",
            "0.029 \"hertz\"\n",
            "0.006 \"wave\"\n",
            "0.006 \"second\"\n",
            "0.006 \"how\"\n",
            "0.006 \"time\"\n",
            "0.006 \"travel\"\n",
            "0.006 \"equilibrium\"\n",
            "0.006 \"direction\"\n",
            "0.006 \"far\"\n",
            "0.006 \"period\"\n",
            "0.006 \"see\"\n",
            "0.122 \"wave\"\n",
            "0.022 \"move\"\n",
            "0.022 \"right\"\n",
            "0.022 \"oscillation\"\n",
            "0.022 \"look\"\n",
            "0.022 \"would\"\n",
            "0.022 \"compressed\"\n",
            "0.022 \"distance\"\n",
            "0.022 \"displacement\"\n",
            "0.022 \"more\"\n",
            "0.05 \"oscillation\"\n",
            "0.05 \"second\"\n",
            "0.034 \"then\"\n",
            "0.034 \"can\"\n",
            "0.034 \"frequency\"\n",
            "0.034 \"brain\"\n",
            "0.034 \"time\"\n",
            "0.034 \"tell\"\n",
            "0.034 \"period\"\n",
            "0.017 \"interpret\"\n",
            "0.006 \"wave\"\n",
            "0.006 \"second\"\n",
            "0.006 \"time\"\n",
            "0.006 \"oscillation\"\n",
            "0.006 \"travel\"\n",
            "0.006 \"down\"\n",
            "0.006 \"far\"\n",
            "0.006 \"period\"\n",
            "0.006 \"see\"\n",
            "0.006 \"displacement\"\n",
            "['human', 'body', 'complex', 'network', 'cell', 'tissue', 'organ', 'together', 'make', 'life', 'possible']\n",
            "['human', 'body', 'complex', 'network', 'cell', 'tissue', 'organ', 'together', 'make', 'life', 'possible']\n"
          ]
        },
        {
          "output_type": "display_data",
          "data": {
            "text/plain": [
              "<Figure size 640x480 with 1 Axes>"
            ],
            "image/png": "[encoded data removed]"
          },
          "metadata": {}
        },
        {
          "output_type": "stream",
          "name": "stdout",
          "text": [
            "0 0.4175870257726856\n",
            "1 0.416683451423427\n",
            "2 0.3892386421221084\n",
            "3 0.32075587362145114\n",
            "4 0.2884626782630943\n",
            "5 0.30707857858630666\n",
            "6 0.3607659100245006\n",
            "7 0.36594164119796657\n",
            "8 0.3544187100517767\n",
            "9 0.337614802321551\n",
            "10 0.37323969003491475\n",
            "11 0.3445948235212129\n",
            "12 0.3558012998988565\n",
            "13 0.40841618714723277\n",
            "14 0.3324603014263382\n",
            "15 0.42260366515143966\n",
            "16 0.38607797416677103\n",
            "17 0.37676670053060995\n",
            "18 0.37063050634195355\n"
          ]
        },
        {
          "output_type": "stream",
          "name": "stderr",
          "text": [
            "/usr/local/lib/python3.9/dist-packages/pyLDAvis/_prepare.py:243: FutureWarning: In a future version of pandas all arguments of DataFrame.drop except for the argument 'labels' will be keyword-only.\n",
            "  default_term_info = default_term_info.sort_values(\n"
          ]
        },
        {
          "output_type": "stream",
          "name": "stdout",
          "text": [
            "0.069 \"then\"\n",
            "0.035 \"digestive\"\n",
            "0.035 \"esophagus\"\n",
            "0.035 \"urine\"\n",
            "0.035 \"enter\"\n",
            "0.035 \"vessel\"\n",
            "0.035 \"intestine\"\n",
            "0.035 \"mouth\"\n",
            "0.035 \"move\"\n",
            "0.035 \"stomach\"\n",
            "0.079 \"system\"\n",
            "0.041 \"regulate\"\n",
            "0.041 \"series\"\n",
            "0.041 \"information\"\n",
            "0.041 \"nervous\"\n",
            "0.041 \"endocrine\"\n",
            "0.041 \"use\"\n",
            "0.041 \"human\"\n",
            "0.041 \"gland\"\n",
            "0.041 \"process\"\n",
            "0.048 \"body\"\n",
            "0.048 \"system\"\n",
            "0.025 \"send\"\n",
            "0.025 \"then\"\n",
            "0.025 \"transmit\"\n",
            "0.025 \"area\"\n",
            "0.025 \"information\"\n",
            "0.025 \"regulate\"\n",
            "0.025 \"immune\"\n",
            "0.025 \"node\"\n",
            "0.076 \"blood\"\n",
            "0.052 \"system\"\n",
            "0.046 \"body\"\n",
            "0.034 \"include\"\n",
            "0.031 \"heart\"\n",
            "0.031 \"pipeline\"\n",
            "0.031 \"hormone\"\n",
            "0.031 \"then\"\n",
            "0.031 \"human\"\n",
            "0.031 \"cardiovascular\"\n",
            "0.062 \"together\"\n",
            "0.032 \"organ\"\n",
            "0.032 \"cell\"\n",
            "0.032 \"tissue\"\n",
            "0.032 \"make\"\n",
            "0.032 \"possible\"\n",
            "0.032 \"body\"\n",
            "0.032 \"human\"\n",
            "0.032 \"life\"\n",
            "0.032 \"complex\"\n",
            "0.046 \"endocrine\"\n",
            "0.046 \"such\"\n",
            "0.046 \"thyroid\"\n",
            "0.046 \"gland\"\n",
            "0.024 \"cell\"\n",
            "0.024 \"neural\"\n",
            "0.024 \"other\"\n",
            "0.024 \"thank\"\n",
            "0.024 \"need\"\n",
            "0.024 \"function\"\n",
            "0.097 \"system\"\n",
            "0.09 \"create\"\n",
            "0.046 \"responsible\"\n",
            "0.046 \"life\"\n",
            "0.046 \"reproductive\"\n",
            "0.046 \"facilitate\"\n",
            "0.046 \"other\"\n",
            "0.046 \"infrastructure\"\n",
            "0.01 \"skeletal\"\n",
            "0.01 \"particular\"\n",
            "0.073 \"system\"\n",
            "0.038 \"air\"\n",
            "0.038 \"give\"\n",
            "0.038 \"group\"\n",
            "0.038 \"respiratory\"\n",
            "0.038 \"extract\"\n",
            "0.038 \"passageway\"\n",
            "0.038 \"breathe\"\n",
            "0.038 \"oxygen\"\n",
            "0.038 \"organ\"\n",
            "0.098 \"cardiovascular\"\n",
            "0.098 \"muscular\"\n",
            "0.098 \"particular\"\n",
            "0.098 \"nervous\"\n",
            "0.098 \"skeletal\"\n",
            "0.089 \"system\"\n",
            "0.027 \"energy\"\n",
            "0.027 \"come\"\n",
            "0.027 \"function\"\n",
            "0.027 \"require\"\n",
            "0.005 \"energy\"\n",
            "0.005 \"come\"\n",
            "0.005 \"air\"\n",
            "0.005 \"where\"\n",
            "0.005 \"require\"\n",
            "0.005 \"extract\"\n",
            "0.005 \"waste\"\n",
            "0.005 \"expel\"\n",
            "0.005 \"group\"\n",
            "0.005 \"urine\"\n",
            "0.066 \"system\"\n",
            "0.06 \"body\"\n",
            "0.06 \"human\"\n",
            "0.031 \"blood\"\n",
            "0.031 \"other\"\n",
            "0.031 \"regulate\"\n",
            "0.016 \"muscle\"\n",
            "0.016 \"create\"\n",
            "0.016 \"infrastructure\"\n",
            "0.016 \"bladder\"\n",
            "0.117 \"body\"\n",
            "0.117 \"human\"\n",
            "0.041 \"organ\"\n",
            "0.041 \"give\"\n",
            "0.041 \"tissue\"\n",
            "0.041 \"protect\"\n",
            "0.041 \"shape\"\n",
            "0.041 \"bone\"\n",
            "0.041 \"hold\"\n",
            "0.041 \"together\"\n",
            "0.123 \"system\"\n",
            "0.062 \"include\"\n",
            "0.06 \"skeletal\"\n",
            "0.043 \"body\"\n",
            "0.043 \"muscular\"\n",
            "0.043 \"type\"\n",
            "0.043 \"muscle\"\n",
            "0.043 \"smooth\"\n",
            "0.033 \"blood\"\n",
            "0.031 \"cardiac\"\n",
            "0.074 \"spinal\"\n",
            "0.05 \"cord\"\n",
            "0.05 \"sensory\"\n",
            "0.05 \"intellectual\"\n",
            "0.05 \"hub\"\n",
            "0.05 \"brain\"\n",
            "0.05 \"activity\"\n",
            "0.026 \"system\"\n",
            "0.026 \"digestive\"\n",
            "0.026 \"nervous\"\n",
            "0.052 \"lymphatic\"\n",
            "0.052 \"respiratory\"\n",
            "0.052 \"function\"\n",
            "0.052 \"responsible\"\n",
            "0.052 \"endocrine\"\n",
            "0.052 \"nervous\"\n",
            "0.052 \"major\"\n",
            "0.021 \"skeletal\"\n",
            "0.019 \"human\"\n",
            "0.011 \"cardiovascular\"\n",
            "0.064 \"organ\"\n",
            "0.064 \"system\"\n",
            "0.043 \"find\"\n",
            "0.043 \"major\"\n",
            "0.043 \"human\"\n",
            "0.022 \"testis\"\n",
            "0.022 \"primary\"\n",
            "0.022 \"man\"\n",
            "0.022 \"woman\"\n",
            "0.022 \"sex\"\n"
          ]
        },
        {
          "output_type": "stream",
          "name": "stderr",
          "text": [
            "/usr/local/lib/python3.9/dist-packages/sklearn/manifold/_mds.py:299: FutureWarning: The default value of `normalized_stress` will change to `'auto'` in version 1.4. To suppress this warning, manually set the value of `normalized_stress`.\n",
            "  warnings.warn(\n"
          ]
        }
      ]
    },
    {
      "cell_type": "code",
      "source": [
        "filter_sentences(resolved_txt)"
      ],
      "metadata": {
        "colab": {
          "base_uri": "https://localhost:8080/",
          "height": 1000
        },
        "id": "QkLCOtOhYsjV",
        "outputId": "82c52e8e-0647-4b6d-a77e-c05ac84c4597"
      },
      "execution_count": null,
      "outputs": [
        {
          "output_type": "stream",
          "name": "stderr",
          "text": [
            "/usr/local/lib/python3.9/dist-packages/ipykernel/ipkernel.py:283: DeprecationWarning: `should_run_async` will not call `transform_cell` automatically in the future. Please pass the result to `transformed_cell` argument and any exception that happen during thetransform in `preprocessing_exc_tuple` in IPython 7.17 and above.\n",
            "  and should_run_async(code)\n"
          ]
        },
        {
          "output_type": "stream",
          "name": "stdout",
          "text": [
            "['atomic', 'model', 'quite', 'commendable', 'when', 'come', 'explain', 'structure', 'atom']\n",
            "['atomic', 'model', 'quite', 'commendable', 'when', 'come', 'explain', 'structure', 'atom']\n"
          ]
        },
        {
          "output_type": "display_data",
          "data": {
            "text/plain": [
              "<Figure size 640x480 with 1 Axes>"
            ],
            "image/png": "[encoded data removed]"
          },
          "metadata": {}
        },
        {
          "output_type": "stream",
          "name": "stdout",
          "text": [
            "0 0.4365082673261013\n",
            "1 0.4166934547926886\n",
            "2 0.43204177703317326\n",
            "3 0.444419280958819\n",
            "4 0.4031699154051737\n",
            "5 0.42035637803641973\n",
            "6 0.39550094482608233\n",
            "7 0.42225926440946404\n",
            "8 0.3709227536088109\n",
            "9 0.4148127248449184\n",
            "10 0.4125855741006918\n",
            "11 0.4004264249413106\n",
            "12 0.38587414388907393\n",
            "13 0.3854779146914553\n",
            "14 0.3678559987546998\n",
            "15 0.3751375884469633\n",
            "16 0.37653375836498804\n",
            "17 0.3652067677800472\n",
            "18 0.3768681141353714\n"
          ]
        },
        {
          "output_type": "stream",
          "name": "stderr",
          "text": [
            "/usr/local/lib/python3.9/dist-packages/pyLDAvis/_prepare.py:243: FutureWarning: In a future version of pandas all arguments of DataFrame.drop except for the argument 'labels' will be keyword-only.\n",
            "  default_term_info = default_term_info.sort_values(\n"
          ]
        },
        {
          "output_type": "stream",
          "name": "stdout",
          "text": [
            "0.028 \"sun\"\n",
            "0.028 \"subatomic\"\n",
            "0.028 \"particle\"\n",
            "0.028 \"more\"\n",
            "0.016 \"atomic\"\n",
            "0.016 \"structure\"\n",
            "0.016 \"explanation\"\n",
            "0.016 \"describe\"\n",
            "0.016 \"few\"\n",
            "0.016 \"additional\"\n",
            "0.046 \"electron\"\n",
            "0.046 \"orbital\"\n",
            "0.046 \"fix\"\n",
            "0.033 \"nucleus\"\n",
            "0.032 \"shell\"\n",
            "0.027 \"how\"\n",
            "0.025 \"define\"\n",
            "0.021 \"letter\"\n",
            "0.021 \"equal\"\n",
            "0.021 \"on\"\n",
            "0.076 \"energy\"\n",
            "0.037 \"electron\"\n",
            "0.036 \"level\"\n",
            "0.022 \"name\"\n",
            "0.022 \"now\"\n",
            "0.021 \"radiate\"\n",
            "0.015 \"will\"\n",
            "0.015 \"get\"\n",
            "0.015 \"orbit\"\n",
            "0.015 \"find\"\n",
            "0.038 \"fix\"\n",
            "0.038 \"orbital\"\n",
            "0.033 \"define\"\n",
            "0.025 \"particle\"\n",
            "0.025 \"more\"\n",
            "0.025 \"subatomic\"\n",
            "0.025 \"revolve\"\n",
            "0.025 \"electron\"\n",
            "0.021 \"atom\"\n",
            "0.017 \"charge\"\n"
          ]
        },
        {
          "output_type": "stream",
          "name": "stderr",
          "text": [
            "/usr/local/lib/python3.9/dist-packages/sklearn/manifold/_mds.py:299: FutureWarning: The default value of `normalized_stress` will change to `'auto'` in version 1.4. To suppress this warning, manually set the value of `normalized_stress`.\n",
            "  warnings.warn(\n"
          ]
        },
        {
          "output_type": "execute_result",
          "data": {
            "text/plain": [
              "{\" And how do we name fixed defined orbitals to indicate fixed defined orbitals's position? It's simple\",\n",
              " ' And what if we want to number fixed defined orbitals? In that case, we use the letter N in lower case and write fixed defined orbitals as the letter N equals 1, the letter N equals 2, N equals 3 and so on, beginning from the 1 next to The nucleus',\n",
              " ' Beginning from the one near The nucleus, we name fixed defined orbitals as the K shell, L shell, M shell, N shell and so on',\n",
              " ' But have you noticed that the planets always revolve in fixed paths? We never find any planet jumping to a different path all of a sudden, right? the planets always encircle the sun in defined paths',\n",
              " \" But how exactly are the electrons distributed in fixed orbitals around the nucleus? Is there a way to find out the maximum number of electrons that one orbital can contain? Or is it that the electrons are randomly scattered in fixed orbitals around the nucleus? Let's find out the answers to these questions in our upcoming video\",\n",
              " ' Does now we have the complete design of an atom? In the center lies the nucleus having positively charged protons and neutral neutrons, while the negatively charged electrons revolve in fixed orbitals around The nucleus',\n",
              " ' Now this is justified when we use the name energy levels because the name energy levels indicates that each shell has got a defined energy level',\n",
              " ' So we can name fixed defined orbitals alphabetically or we can even number fixed defined orbitals',\n",
              " ' That means when the electrons revolve in fixed defined orbitals, the electrons do not liberate any form of energy',\n",
              " ' The nucleus acts like the sun and the electrons are like planets which revolve in fixed defined orbitals',\n",
              " ' With all these theories and points known, do we now know the structure of a typical atom completely? The nucleus contains positive protons and the electrons revolving around in fixed orbitals',\n",
              " ' fixed defined orbitals are referred to as shells or energy levels',\n",
              " ' the next legendary scientist in our list called Niels Bohr suggested that the electrons revolving in fixed defined orbitals do not radiate energy'}"
            ]
          },
          "metadata": {},
          "execution_count": 38
        }
      ]
    },
    {
      "cell_type": "code",
      "source": [
        "len(test_filtered_sentences)"
      ],
      "metadata": {
        "colab": {
          "base_uri": "https://localhost:8080/"
        },
        "id": "6iDVw7vaATC5",
        "outputId": "ee9d133e-7bb2-4f74-dbf3-028bd654a7d2"
      },
      "execution_count": null,
      "outputs": [
        {
          "output_type": "stream",
          "name": "stderr",
          "text": [
            "/usr/local/lib/python3.9/dist-packages/ipykernel/ipkernel.py:283: DeprecationWarning: `should_run_async` will not call `transform_cell` automatically in the future. Please pass the result to `transformed_cell` argument and any exception that happen during thetransform in `preprocessing_exc_tuple` in IPython 7.17 and above.\n",
            "  and should_run_async(code)\n"
          ]
        },
        {
          "output_type": "execute_result",
          "data": {
            "text/plain": [
              "4"
            ]
          },
          "metadata": {},
          "execution_count": 80
        }
      ]
    },
    {
      "cell_type": "code",
      "source": [
        "test_filtered_sentences"
      ],
      "metadata": {
        "colab": {
          "base_uri": "https://localhost:8080/"
        },
        "id": "JSZ4ledA__AV",
        "outputId": "581b25a1-2b5d-4d5e-c337-afbfd82621b4"
      },
      "execution_count": null,
      "outputs": [
        {
          "output_type": "stream",
          "name": "stderr",
          "text": [
            "/usr/local/lib/python3.9/dist-packages/ipykernel/ipkernel.py:283: DeprecationWarning: `should_run_async` will not call `transform_cell` automatically in the future. Please pass the result to `transformed_cell` argument and any exception that happen during thetransform in `preprocessing_exc_tuple` in IPython 7.17 and above.\n",
            "  and should_run_async(code)\n"
          ]
        },
        {
          "output_type": "execute_result",
          "data": {
            "text/plain": [
              "[{\" Do kids know how plants make plants's own food? No? Well, this video elaborates the process of photosynthesis by which plants make plants's own food\",\n",
              "  \" Glucose is used by the plants for the plants's growth\",\n",
              "  ' Leaves have important cells called mesofil cells',\n",
              "  ' Leaves on the plant have pores, very similar to the pores on the skin of our bodies',\n",
              "  ' Once the carbon dioxide and the water reach a green color component called chloroplasts in the presence of sunlight, the process of photosynthesis starts to take place',\n",
              "  ' Photosynthesis is the conversion of light energy into chemical energy by plants',\n",
              "  \" Photosynthesis is the process used by plants to make plants's own food or in more complex terms\",\n",
              "  ' Plants have tubes called xylum, located in the stems through which the water from the ground is sucked into the leaves',\n",
              "  \" Similarly, to make plants's food, plants also need some essential factors, including light, water, nutrients, soil, etc\",\n",
              "  ' Some amount of the extra glucose which is not used is also stored in the roots of the plants',\n",
              "  ' Some of Glucose is used immediately and the extra glucose which is not used is stored in the form of starch in the leaves',\n",
              "  ' The carbon dioxide present in the air, which is responsible for Photosynthesis, enters the plant through pores, very similar to the pores on the skin of our bodies',\n",
              "  ' The following reaction takes place in the leaves of the plant during the process of photosynthesis',\n",
              "  \" The oxygen that is released is used by human beings to breathe during human beings's respiration process ever wondered why the process of photosynthesis is called photosynthesis? Well the word photosynthesis is a combination of two Greek words photo and synthesis\",\n",
              "  \" There are some plants which don't need the process of photosynthesis to grow\",\n",
              "  ' This is because energy from the sun is absorbed by the water layers and only some amount of energy actually reaches the plant',\n",
              "  ' This system is spread throughout the different parts of the plant, including the stem, branches, and all the way up to the leaves',\n",
              "  ' This system transports vital nutrients to the plant',\n",
              "  ' This system works similar to humans sucking liquids through a straw',\n",
              "  ' Xylums in the plant are like blood vessels in the human body that act as an important means of transportation of water and nutrients',\n",
              "  ' a green color component called chloroplasts is responsible for the green color of plants and leaves',\n",
              "  ' chemical energy is used by plants for growth and nourishment',\n",
              "  ' important cells called mesofil cells contain a green color component called chloroplasts',\n",
              "  ' pores, very similar to the pores on the skin of our bodies are called stomata',\n",
              "  \" some essential factors, including light, water, nutrients, soil, etc, together help plants churn out plants's own food\",\n",
              "  \" some plants which don't need the process of photosynthesis to grow include mushroom, venous fly traps etc\",\n",
              "  ' venous fly traps trap and catch small insects which come near the leaves and eat the leaves'},\n",
              " {\" And just like letters build words, letters're the building blocks that keep the body running\",\n",
              "  \" And that comes from proteins that attach to fat-soluble vitamins and act like couriers, transporting fat-solubles into the blood's and around the body\",\n",
              "  \" Because blood plasma is water-based, water-soluble vitamins C and B have water-soluble vitamins C and B's transport cut out for water-soluble vitamins C and B, and can move around freely within the body\",\n",
              "  \" Because fat-soluble vitamins can't make use of the blood's watery nature, fat-soluble vitamins need something else to move fat-soluble vitamins around\",\n",
              "  ' Because of that, most water-soluble vitamins need to be replenished on a daily basis through the food we eat',\n",
              "  ' Finally, from vitamin K, we score the ability to this job blood, since vitamin K helps make the proteins that do this job',\n",
              "  ' For lipid-soluble vitamins, dissolved in fat and found in foods like dairy, butter, and oils, this trip into the blood is a little more adventurous',\n",
              "  ' From vitamin C, you get the ability to fight infection and make collagen, a kind of tissue that forms bones and teeth and heals wounds',\n",
              "  ' If you need convincing about vitamin value, just consider the plight of olden-day sailors who had no access to vitamin-rich fresh produce',\n",
              "  ' On the other hand, too much of any vitamin can cause toxicity in the body, so there goes the myth that loading yourself with supplements is a great idea',\n",
              "  ' Other bee vitamins then help the body to use the energy',\n",
              "  \" So how does the body get vitamins from out there into here? That's dependent on the form vitamins take\",\n",
              "  \" So this difference between water or fat-soluble vitamins determines how fat-soluble vitamins get into the blood, but also how fat-soluble vitamins're stored or rejected from the body\",\n",
              "  ' Some, like many of the bee complex vitamins, make up co-enzymes, whose job it is to help enzymes release the energy from food',\n",
              "  \" The body treats these parts like a pantry, storing fat-soluble vitamins there and rationing fat-soluble vitamins out when needed, meaning we shouldn't overload on this type of vitamin because The body is generally well stocked\",\n",
              "  \" The water-solubles are dissolved in the watery parts of fruits, vegetables, and grains, meaning The water-solubles's passage through the body is relatively straightforward\",\n",
              "  ' The water-solubles are vitamin C and B-complex vitamins that are made up of eight different types that each do something unique',\n",
              "  \" Vitamin A helps make white blood cells, key in the body's defense, helps shape bones, and improves vision by keeping the cells of the eye in check\",\n",
              "  ' Vitamin D gathers calcium and phosphorus so we can make bones, and vitamin E works as an antioxidant, getting rid of elements in the body that can damage cells',\n",
              "  ' Vitamins are organic compounds we need to ingest in small amounts to keep functioning',\n",
              "  ' Vitamins come in two types, lipid-soluble and water-soluble, and the difference between two types, lipid-soluble and water-soluble determines how the body transports and stores vitamins and gets rid of the excess',\n",
              "  \" Vitamins're the body's builders, defenders, and maintenance workers, helping the body's to build muscle and bone, make use of nutrients, capture and use energy, and heal wounds\",\n",
              "  ' lipid-soluble vitamins, dissolved in fat and found in foods like dairy, butter, and oils make it through the stomach and the intestine, where an acidic substance called bile flows in from the liver, breaking up the fat and preparing the fat for absorption through the intestinal wall'},\n",
              " set(),\n",
              " {' Also called the circulatory system, the cardiovascular system, a pipeline that includes the heart, blood vessels, and the blood itself delivers oxygen, white blood cells, hormones, and nutrients throughout The human body',\n",
              "  \" Also called the immune system, the lymphatic system, a collection of lymph nodes and vessels that help regulate the body's defenses uses neural pathways to transmit information about affected areas of The human body and then sends out healing agents like white blood cells via the bloodstream\",\n",
              "  ' Another key regulatory system is the urinary system, which includes the kidneys, ureters, bladder, and urethra',\n",
              "  ' Food enters The digestive system through the mouth, then moves into the esophagus, the stomach, and the intestines',\n",
              "  \" Humans are complicated organisms, but when Humans's 10 major organ systems are healthy, our 10 major organ systems ensure Humans's well-being\",\n",
              "  ' Lastly, the nervous system is a communication network of nerve cells that The human body uses to transmit information and coordinate bodily functions',\n",
              "  ' Nestled within the muscular system, which includes three types of muscles, skeletal, smooth, and cardiac is the cardiovascular system, a pipeline that includes the heart, blood vessels, and the blood the blood itself',\n",
              "  \" No matter the role, size, or shape of any of the body's systems, each began with the reproductive system\",\n",
              "  ' Nutrients are absorbed into the body while solid waste is expelled through the anal canal, the end of The digestive system',\n",
              "  ' Organ systems form and then a child is born',\n",
              "  \" Ten major systems are responsible for The human body's functions, skeletal, the muscular system, which includes three types of muscles, skeletal, smooth, and cardiac, cardiovascular, nervous, endocrine, lymphatic, respiratory, digestive, urinary, reproductive\",\n",
              "  ' The adult skeletal system also provides anchor points for the muscular system, which includes three types of muscles, skeletal, smooth, and cardiac',\n",
              "  ' The adult skeletal system is a framework of over 200 bones',\n",
              "  ' The digestive system is an approximately 30-foot series of organs that convert food into fuel',\n",
              "  \" The endocrine system is a series of glands that use information carried by the nervous system to help regulate The human body's processes\",\n",
              "  ' The human body is a complex network of cells, tissues, and organs that together make life possible',\n",
              "  ' The primary organs involved differ between the sexes with ovaries, fallopian tubes, the uterus, and vagina found in women and testes and a sperm channel found in men',\n",
              "  ' The respiratory system is a group of passageways and organs that extracts life-giving oxygen from the air we breathe',\n",
              "  \" The skeletal, muscular, cardiovascular, and nervous systems in particular are also utilized by the lymphatic system, a collection of lymph nodes and vessels that help regulate The human body's defenses\",\n",
              "  ' The skeletal, muscular, cardiovascular, and nervous systems in particular create an infrastructure that facilitates the other systems',\n",
              "  \" The skeletal, muscular, cardiovascular, and nervous systems in particular require energy to function and that's where The skeletal, muscular, cardiovascular, and nervous systems in particular come in\",\n",
              "  \" This infrastructure created by neurons, blood, muscles, and bones allows three other systems to regulate The human body's environment, three other systems\",\n",
              "  ' hormones and other chemicals they need to produce are then distributed throughout The human body by way of the cardiovascular system, a pipeline that includes the heart, blood vessels, and the blood itself',\n",
              "  \" over 200 bones hold The human body together, give The human body shape, and protect The human body's organs and tissues\",\n",
              "  ' the lungs extract oxygen for The human body to use and then expel a carbon dioxide by product when we exhale',\n",
              "  ' the muscular system, which includes three types of muscles, skeletal, smooth, and cardiac are found throughout The human body and facilitate movement',\n",
              "  \" the nervous system's comprised of the brain, the hub of sensory and intellectual activity, the spinal cord, and the many cranial and spinal nerves that emanate from the brain, the hub of sensory and intellectual activity, the spinal cord,\",\n",
              "  ' the reproductive system is responsible for creating life',\n",
              "  \" the urinary system, which includes the kidneys, ureters, bladder, and urethra maintains The human body's electrolyte levels and filters waste from the blood\"}]"
            ]
          },
          "metadata": {},
          "execution_count": 77
        }
      ]
    },
    {
      "cell_type": "code",
      "source": [
        "import pickle\n",
        "with open('test_filtered_sentences.pkl','wb') as f:\n",
        "  pickle.dump(test_filtered_sentences,f)\n",
        "\n",
        "with open('coref_resolved_text.pkl','wb') as f1:\n",
        "  pickle.dump(coref_resolved_text,f1)"
      ],
      "metadata": {
        "colab": {
          "base_uri": "https://localhost:8080/"
        },
        "id": "ACcYX12MBQP3",
        "outputId": "49c14f94-a905-4571-9bcb-01297b8f3020"
      },
      "execution_count": null,
      "outputs": [
        {
          "output_type": "stream",
          "name": "stderr",
          "text": [
            "/usr/local/lib/python3.9/dist-packages/ipykernel/ipkernel.py:283: DeprecationWarning: `should_run_async` will not call `transform_cell` automatically in the future. Please pass the result to `transformed_cell` argument and any exception that happen during thetransform in `preprocessing_exc_tuple` in IPython 7.17 and above.\n",
            "  and should_run_async(code)\n"
          ]
        }
      ]
    },
    {
      "cell_type": "markdown",
      "metadata": {
        "id": "aoaO0Esm3Q2G"
      },
      "source": [
        "# BERT EXTRACTIVE SUMMARIZER"
      ]
    },
    {
      "cell_type": "code",
      "execution_count": null,
      "metadata": {
        "colab": {
          "base_uri": "https://localhost:8080/"
        },
        "id": "1C4gMg6F3a8F",
        "outputId": "9580e02f-50c0-457c-f68e-fd309bda1b93"
      },
      "outputs": [
        {
          "output_type": "stream",
          "name": "stderr",
          "text": [
            "/usr/local/lib/python3.9/dist-packages/ipykernel/ipkernel.py:283: DeprecationWarning: `should_run_async` will not call `transform_cell` automatically in the future. Please pass the result to `transformed_cell` argument and any exception that happen during thetransform in `preprocessing_exc_tuple` in IPython 7.17 and above.\n",
            "  and should_run_async(code)\n"
          ]
        },
        {
          "output_type": "stream",
          "name": "stdout",
          "text": [
            "Looking in indexes: https://pypi.org/simple, https://us-python.pkg.dev/colab-wheels/public/simple/\n",
            "Collecting bert-extractive-summarizer\n",
            "  Downloading bert_extractive_summarizer-0.10.1-py3-none-any.whl (25 kB)\n",
            "Requirement already satisfied: spacy in /usr/local/lib/python3.9/dist-packages (from bert-extractive-summarizer) (2.3.9)\n",
            "Requirement already satisfied: scikit-learn in /usr/local/lib/python3.9/dist-packages (from bert-extractive-summarizer) (1.2.2)\n",
            "Requirement already satisfied: transformers in /usr/local/lib/python3.9/dist-packages (from bert-extractive-summarizer) (4.20.1)\n",
            "Requirement already satisfied: numpy>=1.17.3 in /usr/local/lib/python3.9/dist-packages (from scikit-learn->bert-extractive-summarizer) (1.22.4)\n",
            "Requirement already satisfied: joblib>=1.1.1 in /usr/local/lib/python3.9/dist-packages (from scikit-learn->bert-extractive-summarizer) (1.2.0)\n",
            "Requirement already satisfied: scipy>=1.3.2 in /usr/local/lib/python3.9/dist-packages (from scikit-learn->bert-extractive-summarizer) (1.10.1)\n",
            "Requirement already satisfied: threadpoolctl>=2.0.0 in /usr/local/lib/python3.9/dist-packages (from scikit-learn->bert-extractive-summarizer) (3.1.0)\n",
            "Requirement already satisfied: srsly<1.1.0,>=1.0.2 in /usr/local/lib/python3.9/dist-packages (from spacy->bert-extractive-summarizer) (1.0.6)\n",
            "Requirement already satisfied: thinc<7.5.0,>=7.4.1 in /usr/local/lib/python3.9/dist-packages (from spacy->bert-extractive-summarizer) (7.4.6)\n",
            "Requirement already satisfied: requests<3.0.0,>=2.13.0 in /usr/local/lib/python3.9/dist-packages (from spacy->bert-extractive-summarizer) (2.28.2)\n",
            "Requirement already satisfied: murmurhash<1.1.0,>=0.28.0 in /usr/local/lib/python3.9/dist-packages (from spacy->bert-extractive-summarizer) (1.0.9)\n",
            "Requirement already satisfied: cymem<2.1.0,>=2.0.2 in /usr/local/lib/python3.9/dist-packages (from spacy->bert-extractive-summarizer) (2.0.7)\n",
            "Requirement already satisfied: tqdm<5.0.0,>=4.38.0 in /usr/local/lib/python3.9/dist-packages (from spacy->bert-extractive-summarizer) (4.65.0)\n",
            "Requirement already satisfied: catalogue<1.1.0,>=0.0.7 in /usr/local/lib/python3.9/dist-packages (from spacy->bert-extractive-summarizer) (1.0.2)\n",
            "Requirement already satisfied: setuptools in /usr/local/lib/python3.9/dist-packages (from spacy->bert-extractive-summarizer) (67.6.1)\n",
            "Requirement already satisfied: preshed<3.1.0,>=3.0.2 in /usr/local/lib/python3.9/dist-packages (from spacy->bert-extractive-summarizer) (3.0.8)\n",
            "Requirement already satisfied: wasabi<1.1.0,>=0.4.0 in /usr/local/lib/python3.9/dist-packages (from spacy->bert-extractive-summarizer) (0.10.1)\n",
            "Requirement already satisfied: plac<1.2.0,>=0.9.6 in /usr/local/lib/python3.9/dist-packages (from spacy->bert-extractive-summarizer) (1.1.3)\n",
            "Requirement already satisfied: blis<0.8.0,>=0.4.0 in /usr/local/lib/python3.9/dist-packages (from spacy->bert-extractive-summarizer) (0.7.9)\n",
            "Requirement already satisfied: packaging>=20.0 in /usr/local/lib/python3.9/dist-packages (from transformers->bert-extractive-summarizer) (23.0)\n",
            "Requirement already satisfied: regex!=2019.12.17 in /usr/local/lib/python3.9/dist-packages (from transformers->bert-extractive-summarizer) (2022.10.31)\n",
            "Requirement already satisfied: huggingface-hub<1.0,>=0.1.0 in /usr/local/lib/python3.9/dist-packages (from transformers->bert-extractive-summarizer) (0.10.1)\n",
            "Requirement already satisfied: tokenizers!=0.11.3,<0.13,>=0.11.1 in /usr/local/lib/python3.9/dist-packages (from transformers->bert-extractive-summarizer) (0.12.1)\n",
            "Requirement already satisfied: filelock in /usr/local/lib/python3.9/dist-packages (from transformers->bert-extractive-summarizer) (3.7.1)\n",
            "Requirement already satisfied: pyyaml>=5.1 in /usr/local/lib/python3.9/dist-packages (from transformers->bert-extractive-summarizer) (6.0)\n",
            "Requirement already satisfied: typing-extensions>=3.7.4.3 in /usr/local/lib/python3.9/dist-packages (from huggingface-hub<1.0,>=0.1.0->transformers->bert-extractive-summarizer) (4.5.0)\n",
            "Requirement already satisfied: idna<4,>=2.5 in /usr/local/lib/python3.9/dist-packages (from requests<3.0.0,>=2.13.0->spacy->bert-extractive-summarizer) (3.4)\n",
            "Requirement already satisfied: urllib3<1.27,>=1.21.1 in /usr/local/lib/python3.9/dist-packages (from requests<3.0.0,>=2.13.0->spacy->bert-extractive-summarizer) (1.26.15)\n",
            "Requirement already satisfied: certifi>=2017.4.17 in /usr/local/lib/python3.9/dist-packages (from requests<3.0.0,>=2.13.0->spacy->bert-extractive-summarizer) (2022.12.7)\n",
            "Requirement already satisfied: charset-normalizer<4,>=2 in /usr/local/lib/python3.9/dist-packages (from requests<3.0.0,>=2.13.0->spacy->bert-extractive-summarizer) (2.0.12)\n",
            "Installing collected packages: bert-extractive-summarizer\n",
            "Successfully installed bert-extractive-summarizer-0.10.1\n"
          ]
        }
      ],
      "source": [
        "pip install bert-extractive-summarizer"
      ]
    },
    {
      "cell_type": "code",
      "execution_count": null,
      "metadata": {
        "colab": {
          "base_uri": "https://localhost:8080/",
          "height": 252,
          "referenced_widgets": [
            "7188d5c0d8a74671af252fba4a3fddd0",
            "25d9a9dd668b49cb99d0d377831752ae",
            "4c0d0d45ce1048b1bd78fb88ba01a7fc",
            "3575b9f6834948f8b6a826362dbd90f0",
            "d4bc4f346dfe4126a11d42bac647bac1",
            "b767ab581dfc42798aa9f98a35b7b59a",
            "4eebece8f2964db092f1753b18b48acf",
            "c52745821553453e988c113338cfab93",
            "af30db13a96e4d0396ef7565d3544941",
            "47d33b6dbba1468882ada79621fcee95",
            "4e42db58f2614790aee08d03b4adb33d",
            "14313cdbabfd47fd94cc7765f49128e3",
            "ed9b1057b0ef4892861b6b1f4103dea1",
            "34458a1084dc4c838f04e73962463a29",
            "f4c3dbedc7db4e748593960e3f404e6b",
            "71eba2b78cb940c4ad612fb4bae29e69",
            "88ba05981ce44f96a4c87159ab487882",
            "7d3778249c144cb481f98e375b01e831",
            "2579b5a33e3b41f9885da58de0eb41d6",
            "7b2d2846383449adbbac359492b80e08",
            "c20c4afab4ae4f1fa8cc5abde7565d51",
            "efabc46ad1954c2dafcd452d71b6dae5",
            "7ed5d7522213452baa69b9c9dd07c9dd",
            "6a6e6f2a17ef4b04a1d99df6d5a41ccb",
            "09d17256f8f74bfdad9a35772ee7a4b6",
            "5af2fa2f8b424f0f94dfa08a0dc30307",
            "b7c2afb6dc4843e48d0427f61395f8f0",
            "483b268cdf1740ec8ba0fbb4517f58cf",
            "1e2dc134b3ac419fa385a49a013c3b70",
            "337776755d484bf8846005a634629589",
            "c2e3b009336c445dbf8baead2ca375f0",
            "87f9550ae5f24e10addc36bed5050a67",
            "db5766ce7ca84e079529e77a13b4c6fd",
            "c24ed608703544829e4e5eb09fe8d8e9",
            "e14ae2570ae94626b12517b5fcc6c92b",
            "5d7d98ac2bfb4fbe9748bacccb6e2d44",
            "b2cf12ea09c74640baf02f91ce353f87",
            "a5d9ce38806543adbbe8d59e46f2f82e",
            "12fca4d01f4b4b529ff3fdd7faac7429",
            "a79b83ffc516493bbab74f6ab9e68880",
            "be5fdf354e1b496f979d44732f156b3a",
            "d9ad716cdf8e4e5b9a4390d29467952f",
            "3335e12266e54a70a3ea1a54020161bf",
            "92ea7fc2d76d4c94ba9234e0f667b140"
          ]
        },
        "id": "XxmC9B9p3pON",
        "outputId": "4256f688-8f6b-4189-fbc4-c65950d478d2"
      },
      "outputs": [
        {
          "output_type": "stream",
          "name": "stderr",
          "text": [
            "/usr/local/lib/python3.9/dist-packages/ipykernel/ipkernel.py:283: DeprecationWarning: `should_run_async` will not call `transform_cell` automatically in the future. Please pass the result to `transformed_cell` argument and any exception that happen during thetransform in `preprocessing_exc_tuple` in IPython 7.17 and above.\n",
            "  and should_run_async(code)\n"
          ]
        },
        {
          "output_type": "display_data",
          "data": {
            "text/plain": [
              "Downloading:   0%|          | 0.00/571 [00:00<?, ?B/s]"
            ],
            "application/vnd.jupyter.widget-view+json": {
              "version_major": 2,
              "version_minor": 0,
              "model_id": "7188d5c0d8a74671af252fba4a3fddd0"
            }
          },
          "metadata": {}
        },
        {
          "output_type": "display_data",
          "data": {
            "text/plain": [
              "Downloading:   0%|          | 0.00/1.25G [00:00<?, ?B/s]"
            ],
            "application/vnd.jupyter.widget-view+json": {
              "version_major": 2,
              "version_minor": 0,
              "model_id": "14313cdbabfd47fd94cc7765f49128e3"
            }
          },
          "metadata": {}
        },
        {
          "output_type": "stream",
          "name": "stderr",
          "text": [
            "Some weights of the model checkpoint at bert-large-uncased were not used when initializing BertModel: ['cls.predictions.transform.LayerNorm.bias', 'cls.predictions.bias', 'cls.predictions.transform.dense.weight', 'cls.predictions.decoder.weight', 'cls.predictions.transform.LayerNorm.weight', 'cls.seq_relationship.bias', 'cls.predictions.transform.dense.bias', 'cls.seq_relationship.weight']\n",
            "- This IS expected if you are initializing BertModel from the checkpoint of a model trained on another task or with another architecture (e.g. initializing a BertForSequenceClassification model from a BertForPreTraining model).\n",
            "- This IS NOT expected if you are initializing BertModel from the checkpoint of a model that you expect to be exactly identical (initializing a BertForSequenceClassification model from a BertForSequenceClassification model).\n"
          ]
        },
        {
          "output_type": "display_data",
          "data": {
            "text/plain": [
              "Downloading:   0%|          | 0.00/226k [00:00<?, ?B/s]"
            ],
            "application/vnd.jupyter.widget-view+json": {
              "version_major": 2,
              "version_minor": 0,
              "model_id": "7ed5d7522213452baa69b9c9dd07c9dd"
            }
          },
          "metadata": {}
        },
        {
          "output_type": "display_data",
          "data": {
            "text/plain": [
              "Downloading:   0%|          | 0.00/28.0 [00:00<?, ?B/s]"
            ],
            "application/vnd.jupyter.widget-view+json": {
              "version_major": 2,
              "version_minor": 0,
              "model_id": "c24ed608703544829e4e5eb09fe8d8e9"
            }
          },
          "metadata": {}
        }
      ],
      "source": [
        "from summarizer import Summarizer\n",
        "model = Summarizer()"
      ]
    },
    {
      "cell_type": "code",
      "execution_count": null,
      "metadata": {
        "id": "OKZV2NuA3wW1",
        "colab": {
          "base_uri": "https://localhost:8080/",
          "height": 289
        },
        "outputId": "898af546-a193-4dc2-b502-13d44d18a123"
      },
      "outputs": [
        {
          "output_type": "stream",
          "name": "stderr",
          "text": [
            "/usr/local/lib/python3.9/dist-packages/ipykernel/ipkernel.py:283: DeprecationWarning: `should_run_async` will not call `transform_cell` automatically in the future. Please pass the result to `transformed_cell` argument and any exception that happen during thetransform in `preprocessing_exc_tuple` in IPython 7.17 and above.\n",
            "  and should_run_async(code)\n"
          ]
        },
        {
          "output_type": "error",
          "ename": "NameError",
          "evalue": "ignored",
          "traceback": [
            "\u001b[0;31m---------------------------------------------------------------------------\u001b[0m",
            "\u001b[0;31mNameError\u001b[0m                                 Traceback (most recent call last)",
            "\u001b[0;32m<ipython-input-41-cdd4ca72d301>\u001b[0m in \u001b[0;36m<cell line: 1>\u001b[0;34m()\u001b[0m\n\u001b[0;32m----> 1\u001b[0;31m \u001b[0;32mfor\u001b[0m \u001b[0mi\u001b[0m\u001b[0;34m,\u001b[0m \u001b[0mval\u001b[0m \u001b[0;32min\u001b[0m \u001b[0menumerate\u001b[0m\u001b[0;34m(\u001b[0m\u001b[0mtest_txt\u001b[0m\u001b[0;34m)\u001b[0m\u001b[0;34m:\u001b[0m\u001b[0;34m\u001b[0m\u001b[0;34m\u001b[0m\u001b[0m\n\u001b[0m\u001b[1;32m      2\u001b[0m   \u001b[0mtemp1\u001b[0m \u001b[0;34m=\u001b[0m \u001b[0mval\u001b[0m\u001b[0;34m\u001b[0m\u001b[0;34m\u001b[0m\u001b[0m\n\u001b[1;32m      3\u001b[0m   \u001b[0mprint\u001b[0m\u001b[0;34m(\u001b[0m\u001b[0mi\u001b[0m\u001b[0;34m)\u001b[0m\u001b[0;34m\u001b[0m\u001b[0;34m\u001b[0m\u001b[0m\n\u001b[1;32m      4\u001b[0m   \u001b[0mprint\u001b[0m\u001b[0;34m(\u001b[0m\u001b[0mtemp1\u001b[0m\u001b[0;34m)\u001b[0m\u001b[0;34m\u001b[0m\u001b[0;34m\u001b[0m\u001b[0m\n\u001b[1;32m      5\u001b[0m   \u001b[0msummary\u001b[0m\u001b[0;34m=\u001b[0m\u001b[0mopen\u001b[0m\u001b[0;34m(\u001b[0m\u001b[0;34m\"/content/drive/MyDrive/DATASET/EVS_TXT/\"\u001b[0m\u001b[0;34m+\u001b[0m\u001b[0mtemp1\u001b[0m\u001b[0;34m,\u001b[0m\u001b[0;34m'r'\u001b[0m\u001b[0;34m)\u001b[0m\u001b[0;34m.\u001b[0m\u001b[0mread\u001b[0m\u001b[0;34m(\u001b[0m\u001b[0;34m)\u001b[0m\u001b[0;34m\u001b[0m\u001b[0;34m\u001b[0m\u001b[0m\n",
            "\u001b[0;31mNameError\u001b[0m: name 'test_txt' is not defined"
          ]
        }
      ],
      "source": [
        "for i, val in enumerate(test_txt):\n",
        "  temp1 = val\n",
        "  print(i)\n",
        "  print(temp1)\n",
        "  summary=open(\"/content/drive/MyDrive/DATASET/EVS_TXT/\"+temp1,'r').read()\n",
        "  print(summary)\n",
        "  result = model(summary, min_length=20)\n",
        "  print(result)\n",
        "print(\"Number of Testing text: \", len(test_txt))"
      ]
    },
    {
      "cell_type": "code",
      "execution_count": null,
      "metadata": {
        "colab": {
          "base_uri": "https://localhost:8080/"
        },
        "id": "Bx_ythW_3xnK",
        "outputId": "34d6b287-1394-4978-c49b-8394ebacdf0c"
      },
      "outputs": [
        {
          "output_type": "stream",
          "name": "stderr",
          "text": [
            "/usr/local/lib/python3.9/dist-packages/ipykernel/ipkernel.py:283: DeprecationWarning: `should_run_async` will not call `transform_cell` automatically in the future. Please pass the result to `transformed_cell` argument and any exception that happen during thetransform in `preprocessing_exc_tuple` in IPython 7.17 and above.\n",
            "  and should_run_async(code)\n"
          ]
        },
        {
          "output_type": "stream",
          "name": "stdout",
          "text": [
            "Rutherford's atomic model was quite commendable when it came to explaining the structure of atoms. However, Rutherford's atomic model was not very appropriate theoretically. And why are we saying so? We know that any charged object which revolves in a circular motion gains acceleration gradually. Similarly, if the electron is moving fast in a circular path, then the electron will also gain acceleration. And on gaining acceleration, the electron's bound to liberate energy in some form. Now if the electron continuously keeps radiating energy, then ultimately all the energy of the electron will get over and all the energy of the electron will fall into the nucleus. This would result in high instability of the atom. But wait a second, all these things do not happen in an atom. And how do we know this? Because in nature, all the atoms are stable. That means the hypothesis put forth by Rutherford's was also incorrect. Not really, the hypothesis put forth by Rutherford just needed slight modifications. slight modifications were made by the next legendary scientist in our list called Niels Bohr. the next legendary scientist in our list called Niels Bohr made a few additional explanations to describe the atomic structure. The postulates put forward by the next legendary scientist in our list called Niels Bohr were as follows. Firstly, only certain special orbits called discrete orbits of electrons are allowed inside the atom. Secondly, while revolving in only certain special orbits called discrete orbits of electrons, the electrons do not radiate energy. Now these points definitely tell us why an atom is so stable. But what exactly are these paths or orbits in which the electrons revolve around the nucleus? Let's understand with an example. Do you know how our solar system is? Yes, our solar system appears somewhat like this. Now here, the sun is stationary at the centre while the planets revolve around the sun. But have you noticed that the planets always revolve in fixed paths? We never find any planet jumping to a different path all of a sudden, right? the planets always encircle the sun in defined paths. In a similar way, we have the atomic structure. The nucleus acts like the sun and the electrons are like planets which revolve in fixed defined orbitals. fixed defined orbitals are referred to as shells or energy levels. Now the name energy levels gets us to an important concept. the next legendary scientist in our list called Niels Bohr suggested that the electrons revolving in fixed defined orbitals do not radiate energy. Now this is justified when we use the name energy levels because the name energy levels indicates that each shell has got a defined energy level. That means when the electrons revolve in fixed defined orbitals, the electrons do not liberate any form of energy. And how do we name fixed defined orbitals to indicate fixed defined orbitals's position? It's simple. Beginning from the one near The nucleus, we name fixed defined orbitals as the K shell, L shell, M shell, N shell and so on. Yes, K L M N and so on. And what if we want to number fixed defined orbitals? In that case, we use the letter N in lower case and write fixed defined orbitals as the letter N equals 1, the letter N equals 2, N equals 3 and so on, beginning from the 1 next to The nucleus. So we can name fixed defined orbitals alphabetically or we can even number fixed defined orbitals. With all these theories and points known, do we now know the structure of a typical atom completely? The nucleus contains positive protons and the electrons revolving around in fixed orbitals. Is that how an atom is structured? Not really. We still have one more subatomic particle left. And what and where could one more subatomic particle be? Let's find that out. It was around the year 1932 when a famous English physicist Sir James Chadwick found one more subatomic particle. a famous English physicist Sir James Chadwick found that one more subatomic particle had a mass almost equivalent to that of the proton. And what about one more subatomic particle's charge? Astonishingly, one more subatomic particle had no charge. Yes, one more subatomic particle was neutral. one more subatomic particle was later named as neutron, denoted by the letter N. Does now we have the complete design of an atom? In the center lies the nucleus having positively charged protons and neutral neutrons, while the negatively charged electrons revolve in fixed orbitals around The nucleus. But how exactly are the electrons distributed in fixed orbitals around the nucleus? Is there a way to find out the maximum number of electrons that one orbital can contain? Or is it that the electrons are randomly scattered in fixed orbitals around the nucleus? Let's find out the answers to these questions in our upcoming video.\n"
          ]
        },
        {
          "output_type": "stream",
          "name": "stderr",
          "text": [
            "/usr/local/lib/python3.9/dist-packages/sklearn/cluster/_kmeans.py:870: FutureWarning: The default value of `n_init` will change from 10 to 'auto' in 1.4. Set the value of `n_init` explicitly to suppress the warning\n",
            "  warnings.warn(\n"
          ]
        },
        {
          "output_type": "stream",
          "name": "stdout",
          "text": [
            "Rutherford's atomic model was quite commendable when it came to explaining the structure of atoms. We know that any charged object which revolves in a circular motion gains acceleration gradually. Now if the electron continuously keeps radiating energy, then ultimately all the energy of the electron will get over and all the energy of the electron will fall into the nucleus. slight modifications were made by the next legendary scientist in our list called Niels Bohr. Now these points definitely tell us why an atom is so stable. Let's understand with an example. Now here, the sun is stationary at the centre while the planets revolve around the sun. Yes, K L M N and so on. With all these theories and points known, do we now know the structure of a typical atom completely? Is that how an atom is structured? Astonishingly, one more subatomic particle had no charge. In the center lies the nucleus having positively charged protons and neutral neutrons, while the negatively charged electrons revolve in fixed orbitals around The nucleus.\n"
          ]
        }
      ],
      "source": [
        "summary=\"Rutherford's atomic model was quite commendable when it came to explaining the structure of atoms. However, Rutherford's atomic model was not very appropriate theoretically. And why are we saying so? We know that any charged object which revolves in a circular motion gains acceleration gradually. Similarly, if the electron is moving fast in a circular path, then the electron will also gain acceleration. And on gaining acceleration, the electron's bound to liberate energy in some form. Now if the electron continuously keeps radiating energy, then ultimately all the energy of the electron will get over and all the energy of the electron will fall into the nucleus. This would result in high instability of the atom. But wait a second, all these things do not happen in an atom. And how do we know this? Because in nature, all the atoms are stable. That means the hypothesis put forth by Rutherford's was also incorrect. Not really, the hypothesis put forth by Rutherford just needed slight modifications. slight modifications were made by the next legendary scientist in our list called Niels Bohr. the next legendary scientist in our list called Niels Bohr made a few additional explanations to describe the atomic structure. The postulates put forward by the next legendary scientist in our list called Niels Bohr were as follows. Firstly, only certain special orbits called discrete orbits of electrons are allowed inside the atom. Secondly, while revolving in only certain special orbits called discrete orbits of electrons, the electrons do not radiate energy. Now these points definitely tell us why an atom is so stable. But what exactly are these paths or orbits in which the electrons revolve around the nucleus? Let's understand with an example. Do you know how our solar system is? Yes, our solar system appears somewhat like this. Now here, the sun is stationary at the centre while the planets revolve around the sun. But have you noticed that the planets always revolve in fixed paths? We never find any planet jumping to a different path all of a sudden, right? the planets always encircle the sun in defined paths. In a similar way, we have the atomic structure. The nucleus acts like the sun and the electrons are like planets which revolve in fixed defined orbitals. fixed defined orbitals are referred to as shells or energy levels. Now the name energy levels gets us to an important concept. the next legendary scientist in our list called Niels Bohr suggested that the electrons revolving in fixed defined orbitals do not radiate energy. Now this is justified when we use the name energy levels because the name energy levels indicates that each shell has got a defined energy level. That means when the electrons revolve in fixed defined orbitals, the electrons do not liberate any form of energy. And how do we name fixed defined orbitals to indicate fixed defined orbitals's position? It's simple. Beginning from the one near The nucleus, we name fixed defined orbitals as the K shell, L shell, M shell, N shell and so on. Yes, K L M N and so on. And what if we want to number fixed defined orbitals? In that case, we use the letter N in lower case and write fixed defined orbitals as the letter N equals 1, the letter N equals 2, N equals 3 and so on, beginning from the 1 next to The nucleus. So we can name fixed defined orbitals alphabetically or we can even number fixed defined orbitals. With all these theories and points known, do we now know the structure of a typical atom completely? The nucleus contains positive protons and the electrons revolving around in fixed orbitals. Is that how an atom is structured? Not really. We still have one more subatomic particle left. And what and where could one more subatomic particle be? Let's find that out. It was around the year 1932 when a famous English physicist Sir James Chadwick found one more subatomic particle. a famous English physicist Sir James Chadwick found that one more subatomic particle had a mass almost equivalent to that of the proton. And what about one more subatomic particle's charge? Astonishingly, one more subatomic particle had no charge. Yes, one more subatomic particle was neutral. one more subatomic particle was later named as neutron, denoted by the letter N. Does now we have the complete design of an atom? In the center lies the nucleus having positively charged protons and neutral neutrons, while the negatively charged electrons revolve in fixed orbitals around The nucleus. But how exactly are the electrons distributed in fixed orbitals around the nucleus? Is there a way to find out the maximum number of electrons that one orbital can contain? Or is it that the electrons are randomly scattered in fixed orbitals around the nucleus? Let's find out the answers to these questions in our upcoming video.\"\n",
        "print(summary)\n",
        "result = model(summary, min_length=20)\n",
        "print(result)"
      ]
    },
    {
      "cell_type": "code",
      "source": [
        "extracted_transcripts = [\"Hello, kids. Do you know how plants make their own food? No? Well, this video elaborates the process of photosynthesis by which plants make their own food. Photosynthesis is the process used by plants to make their own food or in more complex terms. It is the conversion of light energy into chemical energy by plants. This chemical energy is used by the plants for growth and nourishment. Photo means light and synthesis means putting together in Greek. When humans cook food, some essential things are required, including fire, water, vegetables, etc. Similarly, to make their food, plants also need some essential factors, including light, water, nutrients, soil, etc. Plants get light from the sun, water from the ground, and carbon dioxide from the air. All of these factors, including air, water, carbon dioxide, and sunlight, together help plants churn out their own food. Plants have tubes called xylum, located in the stems through which the water from the ground is sucked into the leaves. This system works similar to humans sucking liquids through a straw. The xylum is spread throughout the different parts of the plant, including the stem, branches, and all the way up to the leaves. The xylum transports vital nutrients to the entire plant. Xylums in the plant are like blood vessels in the human body that act as an important means of transportation of water and nutrients. Leaves on the plant have pores, very similar to the pores on the skin of our bodies. These pores are called stomata. These stomata are responsible for the exchange of gases. The carbon dioxide present in the air, which is responsible for photosynthesis, enters the plant through these stomata. Oxygen also comes out through these stomata. Leaves have important cells called mesofil cells. These cells contain a green color component called chloroplasts. This chloroplasts is responsible for the green color of plants and leaves. Once the carbon dioxide and the water reach the chloroplasts in the presence of sunlight, the process of photosynthesis starts to take place. The following reaction takes place in the leaves of the plant during photosynthesis. Carbon dioxide plus water in the presence of light energy results in oxygen plus glucose or carbohydrates. The products formed are glucose and oxygen. Carbohydrates, which are a form of glucose, are synthesized from carbon dioxide and water. Glucose is used by the plants for their growth. Some of the glucose is used immediately and the extra glucose which is not used is stored in the form of starch in the leaves. Some amount of this extra glucose is also stored in the roots of the plants. This extra glucose is used to perform photosynthesis when there is no sunlight. Oxygen is given out into the air through the stomata in the process of photosynthesis. The oxygen that is released is used by human beings to breathe during their respiration process ever wondered why this process is called photosynthesis? Well the word photosynthesis is a combination of two Greek words photo and synthesis. Photo means light in Greek and synthesis means putting together or combining. Hence photosynthesis literally means combining water or carbon dioxide in the presence of light. So the essential factors for photosynthesis to take place include sunlight, water and carbon dioxide. Underwater photosynthesis takes place at a slower pace than the normal photosynthesis. This is because energy from the sun is absorbed by the water layers and only some amount of energy actually reaches the plant. There are some plants which don't need the process of photosynthesis to grow. Such plants include mushroom, venous fly traps etc. Mushrooms get their food from the ground and from their surrounding areas. Venus fly traps trap and catch small insects which come near the leaves and eat them. Don't forget to subscribe to our channel for more cool science videos.\",\n",
        "                       \"A, C, E, D, B, K. No, this isn't some random out-of-order alphabet. These are vitamins. And just like letters build words, they're the building blocks that keep the body running. Vitamins are organic compounds we need to ingest in small amounts to keep functioning. They're the body's builders, defenders, and maintenance workers, helping it to build muscle and bone, make use of nutrients, capture and use energy, and heal wounds. If you need convincing about vitamin value, just consider the plight of olden-day sailors who had no access to vitamin-rich fresh produce. They got scurvy, but vitamin C, abundant in fruits and vegetables, was the simple antidote to this disease. While bacteria, fungi, and plants produce their own vitamins, our bodies can't, so we have to get them from other sources. So how does the body get vitamins from out there into here? That's dependent on the form these compounds take. Vitamins come in two types, lipid-soluble and water-soluble, and the difference between them determines how the body transports and stores vitamins and gets rid of the excess. The water-solubles are vitamin C and B-complex vitamins that are made up of eight different types that each do something unique. These are dissolved in the watery parts of fruits, vegetables, and grains, meaning their passage through the body is relatively straightforward. Once inside the system, these foods are digested, and the vitamins within them are taken up directly by the bloodstream. Because blood plasma is water-based, water-soluble vitamins C and B have their transport cut out for them, and can move around freely within the body. For lipid-soluble vitamins, dissolved in fat and found in foods like dairy, butter, and oils, this trip into the blood is a little more adventurous. These vitamins make it through the stomach and the intestine, where an acidic substance called bile flows in from the liver, breaking up the fat and preparing it for absorption through the intestinal wall. Because fat-soluble vitamins can't make use of the blood's watery nature, they need something else to move them around. And that comes from proteins that attach to the vitamins and act like couriers, transporting fat-solubles into the blood and around the body. So this difference between water or fat-soluble vitamins determines how they get into the blood, but also how they're stored or rejected from the body. The system's ability to circulate water-soluble vitamins in the bloodstream so easily means that most of them can be passed out equally easily via the kidneys. Because of that, most water-soluble vitamins need to be replenished on a daily basis through the food we eat. But fat-soluble vitamins have staying power because they can be packed into the liver and in fat cells. The body treats these parts like a pantry, storing the vitamins there and rationing them out when needed, meaning we shouldn't overload on this type of vitamin because the body is generally well stocked. Once we've figured the logistics of transport and storage, the vitamins are left to do the work they came here to do in the first place. Some, like many of the bee complex vitamins, make up co-enzymes, whose job it is to help enzymes release the energy from food. Other bee vitamins then help the body to use that energy. From vitamin C, you get the ability to fight infection and make collagen, a kind of tissue that forms bones and teeth and heals wounds. Vitamin A helps make white blood cells, key in the body's defense, helps shape bones, and improves vision by keeping the cells of the eye in check. Vitamin D gathers calcium and phosphorus so we can make bones, and vitamin E works as an antioxidant, getting rid of elements in the body that can damage cells. Finally, from vitamin K, we score the ability to clot blood, since it helps make the proteins that do this job. Without this vitamin variety, humans face deficiencies that cause a range of problems like fatigue, nerve damage, heart disorders, or diseases like rickets and scurvy. On the other hand, too much of any vitamin can cause toxicity in the body, so there goes the myth that loading yourself with supplements is a great idea. In reality, it's all about getting the balance right and hitting that vitamin jackpot.\",\n",
        "                       \"In today's video, we're going to look at the basics of waves, including how to label the different parts, how to calculate the wave speed, and the differences between transverse and longitudinal waves. The first thing to understand about waves is that they transfer energy from one place to another, but they don't transfer any matter. So when light waves pass from a phone screen to your eye, or sound waves pass from the speakers to your ear, only energy is being transferred. Sometimes though we can interpret that energy as meaningful information, which is why our brain is able to build up images and tunes from the light and sound that it receives. To travel from one place to another, the waves vibrate or oscillate, as we can see in this displacement distance graph. The distance is how far the wave has travelled from the starting point. While the displacement is how far from the equilibrium point, the wave has oscillated. So how far it's gone up or down. The maximum displacement is known as the amplitude, while the distance of one entire oscillation is called the wavelength. So that could be from equilibrium, up, down and back up, or it could be from the very top of a wave, which we call the crest, down and back up to the next crest. It just has to be one entire oscillation. And the opposite of the crest is called the trough. Now sometimes you might see a displacement time graph instead, which looks pretty much the same, but because we have time on the x-axis, instead of distance, the length of one complete oscillation would be the time period instead of the wavelength. And the time period is just the time it takes for one complete oscillation. The benefit of knowing the time period is that we can then use this equation here to work out frequency, which is measured in hertz and is a number of complete oscillations per second. To see how it works, imagine that each oscillation takes 0.5 seconds. Or in other words, the time period is 0.5 seconds. This means that there must be a total of two oscillations per second, so the frequency is two, which is what we'd get if we did one divided by the time period of 0.5. We can also use the equation the other way around, so time period equals 1 over frequency. So if we were told that the frequency of a wave was 4 hertz, which means 4 oscillations per second, then to find the time period, which is to 1 divided by 4, which tells us that each oscillation must be 0.25 seconds. The next equation to know is that we can find the speed of the wave, so the wave speed, by multiplying the wavelength by the frequency. So basically, we multiply how long each wavelength is, by how many there are per second. And that will give us the total distance they travel per second. To see how this works, let's imagine we had a sound wave that had a frequency of 400 hertz, and a wavelength of 70 centimeters. What is its wave speed? Well in this case, all we'd have to do is convert the 70 centimeters to 0.7 meters, because we always want our wavelength in meters, and then multiply it by their frequency of 400 hertz, which gives us 280 meters per second as our wave speed. The last thing we need to look at are the differences between transverse and longitudinal waves. When transverse waves, the oscillations are perpendicular to the direction of energy transfer, or the direction in which the wave is moving, which is why on our drawing, the vibrations are going up and down, whilst the overall wave is travelling from left to right. Most waves we can think of are transverse, including all electromagnetic waves like light and radio waves, ripples and waves in water, and the waves of strings like on a guitar. Longitudinal waves on the other hand have oscillations that are parallel to the direction of energy transfer. This one's a bit trickier to get your head around, but basically it leads to some regions that are more spread out, and other regions that are more compressed, because the waves vibrating back and forth. In motion, it would look as if this area of compression is moving from the left to the right within the wave. Examples of longitudinal waves include sound waves, and some types of shock waves, like seismic p-waves. Anyway, that's everything for this video, so hope you found it useful, and we'll see you again soon.\",\n",
        "                       \"The human body is a complex network of cells, tissues, and organs that together make life possible. Ten major systems are responsible for the body's functions, skeletal, muscular, cardiovascular, nervous, endocrine, lymphatic, respiratory, digestive, urinary, reproductive. The skeletal, muscular, cardiovascular, and nervous systems in particular create an infrastructure that facilitates the other systems. The adult skeletal system is a framework of over 200 bones. They hold the body together, give it shape, and protect its organs and tissues. The skeleton also provides anchor points for the muscular system, which includes three types of muscles, skeletal, smooth, and cardiac. They are found throughout the body and facilitate movement. Nestled within these muscles is the cardiovascular system, a pipeline that includes the heart, blood vessels, and the blood itself. Also called the circulatory system, the cardiovascular system delivers oxygen, white blood cells, hormones, and nutrients throughout the body. Lastly, the nervous system is a communication network of nerve cells that the body uses to transmit information and coordinate bodily functions. It's comprised of the brain, the hub of sensory and intellectual activity, the spinal cord, and the many cranial and spinal nerves that emanate from them. This infrastructure created by neurons, blood, muscles, and bones allows three other systems to regulate the body's environment, the endocrine, lymphatic, and urinary systems. The endocrine system is a series of glands that use information carried by the nervous system to help regulate the body's processes. Thanks to this neural connection, endocrine glands, such as the thyroid, are aware of the amount of hormones and other chemicals they need to produce. These chemicals are then distributed throughout the body by way of the cardiovascular system. The cardiovascular and nervous systems are also utilized by the lymphatic system, a collection of lymph nodes and vessels that help regulate the body's defenses. Also called the immune system, the lymphatic system uses neural pathways to transmit information about affected areas of the body and then sends out healing agents like white blood cells via the bloodstream. Another key regulatory system is the urinary system, which includes the kidneys, ureters, bladder, and urethra. The urinary or renal system maintains the body's electrolyte levels and filters waste from the blood. This waste is sent through the blood vessels into the kidneys and then expelled as urine. All of these systems require energy to function and that's where the respiratory and digestive systems come in. The respiratory system is a group of passageways and organs that extracts life-giving oxygen from the air we breathe. Air enters the body through nasal cavities, travels down the throat, and is then transported to the lungs. The lungs extract oxygen for the body to use and then expel a carbon dioxide by product when we exhale. Energy can also come in the form of food. The digestive system is an approximately 30-foot series of organs that convert food into fuel. Food enters the system through the mouth, then moves into the esophagus, the stomach, and the intestines. Nutrients are absorbed into the body while solid waste is expelled through the anal canal, the end of the digestive tract. No matter the role, size, or shape of any of the body's systems, each began with the reproductive system. This system is responsible for creating life. The primary organs involved differ between the sexes with ovaries, fallopian tubes, the uterus, and vagina found in women and testes and a sperm channel found in men. Together, fertilization may occur. Organ systems form and then a child is born. Humans are complicated organisms, but when our 10 major organ systems are healthy, they ensure our well-being.\"\n",
        "                      ]"
      ],
      "metadata": {
        "id": "eFG2tw-tyCS_"
      },
      "execution_count": null,
      "outputs": []
    },
    {
      "cell_type": "code",
      "source": [
        "coref_resolved_text = [\" Hello, kids. Do kids know how plants make plants's own food? No? Well, this video elaborates the process of photosynthesis by which plants make plants's own food. Photosynthesis is the process used by plants to make plants's own food or in more complex terms. Photosynthesis is the conversion of light energy into chemical energy by plants. chemical energy is used by plants for growth and nourishment. Photo means light and synthesis means putting together in Greek. When humans cook food, some essential things are required, including fire, water, vegetables, etc. Similarly, to make plants's food, plants also need some essential factors, including light, water, nutrients, soil, etc. Plants get light from the sun, water from the ground, and carbon dioxide from the air. some essential factors, including light, water, nutrients, soil, etc, together help plants churn out plants's own food. Plants have tubes called xylum, located in the stems through which the water from the ground is sucked into the leaves. This system works similar to humans sucking liquids through a straw. This system is spread throughout the different parts of the plant, including the stem, branches, and all the way up to the leaves. This system transports vital nutrients to the plant. Xylums in the plant are like blood vessels in the human body that act as an important means of transportation of water and nutrients. Leaves on the plant have pores, very similar to the pores on the skin of our bodies. pores, very similar to the pores on the skin of our bodies are called stomata. pores, very similar to the pores on the skin of our bodies are responsible for the exchange of gases. The carbon dioxide present in the air, which is responsible for Photosynthesis, enters the plant through pores, very similar to the pores on the skin of our bodies. Oxygen also comes out through pores, very similar to the pores on the skin of our bodies. Leaves have important cells called mesofil cells. important cells called mesofil cells contain a green color component called chloroplasts. a green color component called chloroplasts is responsible for the green color of plants and leaves. Once the carbon dioxide and the water reach a green color component called chloroplasts in the presence of sunlight, the process of photosynthesis starts to take place. The following reaction takes place in the leaves of the plant during the process of photosynthesis. Carbon dioxide plus water in the presence of light energy results in oxygen plus glucose or carbohydrates. The products formed are glucose and oxygen. Carbohydrates, which are a form of glucose, are synthesized from carbon dioxide and water. Glucose is used by the plants for the plants's growth. Some of Glucose is used immediately and the extra glucose which is not used is stored in the form of starch in the leaves. Some amount of the extra glucose which is not used is also stored in the roots of the plants. Some amount of this extra glucose is used to perform the process of photosynthesis when there is no sunlight. Oxygen is given out into the air through the stomata in the process of photosynthesis. The oxygen that is released is used by human beings to breathe during human beings's respiration process ever wondered why the process of photosynthesis is called photosynthesis? Well the word photosynthesis is a combination of two Greek words photo and synthesis. Photo means light in Greek and synthesis means putting together or combining. Hence photosynthesis literally means combining water or carbon dioxide in the presence of light. So the essential factors for photosynthesis to take place include sunlight, water and carbon dioxide. Underwater photosynthesis takes place at a slower pace than the normal photosynthesis. This is because energy from the sun is absorbed by the water layers and only some amount of energy actually reaches the plant. There are some plants which don't need the process of photosynthesis to grow. some plants which don't need the process of photosynthesis to grow include mushroom, venous fly traps etc. Mushrooms get Mushrooms's food from the ground and from Mushrooms's surrounding areas. venous fly traps trap and catch small insects which come near the leaves and eat the leaves. Don't forget to subscribe to our channel for more cool science videos.\",\n",
        " \" A, C, E, D, B, K. No, this isn't some random out-of-order alphabet. These are vitamins. And just like letters build words, letters're the building blocks that keep the body running. Vitamins are organic compounds we need to ingest in small amounts to keep functioning. Vitamins're the body's builders, defenders, and maintenance workers, helping the body's to build muscle and bone, make use of nutrients, capture and use energy, and heal wounds. If you need convincing about vitamin value, just consider the plight of olden-day sailors who had no access to vitamin-rich fresh produce. olden-day sailors who had no access to vitamin-rich fresh produce got this disease, but vitamin C, abundant in fruits and vegetables, was the simple antidote to this disease. While bacteria, fungi, and plants produce bacteria, fungi, and plants's own vitamins, our bodies can't, so we have to get their own vitamins from other sources. So how does the body get vitamins from out there into here? That's dependent on the form vitamins take. Vitamins come in two types, lipid-soluble and water-soluble, and the difference between two types, lipid-soluble and water-soluble determines how the body transports and stores vitamins and gets rid of the excess. The water-solubles are vitamin C and B-complex vitamins that are made up of eight different types that each do something unique. The water-solubles are dissolved in the watery parts of fruits, vegetables, and grains, meaning The water-solubles's passage through the body is relatively straightforward. Once inside the system, fruits, vegetables, and grains are digested, and the vitamins within fruits, vegetables, and grains are taken up directly by the bloodstream. Because blood plasma is water-based, water-soluble vitamins C and B have water-soluble vitamins C and B's transport cut out for water-soluble vitamins C and B, and can move around freely within the body. For lipid-soluble vitamins, dissolved in fat and found in foods like dairy, butter, and oils, this trip into the blood is a little more adventurous. lipid-soluble vitamins, dissolved in fat and found in foods like dairy, butter, and oils make it through the stomach and the intestine, where an acidic substance called bile flows in from the liver, breaking up the fat and preparing the fat for absorption through the intestinal wall. Because fat-soluble vitamins can't make use of the blood's watery nature, fat-soluble vitamins need something else to move fat-soluble vitamins around. And that comes from proteins that attach to fat-soluble vitamins and act like couriers, transporting fat-solubles into the blood's and around the body. So this difference between water or fat-soluble vitamins determines how fat-soluble vitamins get into the blood, but also how fat-soluble vitamins're stored or rejected from the body. The system's ability to circulate water-soluble vitamins in the blood so easily means that most of water-soluble vitamins can be passed out equally easily via the kidneys. Because of that, most water-soluble vitamins need to be replenished on a daily basis through the food we eat. But fat-soluble vitamins have staying power because fat-soluble vitamins can be packed into the liver and in fat cells. The body treats these parts like a pantry, storing fat-soluble vitamins there and rationing fat-soluble vitamins out when needed, meaning we shouldn't overload on this type of vitamin because The body is generally well stocked. Once we've figured the logistics of transport and storage, fat-soluble vitamins are left to do the work fat-soluble vitamins came here to do in the first place. Some, like many of the bee complex vitamins, make up co-enzymes, whose job it is to help enzymes release the energy from food. Other bee vitamins then help the body to use the energy. From vitamin C, you get the ability to fight infection and make collagen, a kind of tissue that forms bones and teeth and heals wounds. Vitamin A helps make white blood cells, key in the body's defense, helps shape bones, and improves vision by keeping the cells of the eye in check. Vitamin D gathers calcium and phosphorus so we can make bones, and vitamin E works as an antioxidant, getting rid of elements in the body that can damage cells. Finally, from vitamin K, we score the ability to this job blood, since vitamin K helps make the proteins that do this job. Without this vitamin variety, humans face deficiencies that cause a range of problems like fatigue, nerve damage, heart disorders, or diseases like rickets and scurvy. On the other hand, too much of any vitamin can cause toxicity in the body, so there goes the myth that loading yourself with supplements is a great idea. In reality, it's all about getting the balance right and hitting that vitamin jackpot.\",\n",
        " \" In today's video, we're going to look at the basics of waves, including how to label the different parts, how to calculate the wave speed, and the differences between transverse and longitudinal waves. The first thing to understand about waves is that waves transfer energy from one place to another, but waves don't transfer any matter. So when light waves pass from a phone screen to your eye, or sound waves pass from the speakers to your ear, only energy is being transferred. Sometimes though we can interpret only energy as meaningful information, which is why our brain is able to build up images and tunes from the light and sound that our brain receives. To travel from one place to another, the waves vibrate or oscillate, as we can see in this displacement distance graph. The distance is how far the wave has travelled from the starting point. While the displacement is how far from the equilibrium point, the wave has oscillated. So how far the wave's gone up or down. The maximum displacement is known as the amplitude, while the distance of one entire oscillation is called the wavelength. So that could be from equilibrium, up, down and back up, or it could be from the very top of a wave, which we call the crest, down and back up to the next crest. It just has to be one entire oscillation. And the opposite of the crest is called the trough. Now sometimes you might see a displacement time graph instead, which looks pretty much the same, but because we have time on the x-axis, instead of distance, the length of one complete oscillation would be the time period instead of the wavelength. And the time period is just the time it takes for one complete oscillation. The benefit of knowing the time period is that we can then use this equation here to work out frequency, which is measured in hertz and is a number of complete oscillations per second. To see how it works, imagine that each oscillation takes 0.5 seconds. Or in other words, the time period is 0.5 seconds. This means that there must be a total of two oscillations per second, so the frequency is two, which is what we'd get if we did one divided by the time period of 0.5. We can also use this equation here the other way around, so time period equals 1 over frequency. So if we were told that the frequency of a wave was 4 hertz, which means 4 oscillations per second, then to find the time period, which is to 1 divided by 4, which tells us that each oscillation must be 0.25 seconds. The next equation to know is that we can find the speed of the wave, so the wave speed, by multiplying the wavelength by the frequency. So basically, we multiply how long each wavelength is, by how many there are per second. And that will give us the total distance they travel per second. To see how this works, let's imagine we had a sound wave that had a frequency of 400 hertz, and a wavelength of 70 centimeters. What is a sound wave that had a frequency of 400 hertz, and a wavelength of 70 centimeters's wave speed? Well in this case, all we'd have to do is convert 70 centimeters to 0.7 meters, because we always want our wavelength in meters, and then multiply our wavelength by a sound wave that had a frequency of 400 hertz, and a wavelength of 70 centimeters's frequency of 400 hertz, which gives us 280 meters per second as our wave speed. The last thing we need to look at are the differences between transverse and longitudinal waves. When transverse waves, the oscillations are perpendicular to the direction of energy transfer, or the direction in which the wave is moving, which is why on our drawing, the vibrations are going up and down, whilst the overall wave is travelling from left to right. Most waves we can think of are transverse, including all electromagnetic waves like light and radio waves, ripples and waves in water, and the waves of strings like on a guitar. Longitudinal waves on the other hand have oscillations that are parallel to the direction of energy transfer. This one's a bit trickier to get your head around, but basically This one leads to some regions that are more spread out, and other regions that are more compressed, because the waves vibrating back and forth. In motion, it would look as if other regions that are more compressed is moving from the left to the right within the wave. Examples of longitudinal waves include sound waves, and some types of shock waves, like seismic p-waves. Anyway, that's everything for today's video, so hope you found it useful, and we'll see you again soon.\",\n",
        " \" The human body is a complex network of cells, tissues, and organs that together make life possible. Ten major systems are responsible for The human body's functions, skeletal, the muscular system, which includes three types of muscles, skeletal, smooth, and cardiac, cardiovascular, nervous, endocrine, lymphatic, respiratory, digestive, urinary, reproductive. The skeletal, muscular, cardiovascular, and nervous systems in particular create an infrastructure that facilitates the other systems. The adult skeletal system is a framework of over 200 bones. over 200 bones hold The human body together, give The human body shape, and protect The human body's organs and tissues. The adult skeletal system also provides anchor points for the muscular system, which includes three types of muscles, skeletal, smooth, and cardiac. the muscular system, which includes three types of muscles, skeletal, smooth, and cardiac are found throughout The human body and facilitate movement. Nestled within the muscular system, which includes three types of muscles, skeletal, smooth, and cardiac is the cardiovascular system, a pipeline that includes the heart, blood vessels, and the blood the blood itself. Also called the circulatory system, the cardiovascular system, a pipeline that includes the heart, blood vessels, and the blood itself delivers oxygen, white blood cells, hormones, and nutrients throughout The human body. Lastly, the nervous system is a communication network of nerve cells that The human body uses to transmit information and coordinate bodily functions. the nervous system's comprised of the brain, the hub of sensory and intellectual activity, the spinal cord, and the many cranial and spinal nerves that emanate from the brain, the hub of sensory and intellectual activity, the spinal cord,. This infrastructure created by neurons, blood, muscles, and bones allows three other systems to regulate The human body's environment, three other systems. The endocrine system is a series of glands that use information carried by the nervous system to help regulate The human body's processes. Thanks to this neural connection, endocrine glands, such as the thyroid, are aware of the amount of hormones and other chemicals endocrine glands, such as the thyroid need to produce. hormones and other chemicals they need to produce are then distributed throughout The human body by way of the cardiovascular system, a pipeline that includes the heart, blood vessels, and the blood itself. The skeletal, muscular, cardiovascular, and nervous systems in particular are also utilized by the lymphatic system, a collection of lymph nodes and vessels that help regulate The human body's defenses. Also called the immune system, the lymphatic system, a collection of lymph nodes and vessels that help regulate the body's defenses uses neural pathways to transmit information about affected areas of The human body and then sends out healing agents like white blood cells via the bloodstream. Another key regulatory system is the urinary system, which includes the kidneys, ureters, bladder, and urethra. the urinary system, which includes the kidneys, ureters, bladder, and urethra maintains The human body's electrolyte levels and filters waste from the blood. waste is sent through the blood vessels into the kidneys and then expelled as urine. The skeletal, muscular, cardiovascular, and nervous systems in particular require energy to function and that's where The skeletal, muscular, cardiovascular, and nervous systems in particular come in. The respiratory system is a group of passageways and organs that extracts life-giving oxygen from the air we breathe. Air enters the body through nasal cavities, travels down the throat, and is then transported to the lungs. the lungs extract oxygen for The human body to use and then expel a carbon dioxide by product when we exhale. Energy can also come in the form of food. The digestive system is an approximately 30-foot series of organs that convert food into fuel. Food enters The digestive system through the mouth, then moves into the esophagus, the stomach, and the intestines. Nutrients are absorbed into the body while solid waste is expelled through the anal canal, the end of The digestive system. No matter the role, size, or shape of any of the body's systems, each began with the reproductive system. the reproductive system is responsible for creating life. The primary organs involved differ between the sexes with ovaries, fallopian tubes, the uterus, and vagina found in women and testes and a sperm channel found in men. Together, fertilization may occur. Organ systems form and then a child is born. Humans are complicated organisms, but when Humans's 10 major organ systems are healthy, our 10 major organ systems ensure Humans's well-being. .\"]"
      ],
      "metadata": {
        "id": "D_MSJ17r1Sgp"
      },
      "execution_count": null,
      "outputs": []
    },
    {
      "cell_type": "code",
      "source": [
        "!pip install bert-extractive-summarizer\n",
        "from summarizer import Summarizer\n",
        "\n",
        "def generate_summary(text):\n",
        "  model = Summarizer()\n",
        "  return model(text, min_length=20)"
      ],
      "metadata": {
        "colab": {
          "base_uri": "https://localhost:8080/"
        },
        "id": "JI38xB7gxQ6X",
        "outputId": "4e5cc776-c9b6-41a2-dffe-b17b61c2472b"
      },
      "execution_count": null,
      "outputs": [
        {
          "output_type": "stream",
          "name": "stdout",
          "text": [
            "Looking in indexes: https://pypi.org/simple, https://us-python.pkg.dev/colab-wheels/public/simple/\n",
            "Requirement already satisfied: bert-extractive-summarizer in /usr/local/lib/python3.9/dist-packages (0.10.1)\n",
            "Requirement already satisfied: transformers in /usr/local/lib/python3.9/dist-packages (from bert-extractive-summarizer) (4.27.4)\n",
            "Requirement already satisfied: spacy in /usr/local/lib/python3.9/dist-packages (from bert-extractive-summarizer) (3.5.1)\n",
            "Requirement already satisfied: scikit-learn in /usr/local/lib/python3.9/dist-packages (from bert-extractive-summarizer) (1.2.2)\n",
            "Requirement already satisfied: scipy>=1.3.2 in /usr/local/lib/python3.9/dist-packages (from scikit-learn->bert-extractive-summarizer) (1.10.1)\n",
            "Requirement already satisfied: numpy>=1.17.3 in /usr/local/lib/python3.9/dist-packages (from scikit-learn->bert-extractive-summarizer) (1.22.4)\n",
            "Requirement already satisfied: threadpoolctl>=2.0.0 in /usr/local/lib/python3.9/dist-packages (from scikit-learn->bert-extractive-summarizer) (3.1.0)\n",
            "Requirement already satisfied: joblib>=1.1.1 in /usr/local/lib/python3.9/dist-packages (from scikit-learn->bert-extractive-summarizer) (1.1.1)\n",
            "Requirement already satisfied: catalogue<2.1.0,>=2.0.6 in /usr/local/lib/python3.9/dist-packages (from spacy->bert-extractive-summarizer) (2.0.8)\n",
            "Requirement already satisfied: thinc<8.2.0,>=8.1.8 in /usr/local/lib/python3.9/dist-packages (from spacy->bert-extractive-summarizer) (8.1.9)\n",
            "Requirement already satisfied: jinja2 in /usr/local/lib/python3.9/dist-packages (from spacy->bert-extractive-summarizer) (3.1.2)\n",
            "Requirement already satisfied: packaging>=20.0 in /usr/local/lib/python3.9/dist-packages (from spacy->bert-extractive-summarizer) (23.0)\n",
            "Requirement already satisfied: preshed<3.1.0,>=3.0.2 in /usr/local/lib/python3.9/dist-packages (from spacy->bert-extractive-summarizer) (3.0.8)\n",
            "Requirement already satisfied: requests<3.0.0,>=2.13.0 in /usr/local/lib/python3.9/dist-packages (from spacy->bert-extractive-summarizer) (2.27.1)\n",
            "Requirement already satisfied: pydantic!=1.8,!=1.8.1,<1.11.0,>=1.7.4 in /usr/local/lib/python3.9/dist-packages (from spacy->bert-extractive-summarizer) (1.10.7)\n",
            "Requirement already satisfied: cymem<2.1.0,>=2.0.2 in /usr/local/lib/python3.9/dist-packages (from spacy->bert-extractive-summarizer) (2.0.7)\n",
            "Requirement already satisfied: wasabi<1.2.0,>=0.9.1 in /usr/local/lib/python3.9/dist-packages (from spacy->bert-extractive-summarizer) (1.1.1)\n",
            "Requirement already satisfied: tqdm<5.0.0,>=4.38.0 in /usr/local/lib/python3.9/dist-packages (from spacy->bert-extractive-summarizer) (4.65.0)\n",
            "Requirement already satisfied: spacy-loggers<2.0.0,>=1.0.0 in /usr/local/lib/python3.9/dist-packages (from spacy->bert-extractive-summarizer) (1.0.4)\n",
            "Requirement already satisfied: langcodes<4.0.0,>=3.2.0 in /usr/local/lib/python3.9/dist-packages (from spacy->bert-extractive-summarizer) (3.3.0)\n",
            "Requirement already satisfied: murmurhash<1.1.0,>=0.28.0 in /usr/local/lib/python3.9/dist-packages (from spacy->bert-extractive-summarizer) (1.0.9)\n",
            "Requirement already satisfied: setuptools in /usr/local/lib/python3.9/dist-packages (from spacy->bert-extractive-summarizer) (67.6.1)\n",
            "Requirement already satisfied: typer<0.8.0,>=0.3.0 in /usr/local/lib/python3.9/dist-packages (from spacy->bert-extractive-summarizer) (0.7.0)\n",
            "Requirement already satisfied: srsly<3.0.0,>=2.4.3 in /usr/local/lib/python3.9/dist-packages (from spacy->bert-extractive-summarizer) (2.4.6)\n",
            "Requirement already satisfied: spacy-legacy<3.1.0,>=3.0.11 in /usr/local/lib/python3.9/dist-packages (from spacy->bert-extractive-summarizer) (3.0.12)\n",
            "Requirement already satisfied: smart-open<7.0.0,>=5.2.1 in /usr/local/lib/python3.9/dist-packages (from spacy->bert-extractive-summarizer) (6.3.0)\n",
            "Requirement already satisfied: pathy>=0.10.0 in /usr/local/lib/python3.9/dist-packages (from spacy->bert-extractive-summarizer) (0.10.1)\n",
            "Requirement already satisfied: filelock in /usr/local/lib/python3.9/dist-packages (from transformers->bert-extractive-summarizer) (3.10.7)\n",
            "Requirement already satisfied: huggingface-hub<1.0,>=0.11.0 in /usr/local/lib/python3.9/dist-packages (from transformers->bert-extractive-summarizer) (0.13.4)\n",
            "Requirement already satisfied: pyyaml>=5.1 in /usr/local/lib/python3.9/dist-packages (from transformers->bert-extractive-summarizer) (6.0)\n",
            "Requirement already satisfied: tokenizers!=0.11.3,<0.14,>=0.11.1 in /usr/local/lib/python3.9/dist-packages (from transformers->bert-extractive-summarizer) (0.13.3)\n",
            "Requirement already satisfied: regex!=2019.12.17 in /usr/local/lib/python3.9/dist-packages (from transformers->bert-extractive-summarizer) (2022.10.31)\n",
            "Requirement already satisfied: typing-extensions>=3.7.4.3 in /usr/local/lib/python3.9/dist-packages (from huggingface-hub<1.0,>=0.11.0->transformers->bert-extractive-summarizer) (4.5.0)\n",
            "Requirement already satisfied: charset-normalizer~=2.0.0 in /usr/local/lib/python3.9/dist-packages (from requests<3.0.0,>=2.13.0->spacy->bert-extractive-summarizer) (2.0.12)\n",
            "Requirement already satisfied: idna<4,>=2.5 in /usr/local/lib/python3.9/dist-packages (from requests<3.0.0,>=2.13.0->spacy->bert-extractive-summarizer) (3.4)\n",
            "Requirement already satisfied: urllib3<1.27,>=1.21.1 in /usr/local/lib/python3.9/dist-packages (from requests<3.0.0,>=2.13.0->spacy->bert-extractive-summarizer) (1.26.15)\n",
            "Requirement already satisfied: certifi>=2017.4.17 in /usr/local/lib/python3.9/dist-packages (from requests<3.0.0,>=2.13.0->spacy->bert-extractive-summarizer) (2022.12.7)\n",
            "Requirement already satisfied: blis<0.8.0,>=0.7.8 in /usr/local/lib/python3.9/dist-packages (from thinc<8.2.0,>=8.1.8->spacy->bert-extractive-summarizer) (0.7.9)\n",
            "Requirement already satisfied: confection<1.0.0,>=0.0.1 in /usr/local/lib/python3.9/dist-packages (from thinc<8.2.0,>=8.1.8->spacy->bert-extractive-summarizer) (0.0.4)\n",
            "Requirement already satisfied: click<9.0.0,>=7.1.1 in /usr/local/lib/python3.9/dist-packages (from typer<0.8.0,>=0.3.0->spacy->bert-extractive-summarizer) (8.1.3)\n",
            "Requirement already satisfied: MarkupSafe>=2.0 in /usr/local/lib/python3.9/dist-packages (from jinja2->spacy->bert-extractive-summarizer) (2.1.2)\n"
          ]
        }
      ]
    },
    {
      "cell_type": "code",
      "source": [
        "summaries = []\n",
        "for text in extracted_transcripts:\n",
        "  summaries.append(generate_summary(text))"
      ],
      "metadata": {
        "colab": {
          "base_uri": "https://localhost:8080/"
        },
        "id": "XkZabYvlxnRD",
        "outputId": "909f6b10-43b3-4ddc-a0a7-4b4b5d991b10"
      },
      "execution_count": null,
      "outputs": [
        {
          "output_type": "stream",
          "name": "stderr",
          "text": [
            "Some weights of the model checkpoint at bert-large-uncased were not used when initializing BertModel: ['cls.predictions.bias', 'cls.predictions.transform.dense.weight', 'cls.predictions.transform.LayerNorm.weight', 'cls.seq_relationship.weight', 'cls.seq_relationship.bias', 'cls.predictions.transform.dense.bias', 'cls.predictions.decoder.weight', 'cls.predictions.transform.LayerNorm.bias']\n",
            "- This IS expected if you are initializing BertModel from the checkpoint of a model trained on another task or with another architecture (e.g. initializing a BertForSequenceClassification model from a BertForPreTraining model).\n",
            "- This IS NOT expected if you are initializing BertModel from the checkpoint of a model that you expect to be exactly identical (initializing a BertForSequenceClassification model from a BertForSequenceClassification model).\n",
            "/usr/local/lib/python3.9/dist-packages/sklearn/cluster/_kmeans.py:870: FutureWarning: The default value of `n_init` will change from 10 to 'auto' in 1.4. Set the value of `n_init` explicitly to suppress the warning\n",
            "  warnings.warn(\n",
            "Some weights of the model checkpoint at bert-large-uncased were not used when initializing BertModel: ['cls.predictions.bias', 'cls.predictions.transform.dense.weight', 'cls.predictions.transform.LayerNorm.weight', 'cls.seq_relationship.weight', 'cls.seq_relationship.bias', 'cls.predictions.transform.dense.bias', 'cls.predictions.decoder.weight', 'cls.predictions.transform.LayerNorm.bias']\n",
            "- This IS expected if you are initializing BertModel from the checkpoint of a model trained on another task or with another architecture (e.g. initializing a BertForSequenceClassification model from a BertForPreTraining model).\n",
            "- This IS NOT expected if you are initializing BertModel from the checkpoint of a model that you expect to be exactly identical (initializing a BertForSequenceClassification model from a BertForSequenceClassification model).\n",
            "/usr/local/lib/python3.9/dist-packages/sklearn/cluster/_kmeans.py:870: FutureWarning: The default value of `n_init` will change from 10 to 'auto' in 1.4. Set the value of `n_init` explicitly to suppress the warning\n",
            "  warnings.warn(\n",
            "Some weights of the model checkpoint at bert-large-uncased were not used when initializing BertModel: ['cls.predictions.bias', 'cls.predictions.transform.dense.weight', 'cls.predictions.transform.LayerNorm.weight', 'cls.seq_relationship.weight', 'cls.seq_relationship.bias', 'cls.predictions.transform.dense.bias', 'cls.predictions.decoder.weight', 'cls.predictions.transform.LayerNorm.bias']\n",
            "- This IS expected if you are initializing BertModel from the checkpoint of a model trained on another task or with another architecture (e.g. initializing a BertForSequenceClassification model from a BertForPreTraining model).\n",
            "- This IS NOT expected if you are initializing BertModel from the checkpoint of a model that you expect to be exactly identical (initializing a BertForSequenceClassification model from a BertForSequenceClassification model).\n",
            "/usr/local/lib/python3.9/dist-packages/sklearn/cluster/_kmeans.py:870: FutureWarning: The default value of `n_init` will change from 10 to 'auto' in 1.4. Set the value of `n_init` explicitly to suppress the warning\n",
            "  warnings.warn(\n",
            "Some weights of the model checkpoint at bert-large-uncased were not used when initializing BertModel: ['cls.predictions.bias', 'cls.predictions.transform.dense.weight', 'cls.predictions.transform.LayerNorm.weight', 'cls.seq_relationship.weight', 'cls.seq_relationship.bias', 'cls.predictions.transform.dense.bias', 'cls.predictions.decoder.weight', 'cls.predictions.transform.LayerNorm.bias']\n",
            "- This IS expected if you are initializing BertModel from the checkpoint of a model trained on another task or with another architecture (e.g. initializing a BertForSequenceClassification model from a BertForPreTraining model).\n",
            "- This IS NOT expected if you are initializing BertModel from the checkpoint of a model that you expect to be exactly identical (initializing a BertForSequenceClassification model from a BertForSequenceClassification model).\n",
            "/usr/local/lib/python3.9/dist-packages/sklearn/cluster/_kmeans.py:870: FutureWarning: The default value of `n_init` will change from 10 to 'auto' in 1.4. Set the value of `n_init` explicitly to suppress the warning\n",
            "  warnings.warn(\n"
          ]
        }
      ]
    },
    {
      "cell_type": "code",
      "source": [
        "summaries"
      ],
      "metadata": {
        "colab": {
          "base_uri": "https://localhost:8080/"
        },
        "id": "YwUxPHrRzu-K",
        "outputId": "e1d314ec-b663-4af1-a1c8-9b9a4b761892"
      },
      "execution_count": null,
      "outputs": [
        {
          "output_type": "execute_result",
          "data": {
            "text/plain": [
              "['Do you know how plants make their own food? Well, this video elaborates the process of photosynthesis by which plants make their own food. Photosynthesis is the process used by plants to make their own food or in more complex terms. These pores are called stomata. The carbon dioxide present in the air, which is responsible for photosynthesis, enters the plant through these stomata. These cells contain a green color component called chloroplasts. This chloroplasts is responsible for the green color of plants and leaves. Oxygen is given out into the air through the stomata in the process of photosynthesis. Photo means light in Greek and synthesis means putting together or combining.',\n",
              " \"A, C, E, D, B, K. No, this isn't some random out-of-order alphabet. That's dependent on the form these compounds take. Vitamins come in two types, lipid-soluble and water-soluble, and the difference between them determines how the body transports and stores vitamins and gets rid of the excess. Once inside the system, these foods are digested, and the vitamins within them are taken up directly by the bloodstream. Because fat-soluble vitamins can't make use of the blood's watery nature, they need something else to move them around. Vitamin A helps make white blood cells, key in the body's defense, helps shape bones, and improves vision by keeping the cells of the eye in check. Without this vitamin variety, humans face deficiencies that cause a range of problems like fatigue, nerve damage, heart disorders, or diseases like rickets and scurvy.\",\n",
              " \"In today's video, we're going to look at the basics of waves, including how to label the different parts, how to calculate the wave speed, and the differences between transverse and longitudinal waves. Sometimes though we can interpret that energy as meaningful information, which is why our brain is able to build up images and tunes from the light and sound that it receives. And the opposite of the crest is called the trough. Now sometimes you might see a displacement time graph instead, which looks pretty much the same, but because we have time on the x-axis, instead of distance, the length of one complete oscillation would be the time period instead of the wavelength. And the time period is just the time it takes for one complete oscillation. The benefit of knowing the time period is that we can then use this equation here to work out frequency, which is measured in hertz and is a number of complete oscillations per second. So basically, we multiply how long each wavelength is, by how many there are per second.\",\n",
              " \"The human body is a complex network of cells, tissues, and organs that together make life possible. The skeletal, muscular, cardiovascular, and nervous systems in particular create an infrastructure that facilitates the other systems. The adult skeletal system is a framework of over 200 bones. They are found throughout the body and facilitate movement. This infrastructure created by neurons, blood, muscles, and bones allows three other systems to regulate the body's environment, the endocrine, lymphatic, and urinary systems. These chemicals are then distributed throughout the body by way of the cardiovascular system. The digestive system is an approximately 30-foot series of organs that convert food into fuel.\"]"
            ]
          },
          "metadata": {},
          "execution_count": 9
        }
      ]
    },
    {
      "cell_type": "code",
      "source": [
        "coref_summaries = []\n",
        "for text in coref_resolved_text:\n",
        "  coref_summaries.append(generate_summary(text))"
      ],
      "metadata": {
        "colab": {
          "base_uri": "https://localhost:8080/"
        },
        "id": "Mz8u44Zo1tS7",
        "outputId": "50913254-bd91-40bd-e70f-bf28ba4c3e41"
      },
      "execution_count": null,
      "outputs": [
        {
          "output_type": "stream",
          "name": "stderr",
          "text": [
            "Some weights of the model checkpoint at bert-large-uncased were not used when initializing BertModel: ['cls.predictions.bias', 'cls.predictions.transform.dense.weight', 'cls.predictions.transform.LayerNorm.weight', 'cls.seq_relationship.weight', 'cls.seq_relationship.bias', 'cls.predictions.transform.dense.bias', 'cls.predictions.decoder.weight', 'cls.predictions.transform.LayerNorm.bias']\n",
            "- This IS expected if you are initializing BertModel from the checkpoint of a model trained on another task or with another architecture (e.g. initializing a BertForSequenceClassification model from a BertForPreTraining model).\n",
            "- This IS NOT expected if you are initializing BertModel from the checkpoint of a model that you expect to be exactly identical (initializing a BertForSequenceClassification model from a BertForSequenceClassification model).\n",
            "/usr/local/lib/python3.9/dist-packages/sklearn/cluster/_kmeans.py:870: FutureWarning: The default value of `n_init` will change from 10 to 'auto' in 1.4. Set the value of `n_init` explicitly to suppress the warning\n",
            "  warnings.warn(\n",
            "Some weights of the model checkpoint at bert-large-uncased were not used when initializing BertModel: ['cls.predictions.bias', 'cls.predictions.transform.dense.weight', 'cls.predictions.transform.LayerNorm.weight', 'cls.seq_relationship.weight', 'cls.seq_relationship.bias', 'cls.predictions.transform.dense.bias', 'cls.predictions.decoder.weight', 'cls.predictions.transform.LayerNorm.bias']\n",
            "- This IS expected if you are initializing BertModel from the checkpoint of a model trained on another task or with another architecture (e.g. initializing a BertForSequenceClassification model from a BertForPreTraining model).\n",
            "- This IS NOT expected if you are initializing BertModel from the checkpoint of a model that you expect to be exactly identical (initializing a BertForSequenceClassification model from a BertForSequenceClassification model).\n",
            "/usr/local/lib/python3.9/dist-packages/sklearn/cluster/_kmeans.py:870: FutureWarning: The default value of `n_init` will change from 10 to 'auto' in 1.4. Set the value of `n_init` explicitly to suppress the warning\n",
            "  warnings.warn(\n",
            "Some weights of the model checkpoint at bert-large-uncased were not used when initializing BertModel: ['cls.predictions.bias', 'cls.predictions.transform.dense.weight', 'cls.predictions.transform.LayerNorm.weight', 'cls.seq_relationship.weight', 'cls.seq_relationship.bias', 'cls.predictions.transform.dense.bias', 'cls.predictions.decoder.weight', 'cls.predictions.transform.LayerNorm.bias']\n",
            "- This IS expected if you are initializing BertModel from the checkpoint of a model trained on another task or with another architecture (e.g. initializing a BertForSequenceClassification model from a BertForPreTraining model).\n",
            "- This IS NOT expected if you are initializing BertModel from the checkpoint of a model that you expect to be exactly identical (initializing a BertForSequenceClassification model from a BertForSequenceClassification model).\n",
            "/usr/local/lib/python3.9/dist-packages/sklearn/cluster/_kmeans.py:870: FutureWarning: The default value of `n_init` will change from 10 to 'auto' in 1.4. Set the value of `n_init` explicitly to suppress the warning\n",
            "  warnings.warn(\n",
            "Some weights of the model checkpoint at bert-large-uncased were not used when initializing BertModel: ['cls.predictions.bias', 'cls.predictions.transform.dense.weight', 'cls.predictions.transform.LayerNorm.weight', 'cls.seq_relationship.weight', 'cls.seq_relationship.bias', 'cls.predictions.transform.dense.bias', 'cls.predictions.decoder.weight', 'cls.predictions.transform.LayerNorm.bias']\n",
            "- This IS expected if you are initializing BertModel from the checkpoint of a model trained on another task or with another architecture (e.g. initializing a BertForSequenceClassification model from a BertForPreTraining model).\n",
            "- This IS NOT expected if you are initializing BertModel from the checkpoint of a model that you expect to be exactly identical (initializing a BertForSequenceClassification model from a BertForSequenceClassification model).\n",
            "/usr/local/lib/python3.9/dist-packages/sklearn/cluster/_kmeans.py:870: FutureWarning: The default value of `n_init` will change from 10 to 'auto' in 1.4. Set the value of `n_init` explicitly to suppress the warning\n",
            "  warnings.warn(\n"
          ]
        }
      ]
    },
    {
      "cell_type": "code",
      "source": [
        "coref_summaries"
      ],
      "metadata": {
        "colab": {
          "base_uri": "https://localhost:8080/"
        },
        "id": "mF7t9in611F7",
        "outputId": "b0fc8950-2d39-4534-d1de-d3fcf930a923"
      },
      "execution_count": null,
      "outputs": [
        {
          "output_type": "execute_result",
          "data": {
            "text/plain": [
              "[\"Do kids know how plants make plants's own food? Photosynthesis is the process used by plants to make plants's own food or in more complex terms. chemical energy is used by plants for growth and nourishment. Photo means light and synthesis means putting together in Greek. pores, very similar to the pores on the skin of our bodies are responsible for the exchange of gases. Carbohydrates, which are a form of glucose, are synthesized from carbon dioxide and water. Glucose is used by the plants for the plants's growth. So the essential factors for photosynthesis to take place include sunlight, water and carbon dioxide. some plants which don't need the process of photosynthesis to grow include mushroom, venous fly traps etc.\",\n",
              " \"A, C, E, D, B, K. No, this isn't some random out-of-order alphabet. And just like letters build words, letters're the building blocks that keep the body running. olden-day sailors who had no access to vitamin-rich fresh produce got this disease, but vitamin C, abundant in fruits and vegetables, was the simple antidote to this disease. Vitamins come in two types, lipid-soluble and water-soluble, and the difference between two types, lipid-soluble and water-soluble determines how the body transports and stores vitamins and gets rid of the excess. For lipid-soluble vitamins, dissolved in fat and found in foods like dairy, butter, and oils, this trip into the blood is a little more adventurous. And that comes from proteins that attach to fat-soluble vitamins and act like couriers, transporting fat-solubles into the blood's and around the body. So this difference between water or fat-soluble vitamins determines how fat-soluble vitamins get into the blood, but also how fat-soluble vitamins're stored or rejected from the body.\",\n",
              " \"In today's video, we're going to look at the basics of waves, including how to label the different parts, how to calculate the wave speed, and the differences between transverse and longitudinal waves. The distance is how far the wave has travelled from the starting point. And the opposite of the crest is called the trough. Now sometimes you might see a displacement time graph instead, which looks pretty much the same, but because we have time on the x-axis, instead of distance, the length of one complete oscillation would be the time period instead of the wavelength. And the time period is just the time it takes for one complete oscillation. Most waves we can think of are transverse, including all electromagnetic waves like light and radio waves, ripples and waves in water, and the waves of strings like on a guitar. In motion, it would look as if other regions that are more compressed is moving from the left to the right within the wave.\",\n",
              " \"The human body is a complex network of cells, tissues, and organs that together make life possible. The skeletal, muscular, cardiovascular, and nervous systems in particular create an infrastructure that facilitates the other systems. The adult skeletal system is a framework of over 200 bones. Also called the circulatory system, the cardiovascular system, a pipeline that includes the heart, blood vessels, and the blood itself delivers oxygen, white blood cells, hormones, and nutrients throughout The human body. Also called the immune system, the lymphatic system, a collection of lymph nodes and vessels that help regulate the body's defenses uses neural pathways to transmit information about affected areas of The human body and then sends out healing agents like white blood cells via the bloodstream. waste is sent through the blood vessels into the kidneys and then expelled as urine. The respiratory system is a group of passageways and organs that extracts life-giving oxygen from the air we breathe.\"]"
            ]
          },
          "metadata": {},
          "execution_count": 12
        }
      ]
    }
  ],
  "metadata": {
    "colab": {
      "provenance": [],
      "gpuType": "T4"
    },
    "kernelspec": {
      "display_name": "Python 3",
      "name": "python3"
    },
    "language_info": {
      "name": "python"
    },
    "widgets": {
      "application/vnd.jupyter.widget-state+json": {
        "7188d5c0d8a74671af252fba4a3fddd0": {
          "model_module": "@jupyter-widgets/controls",
          "model_name": "HBoxModel",
          "model_module_version": "1.5.0",
          "state": {
            "_dom_classes": [],
            "_model_module": "@jupyter-widgets/controls",
            "_model_module_version": "1.5.0",
            "_model_name": "HBoxModel",
            "_view_count": null,
            "_view_module": "@jupyter-widgets/controls",
            "_view_module_version": "1.5.0",
            "_view_name": "HBoxView",
            "box_style": "",
            "children": [
              "IPY_MODEL_25d9a9dd668b49cb99d0d377831752ae",
              "IPY_MODEL_4c0d0d45ce1048b1bd78fb88ba01a7fc",
              "IPY_MODEL_3575b9f6834948f8b6a826362dbd90f0"
            ],
            "layout": "IPY_MODEL_d4bc4f346dfe4126a11d42bac647bac1"
          }
        },
        "25d9a9dd668b49cb99d0d377831752ae": {
          "model_module": "@jupyter-widgets/controls",
          "model_name": "HTMLModel",
          "model_module_version": "1.5.0",
          "state": {
            "_dom_classes": [],
            "_model_module": "@jupyter-widgets/controls",
            "_model_module_version": "1.5.0",
            "_model_name": "HTMLModel",
            "_view_count": null,
            "_view_module": "@jupyter-widgets/controls",
            "_view_module_version": "1.5.0",
            "_view_name": "HTMLView",
            "description": "",
            "description_tooltip": null,
            "layout": "IPY_MODEL_b767ab581dfc42798aa9f98a35b7b59a",
            "placeholder": "​",
            "style": "IPY_MODEL_4eebece8f2964db092f1753b18b48acf",
            "value": "Downloading: 100%"
          }
        },
        "4c0d0d45ce1048b1bd78fb88ba01a7fc": {
          "model_module": "@jupyter-widgets/controls",
          "model_name": "FloatProgressModel",
          "model_module_version": "1.5.0",
          "state": {
            "_dom_classes": [],
            "_model_module": "@jupyter-widgets/controls",
            "_model_module_version": "1.5.0",
            "_model_name": "FloatProgressModel",
            "_view_count": null,
            "_view_module": "@jupyter-widgets/controls",
            "_view_module_version": "1.5.0",
            "_view_name": "ProgressView",
            "bar_style": "success",
            "description": "",
            "description_tooltip": null,
            "layout": "IPY_MODEL_c52745821553453e988c113338cfab93",
            "max": 571,
            "min": 0,
            "orientation": "horizontal",
            "style": "IPY_MODEL_af30db13a96e4d0396ef7565d3544941",
            "value": 571
          }
        },
        "3575b9f6834948f8b6a826362dbd90f0": {
          "model_module": "@jupyter-widgets/controls",
          "model_name": "HTMLModel",
          "model_module_version": "1.5.0",
          "state": {
            "_dom_classes": [],
            "_model_module": "@jupyter-widgets/controls",
            "_model_module_version": "1.5.0",
            "_model_name": "HTMLModel",
            "_view_count": null,
            "_view_module": "@jupyter-widgets/controls",
            "_view_module_version": "1.5.0",
            "_view_name": "HTMLView",
            "description": "",
            "description_tooltip": null,
            "layout": "IPY_MODEL_47d33b6dbba1468882ada79621fcee95",
            "placeholder": "​",
            "style": "IPY_MODEL_4e42db58f2614790aee08d03b4adb33d",
            "value": " 571/571 [00:00&lt;00:00, 15.2kB/s]"
          }
        },
        "d4bc4f346dfe4126a11d42bac647bac1": {
          "model_module": "@jupyter-widgets/base",
          "model_name": "LayoutModel",
          "model_module_version": "1.2.0",
          "state": {
            "_model_module": "@jupyter-widgets/base",
            "_model_module_version": "1.2.0",
            "_model_name": "LayoutModel",
            "_view_count": null,
            "_view_module": "@jupyter-widgets/base",
            "_view_module_version": "1.2.0",
            "_view_name": "LayoutView",
            "align_content": null,
            "align_items": null,
            "align_self": null,
            "border": null,
            "bottom": null,
            "display": null,
            "flex": null,
            "flex_flow": null,
            "grid_area": null,
            "grid_auto_columns": null,
            "grid_auto_flow": null,
            "grid_auto_rows": null,
            "grid_column": null,
            "grid_gap": null,
            "grid_row": null,
            "grid_template_areas": null,
            "grid_template_columns": null,
            "grid_template_rows": null,
            "height": null,
            "justify_content": null,
            "justify_items": null,
            "left": null,
            "margin": null,
            "max_height": null,
            "max_width": null,
            "min_height": null,
            "min_width": null,
            "object_fit": null,
            "object_position": null,
            "order": null,
            "overflow": null,
            "overflow_x": null,
            "overflow_y": null,
            "padding": null,
            "right": null,
            "top": null,
            "visibility": null,
            "width": null
          }
        },
        "b767ab581dfc42798aa9f98a35b7b59a": {
          "model_module": "@jupyter-widgets/base",
          "model_name": "LayoutModel",
          "model_module_version": "1.2.0",
          "state": {
            "_model_module": "@jupyter-widgets/base",
            "_model_module_version": "1.2.0",
            "_model_name": "LayoutModel",
            "_view_count": null,
            "_view_module": "@jupyter-widgets/base",
            "_view_module_version": "1.2.0",
            "_view_name": "LayoutView",
            "align_content": null,
            "align_items": null,
            "align_self": null,
            "border": null,
            "bottom": null,
            "display": null,
            "flex": null,
            "flex_flow": null,
            "grid_area": null,
            "grid_auto_columns": null,
            "grid_auto_flow": null,
            "grid_auto_rows": null,
            "grid_column": null,
            "grid_gap": null,
            "grid_row": null,
            "grid_template_areas": null,
            "grid_template_columns": null,
            "grid_template_rows": null,
            "height": null,
            "justify_content": null,
            "justify_items": null,
            "left": null,
            "margin": null,
            "max_height": null,
            "max_width": null,
            "min_height": null,
            "min_width": null,
            "object_fit": null,
            "object_position": null,
            "order": null,
            "overflow": null,
            "overflow_x": null,
            "overflow_y": null,
            "padding": null,
            "right": null,
            "top": null,
            "visibility": null,
            "width": null
          }
        },
        "4eebece8f2964db092f1753b18b48acf": {
          "model_module": "@jupyter-widgets/controls",
          "model_name": "DescriptionStyleModel",
          "model_module_version": "1.5.0",
          "state": {
            "_model_module": "@jupyter-widgets/controls",
            "_model_module_version": "1.5.0",
            "_model_name": "DescriptionStyleModel",
            "_view_count": null,
            "_view_module": "@jupyter-widgets/base",
            "_view_module_version": "1.2.0",
            "_view_name": "StyleView",
            "description_width": ""
          }
        },
        "c52745821553453e988c113338cfab93": {
          "model_module": "@jupyter-widgets/base",
          "model_name": "LayoutModel",
          "model_module_version": "1.2.0",
          "state": {
            "_model_module": "@jupyter-widgets/base",
            "_model_module_version": "1.2.0",
            "_model_name": "LayoutModel",
            "_view_count": null,
            "_view_module": "@jupyter-widgets/base",
            "_view_module_version": "1.2.0",
            "_view_name": "LayoutView",
            "align_content": null,
            "align_items": null,
            "align_self": null,
            "border": null,
            "bottom": null,
            "display": null,
            "flex": null,
            "flex_flow": null,
            "grid_area": null,
            "grid_auto_columns": null,
            "grid_auto_flow": null,
            "grid_auto_rows": null,
            "grid_column": null,
            "grid_gap": null,
            "grid_row": null,
            "grid_template_areas": null,
            "grid_template_columns": null,
            "grid_template_rows": null,
            "height": null,
            "justify_content": null,
            "justify_items": null,
            "left": null,
            "margin": null,
            "max_height": null,
            "max_width": null,
            "min_height": null,
            "min_width": null,
            "object_fit": null,
            "object_position": null,
            "order": null,
            "overflow": null,
            "overflow_x": null,
            "overflow_y": null,
            "padding": null,
            "right": null,
            "top": null,
            "visibility": null,
            "width": null
          }
        },
        "af30db13a96e4d0396ef7565d3544941": {
          "model_module": "@jupyter-widgets/controls",
          "model_name": "ProgressStyleModel",
          "model_module_version": "1.5.0",
          "state": {
            "_model_module": "@jupyter-widgets/controls",
            "_model_module_version": "1.5.0",
            "_model_name": "ProgressStyleModel",
            "_view_count": null,
            "_view_module": "@jupyter-widgets/base",
            "_view_module_version": "1.2.0",
            "_view_name": "StyleView",
            "bar_color": null,
            "description_width": ""
          }
        },
        "47d33b6dbba1468882ada79621fcee95": {
          "model_module": "@jupyter-widgets/base",
          "model_name": "LayoutModel",
          "model_module_version": "1.2.0",
          "state": {
            "_model_module": "@jupyter-widgets/base",
            "_model_module_version": "1.2.0",
            "_model_name": "LayoutModel",
            "_view_count": null,
            "_view_module": "@jupyter-widgets/base",
            "_view_module_version": "1.2.0",
            "_view_name": "LayoutView",
            "align_content": null,
            "align_items": null,
            "align_self": null,
            "border": null,
            "bottom": null,
            "display": null,
            "flex": null,
            "flex_flow": null,
            "grid_area": null,
            "grid_auto_columns": null,
            "grid_auto_flow": null,
            "grid_auto_rows": null,
            "grid_column": null,
            "grid_gap": null,
            "grid_row": null,
            "grid_template_areas": null,
            "grid_template_columns": null,
            "grid_template_rows": null,
            "height": null,
            "justify_content": null,
            "justify_items": null,
            "left": null,
            "margin": null,
            "max_height": null,
            "max_width": null,
            "min_height": null,
            "min_width": null,
            "object_fit": null,
            "object_position": null,
            "order": null,
            "overflow": null,
            "overflow_x": null,
            "overflow_y": null,
            "padding": null,
            "right": null,
            "top": null,
            "visibility": null,
            "width": null
          }
        },
        "4e42db58f2614790aee08d03b4adb33d": {
          "model_module": "@jupyter-widgets/controls",
          "model_name": "DescriptionStyleModel",
          "model_module_version": "1.5.0",
          "state": {
            "_model_module": "@jupyter-widgets/controls",
            "_model_module_version": "1.5.0",
            "_model_name": "DescriptionStyleModel",
            "_view_count": null,
            "_view_module": "@jupyter-widgets/base",
            "_view_module_version": "1.2.0",
            "_view_name": "StyleView",
            "description_width": ""
          }
        },
        "14313cdbabfd47fd94cc7765f49128e3": {
          "model_module": "@jupyter-widgets/controls",
          "model_name": "HBoxModel",
          "model_module_version": "1.5.0",
          "state": {
            "_dom_classes": [],
            "_model_module": "@jupyter-widgets/controls",
            "_model_module_version": "1.5.0",
            "_model_name": "HBoxModel",
            "_view_count": null,
            "_view_module": "@jupyter-widgets/controls",
            "_view_module_version": "1.5.0",
            "_view_name": "HBoxView",
            "box_style": "",
            "children": [
              "IPY_MODEL_ed9b1057b0ef4892861b6b1f4103dea1",
              "IPY_MODEL_34458a1084dc4c838f04e73962463a29",
              "IPY_MODEL_f4c3dbedc7db4e748593960e3f404e6b"
            ],
            "layout": "IPY_MODEL_71eba2b78cb940c4ad612fb4bae29e69"
          }
        },
        "ed9b1057b0ef4892861b6b1f4103dea1": {
          "model_module": "@jupyter-widgets/controls",
          "model_name": "HTMLModel",
          "model_module_version": "1.5.0",
          "state": {
            "_dom_classes": [],
            "_model_module": "@jupyter-widgets/controls",
            "_model_module_version": "1.5.0",
            "_model_name": "HTMLModel",
            "_view_count": null,
            "_view_module": "@jupyter-widgets/controls",
            "_view_module_version": "1.5.0",
            "_view_name": "HTMLView",
            "description": "",
            "description_tooltip": null,
            "layout": "IPY_MODEL_88ba05981ce44f96a4c87159ab487882",
            "placeholder": "​",
            "style": "IPY_MODEL_7d3778249c144cb481f98e375b01e831",
            "value": "Downloading: 100%"
          }
        },
        "34458a1084dc4c838f04e73962463a29": {
          "model_module": "@jupyter-widgets/controls",
          "model_name": "FloatProgressModel",
          "model_module_version": "1.5.0",
          "state": {
            "_dom_classes": [],
            "_model_module": "@jupyter-widgets/controls",
            "_model_module_version": "1.5.0",
            "_model_name": "FloatProgressModel",
            "_view_count": null,
            "_view_module": "@jupyter-widgets/controls",
            "_view_module_version": "1.5.0",
            "_view_name": "ProgressView",
            "bar_style": "success",
            "description": "",
            "description_tooltip": null,
            "layout": "IPY_MODEL_2579b5a33e3b41f9885da58de0eb41d6",
            "max": 1344997306,
            "min": 0,
            "orientation": "horizontal",
            "style": "IPY_MODEL_7b2d2846383449adbbac359492b80e08",
            "value": 1344997306
          }
        },
        "f4c3dbedc7db4e748593960e3f404e6b": {
          "model_module": "@jupyter-widgets/controls",
          "model_name": "HTMLModel",
          "model_module_version": "1.5.0",
          "state": {
            "_dom_classes": [],
            "_model_module": "@jupyter-widgets/controls",
            "_model_module_version": "1.5.0",
            "_model_name": "HTMLModel",
            "_view_count": null,
            "_view_module": "@jupyter-widgets/controls",
            "_view_module_version": "1.5.0",
            "_view_name": "HTMLView",
            "description": "",
            "description_tooltip": null,
            "layout": "IPY_MODEL_c20c4afab4ae4f1fa8cc5abde7565d51",
            "placeholder": "​",
            "style": "IPY_MODEL_efabc46ad1954c2dafcd452d71b6dae5",
            "value": " 1.25G/1.25G [00:58&lt;00:00, 28.6MB/s]"
          }
        },
        "71eba2b78cb940c4ad612fb4bae29e69": {
          "model_module": "@jupyter-widgets/base",
          "model_name": "LayoutModel",
          "model_module_version": "1.2.0",
          "state": {
            "_model_module": "@jupyter-widgets/base",
            "_model_module_version": "1.2.0",
            "_model_name": "LayoutModel",
            "_view_count": null,
            "_view_module": "@jupyter-widgets/base",
            "_view_module_version": "1.2.0",
            "_view_name": "LayoutView",
            "align_content": null,
            "align_items": null,
            "align_self": null,
            "border": null,
            "bottom": null,
            "display": null,
            "flex": null,
            "flex_flow": null,
            "grid_area": null,
            "grid_auto_columns": null,
            "grid_auto_flow": null,
            "grid_auto_rows": null,
            "grid_column": null,
            "grid_gap": null,
            "grid_row": null,
            "grid_template_areas": null,
            "grid_template_columns": null,
            "grid_template_rows": null,
            "height": null,
            "justify_content": null,
            "justify_items": null,
            "left": null,
            "margin": null,
            "max_height": null,
            "max_width": null,
            "min_height": null,
            "min_width": null,
            "object_fit": null,
            "object_position": null,
            "order": null,
            "overflow": null,
            "overflow_x": null,
            "overflow_y": null,
            "padding": null,
            "right": null,
            "top": null,
            "visibility": null,
            "width": null
          }
        },
        "88ba05981ce44f96a4c87159ab487882": {
          "model_module": "@jupyter-widgets/base",
          "model_name": "LayoutModel",
          "model_module_version": "1.2.0",
          "state": {
            "_model_module": "@jupyter-widgets/base",
            "_model_module_version": "1.2.0",
            "_model_name": "LayoutModel",
            "_view_count": null,
            "_view_module": "@jupyter-widgets/base",
            "_view_module_version": "1.2.0",
            "_view_name": "LayoutView",
            "align_content": null,
            "align_items": null,
            "align_self": null,
            "border": null,
            "bottom": null,
            "display": null,
            "flex": null,
            "flex_flow": null,
            "grid_area": null,
            "grid_auto_columns": null,
            "grid_auto_flow": null,
            "grid_auto_rows": null,
            "grid_column": null,
            "grid_gap": null,
            "grid_row": null,
            "grid_template_areas": null,
            "grid_template_columns": null,
            "grid_template_rows": null,
            "height": null,
            "justify_content": null,
            "justify_items": null,
            "left": null,
            "margin": null,
            "max_height": null,
            "max_width": null,
            "min_height": null,
            "min_width": null,
            "object_fit": null,
            "object_position": null,
            "order": null,
            "overflow": null,
            "overflow_x": null,
            "overflow_y": null,
            "padding": null,
            "right": null,
            "top": null,
            "visibility": null,
            "width": null
          }
        },
        "7d3778249c144cb481f98e375b01e831": {
          "model_module": "@jupyter-widgets/controls",
          "model_name": "DescriptionStyleModel",
          "model_module_version": "1.5.0",
          "state": {
            "_model_module": "@jupyter-widgets/controls",
            "_model_module_version": "1.5.0",
            "_model_name": "DescriptionStyleModel",
            "_view_count": null,
            "_view_module": "@jupyter-widgets/base",
            "_view_module_version": "1.2.0",
            "_view_name": "StyleView",
            "description_width": ""
          }
        },
        "2579b5a33e3b41f9885da58de0eb41d6": {
          "model_module": "@jupyter-widgets/base",
          "model_name": "LayoutModel",
          "model_module_version": "1.2.0",
          "state": {
            "_model_module": "@jupyter-widgets/base",
            "_model_module_version": "1.2.0",
            "_model_name": "LayoutModel",
            "_view_count": null,
            "_view_module": "@jupyter-widgets/base",
            "_view_module_version": "1.2.0",
            "_view_name": "LayoutView",
            "align_content": null,
            "align_items": null,
            "align_self": null,
            "border": null,
            "bottom": null,
            "display": null,
            "flex": null,
            "flex_flow": null,
            "grid_area": null,
            "grid_auto_columns": null,
            "grid_auto_flow": null,
            "grid_auto_rows": null,
            "grid_column": null,
            "grid_gap": null,
            "grid_row": null,
            "grid_template_areas": null,
            "grid_template_columns": null,
            "grid_template_rows": null,
            "height": null,
            "justify_content": null,
            "justify_items": null,
            "left": null,
            "margin": null,
            "max_height": null,
            "max_width": null,
            "min_height": null,
            "min_width": null,
            "object_fit": null,
            "object_position": null,
            "order": null,
            "overflow": null,
            "overflow_x": null,
            "overflow_y": null,
            "padding": null,
            "right": null,
            "top": null,
            "visibility": null,
            "width": null
          }
        },
        "7b2d2846383449adbbac359492b80e08": {
          "model_module": "@jupyter-widgets/controls",
          "model_name": "ProgressStyleModel",
          "model_module_version": "1.5.0",
          "state": {
            "_model_module": "@jupyter-widgets/controls",
            "_model_module_version": "1.5.0",
            "_model_name": "ProgressStyleModel",
            "_view_count": null,
            "_view_module": "@jupyter-widgets/base",
            "_view_module_version": "1.2.0",
            "_view_name": "StyleView",
            "bar_color": null,
            "description_width": ""
          }
        },
        "c20c4afab4ae4f1fa8cc5abde7565d51": {
          "model_module": "@jupyter-widgets/base",
          "model_name": "LayoutModel",
          "model_module_version": "1.2.0",
          "state": {
            "_model_module": "@jupyter-widgets/base",
            "_model_module_version": "1.2.0",
            "_model_name": "LayoutModel",
            "_view_count": null,
            "_view_module": "@jupyter-widgets/base",
            "_view_module_version": "1.2.0",
            "_view_name": "LayoutView",
            "align_content": null,
            "align_items": null,
            "align_self": null,
            "border": null,
            "bottom": null,
            "display": null,
            "flex": null,
            "flex_flow": null,
            "grid_area": null,
            "grid_auto_columns": null,
            "grid_auto_flow": null,
            "grid_auto_rows": null,
            "grid_column": null,
            "grid_gap": null,
            "grid_row": null,
            "grid_template_areas": null,
            "grid_template_columns": null,
            "grid_template_rows": null,
            "height": null,
            "justify_content": null,
            "justify_items": null,
            "left": null,
            "margin": null,
            "max_height": null,
            "max_width": null,
            "min_height": null,
            "min_width": null,
            "object_fit": null,
            "object_position": null,
            "order": null,
            "overflow": null,
            "overflow_x": null,
            "overflow_y": null,
            "padding": null,
            "right": null,
            "top": null,
            "visibility": null,
            "width": null
          }
        },
        "efabc46ad1954c2dafcd452d71b6dae5": {
          "model_module": "@jupyter-widgets/controls",
          "model_name": "DescriptionStyleModel",
          "model_module_version": "1.5.0",
          "state": {
            "_model_module": "@jupyter-widgets/controls",
            "_model_module_version": "1.5.0",
            "_model_name": "DescriptionStyleModel",
            "_view_count": null,
            "_view_module": "@jupyter-widgets/base",
            "_view_module_version": "1.2.0",
            "_view_name": "StyleView",
            "description_width": ""
          }
        },
        "7ed5d7522213452baa69b9c9dd07c9dd": {
          "model_module": "@jupyter-widgets/controls",
          "model_name": "HBoxModel",
          "model_module_version": "1.5.0",
          "state": {
            "_dom_classes": [],
            "_model_module": "@jupyter-widgets/controls",
            "_model_module_version": "1.5.0",
            "_model_name": "HBoxModel",
            "_view_count": null,
            "_view_module": "@jupyter-widgets/controls",
            "_view_module_version": "1.5.0",
            "_view_name": "HBoxView",
            "box_style": "",
            "children": [
              "IPY_MODEL_6a6e6f2a17ef4b04a1d99df6d5a41ccb",
              "IPY_MODEL_09d17256f8f74bfdad9a35772ee7a4b6",
              "IPY_MODEL_5af2fa2f8b424f0f94dfa08a0dc30307"
            ],
            "layout": "IPY_MODEL_b7c2afb6dc4843e48d0427f61395f8f0"
          }
        },
        "6a6e6f2a17ef4b04a1d99df6d5a41ccb": {
          "model_module": "@jupyter-widgets/controls",
          "model_name": "HTMLModel",
          "model_module_version": "1.5.0",
          "state": {
            "_dom_classes": [],
            "_model_module": "@jupyter-widgets/controls",
            "_model_module_version": "1.5.0",
            "_model_name": "HTMLModel",
            "_view_count": null,
            "_view_module": "@jupyter-widgets/controls",
            "_view_module_version": "1.5.0",
            "_view_name": "HTMLView",
            "description": "",
            "description_tooltip": null,
            "layout": "IPY_MODEL_483b268cdf1740ec8ba0fbb4517f58cf",
            "placeholder": "​",
            "style": "IPY_MODEL_1e2dc134b3ac419fa385a49a013c3b70",
            "value": "Downloading: 100%"
          }
        },
        "09d17256f8f74bfdad9a35772ee7a4b6": {
          "model_module": "@jupyter-widgets/controls",
          "model_name": "FloatProgressModel",
          "model_module_version": "1.5.0",
          "state": {
            "_dom_classes": [],
            "_model_module": "@jupyter-widgets/controls",
            "_model_module_version": "1.5.0",
            "_model_name": "FloatProgressModel",
            "_view_count": null,
            "_view_module": "@jupyter-widgets/controls",
            "_view_module_version": "1.5.0",
            "_view_name": "ProgressView",
            "bar_style": "success",
            "description": "",
            "description_tooltip": null,
            "layout": "IPY_MODEL_337776755d484bf8846005a634629589",
            "max": 231508,
            "min": 0,
            "orientation": "horizontal",
            "style": "IPY_MODEL_c2e3b009336c445dbf8baead2ca375f0",
            "value": 231508
          }
        },
        "5af2fa2f8b424f0f94dfa08a0dc30307": {
          "model_module": "@jupyter-widgets/controls",
          "model_name": "HTMLModel",
          "model_module_version": "1.5.0",
          "state": {
            "_dom_classes": [],
            "_model_module": "@jupyter-widgets/controls",
            "_model_module_version": "1.5.0",
            "_model_name": "HTMLModel",
            "_view_count": null,
            "_view_module": "@jupyter-widgets/controls",
            "_view_module_version": "1.5.0",
            "_view_name": "HTMLView",
            "description": "",
            "description_tooltip": null,
            "layout": "IPY_MODEL_87f9550ae5f24e10addc36bed5050a67",
            "placeholder": "​",
            "style": "IPY_MODEL_db5766ce7ca84e079529e77a13b4c6fd",
            "value": " 226k/226k [00:00&lt;00:00, 4.05MB/s]"
          }
        },
        "b7c2afb6dc4843e48d0427f61395f8f0": {
          "model_module": "@jupyter-widgets/base",
          "model_name": "LayoutModel",
          "model_module_version": "1.2.0",
          "state": {
            "_model_module": "@jupyter-widgets/base",
            "_model_module_version": "1.2.0",
            "_model_name": "LayoutModel",
            "_view_count": null,
            "_view_module": "@jupyter-widgets/base",
            "_view_module_version": "1.2.0",
            "_view_name": "LayoutView",
            "align_content": null,
            "align_items": null,
            "align_self": null,
            "border": null,
            "bottom": null,
            "display": null,
            "flex": null,
            "flex_flow": null,
            "grid_area": null,
            "grid_auto_columns": null,
            "grid_auto_flow": null,
            "grid_auto_rows": null,
            "grid_column": null,
            "grid_gap": null,
            "grid_row": null,
            "grid_template_areas": null,
            "grid_template_columns": null,
            "grid_template_rows": null,
            "height": null,
            "justify_content": null,
            "justify_items": null,
            "left": null,
            "margin": null,
            "max_height": null,
            "max_width": null,
            "min_height": null,
            "min_width": null,
            "object_fit": null,
            "object_position": null,
            "order": null,
            "overflow": null,
            "overflow_x": null,
            "overflow_y": null,
            "padding": null,
            "right": null,
            "top": null,
            "visibility": null,
            "width": null
          }
        },
        "483b268cdf1740ec8ba0fbb4517f58cf": {
          "model_module": "@jupyter-widgets/base",
          "model_name": "LayoutModel",
          "model_module_version": "1.2.0",
          "state": {
            "_model_module": "@jupyter-widgets/base",
            "_model_module_version": "1.2.0",
            "_model_name": "LayoutModel",
            "_view_count": null,
            "_view_module": "@jupyter-widgets/base",
            "_view_module_version": "1.2.0",
            "_view_name": "LayoutView",
            "align_content": null,
            "align_items": null,
            "align_self": null,
            "border": null,
            "bottom": null,
            "display": null,
            "flex": null,
            "flex_flow": null,
            "grid_area": null,
            "grid_auto_columns": null,
            "grid_auto_flow": null,
            "grid_auto_rows": null,
            "grid_column": null,
            "grid_gap": null,
            "grid_row": null,
            "grid_template_areas": null,
            "grid_template_columns": null,
            "grid_template_rows": null,
            "height": null,
            "justify_content": null,
            "justify_items": null,
            "left": null,
            "margin": null,
            "max_height": null,
            "max_width": null,
            "min_height": null,
            "min_width": null,
            "object_fit": null,
            "object_position": null,
            "order": null,
            "overflow": null,
            "overflow_x": null,
            "overflow_y": null,
            "padding": null,
            "right": null,
            "top": null,
            "visibility": null,
            "width": null
          }
        },
        "1e2dc134b3ac419fa385a49a013c3b70": {
          "model_module": "@jupyter-widgets/controls",
          "model_name": "DescriptionStyleModel",
          "model_module_version": "1.5.0",
          "state": {
            "_model_module": "@jupyter-widgets/controls",
            "_model_module_version": "1.5.0",
            "_model_name": "DescriptionStyleModel",
            "_view_count": null,
            "_view_module": "@jupyter-widgets/base",
            "_view_module_version": "1.2.0",
            "_view_name": "StyleView",
            "description_width": ""
          }
        },
        "337776755d484bf8846005a634629589": {
          "model_module": "@jupyter-widgets/base",
          "model_name": "LayoutModel",
          "model_module_version": "1.2.0",
          "state": {
            "_model_module": "@jupyter-widgets/base",
            "_model_module_version": "1.2.0",
            "_model_name": "LayoutModel",
            "_view_count": null,
            "_view_module": "@jupyter-widgets/base",
            "_view_module_version": "1.2.0",
            "_view_name": "LayoutView",
            "align_content": null,
            "align_items": null,
            "align_self": null,
            "border": null,
            "bottom": null,
            "display": null,
            "flex": null,
            "flex_flow": null,
            "grid_area": null,
            "grid_auto_columns": null,
            "grid_auto_flow": null,
            "grid_auto_rows": null,
            "grid_column": null,
            "grid_gap": null,
            "grid_row": null,
            "grid_template_areas": null,
            "grid_template_columns": null,
            "grid_template_rows": null,
            "height": null,
            "justify_content": null,
            "justify_items": null,
            "left": null,
            "margin": null,
            "max_height": null,
            "max_width": null,
            "min_height": null,
            "min_width": null,
            "object_fit": null,
            "object_position": null,
            "order": null,
            "overflow": null,
            "overflow_x": null,
            "overflow_y": null,
            "padding": null,
            "right": null,
            "top": null,
            "visibility": null,
            "width": null
          }
        },
        "c2e3b009336c445dbf8baead2ca375f0": {
          "model_module": "@jupyter-widgets/controls",
          "model_name": "ProgressStyleModel",
          "model_module_version": "1.5.0",
          "state": {
            "_model_module": "@jupyter-widgets/controls",
            "_model_module_version": "1.5.0",
            "_model_name": "ProgressStyleModel",
            "_view_count": null,
            "_view_module": "@jupyter-widgets/base",
            "_view_module_version": "1.2.0",
            "_view_name": "StyleView",
            "bar_color": null,
            "description_width": ""
          }
        },
        "87f9550ae5f24e10addc36bed5050a67": {
          "model_module": "@jupyter-widgets/base",
          "model_name": "LayoutModel",
          "model_module_version": "1.2.0",
          "state": {
            "_model_module": "@jupyter-widgets/base",
            "_model_module_version": "1.2.0",
            "_model_name": "LayoutModel",
            "_view_count": null,
            "_view_module": "@jupyter-widgets/base",
            "_view_module_version": "1.2.0",
            "_view_name": "LayoutView",
            "align_content": null,
            "align_items": null,
            "align_self": null,
            "border": null,
            "bottom": null,
            "display": null,
            "flex": null,
            "flex_flow": null,
            "grid_area": null,
            "grid_auto_columns": null,
            "grid_auto_flow": null,
            "grid_auto_rows": null,
            "grid_column": null,
            "grid_gap": null,
            "grid_row": null,
            "grid_template_areas": null,
            "grid_template_columns": null,
            "grid_template_rows": null,
            "height": null,
            "justify_content": null,
            "justify_items": null,
            "left": null,
            "margin": null,
            "max_height": null,
            "max_width": null,
            "min_height": null,
            "min_width": null,
            "object_fit": null,
            "object_position": null,
            "order": null,
            "overflow": null,
            "overflow_x": null,
            "overflow_y": null,
            "padding": null,
            "right": null,
            "top": null,
            "visibility": null,
            "width": null
          }
        },
        "db5766ce7ca84e079529e77a13b4c6fd": {
          "model_module": "@jupyter-widgets/controls",
          "model_name": "DescriptionStyleModel",
          "model_module_version": "1.5.0",
          "state": {
            "_model_module": "@jupyter-widgets/controls",
            "_model_module_version": "1.5.0",
            "_model_name": "DescriptionStyleModel",
            "_view_count": null,
            "_view_module": "@jupyter-widgets/base",
            "_view_module_version": "1.2.0",
            "_view_name": "StyleView",
            "description_width": ""
          }
        },
        "c24ed608703544829e4e5eb09fe8d8e9": {
          "model_module": "@jupyter-widgets/controls",
          "model_name": "HBoxModel",
          "model_module_version": "1.5.0",
          "state": {
            "_dom_classes": [],
            "_model_module": "@jupyter-widgets/controls",
            "_model_module_version": "1.5.0",
            "_model_name": "HBoxModel",
            "_view_count": null,
            "_view_module": "@jupyter-widgets/controls",
            "_view_module_version": "1.5.0",
            "_view_name": "HBoxView",
            "box_style": "",
            "children": [
              "IPY_MODEL_e14ae2570ae94626b12517b5fcc6c92b",
              "IPY_MODEL_5d7d98ac2bfb4fbe9748bacccb6e2d44",
              "IPY_MODEL_b2cf12ea09c74640baf02f91ce353f87"
            ],
            "layout": "IPY_MODEL_a5d9ce38806543adbbe8d59e46f2f82e"
          }
        },
        "e14ae2570ae94626b12517b5fcc6c92b": {
          "model_module": "@jupyter-widgets/controls",
          "model_name": "HTMLModel",
          "model_module_version": "1.5.0",
          "state": {
            "_dom_classes": [],
            "_model_module": "@jupyter-widgets/controls",
            "_model_module_version": "1.5.0",
            "_model_name": "HTMLModel",
            "_view_count": null,
            "_view_module": "@jupyter-widgets/controls",
            "_view_module_version": "1.5.0",
            "_view_name": "HTMLView",
            "description": "",
            "description_tooltip": null,
            "layout": "IPY_MODEL_12fca4d01f4b4b529ff3fdd7faac7429",
            "placeholder": "​",
            "style": "IPY_MODEL_a79b83ffc516493bbab74f6ab9e68880",
            "value": "Downloading: 100%"
          }
        },
        "5d7d98ac2bfb4fbe9748bacccb6e2d44": {
          "model_module": "@jupyter-widgets/controls",
          "model_name": "FloatProgressModel",
          "model_module_version": "1.5.0",
          "state": {
            "_dom_classes": [],
            "_model_module": "@jupyter-widgets/controls",
            "_model_module_version": "1.5.0",
            "_model_name": "FloatProgressModel",
            "_view_count": null,
            "_view_module": "@jupyter-widgets/controls",
            "_view_module_version": "1.5.0",
            "_view_name": "ProgressView",
            "bar_style": "success",
            "description": "",
            "description_tooltip": null,
            "layout": "IPY_MODEL_be5fdf354e1b496f979d44732f156b3a",
            "max": 28,
            "min": 0,
            "orientation": "horizontal",
            "style": "IPY_MODEL_d9ad716cdf8e4e5b9a4390d29467952f",
            "value": 28
          }
        },
        "b2cf12ea09c74640baf02f91ce353f87": {
          "model_module": "@jupyter-widgets/controls",
          "model_name": "HTMLModel",
          "model_module_version": "1.5.0",
          "state": {
            "_dom_classes": [],
            "_model_module": "@jupyter-widgets/controls",
            "_model_module_version": "1.5.0",
            "_model_name": "HTMLModel",
            "_view_count": null,
            "_view_module": "@jupyter-widgets/controls",
            "_view_module_version": "1.5.0",
            "_view_name": "HTMLView",
            "description": "",
            "description_tooltip": null,
            "layout": "IPY_MODEL_3335e12266e54a70a3ea1a54020161bf",
            "placeholder": "​",
            "style": "IPY_MODEL_92ea7fc2d76d4c94ba9234e0f667b140",
            "value": " 28.0/28.0 [00:00&lt;00:00, 1.03kB/s]"
          }
        },
        "a5d9ce38806543adbbe8d59e46f2f82e": {
          "model_module": "@jupyter-widgets/base",
          "model_name": "LayoutModel",
          "model_module_version": "1.2.0",
          "state": {
            "_model_module": "@jupyter-widgets/base",
            "_model_module_version": "1.2.0",
            "_model_name": "LayoutModel",
            "_view_count": null,
            "_view_module": "@jupyter-widgets/base",
            "_view_module_version": "1.2.0",
            "_view_name": "LayoutView",
            "align_content": null,
            "align_items": null,
            "align_self": null,
            "border": null,
            "bottom": null,
            "display": null,
            "flex": null,
            "flex_flow": null,
            "grid_area": null,
            "grid_auto_columns": null,
            "grid_auto_flow": null,
            "grid_auto_rows": null,
            "grid_column": null,
            "grid_gap": null,
            "grid_row": null,
            "grid_template_areas": null,
            "grid_template_columns": null,
            "grid_template_rows": null,
            "height": null,
            "justify_content": null,
            "justify_items": null,
            "left": null,
            "margin": null,
            "max_height": null,
            "max_width": null,
            "min_height": null,
            "min_width": null,
            "object_fit": null,
            "object_position": null,
            "order": null,
            "overflow": null,
            "overflow_x": null,
            "overflow_y": null,
            "padding": null,
            "right": null,
            "top": null,
            "visibility": null,
            "width": null
          }
        },
        "12fca4d01f4b4b529ff3fdd7faac7429": {
          "model_module": "@jupyter-widgets/base",
          "model_name": "LayoutModel",
          "model_module_version": "1.2.0",
          "state": {
            "_model_module": "@jupyter-widgets/base",
            "_model_module_version": "1.2.0",
            "_model_name": "LayoutModel",
            "_view_count": null,
            "_view_module": "@jupyter-widgets/base",
            "_view_module_version": "1.2.0",
            "_view_name": "LayoutView",
            "align_content": null,
            "align_items": null,
            "align_self": null,
            "border": null,
            "bottom": null,
            "display": null,
            "flex": null,
            "flex_flow": null,
            "grid_area": null,
            "grid_auto_columns": null,
            "grid_auto_flow": null,
            "grid_auto_rows": null,
            "grid_column": null,
            "grid_gap": null,
            "grid_row": null,
            "grid_template_areas": null,
            "grid_template_columns": null,
            "grid_template_rows": null,
            "height": null,
            "justify_content": null,
            "justify_items": null,
            "left": null,
            "margin": null,
            "max_height": null,
            "max_width": null,
            "min_height": null,
            "min_width": null,
            "object_fit": null,
            "object_position": null,
            "order": null,
            "overflow": null,
            "overflow_x": null,
            "overflow_y": null,
            "padding": null,
            "right": null,
            "top": null,
            "visibility": null,
            "width": null
          }
        },
        "a79b83ffc516493bbab74f6ab9e68880": {
          "model_module": "@jupyter-widgets/controls",
          "model_name": "DescriptionStyleModel",
          "model_module_version": "1.5.0",
          "state": {
            "_model_module": "@jupyter-widgets/controls",
            "_model_module_version": "1.5.0",
            "_model_name": "DescriptionStyleModel",
            "_view_count": null,
            "_view_module": "@jupyter-widgets/base",
            "_view_module_version": "1.2.0",
            "_view_name": "StyleView",
            "description_width": ""
          }
        },
        "be5fdf354e1b496f979d44732f156b3a": {
          "model_module": "@jupyter-widgets/base",
          "model_name": "LayoutModel",
          "model_module_version": "1.2.0",
          "state": {
            "_model_module": "@jupyter-widgets/base",
            "_model_module_version": "1.2.0",
            "_model_name": "LayoutModel",
            "_view_count": null,
            "_view_module": "@jupyter-widgets/base",
            "_view_module_version": "1.2.0",
            "_view_name": "LayoutView",
            "align_content": null,
            "align_items": null,
            "align_self": null,
            "border": null,
            "bottom": null,
            "display": null,
            "flex": null,
            "flex_flow": null,
            "grid_area": null,
            "grid_auto_columns": null,
            "grid_auto_flow": null,
            "grid_auto_rows": null,
            "grid_column": null,
            "grid_gap": null,
            "grid_row": null,
            "grid_template_areas": null,
            "grid_template_columns": null,
            "grid_template_rows": null,
            "height": null,
            "justify_content": null,
            "justify_items": null,
            "left": null,
            "margin": null,
            "max_height": null,
            "max_width": null,
            "min_height": null,
            "min_width": null,
            "object_fit": null,
            "object_position": null,
            "order": null,
            "overflow": null,
            "overflow_x": null,
            "overflow_y": null,
            "padding": null,
            "right": null,
            "top": null,
            "visibility": null,
            "width": null
          }
        },
        "d9ad716cdf8e4e5b9a4390d29467952f": {
          "model_module": "@jupyter-widgets/controls",
          "model_name": "ProgressStyleModel",
          "model_module_version": "1.5.0",
          "state": {
            "_model_module": "@jupyter-widgets/controls",
            "_model_module_version": "1.5.0",
            "_model_name": "ProgressStyleModel",
            "_view_count": null,
            "_view_module": "@jupyter-widgets/base",
            "_view_module_version": "1.2.0",
            "_view_name": "StyleView",
            "bar_color": null,
            "description_width": ""
          }
        },
        "3335e12266e54a70a3ea1a54020161bf": {
          "model_module": "@jupyter-widgets/base",
          "model_name": "LayoutModel",
          "model_module_version": "1.2.0",
          "state": {
            "_model_module": "@jupyter-widgets/base",
            "_model_module_version": "1.2.0",
            "_model_name": "LayoutModel",
            "_view_count": null,
            "_view_module": "@jupyter-widgets/base",
            "_view_module_version": "1.2.0",
            "_view_name": "LayoutView",
            "align_content": null,
            "align_items": null,
            "align_self": null,
            "border": null,
            "bottom": null,
            "display": null,
            "flex": null,
            "flex_flow": null,
            "grid_area": null,
            "grid_auto_columns": null,
            "grid_auto_flow": null,
            "grid_auto_rows": null,
            "grid_column": null,
            "grid_gap": null,
            "grid_row": null,
            "grid_template_areas": null,
            "grid_template_columns": null,
            "grid_template_rows": null,
            "height": null,
            "justify_content": null,
            "justify_items": null,
            "left": null,
            "margin": null,
            "max_height": null,
            "max_width": null,
            "min_height": null,
            "min_width": null,
            "object_fit": null,
            "object_position": null,
            "order": null,
            "overflow": null,
            "overflow_x": null,
            "overflow_y": null,
            "padding": null,
            "right": null,
            "top": null,
            "visibility": null,
            "width": null
          }
        },
        "92ea7fc2d76d4c94ba9234e0f667b140": {
          "model_module": "@jupyter-widgets/controls",
          "model_name": "DescriptionStyleModel",
          "model_module_version": "1.5.0",
          "state": {
            "_model_module": "@jupyter-widgets/controls",
            "_model_module_version": "1.5.0",
            "_model_name": "DescriptionStyleModel",
            "_view_count": null,
            "_view_module": "@jupyter-widgets/base",
            "_view_module_version": "1.2.0",
            "_view_name": "StyleView",
            "description_width": ""
          }
        },
        "08e6d6deb05447a1b75254e7c6726446": {
          "model_module": "@jupyter-widgets/output",
          "model_name": "OutputModel",
          "model_module_version": "1.0.0",
          "state": {
            "_dom_classes": [],
            "_model_module": "@jupyter-widgets/output",
            "_model_module_version": "1.0.0",
            "_model_name": "OutputModel",
            "_view_count": null,
            "_view_module": "@jupyter-widgets/output",
            "_view_module_version": "1.0.0",
            "_view_name": "OutputView",
            "layout": "IPY_MODEL_3a0ee9fc589f415799dc2b46cd71fb7b",
            "msg_id": "",
            "outputs": [
              {
                "output_type": "display_data",
                "data": {
                  "text/plain": "Downloading \u001b[3;36mhttps://storage.googleapis.com/allennlp-public-mo…\u001b[0m \u001b[38;2;249;38;114m━━━━━━━━━━━━━━━━━━━━━━━━━━━\u001b[0m\u001b[38;2;249;38;114m╸\u001b[0m \u001b[35m 99%\u001b[0m \u001b[33m0:00:36\u001b[0m \u001b[32m1.3/1.3 GB\u001b[0m\n",
                  "text/html": "<pre style=\"white-space:pre;overflow-x:auto;line-height:normal;font-family:Menlo,'DejaVu Sans Mono',consolas,'Courier New',monospace\">Downloading <span style=\"color: #008080; text-decoration-color: #008080; font-style: italic\">https://storage.googleapis.com/allennlp-public-mo…</span> <span style=\"color: #f92672; text-decoration-color: #f92672\">━━━━━━━━━━━━━━━━━━━━━━━━━━━╸</span> <span style=\"color: #800080; text-decoration-color: #800080\"> 99%</span> <span style=\"color: #808000; text-decoration-color: #808000\">0:00:36</span> <span style=\"color: #008000; text-decoration-color: #008000\">1.3/1.3 GB</span>\n</pre>\n"
                },
                "metadata": {}
              }
            ]
          }
        },
        "3a0ee9fc589f415799dc2b46cd71fb7b": {
          "model_module": "@jupyter-widgets/base",
          "model_name": "LayoutModel",
          "model_module_version": "1.2.0",
          "state": {
            "_model_module": "@jupyter-widgets/base",
            "_model_module_version": "1.2.0",
            "_model_name": "LayoutModel",
            "_view_count": null,
            "_view_module": "@jupyter-widgets/base",
            "_view_module_version": "1.2.0",
            "_view_name": "LayoutView",
            "align_content": null,
            "align_items": null,
            "align_self": null,
            "border": null,
            "bottom": null,
            "display": null,
            "flex": null,
            "flex_flow": null,
            "grid_area": null,
            "grid_auto_columns": null,
            "grid_auto_flow": null,
            "grid_auto_rows": null,
            "grid_column": null,
            "grid_gap": null,
            "grid_row": null,
            "grid_template_areas": null,
            "grid_template_columns": null,
            "grid_template_rows": null,
            "height": null,
            "justify_content": null,
            "justify_items": null,
            "left": null,
            "margin": null,
            "max_height": null,
            "max_width": null,
            "min_height": null,
            "min_width": null,
            "object_fit": null,
            "object_position": null,
            "order": null,
            "overflow": null,
            "overflow_x": null,
            "overflow_y": null,
            "padding": null,
            "right": null,
            "top": null,
            "visibility": null,
            "width": null
          }
        },
        "7a87b3c7779f46fdab895dd8154bd0f7": {
          "model_module": "@jupyter-widgets/controls",
          "model_name": "HBoxModel",
          "model_module_version": "1.5.0",
          "state": {
            "_dom_classes": [],
            "_model_module": "@jupyter-widgets/controls",
            "_model_module_version": "1.5.0",
            "_model_name": "HBoxModel",
            "_view_count": null,
            "_view_module": "@jupyter-widgets/controls",
            "_view_module_version": "1.5.0",
            "_view_name": "HBoxView",
            "box_style": "",
            "children": [
              "IPY_MODEL_6173799324304b368c86d2b8b405031d",
              "IPY_MODEL_e3afcc45795e42cc9e31f7d4069dff59",
              "IPY_MODEL_c37ca855984f4c9f95dcad8f20edec5d"
            ],
            "layout": "IPY_MODEL_62df7ffee0714f09aee92b6996ae21a1"
          }
        },
        "6173799324304b368c86d2b8b405031d": {
          "model_module": "@jupyter-widgets/controls",
          "model_name": "HTMLModel",
          "model_module_version": "1.5.0",
          "state": {
            "_dom_classes": [],
            "_model_module": "@jupyter-widgets/controls",
            "_model_module_version": "1.5.0",
            "_model_name": "HTMLModel",
            "_view_count": null,
            "_view_module": "@jupyter-widgets/controls",
            "_view_module_version": "1.5.0",
            "_view_name": "HTMLView",
            "description": "",
            "description_tooltip": null,
            "layout": "IPY_MODEL_c01fe4b9bacd43d6bd99d88620bbc665",
            "placeholder": "​",
            "style": "IPY_MODEL_6d269b499b8a4699aacfb238f0658060",
            "value": "Downloading: 100%"
          }
        },
        "e3afcc45795e42cc9e31f7d4069dff59": {
          "model_module": "@jupyter-widgets/controls",
          "model_name": "FloatProgressModel",
          "model_module_version": "1.5.0",
          "state": {
            "_dom_classes": [],
            "_model_module": "@jupyter-widgets/controls",
            "_model_module_version": "1.5.0",
            "_model_name": "FloatProgressModel",
            "_view_count": null,
            "_view_module": "@jupyter-widgets/controls",
            "_view_module_version": "1.5.0",
            "_view_name": "ProgressView",
            "bar_style": "success",
            "description": "",
            "description_tooltip": null,
            "layout": "IPY_MODEL_cc0574bec2e64610bc2902721e460540",
            "max": 414,
            "min": 0,
            "orientation": "horizontal",
            "style": "IPY_MODEL_66879886295549238848beb9dabd4179",
            "value": 414
          }
        },
        "c37ca855984f4c9f95dcad8f20edec5d": {
          "model_module": "@jupyter-widgets/controls",
          "model_name": "HTMLModel",
          "model_module_version": "1.5.0",
          "state": {
            "_dom_classes": [],
            "_model_module": "@jupyter-widgets/controls",
            "_model_module_version": "1.5.0",
            "_model_name": "HTMLModel",
            "_view_count": null,
            "_view_module": "@jupyter-widgets/controls",
            "_view_module_version": "1.5.0",
            "_view_name": "HTMLView",
            "description": "",
            "description_tooltip": null,
            "layout": "IPY_MODEL_398fd26242074ac88b15f2192dbca04c",
            "placeholder": "​",
            "style": "IPY_MODEL_289b7eb77fe04ee8bc7ad3e52c38ebb7",
            "value": " 414/414 [00:00&lt;00:00, 14.2kB/s]"
          }
        },
        "62df7ffee0714f09aee92b6996ae21a1": {
          "model_module": "@jupyter-widgets/base",
          "model_name": "LayoutModel",
          "model_module_version": "1.2.0",
          "state": {
            "_model_module": "@jupyter-widgets/base",
            "_model_module_version": "1.2.0",
            "_model_name": "LayoutModel",
            "_view_count": null,
            "_view_module": "@jupyter-widgets/base",
            "_view_module_version": "1.2.0",
            "_view_name": "LayoutView",
            "align_content": null,
            "align_items": null,
            "align_self": null,
            "border": null,
            "bottom": null,
            "display": null,
            "flex": null,
            "flex_flow": null,
            "grid_area": null,
            "grid_auto_columns": null,
            "grid_auto_flow": null,
            "grid_auto_rows": null,
            "grid_column": null,
            "grid_gap": null,
            "grid_row": null,
            "grid_template_areas": null,
            "grid_template_columns": null,
            "grid_template_rows": null,
            "height": null,
            "justify_content": null,
            "justify_items": null,
            "left": null,
            "margin": null,
            "max_height": null,
            "max_width": null,
            "min_height": null,
            "min_width": null,
            "object_fit": null,
            "object_position": null,
            "order": null,
            "overflow": null,
            "overflow_x": null,
            "overflow_y": null,
            "padding": null,
            "right": null,
            "top": null,
            "visibility": null,
            "width": null
          }
        },
        "c01fe4b9bacd43d6bd99d88620bbc665": {
          "model_module": "@jupyter-widgets/base",
          "model_name": "LayoutModel",
          "model_module_version": "1.2.0",
          "state": {
            "_model_module": "@jupyter-widgets/base",
            "_model_module_version": "1.2.0",
            "_model_name": "LayoutModel",
            "_view_count": null,
            "_view_module": "@jupyter-widgets/base",
            "_view_module_version": "1.2.0",
            "_view_name": "LayoutView",
            "align_content": null,
            "align_items": null,
            "align_self": null,
            "border": null,
            "bottom": null,
            "display": null,
            "flex": null,
            "flex_flow": null,
            "grid_area": null,
            "grid_auto_columns": null,
            "grid_auto_flow": null,
            "grid_auto_rows": null,
            "grid_column": null,
            "grid_gap": null,
            "grid_row": null,
            "grid_template_areas": null,
            "grid_template_columns": null,
            "grid_template_rows": null,
            "height": null,
            "justify_content": null,
            "justify_items": null,
            "left": null,
            "margin": null,
            "max_height": null,
            "max_width": null,
            "min_height": null,
            "min_width": null,
            "object_fit": null,
            "object_position": null,
            "order": null,
            "overflow": null,
            "overflow_x": null,
            "overflow_y": null,
            "padding": null,
            "right": null,
            "top": null,
            "visibility": null,
            "width": null
          }
        },
        "6d269b499b8a4699aacfb238f0658060": {
          "model_module": "@jupyter-widgets/controls",
          "model_name": "DescriptionStyleModel",
          "model_module_version": "1.5.0",
          "state": {
            "_model_module": "@jupyter-widgets/controls",
            "_model_module_version": "1.5.0",
            "_model_name": "DescriptionStyleModel",
            "_view_count": null,
            "_view_module": "@jupyter-widgets/base",
            "_view_module_version": "1.2.0",
            "_view_name": "StyleView",
            "description_width": ""
          }
        },
        "cc0574bec2e64610bc2902721e460540": {
          "model_module": "@jupyter-widgets/base",
          "model_name": "LayoutModel",
          "model_module_version": "1.2.0",
          "state": {
            "_model_module": "@jupyter-widgets/base",
            "_model_module_version": "1.2.0",
            "_model_name": "LayoutModel",
            "_view_count": null,
            "_view_module": "@jupyter-widgets/base",
            "_view_module_version": "1.2.0",
            "_view_name": "LayoutView",
            "align_content": null,
            "align_items": null,
            "align_self": null,
            "border": null,
            "bottom": null,
            "display": null,
            "flex": null,
            "flex_flow": null,
            "grid_area": null,
            "grid_auto_columns": null,
            "grid_auto_flow": null,
            "grid_auto_rows": null,
            "grid_column": null,
            "grid_gap": null,
            "grid_row": null,
            "grid_template_areas": null,
            "grid_template_columns": null,
            "grid_template_rows": null,
            "height": null,
            "justify_content": null,
            "justify_items": null,
            "left": null,
            "margin": null,
            "max_height": null,
            "max_width": null,
            "min_height": null,
            "min_width": null,
            "object_fit": null,
            "object_position": null,
            "order": null,
            "overflow": null,
            "overflow_x": null,
            "overflow_y": null,
            "padding": null,
            "right": null,
            "top": null,
            "visibility": null,
            "width": null
          }
        },
        "66879886295549238848beb9dabd4179": {
          "model_module": "@jupyter-widgets/controls",
          "model_name": "ProgressStyleModel",
          "model_module_version": "1.5.0",
          "state": {
            "_model_module": "@jupyter-widgets/controls",
            "_model_module_version": "1.5.0",
            "_model_name": "ProgressStyleModel",
            "_view_count": null,
            "_view_module": "@jupyter-widgets/base",
            "_view_module_version": "1.2.0",
            "_view_name": "StyleView",
            "bar_color": null,
            "description_width": ""
          }
        },
        "398fd26242074ac88b15f2192dbca04c": {
          "model_module": "@jupyter-widgets/base",
          "model_name": "LayoutModel",
          "model_module_version": "1.2.0",
          "state": {
            "_model_module": "@jupyter-widgets/base",
            "_model_module_version": "1.2.0",
            "_model_name": "LayoutModel",
            "_view_count": null,
            "_view_module": "@jupyter-widgets/base",
            "_view_module_version": "1.2.0",
            "_view_name": "LayoutView",
            "align_content": null,
            "align_items": null,
            "align_self": null,
            "border": null,
            "bottom": null,
            "display": null,
            "flex": null,
            "flex_flow": null,
            "grid_area": null,
            "grid_auto_columns": null,
            "grid_auto_flow": null,
            "grid_auto_rows": null,
            "grid_column": null,
            "grid_gap": null,
            "grid_row": null,
            "grid_template_areas": null,
            "grid_template_columns": null,
            "grid_template_rows": null,
            "height": null,
            "justify_content": null,
            "justify_items": null,
            "left": null,
            "margin": null,
            "max_height": null,
            "max_width": null,
            "min_height": null,
            "min_width": null,
            "object_fit": null,
            "object_position": null,
            "order": null,
            "overflow": null,
            "overflow_x": null,
            "overflow_y": null,
            "padding": null,
            "right": null,
            "top": null,
            "visibility": null,
            "width": null
          }
        },
        "289b7eb77fe04ee8bc7ad3e52c38ebb7": {
          "model_module": "@jupyter-widgets/controls",
          "model_name": "DescriptionStyleModel",
          "model_module_version": "1.5.0",
          "state": {
            "_model_module": "@jupyter-widgets/controls",
            "_model_module_version": "1.5.0",
            "_model_name": "DescriptionStyleModel",
            "_view_count": null,
            "_view_module": "@jupyter-widgets/base",
            "_view_module_version": "1.2.0",
            "_view_name": "StyleView",
            "description_width": ""
          }
        },
        "243c71a4ceec457c8f7bddc303039c60": {
          "model_module": "@jupyter-widgets/controls",
          "model_name": "HBoxModel",
          "model_module_version": "1.5.0",
          "state": {
            "_dom_classes": [],
            "_model_module": "@jupyter-widgets/controls",
            "_model_module_version": "1.5.0",
            "_model_name": "HBoxModel",
            "_view_count": null,
            "_view_module": "@jupyter-widgets/controls",
            "_view_module_version": "1.5.0",
            "_view_name": "HBoxView",
            "box_style": "",
            "children": [
              "IPY_MODEL_87d2cb2884694a11b992c53a542bdd24",
              "IPY_MODEL_ded65f7b5c034b13a71c4b85fc714655",
              "IPY_MODEL_a511ba6ac4964c8198bb950f973d5ccf"
            ],
            "layout": "IPY_MODEL_812c214d6ab044e2b02237d0c9a13f15"
          }
        },
        "87d2cb2884694a11b992c53a542bdd24": {
          "model_module": "@jupyter-widgets/controls",
          "model_name": "HTMLModel",
          "model_module_version": "1.5.0",
          "state": {
            "_dom_classes": [],
            "_model_module": "@jupyter-widgets/controls",
            "_model_module_version": "1.5.0",
            "_model_name": "HTMLModel",
            "_view_count": null,
            "_view_module": "@jupyter-widgets/controls",
            "_view_module_version": "1.5.0",
            "_view_name": "HTMLView",
            "description": "",
            "description_tooltip": null,
            "layout": "IPY_MODEL_54520d40a72d4d339323d2524759c9de",
            "placeholder": "​",
            "style": "IPY_MODEL_093742f731ef4b448b1a54fdd98f6336",
            "value": "Downloading: 100%"
          }
        },
        "ded65f7b5c034b13a71c4b85fc714655": {
          "model_module": "@jupyter-widgets/controls",
          "model_name": "FloatProgressModel",
          "model_module_version": "1.5.0",
          "state": {
            "_dom_classes": [],
            "_model_module": "@jupyter-widgets/controls",
            "_model_module_version": "1.5.0",
            "_model_name": "FloatProgressModel",
            "_view_count": null,
            "_view_module": "@jupyter-widgets/controls",
            "_view_module_version": "1.5.0",
            "_view_name": "ProgressView",
            "bar_style": "success",
            "description": "",
            "description_tooltip": null,
            "layout": "IPY_MODEL_a47f288a913341c68fe84c5180ccd96c",
            "max": 213450,
            "min": 0,
            "orientation": "horizontal",
            "style": "IPY_MODEL_8d0aca295cb546ee82ae2c0b3f96d410",
            "value": 213450
          }
        },
        "a511ba6ac4964c8198bb950f973d5ccf": {
          "model_module": "@jupyter-widgets/controls",
          "model_name": "HTMLModel",
          "model_module_version": "1.5.0",
          "state": {
            "_dom_classes": [],
            "_model_module": "@jupyter-widgets/controls",
            "_model_module_version": "1.5.0",
            "_model_name": "HTMLModel",
            "_view_count": null,
            "_view_module": "@jupyter-widgets/controls",
            "_view_module_version": "1.5.0",
            "_view_name": "HTMLView",
            "description": "",
            "description_tooltip": null,
            "layout": "IPY_MODEL_f0517602eb4648b38b613b2ea7561a37",
            "placeholder": "​",
            "style": "IPY_MODEL_afaf9e0181dd4af2832fbf7d2c854393",
            "value": " 208k/208k [00:00&lt;00:00, 3.97MB/s]"
          }
        },
        "812c214d6ab044e2b02237d0c9a13f15": {
          "model_module": "@jupyter-widgets/base",
          "model_name": "LayoutModel",
          "model_module_version": "1.2.0",
          "state": {
            "_model_module": "@jupyter-widgets/base",
            "_model_module_version": "1.2.0",
            "_model_name": "LayoutModel",
            "_view_count": null,
            "_view_module": "@jupyter-widgets/base",
            "_view_module_version": "1.2.0",
            "_view_name": "LayoutView",
            "align_content": null,
            "align_items": null,
            "align_self": null,
            "border": null,
            "bottom": null,
            "display": null,
            "flex": null,
            "flex_flow": null,
            "grid_area": null,
            "grid_auto_columns": null,
            "grid_auto_flow": null,
            "grid_auto_rows": null,
            "grid_column": null,
            "grid_gap": null,
            "grid_row": null,
            "grid_template_areas": null,
            "grid_template_columns": null,
            "grid_template_rows": null,
            "height": null,
            "justify_content": null,
            "justify_items": null,
            "left": null,
            "margin": null,
            "max_height": null,
            "max_width": null,
            "min_height": null,
            "min_width": null,
            "object_fit": null,
            "object_position": null,
            "order": null,
            "overflow": null,
            "overflow_x": null,
            "overflow_y": null,
            "padding": null,
            "right": null,
            "top": null,
            "visibility": null,
            "width": null
          }
        },
        "54520d40a72d4d339323d2524759c9de": {
          "model_module": "@jupyter-widgets/base",
          "model_name": "LayoutModel",
          "model_module_version": "1.2.0",
          "state": {
            "_model_module": "@jupyter-widgets/base",
            "_model_module_version": "1.2.0",
            "_model_name": "LayoutModel",
            "_view_count": null,
            "_view_module": "@jupyter-widgets/base",
            "_view_module_version": "1.2.0",
            "_view_name": "LayoutView",
            "align_content": null,
            "align_items": null,
            "align_self": null,
            "border": null,
            "bottom": null,
            "display": null,
            "flex": null,
            "flex_flow": null,
            "grid_area": null,
            "grid_auto_columns": null,
            "grid_auto_flow": null,
            "grid_auto_rows": null,
            "grid_column": null,
            "grid_gap": null,
            "grid_row": null,
            "grid_template_areas": null,
            "grid_template_columns": null,
            "grid_template_rows": null,
            "height": null,
            "justify_content": null,
            "justify_items": null,
            "left": null,
            "margin": null,
            "max_height": null,
            "max_width": null,
            "min_height": null,
            "min_width": null,
            "object_fit": null,
            "object_position": null,
            "order": null,
            "overflow": null,
            "overflow_x": null,
            "overflow_y": null,
            "padding": null,
            "right": null,
            "top": null,
            "visibility": null,
            "width": null
          }
        },
        "093742f731ef4b448b1a54fdd98f6336": {
          "model_module": "@jupyter-widgets/controls",
          "model_name": "DescriptionStyleModel",
          "model_module_version": "1.5.0",
          "state": {
            "_model_module": "@jupyter-widgets/controls",
            "_model_module_version": "1.5.0",
            "_model_name": "DescriptionStyleModel",
            "_view_count": null,
            "_view_module": "@jupyter-widgets/base",
            "_view_module_version": "1.2.0",
            "_view_name": "StyleView",
            "description_width": ""
          }
        },
        "a47f288a913341c68fe84c5180ccd96c": {
          "model_module": "@jupyter-widgets/base",
          "model_name": "LayoutModel",
          "model_module_version": "1.2.0",
          "state": {
            "_model_module": "@jupyter-widgets/base",
            "_model_module_version": "1.2.0",
            "_model_name": "LayoutModel",
            "_view_count": null,
            "_view_module": "@jupyter-widgets/base",
            "_view_module_version": "1.2.0",
            "_view_name": "LayoutView",
            "align_content": null,
            "align_items": null,
            "align_self": null,
            "border": null,
            "bottom": null,
            "display": null,
            "flex": null,
            "flex_flow": null,
            "grid_area": null,
            "grid_auto_columns": null,
            "grid_auto_flow": null,
            "grid_auto_rows": null,
            "grid_column": null,
            "grid_gap": null,
            "grid_row": null,
            "grid_template_areas": null,
            "grid_template_columns": null,
            "grid_template_rows": null,
            "height": null,
            "justify_content": null,
            "justify_items": null,
            "left": null,
            "margin": null,
            "max_height": null,
            "max_width": null,
            "min_height": null,
            "min_width": null,
            "object_fit": null,
            "object_position": null,
            "order": null,
            "overflow": null,
            "overflow_x": null,
            "overflow_y": null,
            "padding": null,
            "right": null,
            "top": null,
            "visibility": null,
            "width": null
          }
        },
        "8d0aca295cb546ee82ae2c0b3f96d410": {
          "model_module": "@jupyter-widgets/controls",
          "model_name": "ProgressStyleModel",
          "model_module_version": "1.5.0",
          "state": {
            "_model_module": "@jupyter-widgets/controls",
            "_model_module_version": "1.5.0",
            "_model_name": "ProgressStyleModel",
            "_view_count": null,
            "_view_module": "@jupyter-widgets/base",
            "_view_module_version": "1.2.0",
            "_view_name": "StyleView",
            "bar_color": null,
            "description_width": ""
          }
        },
        "f0517602eb4648b38b613b2ea7561a37": {
          "model_module": "@jupyter-widgets/base",
          "model_name": "LayoutModel",
          "model_module_version": "1.2.0",
          "state": {
            "_model_module": "@jupyter-widgets/base",
            "_model_module_version": "1.2.0",
            "_model_name": "LayoutModel",
            "_view_count": null,
            "_view_module": "@jupyter-widgets/base",
            "_view_module_version": "1.2.0",
            "_view_name": "LayoutView",
            "align_content": null,
            "align_items": null,
            "align_self": null,
            "border": null,
            "bottom": null,
            "display": null,
            "flex": null,
            "flex_flow": null,
            "grid_area": null,
            "grid_auto_columns": null,
            "grid_auto_flow": null,
            "grid_auto_rows": null,
            "grid_column": null,
            "grid_gap": null,
            "grid_row": null,
            "grid_template_areas": null,
            "grid_template_columns": null,
            "grid_template_rows": null,
            "height": null,
            "justify_content": null,
            "justify_items": null,
            "left": null,
            "margin": null,
            "max_height": null,
            "max_width": null,
            "min_height": null,
            "min_width": null,
            "object_fit": null,
            "object_position": null,
            "order": null,
            "overflow": null,
            "overflow_x": null,
            "overflow_y": null,
            "padding": null,
            "right": null,
            "top": null,
            "visibility": null,
            "width": null
          }
        },
        "afaf9e0181dd4af2832fbf7d2c854393": {
          "model_module": "@jupyter-widgets/controls",
          "model_name": "DescriptionStyleModel",
          "model_module_version": "1.5.0",
          "state": {
            "_model_module": "@jupyter-widgets/controls",
            "_model_module_version": "1.5.0",
            "_model_name": "DescriptionStyleModel",
            "_view_count": null,
            "_view_module": "@jupyter-widgets/base",
            "_view_module_version": "1.2.0",
            "_view_name": "StyleView",
            "description_width": ""
          }
        },
        "a35673d789bb49af9cc0a6d5634fc0b5": {
          "model_module": "@jupyter-widgets/controls",
          "model_name": "HBoxModel",
          "model_module_version": "1.5.0",
          "state": {
            "_dom_classes": [],
            "_model_module": "@jupyter-widgets/controls",
            "_model_module_version": "1.5.0",
            "_model_name": "HBoxModel",
            "_view_count": null,
            "_view_module": "@jupyter-widgets/controls",
            "_view_module_version": "1.5.0",
            "_view_name": "HBoxView",
            "box_style": "",
            "children": [
              "IPY_MODEL_bdfe8ad64bff495ca9c3f7d73f0ca0d1",
              "IPY_MODEL_f25ec80656b14a0896c6ae5b5fa19de4",
              "IPY_MODEL_9bc57ae48e384498b2da05049676e264"
            ],
            "layout": "IPY_MODEL_6c94b055475e4945abbe83d57e33ce88"
          }
        },
        "bdfe8ad64bff495ca9c3f7d73f0ca0d1": {
          "model_module": "@jupyter-widgets/controls",
          "model_name": "HTMLModel",
          "model_module_version": "1.5.0",
          "state": {
            "_dom_classes": [],
            "_model_module": "@jupyter-widgets/controls",
            "_model_module_version": "1.5.0",
            "_model_name": "HTMLModel",
            "_view_count": null,
            "_view_module": "@jupyter-widgets/controls",
            "_view_module_version": "1.5.0",
            "_view_name": "HTMLView",
            "description": "",
            "description_tooltip": null,
            "layout": "IPY_MODEL_8e0ed0dc12b24628b48796a1ec00d6fc",
            "placeholder": "​",
            "style": "IPY_MODEL_f9ba533b967748b98893809a7ad47a90",
            "value": "Downloading: 100%"
          }
        },
        "f25ec80656b14a0896c6ae5b5fa19de4": {
          "model_module": "@jupyter-widgets/controls",
          "model_name": "FloatProgressModel",
          "model_module_version": "1.5.0",
          "state": {
            "_dom_classes": [],
            "_model_module": "@jupyter-widgets/controls",
            "_model_module_version": "1.5.0",
            "_model_name": "FloatProgressModel",
            "_view_count": null,
            "_view_module": "@jupyter-widgets/controls",
            "_view_module_version": "1.5.0",
            "_view_name": "ProgressView",
            "bar_style": "success",
            "description": "",
            "description_tooltip": null,
            "layout": "IPY_MODEL_adc74b642334481994854e11de0fae50",
            "max": 665132540,
            "min": 0,
            "orientation": "horizontal",
            "style": "IPY_MODEL_78459cc9f55a4afa82bab0ac59a11b61",
            "value": 665132540
          }
        },
        "9bc57ae48e384498b2da05049676e264": {
          "model_module": "@jupyter-widgets/controls",
          "model_name": "HTMLModel",
          "model_module_version": "1.5.0",
          "state": {
            "_dom_classes": [],
            "_model_module": "@jupyter-widgets/controls",
            "_model_module_version": "1.5.0",
            "_model_name": "HTMLModel",
            "_view_count": null,
            "_view_module": "@jupyter-widgets/controls",
            "_view_module_version": "1.5.0",
            "_view_name": "HTMLView",
            "description": "",
            "description_tooltip": null,
            "layout": "IPY_MODEL_453ec984d57f4699a4b915b787ada677",
            "placeholder": "​",
            "style": "IPY_MODEL_82c631701a684700b3c668b5f51dcec3",
            "value": " 634M/634M [00:14&lt;00:00, 42.6MB/s]"
          }
        },
        "6c94b055475e4945abbe83d57e33ce88": {
          "model_module": "@jupyter-widgets/base",
          "model_name": "LayoutModel",
          "model_module_version": "1.2.0",
          "state": {
            "_model_module": "@jupyter-widgets/base",
            "_model_module_version": "1.2.0",
            "_model_name": "LayoutModel",
            "_view_count": null,
            "_view_module": "@jupyter-widgets/base",
            "_view_module_version": "1.2.0",
            "_view_name": "LayoutView",
            "align_content": null,
            "align_items": null,
            "align_self": null,
            "border": null,
            "bottom": null,
            "display": null,
            "flex": null,
            "flex_flow": null,
            "grid_area": null,
            "grid_auto_columns": null,
            "grid_auto_flow": null,
            "grid_auto_rows": null,
            "grid_column": null,
            "grid_gap": null,
            "grid_row": null,
            "grid_template_areas": null,
            "grid_template_columns": null,
            "grid_template_rows": null,
            "height": null,
            "justify_content": null,
            "justify_items": null,
            "left": null,
            "margin": null,
            "max_height": null,
            "max_width": null,
            "min_height": null,
            "min_width": null,
            "object_fit": null,
            "object_position": null,
            "order": null,
            "overflow": null,
            "overflow_x": null,
            "overflow_y": null,
            "padding": null,
            "right": null,
            "top": null,
            "visibility": null,
            "width": null
          }
        },
        "8e0ed0dc12b24628b48796a1ec00d6fc": {
          "model_module": "@jupyter-widgets/base",
          "model_name": "LayoutModel",
          "model_module_version": "1.2.0",
          "state": {
            "_model_module": "@jupyter-widgets/base",
            "_model_module_version": "1.2.0",
            "_model_name": "LayoutModel",
            "_view_count": null,
            "_view_module": "@jupyter-widgets/base",
            "_view_module_version": "1.2.0",
            "_view_name": "LayoutView",
            "align_content": null,
            "align_items": null,
            "align_self": null,
            "border": null,
            "bottom": null,
            "display": null,
            "flex": null,
            "flex_flow": null,
            "grid_area": null,
            "grid_auto_columns": null,
            "grid_auto_flow": null,
            "grid_auto_rows": null,
            "grid_column": null,
            "grid_gap": null,
            "grid_row": null,
            "grid_template_areas": null,
            "grid_template_columns": null,
            "grid_template_rows": null,
            "height": null,
            "justify_content": null,
            "justify_items": null,
            "left": null,
            "margin": null,
            "max_height": null,
            "max_width": null,
            "min_height": null,
            "min_width": null,
            "object_fit": null,
            "object_position": null,
            "order": null,
            "overflow": null,
            "overflow_x": null,
            "overflow_y": null,
            "padding": null,
            "right": null,
            "top": null,
            "visibility": null,
            "width": null
          }
        },
        "f9ba533b967748b98893809a7ad47a90": {
          "model_module": "@jupyter-widgets/controls",
          "model_name": "DescriptionStyleModel",
          "model_module_version": "1.5.0",
          "state": {
            "_model_module": "@jupyter-widgets/controls",
            "_model_module_version": "1.5.0",
            "_model_name": "DescriptionStyleModel",
            "_view_count": null,
            "_view_module": "@jupyter-widgets/base",
            "_view_module_version": "1.2.0",
            "_view_name": "StyleView",
            "description_width": ""
          }
        },
        "adc74b642334481994854e11de0fae50": {
          "model_module": "@jupyter-widgets/base",
          "model_name": "LayoutModel",
          "model_module_version": "1.2.0",
          "state": {
            "_model_module": "@jupyter-widgets/base",
            "_model_module_version": "1.2.0",
            "_model_name": "LayoutModel",
            "_view_count": null,
            "_view_module": "@jupyter-widgets/base",
            "_view_module_version": "1.2.0",
            "_view_name": "LayoutView",
            "align_content": null,
            "align_items": null,
            "align_self": null,
            "border": null,
            "bottom": null,
            "display": null,
            "flex": null,
            "flex_flow": null,
            "grid_area": null,
            "grid_auto_columns": null,
            "grid_auto_flow": null,
            "grid_auto_rows": null,
            "grid_column": null,
            "grid_gap": null,
            "grid_row": null,
            "grid_template_areas": null,
            "grid_template_columns": null,
            "grid_template_rows": null,
            "height": null,
            "justify_content": null,
            "justify_items": null,
            "left": null,
            "margin": null,
            "max_height": null,
            "max_width": null,
            "min_height": null,
            "min_width": null,
            "object_fit": null,
            "object_position": null,
            "order": null,
            "overflow": null,
            "overflow_x": null,
            "overflow_y": null,
            "padding": null,
            "right": null,
            "top": null,
            "visibility": null,
            "width": null
          }
        },
        "78459cc9f55a4afa82bab0ac59a11b61": {
          "model_module": "@jupyter-widgets/controls",
          "model_name": "ProgressStyleModel",
          "model_module_version": "1.5.0",
          "state": {
            "_model_module": "@jupyter-widgets/controls",
            "_model_module_version": "1.5.0",
            "_model_name": "ProgressStyleModel",
            "_view_count": null,
            "_view_module": "@jupyter-widgets/base",
            "_view_module_version": "1.2.0",
            "_view_name": "StyleView",
            "bar_color": null,
            "description_width": ""
          }
        },
        "453ec984d57f4699a4b915b787ada677": {
          "model_module": "@jupyter-widgets/base",
          "model_name": "LayoutModel",
          "model_module_version": "1.2.0",
          "state": {
            "_model_module": "@jupyter-widgets/base",
            "_model_module_version": "1.2.0",
            "_model_name": "LayoutModel",
            "_view_count": null,
            "_view_module": "@jupyter-widgets/base",
            "_view_module_version": "1.2.0",
            "_view_name": "LayoutView",
            "align_content": null,
            "align_items": null,
            "align_self": null,
            "border": null,
            "bottom": null,
            "display": null,
            "flex": null,
            "flex_flow": null,
            "grid_area": null,
            "grid_auto_columns": null,
            "grid_auto_flow": null,
            "grid_auto_rows": null,
            "grid_column": null,
            "grid_gap": null,
            "grid_row": null,
            "grid_template_areas": null,
            "grid_template_columns": null,
            "grid_template_rows": null,
            "height": null,
            "justify_content": null,
            "justify_items": null,
            "left": null,
            "margin": null,
            "max_height": null,
            "max_width": null,
            "min_height": null,
            "min_width": null,
            "object_fit": null,
            "object_position": null,
            "order": null,
            "overflow": null,
            "overflow_x": null,
            "overflow_y": null,
            "padding": null,
            "right": null,
            "top": null,
            "visibility": null,
            "width": null
          }
        },
        "82c631701a684700b3c668b5f51dcec3": {
          "model_module": "@jupyter-widgets/controls",
          "model_name": "DescriptionStyleModel",
          "model_module_version": "1.5.0",
          "state": {
            "_model_module": "@jupyter-widgets/controls",
            "_model_module_version": "1.5.0",
            "_model_name": "DescriptionStyleModel",
            "_view_count": null,
            "_view_module": "@jupyter-widgets/base",
            "_view_module_version": "1.2.0",
            "_view_name": "StyleView",
            "description_width": ""
          }
        }
      }
    },
    "accelerator": "TPU",
    "gpuClass": "standard"
  },
  "nbformat": 4,
  "nbformat_minor": 0
}
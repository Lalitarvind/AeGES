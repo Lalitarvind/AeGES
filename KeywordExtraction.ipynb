{
  "nbformat": 4,
  "nbformat_minor": 0,
  "metadata": {
    "colab": {
      "provenance": []
    },
    "kernelspec": {
      "name": "python3",
      "display_name": "Python 3"
    },
    "language_info": {
      "name": "python"
    }
  },
  "cells": [
    {
      "cell_type": "code",
      "source": [
        "pip install git+https://github.com/boudinfl/pke.git"
      ],
      "metadata": {
        "colab": {
          "base_uri": "https://localhost:8080/"
        },
        "id": "HF0xGHN-1Exb",
        "outputId": "a993a4a5-773c-4257-d108-f5fc3dcc13f5"
      },
      "execution_count": null,
      "outputs": [
        {
          "output_type": "stream",
          "name": "stdout",
          "text": [
            "Looking in indexes: https://pypi.org/simple, https://us-python.pkg.dev/colab-wheels/public/simple/\n",
            "Collecting git+https://github.com/boudinfl/pke.git\n",
            "  Cloning https://github.com/boudinfl/pke.git to /tmp/pip-req-build-04f88131\n",
            "  Running command git clone --filter=blob:none --quiet https://github.com/boudinfl/pke.git /tmp/pip-req-build-04f88131\n",
            "  Resolved https://github.com/boudinfl/pke.git to commit f2d4f5d2252c64d23defccd32fdac8809cfd7ce0\n",
            "  Preparing metadata (setup.py) ... \u001b[?25l\u001b[?25hdone\n",
            "Requirement already satisfied: nltk in /usr/local/lib/python3.9/dist-packages (from pke==2.0.0) (3.8.1)\n",
            "Requirement already satisfied: networkx in /usr/local/lib/python3.9/dist-packages (from pke==2.0.0) (3.1)\n",
            "Requirement already satisfied: numpy in /usr/local/lib/python3.9/dist-packages (from pke==2.0.0) (1.22.4)\n",
            "Requirement already satisfied: scipy in /usr/local/lib/python3.9/dist-packages (from pke==2.0.0) (1.10.1)\n",
            "Requirement already satisfied: scikit-learn in /usr/local/lib/python3.9/dist-packages (from pke==2.0.0) (1.2.2)\n",
            "Collecting unidecode\n",
            "  Downloading Unidecode-1.3.6-py3-none-any.whl (235 kB)\n",
            "\u001b[2K     \u001b[90m━━━━━━━━━━━━━━━━━━━━━━━━━━━━━━━━━━━━━━━\u001b[0m \u001b[32m235.9/235.9 kB\u001b[0m \u001b[31m5.4 MB/s\u001b[0m eta \u001b[36m0:00:00\u001b[0m\n",
            "\u001b[?25hRequirement already satisfied: future in /usr/local/lib/python3.9/dist-packages (from pke==2.0.0) (0.18.3)\n",
            "Requirement already satisfied: joblib in /usr/local/lib/python3.9/dist-packages (from pke==2.0.0) (1.2.0)\n",
            "Requirement already satisfied: spacy>=3.2.3 in /usr/local/lib/python3.9/dist-packages (from pke==2.0.0) (3.5.1)\n",
            "Requirement already satisfied: tqdm<5.0.0,>=4.38.0 in /usr/local/lib/python3.9/dist-packages (from spacy>=3.2.3->pke==2.0.0) (4.65.0)\n",
            "Requirement already satisfied: thinc<8.2.0,>=8.1.8 in /usr/local/lib/python3.9/dist-packages (from spacy>=3.2.3->pke==2.0.0) (8.1.9)\n",
            "Requirement already satisfied: jinja2 in /usr/local/lib/python3.9/dist-packages (from spacy>=3.2.3->pke==2.0.0) (3.1.2)\n",
            "Requirement already satisfied: smart-open<7.0.0,>=5.2.1 in /usr/local/lib/python3.9/dist-packages (from spacy>=3.2.3->pke==2.0.0) (6.3.0)\n",
            "Requirement already satisfied: wasabi<1.2.0,>=0.9.1 in /usr/local/lib/python3.9/dist-packages (from spacy>=3.2.3->pke==2.0.0) (1.1.1)\n",
            "Requirement already satisfied: spacy-legacy<3.1.0,>=3.0.11 in /usr/local/lib/python3.9/dist-packages (from spacy>=3.2.3->pke==2.0.0) (3.0.12)\n",
            "Requirement already satisfied: spacy-loggers<2.0.0,>=1.0.0 in /usr/local/lib/python3.9/dist-packages (from spacy>=3.2.3->pke==2.0.0) (1.0.4)\n",
            "Requirement already satisfied: setuptools in /usr/local/lib/python3.9/dist-packages (from spacy>=3.2.3->pke==2.0.0) (67.6.1)\n",
            "Requirement already satisfied: pydantic!=1.8,!=1.8.1,<1.11.0,>=1.7.4 in /usr/local/lib/python3.9/dist-packages (from spacy>=3.2.3->pke==2.0.0) (1.10.7)\n",
            "Requirement already satisfied: srsly<3.0.0,>=2.4.3 in /usr/local/lib/python3.9/dist-packages (from spacy>=3.2.3->pke==2.0.0) (2.4.6)\n",
            "Requirement already satisfied: packaging>=20.0 in /usr/local/lib/python3.9/dist-packages (from spacy>=3.2.3->pke==2.0.0) (23.0)\n",
            "Requirement already satisfied: preshed<3.1.0,>=3.0.2 in /usr/local/lib/python3.9/dist-packages (from spacy>=3.2.3->pke==2.0.0) (3.0.8)\n",
            "Requirement already satisfied: requests<3.0.0,>=2.13.0 in /usr/local/lib/python3.9/dist-packages (from spacy>=3.2.3->pke==2.0.0) (2.27.1)\n",
            "Requirement already satisfied: murmurhash<1.1.0,>=0.28.0 in /usr/local/lib/python3.9/dist-packages (from spacy>=3.2.3->pke==2.0.0) (1.0.9)\n",
            "Requirement already satisfied: catalogue<2.1.0,>=2.0.6 in /usr/local/lib/python3.9/dist-packages (from spacy>=3.2.3->pke==2.0.0) (2.0.8)\n",
            "Requirement already satisfied: typer<0.8.0,>=0.3.0 in /usr/local/lib/python3.9/dist-packages (from spacy>=3.2.3->pke==2.0.0) (0.7.0)\n",
            "Requirement already satisfied: cymem<2.1.0,>=2.0.2 in /usr/local/lib/python3.9/dist-packages (from spacy>=3.2.3->pke==2.0.0) (2.0.7)\n",
            "Requirement already satisfied: langcodes<4.0.0,>=3.2.0 in /usr/local/lib/python3.9/dist-packages (from spacy>=3.2.3->pke==2.0.0) (3.3.0)\n",
            "Requirement already satisfied: pathy>=0.10.0 in /usr/local/lib/python3.9/dist-packages (from spacy>=3.2.3->pke==2.0.0) (0.10.1)\n",
            "Requirement already satisfied: click in /usr/local/lib/python3.9/dist-packages (from nltk->pke==2.0.0) (8.1.3)\n",
            "Requirement already satisfied: regex>=2021.8.3 in /usr/local/lib/python3.9/dist-packages (from nltk->pke==2.0.0) (2022.10.31)\n",
            "Requirement already satisfied: threadpoolctl>=2.0.0 in /usr/local/lib/python3.9/dist-packages (from scikit-learn->pke==2.0.0) (3.1.0)\n",
            "Requirement already satisfied: typing-extensions>=4.2.0 in /usr/local/lib/python3.9/dist-packages (from pydantic!=1.8,!=1.8.1,<1.11.0,>=1.7.4->spacy>=3.2.3->pke==2.0.0) (4.5.0)\n",
            "Requirement already satisfied: urllib3<1.27,>=1.21.1 in /usr/local/lib/python3.9/dist-packages (from requests<3.0.0,>=2.13.0->spacy>=3.2.3->pke==2.0.0) (1.26.15)\n",
            "Requirement already satisfied: idna<4,>=2.5 in /usr/local/lib/python3.9/dist-packages (from requests<3.0.0,>=2.13.0->spacy>=3.2.3->pke==2.0.0) (3.4)\n",
            "Requirement already satisfied: charset-normalizer~=2.0.0 in /usr/local/lib/python3.9/dist-packages (from requests<3.0.0,>=2.13.0->spacy>=3.2.3->pke==2.0.0) (2.0.12)\n",
            "Requirement already satisfied: certifi>=2017.4.17 in /usr/local/lib/python3.9/dist-packages (from requests<3.0.0,>=2.13.0->spacy>=3.2.3->pke==2.0.0) (2022.12.7)\n",
            "Requirement already satisfied: confection<1.0.0,>=0.0.1 in /usr/local/lib/python3.9/dist-packages (from thinc<8.2.0,>=8.1.8->spacy>=3.2.3->pke==2.0.0) (0.0.4)\n",
            "Requirement already satisfied: blis<0.8.0,>=0.7.8 in /usr/local/lib/python3.9/dist-packages (from thinc<8.2.0,>=8.1.8->spacy>=3.2.3->pke==2.0.0) (0.7.9)\n",
            "Requirement already satisfied: MarkupSafe>=2.0 in /usr/local/lib/python3.9/dist-packages (from jinja2->spacy>=3.2.3->pke==2.0.0) (2.1.2)\n",
            "Building wheels for collected packages: pke\n",
            "  Building wheel for pke (setup.py) ... \u001b[?25l\u001b[?25hdone\n",
            "  Created wheel for pke: filename=pke-2.0.0-py3-none-any.whl size=6160676 sha256=90f210ecb771847f138999b94ce37c5539041051b72743d887da83f667d4356b\n",
            "  Stored in directory: /tmp/pip-ephem-wheel-cache-a3ojslid/wheels/d5/46/97/85535b5b449f70b6a3c8d1138ce8587345876891e25bfe7954\n",
            "Successfully built pke\n",
            "Installing collected packages: unidecode, pke\n",
            "Successfully installed pke-2.0.0 unidecode-1.3.6\n"
          ]
        }
      ]
    },
    {
      "cell_type": "code",
      "source": [
        "import nltk\n",
        "nltk.download('punkt')"
      ],
      "metadata": {
        "colab": {
          "base_uri": "https://localhost:8080/"
        },
        "id": "5tVYbooF1jfT",
        "outputId": "42281a44-bcd4-4377-ce87-d5de301eed6d"
      },
      "execution_count": null,
      "outputs": [
        {
          "output_type": "stream",
          "name": "stderr",
          "text": [
            "[nltk_data] Downloading package punkt to /root/nltk_data...\n",
            "[nltk_data]   Unzipping tokenizers/punkt.zip.\n"
          ]
        },
        {
          "output_type": "execute_result",
          "data": {
            "text/plain": [
              "True"
            ]
          },
          "metadata": {},
          "execution_count": 2
        }
      ]
    },
    {
      "cell_type": "code",
      "source": [
        "!pip install flashtext"
      ],
      "metadata": {
        "colab": {
          "base_uri": "https://localhost:8080/"
        },
        "id": "FwihSKB61WE8",
        "outputId": "7c129056-2eec-446b-8760-56cb45f13b07"
      },
      "execution_count": null,
      "outputs": [
        {
          "output_type": "stream",
          "name": "stdout",
          "text": [
            "Looking in indexes: https://pypi.org/simple, https://us-python.pkg.dev/colab-wheels/public/simple/\n",
            "Collecting flashtext\n",
            "  Downloading flashtext-2.7.tar.gz (14 kB)\n",
            "  Preparing metadata (setup.py) ... \u001b[?25l\u001b[?25hdone\n",
            "Building wheels for collected packages: flashtext\n",
            "  Building wheel for flashtext (setup.py) ... \u001b[?25l\u001b[?25hdone\n",
            "  Created wheel for flashtext: filename=flashtext-2.7-py2.py3-none-any.whl size=9308 sha256=5851f6860a692c047676a00bd363aa947d9840935985637ad895a3a43ae3fcc7\n",
            "  Stored in directory: /root/.cache/pip/wheels/65/3c/c7/44672c5062c16d05760b1eaddbf611d2f6a4b715c6d6777418\n",
            "Successfully built flashtext\n",
            "Installing collected packages: flashtext\n",
            "Successfully installed flashtext-2.7\n"
          ]
        }
      ]
    },
    {
      "cell_type": "code",
      "execution_count": null,
      "metadata": {
        "colab": {
          "base_uri": "https://localhost:8080/"
        },
        "id": "fZmvo0T1yyQm",
        "outputId": "bf715161-7f0a-4063-d5c5-d3d138109e21"
      },
      "outputs": [
        {
          "output_type": "stream",
          "name": "stderr",
          "text": [
            "[nltk_data] Downloading package stopwords to /root/nltk_data...\n",
            "[nltk_data]   Unzipping corpora/stopwords.zip.\n"
          ]
        }
      ],
      "source": [
        "import nltk\n",
        "nltk.download(\"stopwords\")\n",
        "import string\n",
        "import pke\n",
        "from nltk.corpus import stopwords\n",
        "import collections\n",
        "from nltk.tokenize import sent_tokenize\n",
        "from flashtext import KeywordProcessor\n",
        "import pandas as pd\n",
        "\n",
        "\n",
        "def Keyword_Extraction(text):\n",
        "  #TF-IDF\n",
        "  extractor = pke.unsupervised.TfIdf()\n",
        "  extractor.load_document(input=text,\n",
        "                          language='en',\n",
        "                          normalization=None)\n",
        "  extractor.candidate_selection(n=3)\n",
        "  extractor.candidate_weighting()\n",
        "\n",
        "  keyphrases_TFIDF = extractor.get_n_best(n=10)\n",
        "\n",
        "  ###############################################################\n",
        "\n",
        "  #KPMiner\n",
        "  extractor = pke.unsupervised.KPMiner()\n",
        "  extractor.load_document(input=text,\n",
        "                          language='en',\n",
        "                          normalization=None)\n",
        "  lasf = 5\n",
        "  cutoff = 200\n",
        "  extractor.candidate_selection(lasf=lasf, cutoff=cutoff)\n",
        "  alpha = 2.3\n",
        "  sigma = 3.0\n",
        "  extractor.candidate_weighting(alpha=alpha, sigma=sigma)\n",
        "  keyphrases_KPMiner = extractor.get_n_best(n=10)\n",
        "\n",
        "  ###########################################################\n",
        "\n",
        "  #YAKE\n",
        "  extractor = pke.unsupervised.YAKE()\n",
        "  extractor.load_document(input=text,\n",
        "                          language='en',\n",
        "                          normalization=None)\n",
        "  stoplist = stopwords.words('english')\n",
        "  extractor.candidate_selection(n=3)\n",
        "  window = 2\n",
        "  use_stems = False\n",
        "  extractor.candidate_weighting(window=window,\n",
        "                                use_stems=use_stems)\n",
        "  threshold = 0.8\n",
        "  keyphrases_Yake = extractor.get_n_best(n=10, threshold=threshold)\n",
        "\n",
        "  ################################################################\n",
        "\n",
        "  #TextRank\n",
        "  pos = {'NOUN', 'PROPN', 'ADJ'}\n",
        "  extractor = pke.unsupervised.TextRank()\n",
        "  extractor.load_document(input=text,\n",
        "                          language='en',\n",
        "                          normalization=None)\n",
        "  extractor.candidate_weighting(window=2,\n",
        "                                pos=pos,\n",
        "                                top_percent=0.33)\n",
        "  keyphrases_TextRank = extractor.get_n_best(n=10)\n",
        "\n",
        "  pos = {'NOUN', 'PROPN', 'ADJ'}\n",
        "\n",
        "  ##############################################################\n",
        "\n",
        "  # SingleRank extractor.\n",
        "  extractor = pke.unsupervised.SingleRank()\n",
        "  extractor.load_document(input=text,\n",
        "                          language='en',\n",
        "                          normalization=None)\n",
        "\n",
        "  extractor.candidate_selection(pos=pos)\n",
        "  extractor.candidate_weighting(window=10,\n",
        "                                pos=pos)\n",
        "  keyphrases_SingleRank = extractor.get_n_best(n=10)\n",
        "\n",
        "  ##############################################################\n",
        "\n",
        "  #TopicRank\n",
        "  extractor = pke.unsupervised.TopicRank()\n",
        "  extractor.load_document(input=text)\n",
        "\n",
        "  pos = {'NOUN', 'PROPN', 'ADJ'}\n",
        "  stoplist = list(string.punctuation)\n",
        "  stoplist += ['-lrb-', '-rrb-', '-lcb-', '-rcb-', '-lsb-', '-rsb-']\n",
        "  stoplist += stopwords.words('english')\n",
        "  extractor.candidate_selection(pos=pos)\n",
        "  extractor.candidate_weighting(threshold=0.74, method='average')\n",
        "  keyphrases_TopicRank = extractor.get_n_best(n=10)\n",
        "\n",
        "  ######################################################################\n",
        "\n",
        "  pos = {'NOUN', 'PROPN', 'ADJ'}\n",
        "  grammar = \"NP: {<ADJ>*<NOUN|PROPN>+}\"\n",
        "\n",
        "  #TopicalPageRank extractor.\n",
        "  extractor = pke.unsupervised.TopicalPageRank()\n",
        "  extractor.load_document(input=text,\n",
        "                          language='en',\n",
        "                          normalization=None)\n",
        "  extractor.candidate_selection(grammar=grammar)\n",
        "\n",
        "  extractor.candidate_weighting(window=10,pos=pos)\n",
        "  keyphrases_TopicalPageRank = extractor.get_n_best(n=10)\n",
        "\n",
        "  ############################################################################\n",
        "\n",
        "  pos = {'NOUN', 'PROPN', 'ADJ'}\n",
        "  grammar = \"NP: {<ADJ>*<NOUN|PROPN>+}\"\n",
        "\n",
        "  #PositionRank extractor.\n",
        "  extractor = pke.unsupervised.PositionRank()\n",
        "  extractor.load_document(input=text,\n",
        "                          language='en',\n",
        "                          normalization=None)\n",
        "  extractor.candidate_selection(grammar=grammar,\n",
        "                                maximum_word_number=3)\n",
        "  extractor.candidate_weighting(window=10,\n",
        "                                pos=pos)\n",
        "  keyphrases_PositionRank = extractor.get_n_best(n=10)\n",
        "\n",
        "  #################################################################\n",
        "\n",
        "  # MultipartiteRank extractor.\n",
        "  extractor = pke.unsupervised.MultipartiteRank()\n",
        "  extractor.load_document(input=text)\n",
        "  pos = {'NOUN', 'PROPN', 'ADJ'}\n",
        "  stoplist = list(string.punctuation)\n",
        "  stoplist += ['-lrb-', '-rrb-', '-lcb-', '-rcb-', '-lsb-', '-rsb-']\n",
        "  stoplist += stopwords.words('english')\n",
        "  extractor.candidate_selection(pos=pos)\n",
        "  extractor.candidate_weighting(alpha=1.1,\n",
        "                                threshold=0.74,\n",
        "                                method='average')\n",
        "  keyphrases_MultipartiteRank = extractor.get_n_best(n=10)\n",
        "\n",
        "  ####################################################################\n",
        "\n",
        "  stoplist = stopwords.words('english')\n",
        "\n",
        "  #Kea extractor.\n",
        "  extractor = pke.supervised.Kea()\n",
        "\n",
        "  extractor.load_document(input=text,\n",
        "                          language='en',\n",
        "                          normalization=None)\n",
        "\n",
        "  extractor.candidate_selection()\n",
        "  extractor.candidate_weighting()\n",
        "  keyphrases_Kea = extractor.get_n_best(n=10)\n",
        "\n",
        "  #######################################################################\n",
        "\n",
        "  #WINGNUS extractor.\n",
        "  extractor = pke.supervised.WINGNUS()\n",
        "  extractor.load_document(input=text)\n",
        "  extractor.candidate_selection()\n",
        "  extractor.candidate_weighting()\n",
        "  keyphrases_WINGNUS = extractor.get_n_best(n=10)\n",
        "\n",
        "  ########################################################################\n",
        "\n",
        "  Keywords= keyphrases_TFIDF + keyphrases_KPMiner + keyphrases_Yake + keyphrases_TextRank +keyphrases_SingleRank + keyphrases_TopicRank + keyphrases_TopicalPageRank +keyphrases_PositionRank + keyphrases_MultipartiteRank + keyphrases_Kea + keyphrases_WINGNUS\n",
        "  Keywords = [k for k,v in Keywords]\n",
        "\n",
        "  ########################################################################\n",
        "  duplicated_Keywords=[item for item, count in collections.Counter(Keywords).items() if count > 1]\n",
        "  return duplicated_Keywords\n",
        "\n",
        "def tokenize_sentences(text):\n",
        "    sentences = [sent_tokenize(text)]\n",
        "    sentences = [y for x in sentences for y in x]\n",
        "\n",
        "    sentences = [sentence.strip() for sentence in sentences if len(sentence) > 20]\n",
        "    return sentences\n",
        "\n",
        "def get_sentences_for_keyword(Keywords, sentences):\n",
        "    keyword_processor = KeywordProcessor()\n",
        "    keyword_sentences = {}\n",
        "    for word in Keywords:\n",
        "        keyword_sentences[word] = []\n",
        "        keyword_processor.add_keyword(word)\n",
        "    for sentence in sentences:\n",
        "        keywords_found = keyword_processor.extract_keywords(sentence)\n",
        "        for key in keywords_found:\n",
        "            keyword_sentences[key].append(sentence)\n",
        "\n",
        "    for key in keyword_sentences.keys():\n",
        "        values = keyword_sentences[key]\n",
        "        values = sorted(values, key=len, reverse=True)\n",
        "        keyword_sentences[key] = values\n",
        "        df = pd.DataFrame({'values':values})\n",
        "        df.drop_duplicates(inplace = True)\n",
        "        keyword_sentences[key] = df['values'].tolist()\n",
        "\n",
        "    return keyword_sentences\n",
        "\n",
        "def keyword_sentenceMapping(text):\n",
        "  sentences = tokenize_sentences(text)\n",
        "  duplicated_Keywords = Keyword_Extraction(text)\n",
        "  keyword_sentence_mapping_after = get_sentences_for_keyword(duplicated_Keywords, sentences)\n",
        "  keyword_sentence_mapping={key: value for key, value in keyword_sentence_mapping_after.items() if value}\n",
        "  return keyword_sentence_mapping,duplicated_Keywords"
      ]
    },
    {
      "cell_type": "code",
      "source": [
        "# transcript = \"Electromagnetism, or the electromagnetic force, is one of the four fundamental forces of nature. These electric forces bring and hold atoms together. If those electrically charged particles start to move, the field will become a flowing electric current and form a magnetic field around it. On the other are short, high-frequency wavelengths, ultraviolet, ex, and gamma radiation. Unlike low-frequency waves, these waves can pass through the human body, making them useful for medical applications.\"\n",
        "# transcript = \"Electromagnetism, or the electromagnetic force, is one of the four fundamental forces of nature. Electromagnetism is a branch of physics that studies the interactions between electric and magnetic fields. All matter has an electric charge, which can be positive, negative, or zero. And when atoms gain a positive or negative charge through the transfer of electrons, a measurable electric field will form. The intensity of waves of electromagnetic energy or radiation is determined by waves of electromagnetic energy or radiation's frequency. Near the middle of the electromagnetic spectrum is visible light, such as light emitted by stars, fireflies, and computer screens. On either side are invisible electromagnetic waves. On one end are long, low-frequency radio waves that broadcast television and radio signals, micro waves that carry telephone signals and cook food, and infrared waves emitted by fires. Unlike low-frequency waves, short, high-frequency wavelengths, ultraviolet, ex, and gamma radiation can pass through the human body, making short, high-frequency wavelengths, ultraviolet, ex, and gamma radiation useful for medical applications. While electromagnetism has daily applications, electromagnetism's also the engine that drives the world as we know it. Called a geodynamo, this process causes the world as we know it's poles to attain positive and negative charges, turning the world as we know it into a giant electromagnet. a protective layer around the planet shields us from the most harmful radiation in space, leaving us to enjoy a world held together by Electromagnetism, or the electromagnetic force,.\"\n",
        "\n",
        "transcript = \"Our solar system is one of over 500 known solar systems in the entire Milky Way galaxy. Our solar system is located in the entire Milky Way galaxy's Orion Star Cluster. Only 15% of stars in the entire Milky Way galaxy host planetary systems, and one of Only 15% of stars in the galaxy is our own sun. Revolving around our own sun are eight planets. eight planets are divided into two categories based on eight planets's composition, terrestrial and jovian. Real planets, including Mercury, Venus, Earth and Mars's surfaces are solid, Real planets, including Mercury, Venus, Earth and Mars don't have ring systems, Real planets, including Mercury, Venus, Earth and Mars have very few or no moons, and Real planets, including Mercury, Venus, Earth and Mars are relatively small. The smallest and closest to our own sun is Mercury, which has the shortest orbit in Our solar system at about three Earth months. Venus is the hottest planet, with temperatures of up to 867 degrees Fahrenheit due to an atmosphere of carbon dioxide and extensive lava flows. The water systems on Earth help create the only known environment in the universe capable of sustaining life. The last of eight planets, Mars, might have also supported life about 3.7 billion years ago when Mars had a watery surface and moist atmosphere. Beyond the four terrestrial planets of the inner solar system, lie the jovian planets of the outer solar system. the jovian planets of the outer solar system include gas giants Jupiter and Saturn and ice giants Uranus and Neptune. gas giants Jupiter and Saturn are predominantly made of helium and hydrogen, and the jovian planets of the outer solar system also contain rock, ice and a liquid mixture of water, methane and ammonia. the jovian planets of the outer solar system have multiple moons, sport ring systems, have no solid surface and are immense. Saturn's signature rings are wide enough to fit between Earth and the Moon, but are fairly a kilometer thick. Past Saturn are the ice giants Uranus and Neptune. The slightly bigger of ice giants Uranus and Neptune Uranus is famous for rotating on Uranus's side. Next Uranus is Neptune, the outermost planet in Our solar system and also one of the coldest. Orbiting the four terrestrial planets of the inner solar system is the asteroid belt, a flat disk of rocky objects full of remnants from Our solar system's formation, from microscopic dust particles to the largest known object, the dwarf planet Ceres. Beyond the icy Kuiper belt is the Ork cloud, a vast spherical collection of icy debris. the Ork cloud, a vast spherical collection of icy debris is considered the edge of Our solar system since the edge of the solar system is where the gravitational and physical influences of our own sun end. Our solar system's particular configuration of planets and other celestial objects, all revolving around a life-giving star, make Our solar system a special place to call home.\""
      ],
      "metadata": {
        "id": "WcEm_A3L5UD7"
      },
      "execution_count": null,
      "outputs": []
    },
    {
      "cell_type": "code",
      "source": [
        "# transcript = \"a green color component called chloroplasts is responsible for the green color of plants and leaves. Leaves on the plant have pores, very similar to the pores on the skin of our bodies. This is because energy from the sun is absorbed by the water layers and only some amount of energy actually reaches the plant. Do kids know how plants make plants's own food? No? Well, this video elaborates the process of photosynthesis by which plants make plants's own food. chemical energy is used by plants for growth and nourishment. Once the carbon dioxide and the water reach a green color component called chloroplasts in the presence of sunlight, the process of photosynthesis starts to take place. The carbon dioxide present in the air, which is responsible for Photosynthesis, enters the plant through pores, very similar to the pores on the skin of our bodies. This system transports vital nutrients to the plant. pores, very similar to the pores on the skin of our bodies are called stomata. The following reaction takes place in the leaves of the plant during the process of photosynthesis. Photosynthesis is the conversion of light energy into chemical energy by plants. Leaves have important cells called mesofil cells. Plants have tubes called xylum, located in the stems through which the water from the ground is sucked into the leaves. This system is spread throughout the different parts of the plant, including the stem, branches, and all the way up to the leaves. Xylums in the plant are like blood vessels in the human body that act as an important means of transportation of water and nutrients. Glucose is used by the plants for the plants's growth. The oxygen that is released is used by human beings to breathe during human beings's respiration process ever wondered why the process of photosynthesis is called photosynthesis? Well the word photosynthesis is a combination of two Greek words photo and synthesis. important cells called mesofil cells contain a green color component called chloroplasts. This system works similar to humans sucking liquids through a straw. Photosynthesis is the process used by plants to make plants's own food or in more complex terms.\"\n",
        "transcript = \"Do kids know how plants make plants's own food? Photosynthesis is the process used by plants to make plants's own food or in more complex terms. chemical energy is used by plants for growth and nourishment. Photo means light and synthesis means putting together in Greek. pores, very similar to the pores on the skin of our bodies are responsible for the exchange of gases. Carbohydrates, which are a form of glucose, are synthesized from carbon dioxide and water. Glucose is used by the plants for the plants's growth. So the essential factors for photosynthesis to take place include sunlight, water and carbon dioxide. some plants which don't need the process of photosynthesis to grow include mushroom, venous fly traps etc.\""
      ],
      "metadata": {
        "id": "UgC8N9N2VdCX"
      },
      "execution_count": null,
      "outputs": []
    },
    {
      "cell_type": "code",
      "source": [
        "# transcript = \"Vitamins're the body's builders, defenders, and maintenance workers, helping the body's to build muscle and bone, make use of nutrients, capture and use energy, and heal wounds. On the other hand, too much of any vitamin can cause toxicity in the body, so there goes the myth that loading yourself with supplements is a great idea. The water-solubles are vitamin C and B-complex vitamins that are made up of eight different types that each do something unique. Vitamin D gathers calcium and phosphorus so we can make bones, and vitamin E works as an antioxidant, getting rid of elements in the body that can damage cells. Because fat-soluble vitamins can't make use of the blood's watery nature, fat-soluble vitamins need something else to move fat-soluble vitamins around. Vitamins come in two types, lipid-soluble and water-soluble, and the difference between two types, lipid-soluble and water-soluble determines how the body transports and stores vitamins and gets rid of the excess. So how does the body get vitamins from out there into here? That's dependent on the form vitamins take. Because blood plasma is water-based, water-soluble vitamins C and B have water-soluble vitamins C and B's transport cut out for water-soluble vitamins C and B, and can move around freely within the body. Vitamins are organic compounds we need to ingest in small amounts to keep functioning. The body treats these parts like a pantry, storing fat-soluble vitamins there and rationing fat-soluble vitamins out when needed, meaning we shouldn't overload on this type of vitamin because The body is generally well stocked. And just like letters build words, letters're the building blocks that keep the body running. lipid-soluble vitamins, dissolved in fat and found in foods like dairy, butter, and oils make it through the stomach and the intestine, where an acidic substance called bile flows in from the liver, breaking up the fat and preparing the fat for absorption through the intestinal wall. So this difference between water or fat-soluble vitamins determines how fat-soluble vitamins get into the blood, but also how fat-soluble vitamins're stored or rejected from the body. The water-solubles are dissolved in the watery parts of fruits, vegetables, and grains, meaning The water-solubles's passage through the body is relatively straightforward.\"\n",
        "transcript = \"A, C, E, D, B, K. No, this isn't some random out-of-order alphabet. That's dependent on the form these compounds take. Vitamins come in two types, lipid-soluble and water-soluble, and the difference between them determines how the body transports and stores vitamins and gets rid of the excess. Once inside the system, these foods are digested, and the vitamins within them are taken up directly by the bloodstream. Because fat-soluble vitamins can't make use of the blood's watery nature, they need something else to move them around. Vitamin A helps make white blood cells, key in the body's defense, helps shape bones, and improves vision by keeping the cells of the eye in check. Without this vitamin variety, humans face deficiencies that cause a range of problems like fatigue, nerve damage, heart disorders, or diseases like rickets and scurvy.\""
      ],
      "metadata": {
        "id": "TGXd-d0r6Mhf"
      },
      "execution_count": null,
      "outputs": []
    },
    {
      "cell_type": "code",
      "source": [
        "transcript = \"Rutherford's atomic model was quite commendable when it came to explaining the structure of atoms. We know that any charged object which revolves in a circular motion gains acceleration gradually. Now if the electron continuously keeps radiating energy, then ultimately all the energy of the electron will get over and all the energy of the electron will fall into the nucleus. slight modifications were made by the next legendary scientist in our list called Niels Bohr. Now these points definitely tell us why an atom is so stable. Let's understand with an example. Now here, the sun is stationary at the centre while the planets revolve around the sun. Yes, K L M N and so on. With all these theories and points known, do we now know the structure of a typical atom completely? Is that how an atom is structured? Astonishingly, one more subatomic particle had no charge. In the center lies the nucleus having positively charged protons and neutral neutrons, while the negatively charged electrons revolve in fixed orbitals around The nucleus.\"\n",
        "# transcript = \"Rutherford's atomic model was quite commendable when it came to explaining the structure of atoms. However, Rutherford's atomic model was not very appropriate theoretically. Now if the electron continuously keeps radiating energy, then ultimately all the energy of the electron will get over and all the energy of the electron will fall into the nucleus. That means the hypothesis put forth by Rutherford's was also incorrect. Not really, the hypothesis put forth by Rutherford just needed slight modifications. slight modifications were made by the next legendary scientist in our list called Niels Bohr. the next legendary scientist in our list called Niels Bohr made a few additional explanations to describe the atomic structure. The postulates put forward by the next legendary scientist in our list called Niels Bohr were as follows. Firstly, only certain special orbits called discrete orbits of electrons are allowed inside the atom. Secondly, while revolving in only certain special orbits called discrete orbits of electrons, the electrons do not radiate energy. Now these points definitely tell us why an atom is so stable. But what exactly are these paths or orbits in which the electrons revolve around the nucleus? Let's understand with an example. Do you know how our solar system is? Yes, our solar system appears somewhat like this. Now here, the sun is stationary at the centre while the planets revolve around the sun. But have you noticed that the planets always revolve in fixed paths? We never find any planet jumping to a different path all of a sudden, right? the planets always encircle the sun in defined paths. The nucleus acts like the sun and the electrons are like planets which revolve in fixed defined orbitals. the next legendary scientist in our list called Niels Bohr suggested that the electrons revolving in fixed defined orbitals do not radiate energy. Now this is justified when we use the name energy levels because the name energy levels indicates that each shell has got a defined energy level. That means when the electrons revolve in fixed defined orbitals, the electrons do not liberate any form of energy. And what if we want to number fixed defined orbitals? In that case, we use the letter N in lower case and write fixed defined orbitals as the letter N equals 1, the letter N equals 2, N equals 3 and so on, beginning from the 1 next to The nucleus. So we can name fixed defined orbitals alphabetically or we can even number fixed defined orbitals. With all these theories and points known, do we now know the structure of a typical atom completely? The nucleus contains positive protons and the electrons revolving around in fixed orbitals. a famous English physicist Sir James Chadwick found that one more subatomic particle had a mass almost equivalent to that of the proton. And what about one more subatomic particle's charge? Astonishingly, one more subatomic particle had no charge. one more subatomic particle was later named as neutron, denoted by the letter N. Does now we have the complete design of an atom? In the center lies the nucleus having positively charged protons and neutral neutrons, while the negatively charged electrons revolve in fixed orbitals around The nucleus. But how exactly are the electrons distributed in fixed orbitals around the nucleus? Is there a way to find out the maximum number of electrons that one orbital can contain? Or is it that the electrons are randomly scattered in fixed orbitals around the nucleus? Let's find out the answers to these questions in our upcoming video.\""
      ],
      "metadata": {
        "id": "bumSl1lLdLtD"
      },
      "execution_count": null,
      "outputs": []
    },
    {
      "cell_type": "code",
      "source": [
        "mapping,keywords = keyword_sentenceMapping(transcript)\n",
        "print(mapping)"
      ],
      "metadata": {
        "colab": {
          "base_uri": "https://localhost:8080/"
        },
        "id": "sZxfnPjtZ1gc",
        "outputId": "be304d5e-0a6e-474d-ce02-42f0e51a3738"
      },
      "execution_count": null,
      "outputs": [
        {
          "output_type": "stream",
          "name": "stderr",
          "text": [
            "WARNING:root:LoadFile._df_counts is hard coded to /usr/local/lib/python3.9/dist-packages/pke/models/df-semeval2010.tsv.gz\n",
            "WARNING:root:LoadFile._df_counts is hard coded to /usr/local/lib/python3.9/dist-packages/pke/models/df-semeval2010.tsv.gz\n",
            "WARNING:root:Candidates are generated using 0.33-top\n",
            "WARNING:root:LDA model is hard coded to /usr/local/lib/python3.9/dist-packages/pke/models/lda-1000-semeval2010.py3.pickle.gz\n",
            "/usr/local/lib/python3.9/dist-packages/sklearn/feature_extraction/text.py:409: UserWarning: Your stop_words may be inconsistent with your preprocessing. Tokenizing the stop words generated tokens ['ll', 've'] not in stop_words.\n",
            "  warnings.warn(\n",
            "WARNING:root:LoadFile._df_counts is hard coded to /usr/local/lib/python3.9/dist-packages/pke/models/df-semeval2010.tsv.gz\n",
            "/usr/local/lib/python3.9/dist-packages/sklearn/base.py:318: UserWarning: Trying to unpickle estimator MultinomialNB from version 0.20.0 when using version 1.2.2. This might lead to breaking code or invalid results. Use at your own risk. For more info please refer to:\n",
            "https://scikit-learn.org/stable/model_persistence.html#security-maintainability-limitations\n",
            "  warnings.warn(\n",
            "WARNING:root:LoadFile._df_counts is hard coded to /usr/local/lib/python3.9/dist-packages/pke/models/df-semeval2010.tsv.gz\n"
          ]
        },
        {
          "output_type": "stream",
          "name": "stdout",
          "text": [
            "{'charged': ['In the center lies the nucleus having positively charged protons and neutral neutrons, while the negatively charged electrons revolve in fixed orbitals around The nucleus.', 'We know that any charged object which revolves in a circular motion gains acceleration gradually.'], 'energy': ['Now if the electron continuously keeps radiating energy, then ultimately all the energy of the electron will get over and all the energy of the electron will fall into the nucleus.'], 'nucleus': ['Now if the electron continuously keeps radiating energy, then ultimately all the energy of the electron will get over and all the energy of the electron will fall into the nucleus.', 'In the center lies the nucleus having positively charged protons and neutral neutrons, while the negatively charged electrons revolve in fixed orbitals around The nucleus.'], 'structure': ['With all these theories and points known, do we now know the structure of a typical atom completely?', \"Rutherford's atomic model was quite commendable when it came to explaining the structure of atoms.\"], 'points': ['With all these theories and points known, do we now know the structure of a typical atom completely?', 'Now these points definitely tell us why an atom is so stable.'], 'revolve': ['In the center lies the nucleus having positively charged protons and neutral neutrons, while the negatively charged electrons revolve in fixed orbitals around The nucleus.', 'Now here, the sun is stationary at the centre while the planets revolve around the sun.'], 'sun': ['Now here, the sun is stationary at the centre while the planets revolve around the sun.'], 'electron': ['Now if the electron continuously keeps radiating energy, then ultimately all the energy of the electron will get over and all the energy of the electron will fall into the nucleus.'], 'atom': ['Now these points definitely tell us why an atom is so stable.', 'Is that how an atom is structured?'], 'rutherford': [\"Rutherford's atomic model was quite commendable when it came to explaining the structure of atoms.\"], 'atomic model': [\"Rutherford's atomic model was quite commendable when it came to explaining the structure of atoms.\"], 'niels bohr': ['slight modifications were made by the next legendary scientist in our list called Niels Bohr.'], 'typical atom': ['With all these theories and points known, do we now know the structure of a typical atom completely?'], 'slight modifications': ['slight modifications were made by the next legendary scientist in our list called Niels Bohr.'], 'k l m n': ['Yes, K L M N and so on.'], 'circular motion gains acceleration': ['We know that any charged object which revolves in a circular motion gains acceleration gradually.'], 'next legendary scientist': ['slight modifications were made by the next legendary scientist in our list called Niels Bohr.'], 'neutral neutrons': ['In the center lies the nucleus having positively charged protons and neutral neutrons, while the negatively charged electrons revolve in fixed orbitals around The nucleus.'], 'atoms': [\"Rutherford's atomic model was quite commendable when it came to explaining the structure of atoms.\"]}\n"
          ]
        },
        {
          "output_type": "stream",
          "name": "stderr",
          "text": [
            "/usr/local/lib/python3.9/dist-packages/sklearn/base.py:318: UserWarning: Trying to unpickle estimator MultinomialNB from version 0.20.0 when using version 1.2.2. This might lead to breaking code or invalid results. Use at your own risk. For more info please refer to:\n",
            "https://scikit-learn.org/stable/model_persistence.html#security-maintainability-limitations\n",
            "  warnings.warn(\n"
          ]
        }
      ]
    },
    {
      "cell_type": "code",
      "source": [
        "print(keywords)"
      ],
      "metadata": {
        "colab": {
          "base_uri": "https://localhost:8080/"
        },
        "id": "pISuAwh-acpq",
        "outputId": "b51d4898-71c5-4526-ea19-bc5fe104ad43"
      },
      "execution_count": null,
      "outputs": [
        {
          "output_type": "stream",
          "name": "stdout",
          "text": [
            "['charged', 'energy', 'nucleus', 'structure', 'points', 'revolve', 'sun', 'electron', 'atom', 'rutherford', 'atomic model', 'niels bohr', 'circular motion gains', 'typical atom', 'slight modifications', 'k l m n', 'circular motion gains acceleration', 'next legendary scientist', 'neutral neutrons', 'atoms']\n"
          ]
        }
      ]
    }
  ]
}